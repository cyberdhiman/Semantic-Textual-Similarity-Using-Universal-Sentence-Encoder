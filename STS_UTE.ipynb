{
  "nbformat": 4,
  "nbformat_minor": 0,
  "metadata": {
    "colab": {
      "name": "Precily.ipynb",
      "provenance": [],
      "collapsed_sections": []
    },
    "kernelspec": {
      "name": "python3",
      "display_name": "Python 3"
    },
    "accelerator": "GPU"
  },
  "cells": [
    {
      "cell_type": "code",
      "metadata": {
        "id": "NgIFEUcdjYnw",
        "colab_type": "code",
        "colab": {
          "base_uri": "https://localhost:8080/",
          "height": 34
        },
        "outputId": "a28a96c5-89d4-4b59-9c7b-b804019ffb50"
      },
      "source": [
        "from __future__ import absolute_import, division, print_function, unicode_literals\n",
        "import tensorflow as tf #version 2.0\n",
        "import tensorflow_hub as hub\n",
        "from math import *\n",
        "import numpy as np\n",
        "import pandas as pd\n",
        "#tf.random.set_seed(1)"
      ],
      "execution_count": 1,
      "outputs": [
        {
          "output_type": "stream",
          "text": [
            "TensorFlow 2.x selected.\n"
          ],
          "name": "stdout"
        }
      ]
    },
    {
      "cell_type": "code",
      "metadata": {
        "id": "9CDUzbC1OVCq",
        "colab_type": "code",
        "colab": {}
      },
      "source": [
        "#reading dataset from csv file \n",
        "data=pd.read_csv(\"Text_Similarity_Dataset.csv\")"
      ],
      "execution_count": 0,
      "outputs": []
    },
    {
      "cell_type": "code",
      "metadata": {
        "id": "21axRrPPRDT_",
        "colab_type": "code",
        "outputId": "8843d472-63bf-4a66-85af-b9fd17941997",
        "colab": {
          "base_uri": "https://localhost:8080/",
          "height": 191
        }
      },
      "source": [
        "print(\"\\n[OUT]: Top 5 rows of data:\\n\",data.head(5))"
      ],
      "execution_count": 4,
      "outputs": [
        {
          "output_type": "stream",
          "text": [
            "\n",
            "[OUT]: Top 5 rows of data:\n",
            "    Unique_ID  ...                                              text2\n",
            "0          0  ...  newcastle 2-1 bolton kieron dyer smashed home ...\n",
            "1          1  ...  nasdaq planning $100m share sale the owner of ...\n",
            "2          2  ...  ruddock backs yapp s credentials wales coach m...\n",
            "3          3  ...  mci shares climb on takeover bid shares in us ...\n",
            "4          4  ...  media gadgets get moving pocket-sized devices ...\n",
            "\n",
            "[5 rows x 3 columns]\n"
          ],
          "name": "stdout"
        }
      ]
    },
    {
      "cell_type": "code",
      "metadata": {
        "id": "s87r1Vxcsc0V",
        "colab_type": "code",
        "outputId": "a169c341-51a9-4a4e-be6d-9669077efbf6",
        "colab": {
          "base_uri": "https://localhost:8080/",
          "height": 1000
        }
      },
      "source": [
        "#url of pretrained model present in TensorFlow hub \n",
        "url=\"https://tfhub.dev/google/universal-sentence-encoder-large/3\"\n",
        "\n",
        "#getting model \n",
        "embed =hub.KerasLayer(url)\n",
        "\n",
        "\n"
      ],
      "execution_count": 5,
      "outputs": [
        {
          "output_type": "stream",
          "text": [
            "WARNING:tensorflow:Unable to create a python object for variable <tf.Variable 'Embeddings_en/sharded_0:0' shape=(35297, 320) dtype=float32_ref> because it is a reference variable. It may not be visible to training APIs. If this is a problem, consider rebuilding the SavedModel after running tf.compat.v1.enable_resource_variables().\n"
          ],
          "name": "stdout"
        },
        {
          "output_type": "stream",
          "text": [
            "WARNING:tensorflow:Unable to create a python object for variable <tf.Variable 'Embeddings_en/sharded_0:0' shape=(35297, 320) dtype=float32_ref> because it is a reference variable. It may not be visible to training APIs. If this is a problem, consider rebuilding the SavedModel after running tf.compat.v1.enable_resource_variables().\n"
          ],
          "name": "stderr"
        },
        {
          "output_type": "stream",
          "text": [
            "WARNING:tensorflow:Unable to create a python object for variable <tf.Variable 'Embeddings_en/sharded_1:0' shape=(35297, 320) dtype=float32_ref> because it is a reference variable. It may not be visible to training APIs. If this is a problem, consider rebuilding the SavedModel after running tf.compat.v1.enable_resource_variables().\n"
          ],
          "name": "stdout"
        },
        {
          "output_type": "stream",
          "text": [
            "WARNING:tensorflow:Unable to create a python object for variable <tf.Variable 'Embeddings_en/sharded_1:0' shape=(35297, 320) dtype=float32_ref> because it is a reference variable. It may not be visible to training APIs. If this is a problem, consider rebuilding the SavedModel after running tf.compat.v1.enable_resource_variables().\n"
          ],
          "name": "stderr"
        },
        {
          "output_type": "stream",
          "text": [
            "WARNING:tensorflow:Unable to create a python object for variable <tf.Variable 'Embeddings_en/sharded_2:0' shape=(35297, 320) dtype=float32_ref> because it is a reference variable. It may not be visible to training APIs. If this is a problem, consider rebuilding the SavedModel after running tf.compat.v1.enable_resource_variables().\n"
          ],
          "name": "stdout"
        },
        {
          "output_type": "stream",
          "text": [
            "WARNING:tensorflow:Unable to create a python object for variable <tf.Variable 'Embeddings_en/sharded_2:0' shape=(35297, 320) dtype=float32_ref> because it is a reference variable. It may not be visible to training APIs. If this is a problem, consider rebuilding the SavedModel after running tf.compat.v1.enable_resource_variables().\n"
          ],
          "name": "stderr"
        },
        {
          "output_type": "stream",
          "text": [
            "WARNING:tensorflow:Unable to create a python object for variable <tf.Variable 'Embeddings_en/sharded_3:0' shape=(35297, 320) dtype=float32_ref> because it is a reference variable. It may not be visible to training APIs. If this is a problem, consider rebuilding the SavedModel after running tf.compat.v1.enable_resource_variables().\n"
          ],
          "name": "stdout"
        },
        {
          "output_type": "stream",
          "text": [
            "WARNING:tensorflow:Unable to create a python object for variable <tf.Variable 'Embeddings_en/sharded_3:0' shape=(35297, 320) dtype=float32_ref> because it is a reference variable. It may not be visible to training APIs. If this is a problem, consider rebuilding the SavedModel after running tf.compat.v1.enable_resource_variables().\n"
          ],
          "name": "stderr"
        },
        {
          "output_type": "stream",
          "text": [
            "WARNING:tensorflow:Unable to create a python object for variable <tf.Variable 'Embeddings_en/sharded_4:0' shape=(35297, 320) dtype=float32_ref> because it is a reference variable. It may not be visible to training APIs. If this is a problem, consider rebuilding the SavedModel after running tf.compat.v1.enable_resource_variables().\n"
          ],
          "name": "stdout"
        },
        {
          "output_type": "stream",
          "text": [
            "WARNING:tensorflow:Unable to create a python object for variable <tf.Variable 'Embeddings_en/sharded_4:0' shape=(35297, 320) dtype=float32_ref> because it is a reference variable. It may not be visible to training APIs. If this is a problem, consider rebuilding the SavedModel after running tf.compat.v1.enable_resource_variables().\n"
          ],
          "name": "stderr"
        },
        {
          "output_type": "stream",
          "text": [
            "WARNING:tensorflow:Unable to create a python object for variable <tf.Variable 'Embeddings_en/sharded_5:0' shape=(35297, 320) dtype=float32_ref> because it is a reference variable. It may not be visible to training APIs. If this is a problem, consider rebuilding the SavedModel after running tf.compat.v1.enable_resource_variables().\n"
          ],
          "name": "stdout"
        },
        {
          "output_type": "stream",
          "text": [
            "WARNING:tensorflow:Unable to create a python object for variable <tf.Variable 'Embeddings_en/sharded_5:0' shape=(35297, 320) dtype=float32_ref> because it is a reference variable. It may not be visible to training APIs. If this is a problem, consider rebuilding the SavedModel after running tf.compat.v1.enable_resource_variables().\n"
          ],
          "name": "stderr"
        },
        {
          "output_type": "stream",
          "text": [
            "WARNING:tensorflow:Unable to create a python object for variable <tf.Variable 'Embeddings_en/sharded_6:0' shape=(35297, 320) dtype=float32_ref> because it is a reference variable. It may not be visible to training APIs. If this is a problem, consider rebuilding the SavedModel after running tf.compat.v1.enable_resource_variables().\n"
          ],
          "name": "stdout"
        },
        {
          "output_type": "stream",
          "text": [
            "WARNING:tensorflow:Unable to create a python object for variable <tf.Variable 'Embeddings_en/sharded_6:0' shape=(35297, 320) dtype=float32_ref> because it is a reference variable. It may not be visible to training APIs. If this is a problem, consider rebuilding the SavedModel after running tf.compat.v1.enable_resource_variables().\n"
          ],
          "name": "stderr"
        },
        {
          "output_type": "stream",
          "text": [
            "WARNING:tensorflow:Unable to create a python object for variable <tf.Variable 'Embeddings_en/sharded_7:0' shape=(35297, 320) dtype=float32_ref> because it is a reference variable. It may not be visible to training APIs. If this is a problem, consider rebuilding the SavedModel after running tf.compat.v1.enable_resource_variables().\n"
          ],
          "name": "stdout"
        },
        {
          "output_type": "stream",
          "text": [
            "WARNING:tensorflow:Unable to create a python object for variable <tf.Variable 'Embeddings_en/sharded_7:0' shape=(35297, 320) dtype=float32_ref> because it is a reference variable. It may not be visible to training APIs. If this is a problem, consider rebuilding the SavedModel after running tf.compat.v1.enable_resource_variables().\n"
          ],
          "name": "stderr"
        },
        {
          "output_type": "stream",
          "text": [
            "WARNING:tensorflow:Unable to create a python object for variable <tf.Variable 'Embeddings_en/sharded_8:0' shape=(35297, 320) dtype=float32_ref> because it is a reference variable. It may not be visible to training APIs. If this is a problem, consider rebuilding the SavedModel after running tf.compat.v1.enable_resource_variables().\n"
          ],
          "name": "stdout"
        },
        {
          "output_type": "stream",
          "text": [
            "WARNING:tensorflow:Unable to create a python object for variable <tf.Variable 'Embeddings_en/sharded_8:0' shape=(35297, 320) dtype=float32_ref> because it is a reference variable. It may not be visible to training APIs. If this is a problem, consider rebuilding the SavedModel after running tf.compat.v1.enable_resource_variables().\n"
          ],
          "name": "stderr"
        },
        {
          "output_type": "stream",
          "text": [
            "WARNING:tensorflow:Unable to create a python object for variable <tf.Variable 'Embeddings_en/sharded_9:0' shape=(35297, 320) dtype=float32_ref> because it is a reference variable. It may not be visible to training APIs. If this is a problem, consider rebuilding the SavedModel after running tf.compat.v1.enable_resource_variables().\n"
          ],
          "name": "stdout"
        },
        {
          "output_type": "stream",
          "text": [
            "WARNING:tensorflow:Unable to create a python object for variable <tf.Variable 'Embeddings_en/sharded_9:0' shape=(35297, 320) dtype=float32_ref> because it is a reference variable. It may not be visible to training APIs. If this is a problem, consider rebuilding the SavedModel after running tf.compat.v1.enable_resource_variables().\n"
          ],
          "name": "stderr"
        },
        {
          "output_type": "stream",
          "text": [
            "WARNING:tensorflow:Unable to create a python object for variable <tf.Variable 'Embeddings_en/sharded_10:0' shape=(35297, 320) dtype=float32_ref> because it is a reference variable. It may not be visible to training APIs. If this is a problem, consider rebuilding the SavedModel after running tf.compat.v1.enable_resource_variables().\n"
          ],
          "name": "stdout"
        },
        {
          "output_type": "stream",
          "text": [
            "WARNING:tensorflow:Unable to create a python object for variable <tf.Variable 'Embeddings_en/sharded_10:0' shape=(35297, 320) dtype=float32_ref> because it is a reference variable. It may not be visible to training APIs. If this is a problem, consider rebuilding the SavedModel after running tf.compat.v1.enable_resource_variables().\n"
          ],
          "name": "stderr"
        },
        {
          "output_type": "stream",
          "text": [
            "WARNING:tensorflow:Unable to create a python object for variable <tf.Variable 'Embeddings_en/sharded_11:0' shape=(35297, 320) dtype=float32_ref> because it is a reference variable. It may not be visible to training APIs. If this is a problem, consider rebuilding the SavedModel after running tf.compat.v1.enable_resource_variables().\n"
          ],
          "name": "stdout"
        },
        {
          "output_type": "stream",
          "text": [
            "WARNING:tensorflow:Unable to create a python object for variable <tf.Variable 'Embeddings_en/sharded_11:0' shape=(35297, 320) dtype=float32_ref> because it is a reference variable. It may not be visible to training APIs. If this is a problem, consider rebuilding the SavedModel after running tf.compat.v1.enable_resource_variables().\n"
          ],
          "name": "stderr"
        },
        {
          "output_type": "stream",
          "text": [
            "WARNING:tensorflow:Unable to create a python object for variable <tf.Variable 'Embeddings_en/sharded_12:0' shape=(35297, 320) dtype=float32_ref> because it is a reference variable. It may not be visible to training APIs. If this is a problem, consider rebuilding the SavedModel after running tf.compat.v1.enable_resource_variables().\n"
          ],
          "name": "stdout"
        },
        {
          "output_type": "stream",
          "text": [
            "WARNING:tensorflow:Unable to create a python object for variable <tf.Variable 'Embeddings_en/sharded_12:0' shape=(35297, 320) dtype=float32_ref> because it is a reference variable. It may not be visible to training APIs. If this is a problem, consider rebuilding the SavedModel after running tf.compat.v1.enable_resource_variables().\n"
          ],
          "name": "stderr"
        },
        {
          "output_type": "stream",
          "text": [
            "WARNING:tensorflow:Unable to create a python object for variable <tf.Variable 'Embeddings_en/sharded_13:0' shape=(35297, 320) dtype=float32_ref> because it is a reference variable. It may not be visible to training APIs. If this is a problem, consider rebuilding the SavedModel after running tf.compat.v1.enable_resource_variables().\n"
          ],
          "name": "stdout"
        },
        {
          "output_type": "stream",
          "text": [
            "WARNING:tensorflow:Unable to create a python object for variable <tf.Variable 'Embeddings_en/sharded_13:0' shape=(35297, 320) dtype=float32_ref> because it is a reference variable. It may not be visible to training APIs. If this is a problem, consider rebuilding the SavedModel after running tf.compat.v1.enable_resource_variables().\n"
          ],
          "name": "stderr"
        },
        {
          "output_type": "stream",
          "text": [
            "WARNING:tensorflow:Unable to create a python object for variable <tf.Variable 'Embeddings_en/sharded_14:0' shape=(35297, 320) dtype=float32_ref> because it is a reference variable. It may not be visible to training APIs. If this is a problem, consider rebuilding the SavedModel after running tf.compat.v1.enable_resource_variables().\n"
          ],
          "name": "stdout"
        },
        {
          "output_type": "stream",
          "text": [
            "WARNING:tensorflow:Unable to create a python object for variable <tf.Variable 'Embeddings_en/sharded_14:0' shape=(35297, 320) dtype=float32_ref> because it is a reference variable. It may not be visible to training APIs. If this is a problem, consider rebuilding the SavedModel after running tf.compat.v1.enable_resource_variables().\n"
          ],
          "name": "stderr"
        },
        {
          "output_type": "stream",
          "text": [
            "WARNING:tensorflow:Unable to create a python object for variable <tf.Variable 'Embeddings_en/sharded_15:0' shape=(35297, 320) dtype=float32_ref> because it is a reference variable. It may not be visible to training APIs. If this is a problem, consider rebuilding the SavedModel after running tf.compat.v1.enable_resource_variables().\n"
          ],
          "name": "stdout"
        },
        {
          "output_type": "stream",
          "text": [
            "WARNING:tensorflow:Unable to create a python object for variable <tf.Variable 'Embeddings_en/sharded_15:0' shape=(35297, 320) dtype=float32_ref> because it is a reference variable. It may not be visible to training APIs. If this is a problem, consider rebuilding the SavedModel after running tf.compat.v1.enable_resource_variables().\n"
          ],
          "name": "stderr"
        },
        {
          "output_type": "stream",
          "text": [
            "WARNING:tensorflow:Unable to create a python object for variable <tf.Variable 'Embeddings_en/sharded_16:0' shape=(35297, 320) dtype=float32_ref> because it is a reference variable. It may not be visible to training APIs. If this is a problem, consider rebuilding the SavedModel after running tf.compat.v1.enable_resource_variables().\n"
          ],
          "name": "stdout"
        },
        {
          "output_type": "stream",
          "text": [
            "WARNING:tensorflow:Unable to create a python object for variable <tf.Variable 'Embeddings_en/sharded_16:0' shape=(35297, 320) dtype=float32_ref> because it is a reference variable. It may not be visible to training APIs. If this is a problem, consider rebuilding the SavedModel after running tf.compat.v1.enable_resource_variables().\n"
          ],
          "name": "stderr"
        },
        {
          "output_type": "stream",
          "text": [
            "WARNING:tensorflow:Unable to create a python object for variable <tf.Variable 'Encoder_en/Transformer/dense/kernel:0' shape=(320, 512) dtype=float32_ref> because it is a reference variable. It may not be visible to training APIs. If this is a problem, consider rebuilding the SavedModel after running tf.compat.v1.enable_resource_variables().\n"
          ],
          "name": "stdout"
        },
        {
          "output_type": "stream",
          "text": [
            "WARNING:tensorflow:Unable to create a python object for variable <tf.Variable 'Encoder_en/Transformer/dense/kernel:0' shape=(320, 512) dtype=float32_ref> because it is a reference variable. It may not be visible to training APIs. If this is a problem, consider rebuilding the SavedModel after running tf.compat.v1.enable_resource_variables().\n"
          ],
          "name": "stderr"
        },
        {
          "output_type": "stream",
          "text": [
            "WARNING:tensorflow:Unable to create a python object for variable <tf.Variable 'Encoder_en/Transformer/dense/bias:0' shape=(512,) dtype=float32_ref> because it is a reference variable. It may not be visible to training APIs. If this is a problem, consider rebuilding the SavedModel after running tf.compat.v1.enable_resource_variables().\n"
          ],
          "name": "stdout"
        },
        {
          "output_type": "stream",
          "text": [
            "WARNING:tensorflow:Unable to create a python object for variable <tf.Variable 'Encoder_en/Transformer/dense/bias:0' shape=(512,) dtype=float32_ref> because it is a reference variable. It may not be visible to training APIs. If this is a problem, consider rebuilding the SavedModel after running tf.compat.v1.enable_resource_variables().\n"
          ],
          "name": "stderr"
        },
        {
          "output_type": "stream",
          "text": [
            "WARNING:tensorflow:Unable to create a python object for variable <tf.Variable 'Encoder_en/Transformer/TransformerEncodeFast/encoder/layer_0/self_attention/layer_prepostprocess/layer_norm/layer_norm_scale:0' shape=(512,) dtype=float32_ref> because it is a reference variable. It may not be visible to training APIs. If this is a problem, consider rebuilding the SavedModel after running tf.compat.v1.enable_resource_variables().\n"
          ],
          "name": "stdout"
        },
        {
          "output_type": "stream",
          "text": [
            "WARNING:tensorflow:Unable to create a python object for variable <tf.Variable 'Encoder_en/Transformer/TransformerEncodeFast/encoder/layer_0/self_attention/layer_prepostprocess/layer_norm/layer_norm_scale:0' shape=(512,) dtype=float32_ref> because it is a reference variable. It may not be visible to training APIs. If this is a problem, consider rebuilding the SavedModel after running tf.compat.v1.enable_resource_variables().\n"
          ],
          "name": "stderr"
        },
        {
          "output_type": "stream",
          "text": [
            "WARNING:tensorflow:Unable to create a python object for variable <tf.Variable 'Encoder_en/Transformer/TransformerEncodeFast/encoder/layer_0/self_attention/layer_prepostprocess/layer_norm/layer_norm_bias:0' shape=(512,) dtype=float32_ref> because it is a reference variable. It may not be visible to training APIs. If this is a problem, consider rebuilding the SavedModel after running tf.compat.v1.enable_resource_variables().\n"
          ],
          "name": "stdout"
        },
        {
          "output_type": "stream",
          "text": [
            "WARNING:tensorflow:Unable to create a python object for variable <tf.Variable 'Encoder_en/Transformer/TransformerEncodeFast/encoder/layer_0/self_attention/layer_prepostprocess/layer_norm/layer_norm_bias:0' shape=(512,) dtype=float32_ref> because it is a reference variable. It may not be visible to training APIs. If this is a problem, consider rebuilding the SavedModel after running tf.compat.v1.enable_resource_variables().\n"
          ],
          "name": "stderr"
        },
        {
          "output_type": "stream",
          "text": [
            "WARNING:tensorflow:Unable to create a python object for variable <tf.Variable 'Encoder_en/Transformer/TransformerEncodeFast/encoder/layer_0/self_attention/multihead_attention/q/kernel:0' shape=(512, 512) dtype=float32_ref> because it is a reference variable. It may not be visible to training APIs. If this is a problem, consider rebuilding the SavedModel after running tf.compat.v1.enable_resource_variables().\n"
          ],
          "name": "stdout"
        },
        {
          "output_type": "stream",
          "text": [
            "WARNING:tensorflow:Unable to create a python object for variable <tf.Variable 'Encoder_en/Transformer/TransformerEncodeFast/encoder/layer_0/self_attention/multihead_attention/q/kernel:0' shape=(512, 512) dtype=float32_ref> because it is a reference variable. It may not be visible to training APIs. If this is a problem, consider rebuilding the SavedModel after running tf.compat.v1.enable_resource_variables().\n"
          ],
          "name": "stderr"
        },
        {
          "output_type": "stream",
          "text": [
            "WARNING:tensorflow:Unable to create a python object for variable <tf.Variable 'Encoder_en/Transformer/TransformerEncodeFast/encoder/layer_0/self_attention/multihead_attention/k/kernel:0' shape=(512, 512) dtype=float32_ref> because it is a reference variable. It may not be visible to training APIs. If this is a problem, consider rebuilding the SavedModel after running tf.compat.v1.enable_resource_variables().\n"
          ],
          "name": "stdout"
        },
        {
          "output_type": "stream",
          "text": [
            "WARNING:tensorflow:Unable to create a python object for variable <tf.Variable 'Encoder_en/Transformer/TransformerEncodeFast/encoder/layer_0/self_attention/multihead_attention/k/kernel:0' shape=(512, 512) dtype=float32_ref> because it is a reference variable. It may not be visible to training APIs. If this is a problem, consider rebuilding the SavedModel after running tf.compat.v1.enable_resource_variables().\n"
          ],
          "name": "stderr"
        },
        {
          "output_type": "stream",
          "text": [
            "WARNING:tensorflow:Unable to create a python object for variable <tf.Variable 'Encoder_en/Transformer/TransformerEncodeFast/encoder/layer_0/self_attention/multihead_attention/v/kernel:0' shape=(512, 512) dtype=float32_ref> because it is a reference variable. It may not be visible to training APIs. If this is a problem, consider rebuilding the SavedModel after running tf.compat.v1.enable_resource_variables().\n"
          ],
          "name": "stdout"
        },
        {
          "output_type": "stream",
          "text": [
            "WARNING:tensorflow:Unable to create a python object for variable <tf.Variable 'Encoder_en/Transformer/TransformerEncodeFast/encoder/layer_0/self_attention/multihead_attention/v/kernel:0' shape=(512, 512) dtype=float32_ref> because it is a reference variable. It may not be visible to training APIs. If this is a problem, consider rebuilding the SavedModel after running tf.compat.v1.enable_resource_variables().\n"
          ],
          "name": "stderr"
        },
        {
          "output_type": "stream",
          "text": [
            "WARNING:tensorflow:Unable to create a python object for variable <tf.Variable 'Encoder_en/Transformer/TransformerEncodeFast/encoder/layer_0/self_attention/multihead_attention/output_transform/kernel:0' shape=(512, 512) dtype=float32_ref> because it is a reference variable. It may not be visible to training APIs. If this is a problem, consider rebuilding the SavedModel after running tf.compat.v1.enable_resource_variables().\n"
          ],
          "name": "stdout"
        },
        {
          "output_type": "stream",
          "text": [
            "WARNING:tensorflow:Unable to create a python object for variable <tf.Variable 'Encoder_en/Transformer/TransformerEncodeFast/encoder/layer_0/self_attention/multihead_attention/output_transform/kernel:0' shape=(512, 512) dtype=float32_ref> because it is a reference variable. It may not be visible to training APIs. If this is a problem, consider rebuilding the SavedModel after running tf.compat.v1.enable_resource_variables().\n"
          ],
          "name": "stderr"
        },
        {
          "output_type": "stream",
          "text": [
            "WARNING:tensorflow:Unable to create a python object for variable <tf.Variable 'Encoder_en/Transformer/TransformerEncodeFast/encoder/layer_0/ffn/layer_prepostprocess/layer_norm/layer_norm_scale:0' shape=(512,) dtype=float32_ref> because it is a reference variable. It may not be visible to training APIs. If this is a problem, consider rebuilding the SavedModel after running tf.compat.v1.enable_resource_variables().\n"
          ],
          "name": "stdout"
        },
        {
          "output_type": "stream",
          "text": [
            "WARNING:tensorflow:Unable to create a python object for variable <tf.Variable 'Encoder_en/Transformer/TransformerEncodeFast/encoder/layer_0/ffn/layer_prepostprocess/layer_norm/layer_norm_scale:0' shape=(512,) dtype=float32_ref> because it is a reference variable. It may not be visible to training APIs. If this is a problem, consider rebuilding the SavedModel after running tf.compat.v1.enable_resource_variables().\n"
          ],
          "name": "stderr"
        },
        {
          "output_type": "stream",
          "text": [
            "WARNING:tensorflow:Unable to create a python object for variable <tf.Variable 'Encoder_en/Transformer/TransformerEncodeFast/encoder/layer_0/ffn/layer_prepostprocess/layer_norm/layer_norm_bias:0' shape=(512,) dtype=float32_ref> because it is a reference variable. It may not be visible to training APIs. If this is a problem, consider rebuilding the SavedModel after running tf.compat.v1.enable_resource_variables().\n"
          ],
          "name": "stdout"
        },
        {
          "output_type": "stream",
          "text": [
            "WARNING:tensorflow:Unable to create a python object for variable <tf.Variable 'Encoder_en/Transformer/TransformerEncodeFast/encoder/layer_0/ffn/layer_prepostprocess/layer_norm/layer_norm_bias:0' shape=(512,) dtype=float32_ref> because it is a reference variable. It may not be visible to training APIs. If this is a problem, consider rebuilding the SavedModel after running tf.compat.v1.enable_resource_variables().\n"
          ],
          "name": "stderr"
        },
        {
          "output_type": "stream",
          "text": [
            "WARNING:tensorflow:Unable to create a python object for variable <tf.Variable 'Encoder_en/Transformer/TransformerEncodeFast/encoder/layer_0/ffn/conv1/kernel:0' shape=(512, 2048) dtype=float32_ref> because it is a reference variable. It may not be visible to training APIs. If this is a problem, consider rebuilding the SavedModel after running tf.compat.v1.enable_resource_variables().\n"
          ],
          "name": "stdout"
        },
        {
          "output_type": "stream",
          "text": [
            "WARNING:tensorflow:Unable to create a python object for variable <tf.Variable 'Encoder_en/Transformer/TransformerEncodeFast/encoder/layer_0/ffn/conv1/kernel:0' shape=(512, 2048) dtype=float32_ref> because it is a reference variable. It may not be visible to training APIs. If this is a problem, consider rebuilding the SavedModel after running tf.compat.v1.enable_resource_variables().\n"
          ],
          "name": "stderr"
        },
        {
          "output_type": "stream",
          "text": [
            "WARNING:tensorflow:Unable to create a python object for variable <tf.Variable 'Encoder_en/Transformer/TransformerEncodeFast/encoder/layer_0/ffn/conv1/bias:0' shape=(2048,) dtype=float32_ref> because it is a reference variable. It may not be visible to training APIs. If this is a problem, consider rebuilding the SavedModel after running tf.compat.v1.enable_resource_variables().\n"
          ],
          "name": "stdout"
        },
        {
          "output_type": "stream",
          "text": [
            "WARNING:tensorflow:Unable to create a python object for variable <tf.Variable 'Encoder_en/Transformer/TransformerEncodeFast/encoder/layer_0/ffn/conv1/bias:0' shape=(2048,) dtype=float32_ref> because it is a reference variable. It may not be visible to training APIs. If this is a problem, consider rebuilding the SavedModel after running tf.compat.v1.enable_resource_variables().\n"
          ],
          "name": "stderr"
        },
        {
          "output_type": "stream",
          "text": [
            "WARNING:tensorflow:Unable to create a python object for variable <tf.Variable 'Encoder_en/Transformer/TransformerEncodeFast/encoder/layer_0/ffn/conv2/kernel:0' shape=(2048, 512) dtype=float32_ref> because it is a reference variable. It may not be visible to training APIs. If this is a problem, consider rebuilding the SavedModel after running tf.compat.v1.enable_resource_variables().\n"
          ],
          "name": "stdout"
        },
        {
          "output_type": "stream",
          "text": [
            "WARNING:tensorflow:Unable to create a python object for variable <tf.Variable 'Encoder_en/Transformer/TransformerEncodeFast/encoder/layer_0/ffn/conv2/kernel:0' shape=(2048, 512) dtype=float32_ref> because it is a reference variable. It may not be visible to training APIs. If this is a problem, consider rebuilding the SavedModel after running tf.compat.v1.enable_resource_variables().\n"
          ],
          "name": "stderr"
        },
        {
          "output_type": "stream",
          "text": [
            "WARNING:tensorflow:Unable to create a python object for variable <tf.Variable 'Encoder_en/Transformer/TransformerEncodeFast/encoder/layer_0/ffn/conv2/bias:0' shape=(512,) dtype=float32_ref> because it is a reference variable. It may not be visible to training APIs. If this is a problem, consider rebuilding the SavedModel after running tf.compat.v1.enable_resource_variables().\n"
          ],
          "name": "stdout"
        },
        {
          "output_type": "stream",
          "text": [
            "WARNING:tensorflow:Unable to create a python object for variable <tf.Variable 'Encoder_en/Transformer/TransformerEncodeFast/encoder/layer_0/ffn/conv2/bias:0' shape=(512,) dtype=float32_ref> because it is a reference variable. It may not be visible to training APIs. If this is a problem, consider rebuilding the SavedModel after running tf.compat.v1.enable_resource_variables().\n"
          ],
          "name": "stderr"
        },
        {
          "output_type": "stream",
          "text": [
            "WARNING:tensorflow:Unable to create a python object for variable <tf.Variable 'Encoder_en/Transformer/TransformerEncodeFast/encoder/layer_1/self_attention/layer_prepostprocess/layer_norm/layer_norm_scale:0' shape=(512,) dtype=float32_ref> because it is a reference variable. It may not be visible to training APIs. If this is a problem, consider rebuilding the SavedModel after running tf.compat.v1.enable_resource_variables().\n"
          ],
          "name": "stdout"
        },
        {
          "output_type": "stream",
          "text": [
            "WARNING:tensorflow:Unable to create a python object for variable <tf.Variable 'Encoder_en/Transformer/TransformerEncodeFast/encoder/layer_1/self_attention/layer_prepostprocess/layer_norm/layer_norm_scale:0' shape=(512,) dtype=float32_ref> because it is a reference variable. It may not be visible to training APIs. If this is a problem, consider rebuilding the SavedModel after running tf.compat.v1.enable_resource_variables().\n"
          ],
          "name": "stderr"
        },
        {
          "output_type": "stream",
          "text": [
            "WARNING:tensorflow:Unable to create a python object for variable <tf.Variable 'Encoder_en/Transformer/TransformerEncodeFast/encoder/layer_1/self_attention/layer_prepostprocess/layer_norm/layer_norm_bias:0' shape=(512,) dtype=float32_ref> because it is a reference variable. It may not be visible to training APIs. If this is a problem, consider rebuilding the SavedModel after running tf.compat.v1.enable_resource_variables().\n"
          ],
          "name": "stdout"
        },
        {
          "output_type": "stream",
          "text": [
            "WARNING:tensorflow:Unable to create a python object for variable <tf.Variable 'Encoder_en/Transformer/TransformerEncodeFast/encoder/layer_1/self_attention/layer_prepostprocess/layer_norm/layer_norm_bias:0' shape=(512,) dtype=float32_ref> because it is a reference variable. It may not be visible to training APIs. If this is a problem, consider rebuilding the SavedModel after running tf.compat.v1.enable_resource_variables().\n"
          ],
          "name": "stderr"
        },
        {
          "output_type": "stream",
          "text": [
            "WARNING:tensorflow:Unable to create a python object for variable <tf.Variable 'Encoder_en/Transformer/TransformerEncodeFast/encoder/layer_1/self_attention/multihead_attention/q/kernel:0' shape=(512, 512) dtype=float32_ref> because it is a reference variable. It may not be visible to training APIs. If this is a problem, consider rebuilding the SavedModel after running tf.compat.v1.enable_resource_variables().\n"
          ],
          "name": "stdout"
        },
        {
          "output_type": "stream",
          "text": [
            "WARNING:tensorflow:Unable to create a python object for variable <tf.Variable 'Encoder_en/Transformer/TransformerEncodeFast/encoder/layer_1/self_attention/multihead_attention/q/kernel:0' shape=(512, 512) dtype=float32_ref> because it is a reference variable. It may not be visible to training APIs. If this is a problem, consider rebuilding the SavedModel after running tf.compat.v1.enable_resource_variables().\n"
          ],
          "name": "stderr"
        },
        {
          "output_type": "stream",
          "text": [
            "WARNING:tensorflow:Unable to create a python object for variable <tf.Variable 'Encoder_en/Transformer/TransformerEncodeFast/encoder/layer_1/self_attention/multihead_attention/k/kernel:0' shape=(512, 512) dtype=float32_ref> because it is a reference variable. It may not be visible to training APIs. If this is a problem, consider rebuilding the SavedModel after running tf.compat.v1.enable_resource_variables().\n"
          ],
          "name": "stdout"
        },
        {
          "output_type": "stream",
          "text": [
            "WARNING:tensorflow:Unable to create a python object for variable <tf.Variable 'Encoder_en/Transformer/TransformerEncodeFast/encoder/layer_1/self_attention/multihead_attention/k/kernel:0' shape=(512, 512) dtype=float32_ref> because it is a reference variable. It may not be visible to training APIs. If this is a problem, consider rebuilding the SavedModel after running tf.compat.v1.enable_resource_variables().\n"
          ],
          "name": "stderr"
        },
        {
          "output_type": "stream",
          "text": [
            "WARNING:tensorflow:Unable to create a python object for variable <tf.Variable 'Encoder_en/Transformer/TransformerEncodeFast/encoder/layer_1/self_attention/multihead_attention/v/kernel:0' shape=(512, 512) dtype=float32_ref> because it is a reference variable. It may not be visible to training APIs. If this is a problem, consider rebuilding the SavedModel after running tf.compat.v1.enable_resource_variables().\n"
          ],
          "name": "stdout"
        },
        {
          "output_type": "stream",
          "text": [
            "WARNING:tensorflow:Unable to create a python object for variable <tf.Variable 'Encoder_en/Transformer/TransformerEncodeFast/encoder/layer_1/self_attention/multihead_attention/v/kernel:0' shape=(512, 512) dtype=float32_ref> because it is a reference variable. It may not be visible to training APIs. If this is a problem, consider rebuilding the SavedModel after running tf.compat.v1.enable_resource_variables().\n"
          ],
          "name": "stderr"
        },
        {
          "output_type": "stream",
          "text": [
            "WARNING:tensorflow:Unable to create a python object for variable <tf.Variable 'Encoder_en/Transformer/TransformerEncodeFast/encoder/layer_1/self_attention/multihead_attention/output_transform/kernel:0' shape=(512, 512) dtype=float32_ref> because it is a reference variable. It may not be visible to training APIs. If this is a problem, consider rebuilding the SavedModel after running tf.compat.v1.enable_resource_variables().\n"
          ],
          "name": "stdout"
        },
        {
          "output_type": "stream",
          "text": [
            "WARNING:tensorflow:Unable to create a python object for variable <tf.Variable 'Encoder_en/Transformer/TransformerEncodeFast/encoder/layer_1/self_attention/multihead_attention/output_transform/kernel:0' shape=(512, 512) dtype=float32_ref> because it is a reference variable. It may not be visible to training APIs. If this is a problem, consider rebuilding the SavedModel after running tf.compat.v1.enable_resource_variables().\n"
          ],
          "name": "stderr"
        },
        {
          "output_type": "stream",
          "text": [
            "WARNING:tensorflow:Unable to create a python object for variable <tf.Variable 'Encoder_en/Transformer/TransformerEncodeFast/encoder/layer_1/ffn/layer_prepostprocess/layer_norm/layer_norm_scale:0' shape=(512,) dtype=float32_ref> because it is a reference variable. It may not be visible to training APIs. If this is a problem, consider rebuilding the SavedModel after running tf.compat.v1.enable_resource_variables().\n"
          ],
          "name": "stdout"
        },
        {
          "output_type": "stream",
          "text": [
            "WARNING:tensorflow:Unable to create a python object for variable <tf.Variable 'Encoder_en/Transformer/TransformerEncodeFast/encoder/layer_1/ffn/layer_prepostprocess/layer_norm/layer_norm_scale:0' shape=(512,) dtype=float32_ref> because it is a reference variable. It may not be visible to training APIs. If this is a problem, consider rebuilding the SavedModel after running tf.compat.v1.enable_resource_variables().\n"
          ],
          "name": "stderr"
        },
        {
          "output_type": "stream",
          "text": [
            "WARNING:tensorflow:Unable to create a python object for variable <tf.Variable 'Encoder_en/Transformer/TransformerEncodeFast/encoder/layer_1/ffn/layer_prepostprocess/layer_norm/layer_norm_bias:0' shape=(512,) dtype=float32_ref> because it is a reference variable. It may not be visible to training APIs. If this is a problem, consider rebuilding the SavedModel after running tf.compat.v1.enable_resource_variables().\n"
          ],
          "name": "stdout"
        },
        {
          "output_type": "stream",
          "text": [
            "WARNING:tensorflow:Unable to create a python object for variable <tf.Variable 'Encoder_en/Transformer/TransformerEncodeFast/encoder/layer_1/ffn/layer_prepostprocess/layer_norm/layer_norm_bias:0' shape=(512,) dtype=float32_ref> because it is a reference variable. It may not be visible to training APIs. If this is a problem, consider rebuilding the SavedModel after running tf.compat.v1.enable_resource_variables().\n"
          ],
          "name": "stderr"
        },
        {
          "output_type": "stream",
          "text": [
            "WARNING:tensorflow:Unable to create a python object for variable <tf.Variable 'Encoder_en/Transformer/TransformerEncodeFast/encoder/layer_1/ffn/conv1/kernel:0' shape=(512, 2048) dtype=float32_ref> because it is a reference variable. It may not be visible to training APIs. If this is a problem, consider rebuilding the SavedModel after running tf.compat.v1.enable_resource_variables().\n"
          ],
          "name": "stdout"
        },
        {
          "output_type": "stream",
          "text": [
            "WARNING:tensorflow:Unable to create a python object for variable <tf.Variable 'Encoder_en/Transformer/TransformerEncodeFast/encoder/layer_1/ffn/conv1/kernel:0' shape=(512, 2048) dtype=float32_ref> because it is a reference variable. It may not be visible to training APIs. If this is a problem, consider rebuilding the SavedModel after running tf.compat.v1.enable_resource_variables().\n"
          ],
          "name": "stderr"
        },
        {
          "output_type": "stream",
          "text": [
            "WARNING:tensorflow:Unable to create a python object for variable <tf.Variable 'Encoder_en/Transformer/TransformerEncodeFast/encoder/layer_1/ffn/conv1/bias:0' shape=(2048,) dtype=float32_ref> because it is a reference variable. It may not be visible to training APIs. If this is a problem, consider rebuilding the SavedModel after running tf.compat.v1.enable_resource_variables().\n"
          ],
          "name": "stdout"
        },
        {
          "output_type": "stream",
          "text": [
            "WARNING:tensorflow:Unable to create a python object for variable <tf.Variable 'Encoder_en/Transformer/TransformerEncodeFast/encoder/layer_1/ffn/conv1/bias:0' shape=(2048,) dtype=float32_ref> because it is a reference variable. It may not be visible to training APIs. If this is a problem, consider rebuilding the SavedModel after running tf.compat.v1.enable_resource_variables().\n"
          ],
          "name": "stderr"
        },
        {
          "output_type": "stream",
          "text": [
            "WARNING:tensorflow:Unable to create a python object for variable <tf.Variable 'Encoder_en/Transformer/TransformerEncodeFast/encoder/layer_1/ffn/conv2/kernel:0' shape=(2048, 512) dtype=float32_ref> because it is a reference variable. It may not be visible to training APIs. If this is a problem, consider rebuilding the SavedModel after running tf.compat.v1.enable_resource_variables().\n"
          ],
          "name": "stdout"
        },
        {
          "output_type": "stream",
          "text": [
            "WARNING:tensorflow:Unable to create a python object for variable <tf.Variable 'Encoder_en/Transformer/TransformerEncodeFast/encoder/layer_1/ffn/conv2/kernel:0' shape=(2048, 512) dtype=float32_ref> because it is a reference variable. It may not be visible to training APIs. If this is a problem, consider rebuilding the SavedModel after running tf.compat.v1.enable_resource_variables().\n"
          ],
          "name": "stderr"
        },
        {
          "output_type": "stream",
          "text": [
            "WARNING:tensorflow:Unable to create a python object for variable <tf.Variable 'Encoder_en/Transformer/TransformerEncodeFast/encoder/layer_1/ffn/conv2/bias:0' shape=(512,) dtype=float32_ref> because it is a reference variable. It may not be visible to training APIs. If this is a problem, consider rebuilding the SavedModel after running tf.compat.v1.enable_resource_variables().\n"
          ],
          "name": "stdout"
        },
        {
          "output_type": "stream",
          "text": [
            "WARNING:tensorflow:Unable to create a python object for variable <tf.Variable 'Encoder_en/Transformer/TransformerEncodeFast/encoder/layer_1/ffn/conv2/bias:0' shape=(512,) dtype=float32_ref> because it is a reference variable. It may not be visible to training APIs. If this is a problem, consider rebuilding the SavedModel after running tf.compat.v1.enable_resource_variables().\n"
          ],
          "name": "stderr"
        },
        {
          "output_type": "stream",
          "text": [
            "WARNING:tensorflow:Unable to create a python object for variable <tf.Variable 'Encoder_en/Transformer/TransformerEncodeFast/encoder/layer_2/self_attention/layer_prepostprocess/layer_norm/layer_norm_scale:0' shape=(512,) dtype=float32_ref> because it is a reference variable. It may not be visible to training APIs. If this is a problem, consider rebuilding the SavedModel after running tf.compat.v1.enable_resource_variables().\n"
          ],
          "name": "stdout"
        },
        {
          "output_type": "stream",
          "text": [
            "WARNING:tensorflow:Unable to create a python object for variable <tf.Variable 'Encoder_en/Transformer/TransformerEncodeFast/encoder/layer_2/self_attention/layer_prepostprocess/layer_norm/layer_norm_scale:0' shape=(512,) dtype=float32_ref> because it is a reference variable. It may not be visible to training APIs. If this is a problem, consider rebuilding the SavedModel after running tf.compat.v1.enable_resource_variables().\n"
          ],
          "name": "stderr"
        },
        {
          "output_type": "stream",
          "text": [
            "WARNING:tensorflow:Unable to create a python object for variable <tf.Variable 'Encoder_en/Transformer/TransformerEncodeFast/encoder/layer_2/self_attention/layer_prepostprocess/layer_norm/layer_norm_bias:0' shape=(512,) dtype=float32_ref> because it is a reference variable. It may not be visible to training APIs. If this is a problem, consider rebuilding the SavedModel after running tf.compat.v1.enable_resource_variables().\n"
          ],
          "name": "stdout"
        },
        {
          "output_type": "stream",
          "text": [
            "WARNING:tensorflow:Unable to create a python object for variable <tf.Variable 'Encoder_en/Transformer/TransformerEncodeFast/encoder/layer_2/self_attention/layer_prepostprocess/layer_norm/layer_norm_bias:0' shape=(512,) dtype=float32_ref> because it is a reference variable. It may not be visible to training APIs. If this is a problem, consider rebuilding the SavedModel after running tf.compat.v1.enable_resource_variables().\n"
          ],
          "name": "stderr"
        },
        {
          "output_type": "stream",
          "text": [
            "WARNING:tensorflow:Unable to create a python object for variable <tf.Variable 'Encoder_en/Transformer/TransformerEncodeFast/encoder/layer_2/self_attention/multihead_attention/q/kernel:0' shape=(512, 512) dtype=float32_ref> because it is a reference variable. It may not be visible to training APIs. If this is a problem, consider rebuilding the SavedModel after running tf.compat.v1.enable_resource_variables().\n"
          ],
          "name": "stdout"
        },
        {
          "output_type": "stream",
          "text": [
            "WARNING:tensorflow:Unable to create a python object for variable <tf.Variable 'Encoder_en/Transformer/TransformerEncodeFast/encoder/layer_2/self_attention/multihead_attention/q/kernel:0' shape=(512, 512) dtype=float32_ref> because it is a reference variable. It may not be visible to training APIs. If this is a problem, consider rebuilding the SavedModel after running tf.compat.v1.enable_resource_variables().\n"
          ],
          "name": "stderr"
        },
        {
          "output_type": "stream",
          "text": [
            "WARNING:tensorflow:Unable to create a python object for variable <tf.Variable 'Encoder_en/Transformer/TransformerEncodeFast/encoder/layer_2/self_attention/multihead_attention/k/kernel:0' shape=(512, 512) dtype=float32_ref> because it is a reference variable. It may not be visible to training APIs. If this is a problem, consider rebuilding the SavedModel after running tf.compat.v1.enable_resource_variables().\n"
          ],
          "name": "stdout"
        },
        {
          "output_type": "stream",
          "text": [
            "WARNING:tensorflow:Unable to create a python object for variable <tf.Variable 'Encoder_en/Transformer/TransformerEncodeFast/encoder/layer_2/self_attention/multihead_attention/k/kernel:0' shape=(512, 512) dtype=float32_ref> because it is a reference variable. It may not be visible to training APIs. If this is a problem, consider rebuilding the SavedModel after running tf.compat.v1.enable_resource_variables().\n"
          ],
          "name": "stderr"
        },
        {
          "output_type": "stream",
          "text": [
            "WARNING:tensorflow:Unable to create a python object for variable <tf.Variable 'Encoder_en/Transformer/TransformerEncodeFast/encoder/layer_2/self_attention/multihead_attention/v/kernel:0' shape=(512, 512) dtype=float32_ref> because it is a reference variable. It may not be visible to training APIs. If this is a problem, consider rebuilding the SavedModel after running tf.compat.v1.enable_resource_variables().\n"
          ],
          "name": "stdout"
        },
        {
          "output_type": "stream",
          "text": [
            "WARNING:tensorflow:Unable to create a python object for variable <tf.Variable 'Encoder_en/Transformer/TransformerEncodeFast/encoder/layer_2/self_attention/multihead_attention/v/kernel:0' shape=(512, 512) dtype=float32_ref> because it is a reference variable. It may not be visible to training APIs. If this is a problem, consider rebuilding the SavedModel after running tf.compat.v1.enable_resource_variables().\n"
          ],
          "name": "stderr"
        },
        {
          "output_type": "stream",
          "text": [
            "WARNING:tensorflow:Unable to create a python object for variable <tf.Variable 'Encoder_en/Transformer/TransformerEncodeFast/encoder/layer_2/self_attention/multihead_attention/output_transform/kernel:0' shape=(512, 512) dtype=float32_ref> because it is a reference variable. It may not be visible to training APIs. If this is a problem, consider rebuilding the SavedModel after running tf.compat.v1.enable_resource_variables().\n"
          ],
          "name": "stdout"
        },
        {
          "output_type": "stream",
          "text": [
            "WARNING:tensorflow:Unable to create a python object for variable <tf.Variable 'Encoder_en/Transformer/TransformerEncodeFast/encoder/layer_2/self_attention/multihead_attention/output_transform/kernel:0' shape=(512, 512) dtype=float32_ref> because it is a reference variable. It may not be visible to training APIs. If this is a problem, consider rebuilding the SavedModel after running tf.compat.v1.enable_resource_variables().\n"
          ],
          "name": "stderr"
        },
        {
          "output_type": "stream",
          "text": [
            "WARNING:tensorflow:Unable to create a python object for variable <tf.Variable 'Encoder_en/Transformer/TransformerEncodeFast/encoder/layer_2/ffn/layer_prepostprocess/layer_norm/layer_norm_scale:0' shape=(512,) dtype=float32_ref> because it is a reference variable. It may not be visible to training APIs. If this is a problem, consider rebuilding the SavedModel after running tf.compat.v1.enable_resource_variables().\n"
          ],
          "name": "stdout"
        },
        {
          "output_type": "stream",
          "text": [
            "WARNING:tensorflow:Unable to create a python object for variable <tf.Variable 'Encoder_en/Transformer/TransformerEncodeFast/encoder/layer_2/ffn/layer_prepostprocess/layer_norm/layer_norm_scale:0' shape=(512,) dtype=float32_ref> because it is a reference variable. It may not be visible to training APIs. If this is a problem, consider rebuilding the SavedModel after running tf.compat.v1.enable_resource_variables().\n"
          ],
          "name": "stderr"
        },
        {
          "output_type": "stream",
          "text": [
            "WARNING:tensorflow:Unable to create a python object for variable <tf.Variable 'Encoder_en/Transformer/TransformerEncodeFast/encoder/layer_2/ffn/layer_prepostprocess/layer_norm/layer_norm_bias:0' shape=(512,) dtype=float32_ref> because it is a reference variable. It may not be visible to training APIs. If this is a problem, consider rebuilding the SavedModel after running tf.compat.v1.enable_resource_variables().\n"
          ],
          "name": "stdout"
        },
        {
          "output_type": "stream",
          "text": [
            "WARNING:tensorflow:Unable to create a python object for variable <tf.Variable 'Encoder_en/Transformer/TransformerEncodeFast/encoder/layer_2/ffn/layer_prepostprocess/layer_norm/layer_norm_bias:0' shape=(512,) dtype=float32_ref> because it is a reference variable. It may not be visible to training APIs. If this is a problem, consider rebuilding the SavedModel after running tf.compat.v1.enable_resource_variables().\n"
          ],
          "name": "stderr"
        },
        {
          "output_type": "stream",
          "text": [
            "WARNING:tensorflow:Unable to create a python object for variable <tf.Variable 'Encoder_en/Transformer/TransformerEncodeFast/encoder/layer_2/ffn/conv1/kernel:0' shape=(512, 2048) dtype=float32_ref> because it is a reference variable. It may not be visible to training APIs. If this is a problem, consider rebuilding the SavedModel after running tf.compat.v1.enable_resource_variables().\n"
          ],
          "name": "stdout"
        },
        {
          "output_type": "stream",
          "text": [
            "WARNING:tensorflow:Unable to create a python object for variable <tf.Variable 'Encoder_en/Transformer/TransformerEncodeFast/encoder/layer_2/ffn/conv1/kernel:0' shape=(512, 2048) dtype=float32_ref> because it is a reference variable. It may not be visible to training APIs. If this is a problem, consider rebuilding the SavedModel after running tf.compat.v1.enable_resource_variables().\n"
          ],
          "name": "stderr"
        },
        {
          "output_type": "stream",
          "text": [
            "WARNING:tensorflow:Unable to create a python object for variable <tf.Variable 'Encoder_en/Transformer/TransformerEncodeFast/encoder/layer_2/ffn/conv1/bias:0' shape=(2048,) dtype=float32_ref> because it is a reference variable. It may not be visible to training APIs. If this is a problem, consider rebuilding the SavedModel after running tf.compat.v1.enable_resource_variables().\n"
          ],
          "name": "stdout"
        },
        {
          "output_type": "stream",
          "text": [
            "WARNING:tensorflow:Unable to create a python object for variable <tf.Variable 'Encoder_en/Transformer/TransformerEncodeFast/encoder/layer_2/ffn/conv1/bias:0' shape=(2048,) dtype=float32_ref> because it is a reference variable. It may not be visible to training APIs. If this is a problem, consider rebuilding the SavedModel after running tf.compat.v1.enable_resource_variables().\n"
          ],
          "name": "stderr"
        },
        {
          "output_type": "stream",
          "text": [
            "WARNING:tensorflow:Unable to create a python object for variable <tf.Variable 'Encoder_en/Transformer/TransformerEncodeFast/encoder/layer_2/ffn/conv2/kernel:0' shape=(2048, 512) dtype=float32_ref> because it is a reference variable. It may not be visible to training APIs. If this is a problem, consider rebuilding the SavedModel after running tf.compat.v1.enable_resource_variables().\n"
          ],
          "name": "stdout"
        },
        {
          "output_type": "stream",
          "text": [
            "WARNING:tensorflow:Unable to create a python object for variable <tf.Variable 'Encoder_en/Transformer/TransformerEncodeFast/encoder/layer_2/ffn/conv2/kernel:0' shape=(2048, 512) dtype=float32_ref> because it is a reference variable. It may not be visible to training APIs. If this is a problem, consider rebuilding the SavedModel after running tf.compat.v1.enable_resource_variables().\n"
          ],
          "name": "stderr"
        },
        {
          "output_type": "stream",
          "text": [
            "WARNING:tensorflow:Unable to create a python object for variable <tf.Variable 'Encoder_en/Transformer/TransformerEncodeFast/encoder/layer_2/ffn/conv2/bias:0' shape=(512,) dtype=float32_ref> because it is a reference variable. It may not be visible to training APIs. If this is a problem, consider rebuilding the SavedModel after running tf.compat.v1.enable_resource_variables().\n"
          ],
          "name": "stdout"
        },
        {
          "output_type": "stream",
          "text": [
            "WARNING:tensorflow:Unable to create a python object for variable <tf.Variable 'Encoder_en/Transformer/TransformerEncodeFast/encoder/layer_2/ffn/conv2/bias:0' shape=(512,) dtype=float32_ref> because it is a reference variable. It may not be visible to training APIs. If this is a problem, consider rebuilding the SavedModel after running tf.compat.v1.enable_resource_variables().\n"
          ],
          "name": "stderr"
        },
        {
          "output_type": "stream",
          "text": [
            "WARNING:tensorflow:Unable to create a python object for variable <tf.Variable 'Encoder_en/Transformer/TransformerEncodeFast/encoder/layer_3/self_attention/layer_prepostprocess/layer_norm/layer_norm_scale:0' shape=(512,) dtype=float32_ref> because it is a reference variable. It may not be visible to training APIs. If this is a problem, consider rebuilding the SavedModel after running tf.compat.v1.enable_resource_variables().\n"
          ],
          "name": "stdout"
        },
        {
          "output_type": "stream",
          "text": [
            "WARNING:tensorflow:Unable to create a python object for variable <tf.Variable 'Encoder_en/Transformer/TransformerEncodeFast/encoder/layer_3/self_attention/layer_prepostprocess/layer_norm/layer_norm_scale:0' shape=(512,) dtype=float32_ref> because it is a reference variable. It may not be visible to training APIs. If this is a problem, consider rebuilding the SavedModel after running tf.compat.v1.enable_resource_variables().\n"
          ],
          "name": "stderr"
        },
        {
          "output_type": "stream",
          "text": [
            "WARNING:tensorflow:Unable to create a python object for variable <tf.Variable 'Encoder_en/Transformer/TransformerEncodeFast/encoder/layer_3/self_attention/layer_prepostprocess/layer_norm/layer_norm_bias:0' shape=(512,) dtype=float32_ref> because it is a reference variable. It may not be visible to training APIs. If this is a problem, consider rebuilding the SavedModel after running tf.compat.v1.enable_resource_variables().\n"
          ],
          "name": "stdout"
        },
        {
          "output_type": "stream",
          "text": [
            "WARNING:tensorflow:Unable to create a python object for variable <tf.Variable 'Encoder_en/Transformer/TransformerEncodeFast/encoder/layer_3/self_attention/layer_prepostprocess/layer_norm/layer_norm_bias:0' shape=(512,) dtype=float32_ref> because it is a reference variable. It may not be visible to training APIs. If this is a problem, consider rebuilding the SavedModel after running tf.compat.v1.enable_resource_variables().\n"
          ],
          "name": "stderr"
        },
        {
          "output_type": "stream",
          "text": [
            "WARNING:tensorflow:Unable to create a python object for variable <tf.Variable 'Encoder_en/Transformer/TransformerEncodeFast/encoder/layer_3/self_attention/multihead_attention/q/kernel:0' shape=(512, 512) dtype=float32_ref> because it is a reference variable. It may not be visible to training APIs. If this is a problem, consider rebuilding the SavedModel after running tf.compat.v1.enable_resource_variables().\n"
          ],
          "name": "stdout"
        },
        {
          "output_type": "stream",
          "text": [
            "WARNING:tensorflow:Unable to create a python object for variable <tf.Variable 'Encoder_en/Transformer/TransformerEncodeFast/encoder/layer_3/self_attention/multihead_attention/q/kernel:0' shape=(512, 512) dtype=float32_ref> because it is a reference variable. It may not be visible to training APIs. If this is a problem, consider rebuilding the SavedModel after running tf.compat.v1.enable_resource_variables().\n"
          ],
          "name": "stderr"
        },
        {
          "output_type": "stream",
          "text": [
            "WARNING:tensorflow:Unable to create a python object for variable <tf.Variable 'Encoder_en/Transformer/TransformerEncodeFast/encoder/layer_3/self_attention/multihead_attention/k/kernel:0' shape=(512, 512) dtype=float32_ref> because it is a reference variable. It may not be visible to training APIs. If this is a problem, consider rebuilding the SavedModel after running tf.compat.v1.enable_resource_variables().\n"
          ],
          "name": "stdout"
        },
        {
          "output_type": "stream",
          "text": [
            "WARNING:tensorflow:Unable to create a python object for variable <tf.Variable 'Encoder_en/Transformer/TransformerEncodeFast/encoder/layer_3/self_attention/multihead_attention/k/kernel:0' shape=(512, 512) dtype=float32_ref> because it is a reference variable. It may not be visible to training APIs. If this is a problem, consider rebuilding the SavedModel after running tf.compat.v1.enable_resource_variables().\n"
          ],
          "name": "stderr"
        },
        {
          "output_type": "stream",
          "text": [
            "WARNING:tensorflow:Unable to create a python object for variable <tf.Variable 'Encoder_en/Transformer/TransformerEncodeFast/encoder/layer_3/self_attention/multihead_attention/v/kernel:0' shape=(512, 512) dtype=float32_ref> because it is a reference variable. It may not be visible to training APIs. If this is a problem, consider rebuilding the SavedModel after running tf.compat.v1.enable_resource_variables().\n"
          ],
          "name": "stdout"
        },
        {
          "output_type": "stream",
          "text": [
            "WARNING:tensorflow:Unable to create a python object for variable <tf.Variable 'Encoder_en/Transformer/TransformerEncodeFast/encoder/layer_3/self_attention/multihead_attention/v/kernel:0' shape=(512, 512) dtype=float32_ref> because it is a reference variable. It may not be visible to training APIs. If this is a problem, consider rebuilding the SavedModel after running tf.compat.v1.enable_resource_variables().\n"
          ],
          "name": "stderr"
        },
        {
          "output_type": "stream",
          "text": [
            "WARNING:tensorflow:Unable to create a python object for variable <tf.Variable 'Encoder_en/Transformer/TransformerEncodeFast/encoder/layer_3/self_attention/multihead_attention/output_transform/kernel:0' shape=(512, 512) dtype=float32_ref> because it is a reference variable. It may not be visible to training APIs. If this is a problem, consider rebuilding the SavedModel after running tf.compat.v1.enable_resource_variables().\n"
          ],
          "name": "stdout"
        },
        {
          "output_type": "stream",
          "text": [
            "WARNING:tensorflow:Unable to create a python object for variable <tf.Variable 'Encoder_en/Transformer/TransformerEncodeFast/encoder/layer_3/self_attention/multihead_attention/output_transform/kernel:0' shape=(512, 512) dtype=float32_ref> because it is a reference variable. It may not be visible to training APIs. If this is a problem, consider rebuilding the SavedModel after running tf.compat.v1.enable_resource_variables().\n"
          ],
          "name": "stderr"
        },
        {
          "output_type": "stream",
          "text": [
            "WARNING:tensorflow:Unable to create a python object for variable <tf.Variable 'Encoder_en/Transformer/TransformerEncodeFast/encoder/layer_3/ffn/layer_prepostprocess/layer_norm/layer_norm_scale:0' shape=(512,) dtype=float32_ref> because it is a reference variable. It may not be visible to training APIs. If this is a problem, consider rebuilding the SavedModel after running tf.compat.v1.enable_resource_variables().\n"
          ],
          "name": "stdout"
        },
        {
          "output_type": "stream",
          "text": [
            "WARNING:tensorflow:Unable to create a python object for variable <tf.Variable 'Encoder_en/Transformer/TransformerEncodeFast/encoder/layer_3/ffn/layer_prepostprocess/layer_norm/layer_norm_scale:0' shape=(512,) dtype=float32_ref> because it is a reference variable. It may not be visible to training APIs. If this is a problem, consider rebuilding the SavedModel after running tf.compat.v1.enable_resource_variables().\n"
          ],
          "name": "stderr"
        },
        {
          "output_type": "stream",
          "text": [
            "WARNING:tensorflow:Unable to create a python object for variable <tf.Variable 'Encoder_en/Transformer/TransformerEncodeFast/encoder/layer_3/ffn/layer_prepostprocess/layer_norm/layer_norm_bias:0' shape=(512,) dtype=float32_ref> because it is a reference variable. It may not be visible to training APIs. If this is a problem, consider rebuilding the SavedModel after running tf.compat.v1.enable_resource_variables().\n"
          ],
          "name": "stdout"
        },
        {
          "output_type": "stream",
          "text": [
            "WARNING:tensorflow:Unable to create a python object for variable <tf.Variable 'Encoder_en/Transformer/TransformerEncodeFast/encoder/layer_3/ffn/layer_prepostprocess/layer_norm/layer_norm_bias:0' shape=(512,) dtype=float32_ref> because it is a reference variable. It may not be visible to training APIs. If this is a problem, consider rebuilding the SavedModel after running tf.compat.v1.enable_resource_variables().\n"
          ],
          "name": "stderr"
        },
        {
          "output_type": "stream",
          "text": [
            "WARNING:tensorflow:Unable to create a python object for variable <tf.Variable 'Encoder_en/Transformer/TransformerEncodeFast/encoder/layer_3/ffn/conv1/kernel:0' shape=(512, 2048) dtype=float32_ref> because it is a reference variable. It may not be visible to training APIs. If this is a problem, consider rebuilding the SavedModel after running tf.compat.v1.enable_resource_variables().\n"
          ],
          "name": "stdout"
        },
        {
          "output_type": "stream",
          "text": [
            "WARNING:tensorflow:Unable to create a python object for variable <tf.Variable 'Encoder_en/Transformer/TransformerEncodeFast/encoder/layer_3/ffn/conv1/kernel:0' shape=(512, 2048) dtype=float32_ref> because it is a reference variable. It may not be visible to training APIs. If this is a problem, consider rebuilding the SavedModel after running tf.compat.v1.enable_resource_variables().\n"
          ],
          "name": "stderr"
        },
        {
          "output_type": "stream",
          "text": [
            "WARNING:tensorflow:Unable to create a python object for variable <tf.Variable 'Encoder_en/Transformer/TransformerEncodeFast/encoder/layer_3/ffn/conv1/bias:0' shape=(2048,) dtype=float32_ref> because it is a reference variable. It may not be visible to training APIs. If this is a problem, consider rebuilding the SavedModel after running tf.compat.v1.enable_resource_variables().\n"
          ],
          "name": "stdout"
        },
        {
          "output_type": "stream",
          "text": [
            "WARNING:tensorflow:Unable to create a python object for variable <tf.Variable 'Encoder_en/Transformer/TransformerEncodeFast/encoder/layer_3/ffn/conv1/bias:0' shape=(2048,) dtype=float32_ref> because it is a reference variable. It may not be visible to training APIs. If this is a problem, consider rebuilding the SavedModel after running tf.compat.v1.enable_resource_variables().\n"
          ],
          "name": "stderr"
        },
        {
          "output_type": "stream",
          "text": [
            "WARNING:tensorflow:Unable to create a python object for variable <tf.Variable 'Encoder_en/Transformer/TransformerEncodeFast/encoder/layer_3/ffn/conv2/kernel:0' shape=(2048, 512) dtype=float32_ref> because it is a reference variable. It may not be visible to training APIs. If this is a problem, consider rebuilding the SavedModel after running tf.compat.v1.enable_resource_variables().\n"
          ],
          "name": "stdout"
        },
        {
          "output_type": "stream",
          "text": [
            "WARNING:tensorflow:Unable to create a python object for variable <tf.Variable 'Encoder_en/Transformer/TransformerEncodeFast/encoder/layer_3/ffn/conv2/kernel:0' shape=(2048, 512) dtype=float32_ref> because it is a reference variable. It may not be visible to training APIs. If this is a problem, consider rebuilding the SavedModel after running tf.compat.v1.enable_resource_variables().\n"
          ],
          "name": "stderr"
        },
        {
          "output_type": "stream",
          "text": [
            "WARNING:tensorflow:Unable to create a python object for variable <tf.Variable 'Encoder_en/Transformer/TransformerEncodeFast/encoder/layer_3/ffn/conv2/bias:0' shape=(512,) dtype=float32_ref> because it is a reference variable. It may not be visible to training APIs. If this is a problem, consider rebuilding the SavedModel after running tf.compat.v1.enable_resource_variables().\n"
          ],
          "name": "stdout"
        },
        {
          "output_type": "stream",
          "text": [
            "WARNING:tensorflow:Unable to create a python object for variable <tf.Variable 'Encoder_en/Transformer/TransformerEncodeFast/encoder/layer_3/ffn/conv2/bias:0' shape=(512,) dtype=float32_ref> because it is a reference variable. It may not be visible to training APIs. If this is a problem, consider rebuilding the SavedModel after running tf.compat.v1.enable_resource_variables().\n"
          ],
          "name": "stderr"
        },
        {
          "output_type": "stream",
          "text": [
            "WARNING:tensorflow:Unable to create a python object for variable <tf.Variable 'Encoder_en/Transformer/TransformerEncodeFast/encoder/layer_4/self_attention/layer_prepostprocess/layer_norm/layer_norm_scale:0' shape=(512,) dtype=float32_ref> because it is a reference variable. It may not be visible to training APIs. If this is a problem, consider rebuilding the SavedModel after running tf.compat.v1.enable_resource_variables().\n"
          ],
          "name": "stdout"
        },
        {
          "output_type": "stream",
          "text": [
            "WARNING:tensorflow:Unable to create a python object for variable <tf.Variable 'Encoder_en/Transformer/TransformerEncodeFast/encoder/layer_4/self_attention/layer_prepostprocess/layer_norm/layer_norm_scale:0' shape=(512,) dtype=float32_ref> because it is a reference variable. It may not be visible to training APIs. If this is a problem, consider rebuilding the SavedModel after running tf.compat.v1.enable_resource_variables().\n"
          ],
          "name": "stderr"
        },
        {
          "output_type": "stream",
          "text": [
            "WARNING:tensorflow:Unable to create a python object for variable <tf.Variable 'Encoder_en/Transformer/TransformerEncodeFast/encoder/layer_4/self_attention/layer_prepostprocess/layer_norm/layer_norm_bias:0' shape=(512,) dtype=float32_ref> because it is a reference variable. It may not be visible to training APIs. If this is a problem, consider rebuilding the SavedModel after running tf.compat.v1.enable_resource_variables().\n"
          ],
          "name": "stdout"
        },
        {
          "output_type": "stream",
          "text": [
            "WARNING:tensorflow:Unable to create a python object for variable <tf.Variable 'Encoder_en/Transformer/TransformerEncodeFast/encoder/layer_4/self_attention/layer_prepostprocess/layer_norm/layer_norm_bias:0' shape=(512,) dtype=float32_ref> because it is a reference variable. It may not be visible to training APIs. If this is a problem, consider rebuilding the SavedModel after running tf.compat.v1.enable_resource_variables().\n"
          ],
          "name": "stderr"
        },
        {
          "output_type": "stream",
          "text": [
            "WARNING:tensorflow:Unable to create a python object for variable <tf.Variable 'Encoder_en/Transformer/TransformerEncodeFast/encoder/layer_4/self_attention/multihead_attention/q/kernel:0' shape=(512, 512) dtype=float32_ref> because it is a reference variable. It may not be visible to training APIs. If this is a problem, consider rebuilding the SavedModel after running tf.compat.v1.enable_resource_variables().\n"
          ],
          "name": "stdout"
        },
        {
          "output_type": "stream",
          "text": [
            "WARNING:tensorflow:Unable to create a python object for variable <tf.Variable 'Encoder_en/Transformer/TransformerEncodeFast/encoder/layer_4/self_attention/multihead_attention/q/kernel:0' shape=(512, 512) dtype=float32_ref> because it is a reference variable. It may not be visible to training APIs. If this is a problem, consider rebuilding the SavedModel after running tf.compat.v1.enable_resource_variables().\n"
          ],
          "name": "stderr"
        },
        {
          "output_type": "stream",
          "text": [
            "WARNING:tensorflow:Unable to create a python object for variable <tf.Variable 'Encoder_en/Transformer/TransformerEncodeFast/encoder/layer_4/self_attention/multihead_attention/k/kernel:0' shape=(512, 512) dtype=float32_ref> because it is a reference variable. It may not be visible to training APIs. If this is a problem, consider rebuilding the SavedModel after running tf.compat.v1.enable_resource_variables().\n"
          ],
          "name": "stdout"
        },
        {
          "output_type": "stream",
          "text": [
            "WARNING:tensorflow:Unable to create a python object for variable <tf.Variable 'Encoder_en/Transformer/TransformerEncodeFast/encoder/layer_4/self_attention/multihead_attention/k/kernel:0' shape=(512, 512) dtype=float32_ref> because it is a reference variable. It may not be visible to training APIs. If this is a problem, consider rebuilding the SavedModel after running tf.compat.v1.enable_resource_variables().\n"
          ],
          "name": "stderr"
        },
        {
          "output_type": "stream",
          "text": [
            "WARNING:tensorflow:Unable to create a python object for variable <tf.Variable 'Encoder_en/Transformer/TransformerEncodeFast/encoder/layer_4/self_attention/multihead_attention/v/kernel:0' shape=(512, 512) dtype=float32_ref> because it is a reference variable. It may not be visible to training APIs. If this is a problem, consider rebuilding the SavedModel after running tf.compat.v1.enable_resource_variables().\n"
          ],
          "name": "stdout"
        },
        {
          "output_type": "stream",
          "text": [
            "WARNING:tensorflow:Unable to create a python object for variable <tf.Variable 'Encoder_en/Transformer/TransformerEncodeFast/encoder/layer_4/self_attention/multihead_attention/v/kernel:0' shape=(512, 512) dtype=float32_ref> because it is a reference variable. It may not be visible to training APIs. If this is a problem, consider rebuilding the SavedModel after running tf.compat.v1.enable_resource_variables().\n"
          ],
          "name": "stderr"
        },
        {
          "output_type": "stream",
          "text": [
            "WARNING:tensorflow:Unable to create a python object for variable <tf.Variable 'Encoder_en/Transformer/TransformerEncodeFast/encoder/layer_4/self_attention/multihead_attention/output_transform/kernel:0' shape=(512, 512) dtype=float32_ref> because it is a reference variable. It may not be visible to training APIs. If this is a problem, consider rebuilding the SavedModel after running tf.compat.v1.enable_resource_variables().\n"
          ],
          "name": "stdout"
        },
        {
          "output_type": "stream",
          "text": [
            "WARNING:tensorflow:Unable to create a python object for variable <tf.Variable 'Encoder_en/Transformer/TransformerEncodeFast/encoder/layer_4/self_attention/multihead_attention/output_transform/kernel:0' shape=(512, 512) dtype=float32_ref> because it is a reference variable. It may not be visible to training APIs. If this is a problem, consider rebuilding the SavedModel after running tf.compat.v1.enable_resource_variables().\n"
          ],
          "name": "stderr"
        },
        {
          "output_type": "stream",
          "text": [
            "WARNING:tensorflow:Unable to create a python object for variable <tf.Variable 'Encoder_en/Transformer/TransformerEncodeFast/encoder/layer_4/ffn/layer_prepostprocess/layer_norm/layer_norm_scale:0' shape=(512,) dtype=float32_ref> because it is a reference variable. It may not be visible to training APIs. If this is a problem, consider rebuilding the SavedModel after running tf.compat.v1.enable_resource_variables().\n"
          ],
          "name": "stdout"
        },
        {
          "output_type": "stream",
          "text": [
            "WARNING:tensorflow:Unable to create a python object for variable <tf.Variable 'Encoder_en/Transformer/TransformerEncodeFast/encoder/layer_4/ffn/layer_prepostprocess/layer_norm/layer_norm_scale:0' shape=(512,) dtype=float32_ref> because it is a reference variable. It may not be visible to training APIs. If this is a problem, consider rebuilding the SavedModel after running tf.compat.v1.enable_resource_variables().\n"
          ],
          "name": "stderr"
        },
        {
          "output_type": "stream",
          "text": [
            "WARNING:tensorflow:Unable to create a python object for variable <tf.Variable 'Encoder_en/Transformer/TransformerEncodeFast/encoder/layer_4/ffn/layer_prepostprocess/layer_norm/layer_norm_bias:0' shape=(512,) dtype=float32_ref> because it is a reference variable. It may not be visible to training APIs. If this is a problem, consider rebuilding the SavedModel after running tf.compat.v1.enable_resource_variables().\n"
          ],
          "name": "stdout"
        },
        {
          "output_type": "stream",
          "text": [
            "WARNING:tensorflow:Unable to create a python object for variable <tf.Variable 'Encoder_en/Transformer/TransformerEncodeFast/encoder/layer_4/ffn/layer_prepostprocess/layer_norm/layer_norm_bias:0' shape=(512,) dtype=float32_ref> because it is a reference variable. It may not be visible to training APIs. If this is a problem, consider rebuilding the SavedModel after running tf.compat.v1.enable_resource_variables().\n"
          ],
          "name": "stderr"
        },
        {
          "output_type": "stream",
          "text": [
            "WARNING:tensorflow:Unable to create a python object for variable <tf.Variable 'Encoder_en/Transformer/TransformerEncodeFast/encoder/layer_4/ffn/conv1/kernel:0' shape=(512, 2048) dtype=float32_ref> because it is a reference variable. It may not be visible to training APIs. If this is a problem, consider rebuilding the SavedModel after running tf.compat.v1.enable_resource_variables().\n"
          ],
          "name": "stdout"
        },
        {
          "output_type": "stream",
          "text": [
            "WARNING:tensorflow:Unable to create a python object for variable <tf.Variable 'Encoder_en/Transformer/TransformerEncodeFast/encoder/layer_4/ffn/conv1/kernel:0' shape=(512, 2048) dtype=float32_ref> because it is a reference variable. It may not be visible to training APIs. If this is a problem, consider rebuilding the SavedModel after running tf.compat.v1.enable_resource_variables().\n"
          ],
          "name": "stderr"
        },
        {
          "output_type": "stream",
          "text": [
            "WARNING:tensorflow:Unable to create a python object for variable <tf.Variable 'Encoder_en/Transformer/TransformerEncodeFast/encoder/layer_4/ffn/conv1/bias:0' shape=(2048,) dtype=float32_ref> because it is a reference variable. It may not be visible to training APIs. If this is a problem, consider rebuilding the SavedModel after running tf.compat.v1.enable_resource_variables().\n"
          ],
          "name": "stdout"
        },
        {
          "output_type": "stream",
          "text": [
            "WARNING:tensorflow:Unable to create a python object for variable <tf.Variable 'Encoder_en/Transformer/TransformerEncodeFast/encoder/layer_4/ffn/conv1/bias:0' shape=(2048,) dtype=float32_ref> because it is a reference variable. It may not be visible to training APIs. If this is a problem, consider rebuilding the SavedModel after running tf.compat.v1.enable_resource_variables().\n"
          ],
          "name": "stderr"
        },
        {
          "output_type": "stream",
          "text": [
            "WARNING:tensorflow:Unable to create a python object for variable <tf.Variable 'Encoder_en/Transformer/TransformerEncodeFast/encoder/layer_4/ffn/conv2/kernel:0' shape=(2048, 512) dtype=float32_ref> because it is a reference variable. It may not be visible to training APIs. If this is a problem, consider rebuilding the SavedModel after running tf.compat.v1.enable_resource_variables().\n"
          ],
          "name": "stdout"
        },
        {
          "output_type": "stream",
          "text": [
            "WARNING:tensorflow:Unable to create a python object for variable <tf.Variable 'Encoder_en/Transformer/TransformerEncodeFast/encoder/layer_4/ffn/conv2/kernel:0' shape=(2048, 512) dtype=float32_ref> because it is a reference variable. It may not be visible to training APIs. If this is a problem, consider rebuilding the SavedModel after running tf.compat.v1.enable_resource_variables().\n"
          ],
          "name": "stderr"
        },
        {
          "output_type": "stream",
          "text": [
            "WARNING:tensorflow:Unable to create a python object for variable <tf.Variable 'Encoder_en/Transformer/TransformerEncodeFast/encoder/layer_4/ffn/conv2/bias:0' shape=(512,) dtype=float32_ref> because it is a reference variable. It may not be visible to training APIs. If this is a problem, consider rebuilding the SavedModel after running tf.compat.v1.enable_resource_variables().\n"
          ],
          "name": "stdout"
        },
        {
          "output_type": "stream",
          "text": [
            "WARNING:tensorflow:Unable to create a python object for variable <tf.Variable 'Encoder_en/Transformer/TransformerEncodeFast/encoder/layer_4/ffn/conv2/bias:0' shape=(512,) dtype=float32_ref> because it is a reference variable. It may not be visible to training APIs. If this is a problem, consider rebuilding the SavedModel after running tf.compat.v1.enable_resource_variables().\n"
          ],
          "name": "stderr"
        },
        {
          "output_type": "stream",
          "text": [
            "WARNING:tensorflow:Unable to create a python object for variable <tf.Variable 'Encoder_en/Transformer/TransformerEncodeFast/encoder/layer_5/self_attention/layer_prepostprocess/layer_norm/layer_norm_scale:0' shape=(512,) dtype=float32_ref> because it is a reference variable. It may not be visible to training APIs. If this is a problem, consider rebuilding the SavedModel after running tf.compat.v1.enable_resource_variables().\n"
          ],
          "name": "stdout"
        },
        {
          "output_type": "stream",
          "text": [
            "WARNING:tensorflow:Unable to create a python object for variable <tf.Variable 'Encoder_en/Transformer/TransformerEncodeFast/encoder/layer_5/self_attention/layer_prepostprocess/layer_norm/layer_norm_scale:0' shape=(512,) dtype=float32_ref> because it is a reference variable. It may not be visible to training APIs. If this is a problem, consider rebuilding the SavedModel after running tf.compat.v1.enable_resource_variables().\n"
          ],
          "name": "stderr"
        },
        {
          "output_type": "stream",
          "text": [
            "WARNING:tensorflow:Unable to create a python object for variable <tf.Variable 'Encoder_en/Transformer/TransformerEncodeFast/encoder/layer_5/self_attention/layer_prepostprocess/layer_norm/layer_norm_bias:0' shape=(512,) dtype=float32_ref> because it is a reference variable. It may not be visible to training APIs. If this is a problem, consider rebuilding the SavedModel after running tf.compat.v1.enable_resource_variables().\n"
          ],
          "name": "stdout"
        },
        {
          "output_type": "stream",
          "text": [
            "WARNING:tensorflow:Unable to create a python object for variable <tf.Variable 'Encoder_en/Transformer/TransformerEncodeFast/encoder/layer_5/self_attention/layer_prepostprocess/layer_norm/layer_norm_bias:0' shape=(512,) dtype=float32_ref> because it is a reference variable. It may not be visible to training APIs. If this is a problem, consider rebuilding the SavedModel after running tf.compat.v1.enable_resource_variables().\n"
          ],
          "name": "stderr"
        },
        {
          "output_type": "stream",
          "text": [
            "WARNING:tensorflow:Unable to create a python object for variable <tf.Variable 'Encoder_en/Transformer/TransformerEncodeFast/encoder/layer_5/self_attention/multihead_attention/q/kernel:0' shape=(512, 512) dtype=float32_ref> because it is a reference variable. It may not be visible to training APIs. If this is a problem, consider rebuilding the SavedModel after running tf.compat.v1.enable_resource_variables().\n"
          ],
          "name": "stdout"
        },
        {
          "output_type": "stream",
          "text": [
            "WARNING:tensorflow:Unable to create a python object for variable <tf.Variable 'Encoder_en/Transformer/TransformerEncodeFast/encoder/layer_5/self_attention/multihead_attention/q/kernel:0' shape=(512, 512) dtype=float32_ref> because it is a reference variable. It may not be visible to training APIs. If this is a problem, consider rebuilding the SavedModel after running tf.compat.v1.enable_resource_variables().\n"
          ],
          "name": "stderr"
        },
        {
          "output_type": "stream",
          "text": [
            "WARNING:tensorflow:Unable to create a python object for variable <tf.Variable 'Encoder_en/Transformer/TransformerEncodeFast/encoder/layer_5/self_attention/multihead_attention/k/kernel:0' shape=(512, 512) dtype=float32_ref> because it is a reference variable. It may not be visible to training APIs. If this is a problem, consider rebuilding the SavedModel after running tf.compat.v1.enable_resource_variables().\n"
          ],
          "name": "stdout"
        },
        {
          "output_type": "stream",
          "text": [
            "WARNING:tensorflow:Unable to create a python object for variable <tf.Variable 'Encoder_en/Transformer/TransformerEncodeFast/encoder/layer_5/self_attention/multihead_attention/k/kernel:0' shape=(512, 512) dtype=float32_ref> because it is a reference variable. It may not be visible to training APIs. If this is a problem, consider rebuilding the SavedModel after running tf.compat.v1.enable_resource_variables().\n"
          ],
          "name": "stderr"
        },
        {
          "output_type": "stream",
          "text": [
            "WARNING:tensorflow:Unable to create a python object for variable <tf.Variable 'Encoder_en/Transformer/TransformerEncodeFast/encoder/layer_5/self_attention/multihead_attention/v/kernel:0' shape=(512, 512) dtype=float32_ref> because it is a reference variable. It may not be visible to training APIs. If this is a problem, consider rebuilding the SavedModel after running tf.compat.v1.enable_resource_variables().\n"
          ],
          "name": "stdout"
        },
        {
          "output_type": "stream",
          "text": [
            "WARNING:tensorflow:Unable to create a python object for variable <tf.Variable 'Encoder_en/Transformer/TransformerEncodeFast/encoder/layer_5/self_attention/multihead_attention/v/kernel:0' shape=(512, 512) dtype=float32_ref> because it is a reference variable. It may not be visible to training APIs. If this is a problem, consider rebuilding the SavedModel after running tf.compat.v1.enable_resource_variables().\n"
          ],
          "name": "stderr"
        },
        {
          "output_type": "stream",
          "text": [
            "WARNING:tensorflow:Unable to create a python object for variable <tf.Variable 'Encoder_en/Transformer/TransformerEncodeFast/encoder/layer_5/self_attention/multihead_attention/output_transform/kernel:0' shape=(512, 512) dtype=float32_ref> because it is a reference variable. It may not be visible to training APIs. If this is a problem, consider rebuilding the SavedModel after running tf.compat.v1.enable_resource_variables().\n"
          ],
          "name": "stdout"
        },
        {
          "output_type": "stream",
          "text": [
            "WARNING:tensorflow:Unable to create a python object for variable <tf.Variable 'Encoder_en/Transformer/TransformerEncodeFast/encoder/layer_5/self_attention/multihead_attention/output_transform/kernel:0' shape=(512, 512) dtype=float32_ref> because it is a reference variable. It may not be visible to training APIs. If this is a problem, consider rebuilding the SavedModel after running tf.compat.v1.enable_resource_variables().\n"
          ],
          "name": "stderr"
        },
        {
          "output_type": "stream",
          "text": [
            "WARNING:tensorflow:Unable to create a python object for variable <tf.Variable 'Encoder_en/Transformer/TransformerEncodeFast/encoder/layer_5/ffn/layer_prepostprocess/layer_norm/layer_norm_scale:0' shape=(512,) dtype=float32_ref> because it is a reference variable. It may not be visible to training APIs. If this is a problem, consider rebuilding the SavedModel after running tf.compat.v1.enable_resource_variables().\n"
          ],
          "name": "stdout"
        },
        {
          "output_type": "stream",
          "text": [
            "WARNING:tensorflow:Unable to create a python object for variable <tf.Variable 'Encoder_en/Transformer/TransformerEncodeFast/encoder/layer_5/ffn/layer_prepostprocess/layer_norm/layer_norm_scale:0' shape=(512,) dtype=float32_ref> because it is a reference variable. It may not be visible to training APIs. If this is a problem, consider rebuilding the SavedModel after running tf.compat.v1.enable_resource_variables().\n"
          ],
          "name": "stderr"
        },
        {
          "output_type": "stream",
          "text": [
            "WARNING:tensorflow:Unable to create a python object for variable <tf.Variable 'Encoder_en/Transformer/TransformerEncodeFast/encoder/layer_5/ffn/layer_prepostprocess/layer_norm/layer_norm_bias:0' shape=(512,) dtype=float32_ref> because it is a reference variable. It may not be visible to training APIs. If this is a problem, consider rebuilding the SavedModel after running tf.compat.v1.enable_resource_variables().\n"
          ],
          "name": "stdout"
        },
        {
          "output_type": "stream",
          "text": [
            "WARNING:tensorflow:Unable to create a python object for variable <tf.Variable 'Encoder_en/Transformer/TransformerEncodeFast/encoder/layer_5/ffn/layer_prepostprocess/layer_norm/layer_norm_bias:0' shape=(512,) dtype=float32_ref> because it is a reference variable. It may not be visible to training APIs. If this is a problem, consider rebuilding the SavedModel after running tf.compat.v1.enable_resource_variables().\n"
          ],
          "name": "stderr"
        },
        {
          "output_type": "stream",
          "text": [
            "WARNING:tensorflow:Unable to create a python object for variable <tf.Variable 'Encoder_en/Transformer/TransformerEncodeFast/encoder/layer_5/ffn/conv1/kernel:0' shape=(512, 2048) dtype=float32_ref> because it is a reference variable. It may not be visible to training APIs. If this is a problem, consider rebuilding the SavedModel after running tf.compat.v1.enable_resource_variables().\n"
          ],
          "name": "stdout"
        },
        {
          "output_type": "stream",
          "text": [
            "WARNING:tensorflow:Unable to create a python object for variable <tf.Variable 'Encoder_en/Transformer/TransformerEncodeFast/encoder/layer_5/ffn/conv1/kernel:0' shape=(512, 2048) dtype=float32_ref> because it is a reference variable. It may not be visible to training APIs. If this is a problem, consider rebuilding the SavedModel after running tf.compat.v1.enable_resource_variables().\n"
          ],
          "name": "stderr"
        },
        {
          "output_type": "stream",
          "text": [
            "WARNING:tensorflow:Unable to create a python object for variable <tf.Variable 'Encoder_en/Transformer/TransformerEncodeFast/encoder/layer_5/ffn/conv1/bias:0' shape=(2048,) dtype=float32_ref> because it is a reference variable. It may not be visible to training APIs. If this is a problem, consider rebuilding the SavedModel after running tf.compat.v1.enable_resource_variables().\n"
          ],
          "name": "stdout"
        },
        {
          "output_type": "stream",
          "text": [
            "WARNING:tensorflow:Unable to create a python object for variable <tf.Variable 'Encoder_en/Transformer/TransformerEncodeFast/encoder/layer_5/ffn/conv1/bias:0' shape=(2048,) dtype=float32_ref> because it is a reference variable. It may not be visible to training APIs. If this is a problem, consider rebuilding the SavedModel after running tf.compat.v1.enable_resource_variables().\n"
          ],
          "name": "stderr"
        },
        {
          "output_type": "stream",
          "text": [
            "WARNING:tensorflow:Unable to create a python object for variable <tf.Variable 'Encoder_en/Transformer/TransformerEncodeFast/encoder/layer_5/ffn/conv2/kernel:0' shape=(2048, 512) dtype=float32_ref> because it is a reference variable. It may not be visible to training APIs. If this is a problem, consider rebuilding the SavedModel after running tf.compat.v1.enable_resource_variables().\n"
          ],
          "name": "stdout"
        },
        {
          "output_type": "stream",
          "text": [
            "WARNING:tensorflow:Unable to create a python object for variable <tf.Variable 'Encoder_en/Transformer/TransformerEncodeFast/encoder/layer_5/ffn/conv2/kernel:0' shape=(2048, 512) dtype=float32_ref> because it is a reference variable. It may not be visible to training APIs. If this is a problem, consider rebuilding the SavedModel after running tf.compat.v1.enable_resource_variables().\n"
          ],
          "name": "stderr"
        },
        {
          "output_type": "stream",
          "text": [
            "WARNING:tensorflow:Unable to create a python object for variable <tf.Variable 'Encoder_en/Transformer/TransformerEncodeFast/encoder/layer_5/ffn/conv2/bias:0' shape=(512,) dtype=float32_ref> because it is a reference variable. It may not be visible to training APIs. If this is a problem, consider rebuilding the SavedModel after running tf.compat.v1.enable_resource_variables().\n"
          ],
          "name": "stdout"
        },
        {
          "output_type": "stream",
          "text": [
            "WARNING:tensorflow:Unable to create a python object for variable <tf.Variable 'Encoder_en/Transformer/TransformerEncodeFast/encoder/layer_5/ffn/conv2/bias:0' shape=(512,) dtype=float32_ref> because it is a reference variable. It may not be visible to training APIs. If this is a problem, consider rebuilding the SavedModel after running tf.compat.v1.enable_resource_variables().\n"
          ],
          "name": "stderr"
        },
        {
          "output_type": "stream",
          "text": [
            "WARNING:tensorflow:Unable to create a python object for variable <tf.Variable 'Encoder_en/Transformer/TransformerEncodeFast/encoder/layer_prepostprocess/layer_norm/layer_norm_scale:0' shape=(512,) dtype=float32_ref> because it is a reference variable. It may not be visible to training APIs. If this is a problem, consider rebuilding the SavedModel after running tf.compat.v1.enable_resource_variables().\n"
          ],
          "name": "stdout"
        },
        {
          "output_type": "stream",
          "text": [
            "WARNING:tensorflow:Unable to create a python object for variable <tf.Variable 'Encoder_en/Transformer/TransformerEncodeFast/encoder/layer_prepostprocess/layer_norm/layer_norm_scale:0' shape=(512,) dtype=float32_ref> because it is a reference variable. It may not be visible to training APIs. If this is a problem, consider rebuilding the SavedModel after running tf.compat.v1.enable_resource_variables().\n"
          ],
          "name": "stderr"
        },
        {
          "output_type": "stream",
          "text": [
            "WARNING:tensorflow:Unable to create a python object for variable <tf.Variable 'Encoder_en/Transformer/TransformerEncodeFast/encoder/layer_prepostprocess/layer_norm/layer_norm_bias:0' shape=(512,) dtype=float32_ref> because it is a reference variable. It may not be visible to training APIs. If this is a problem, consider rebuilding the SavedModel after running tf.compat.v1.enable_resource_variables().\n"
          ],
          "name": "stdout"
        },
        {
          "output_type": "stream",
          "text": [
            "WARNING:tensorflow:Unable to create a python object for variable <tf.Variable 'Encoder_en/Transformer/TransformerEncodeFast/encoder/layer_prepostprocess/layer_norm/layer_norm_bias:0' shape=(512,) dtype=float32_ref> because it is a reference variable. It may not be visible to training APIs. If this is a problem, consider rebuilding the SavedModel after running tf.compat.v1.enable_resource_variables().\n"
          ],
          "name": "stderr"
        },
        {
          "output_type": "stream",
          "text": [
            "WARNING:tensorflow:Unable to create a python object for variable <tf.Variable 'Encoder_en/hidden_layers/tanh_layer_0/dense/kernel:0' shape=(512, 512) dtype=float32_ref> because it is a reference variable. It may not be visible to training APIs. If this is a problem, consider rebuilding the SavedModel after running tf.compat.v1.enable_resource_variables().\n"
          ],
          "name": "stdout"
        },
        {
          "output_type": "stream",
          "text": [
            "WARNING:tensorflow:Unable to create a python object for variable <tf.Variable 'Encoder_en/hidden_layers/tanh_layer_0/dense/kernel:0' shape=(512, 512) dtype=float32_ref> because it is a reference variable. It may not be visible to training APIs. If this is a problem, consider rebuilding the SavedModel after running tf.compat.v1.enable_resource_variables().\n"
          ],
          "name": "stderr"
        },
        {
          "output_type": "stream",
          "text": [
            "WARNING:tensorflow:Unable to create a python object for variable <tf.Variable 'Encoder_en/hidden_layers/tanh_layer_0/dense/bias:0' shape=(512,) dtype=float32_ref> because it is a reference variable. It may not be visible to training APIs. If this is a problem, consider rebuilding the SavedModel after running tf.compat.v1.enable_resource_variables().\n"
          ],
          "name": "stdout"
        },
        {
          "output_type": "stream",
          "text": [
            "WARNING:tensorflow:Unable to create a python object for variable <tf.Variable 'Encoder_en/hidden_layers/tanh_layer_0/dense/bias:0' shape=(512,) dtype=float32_ref> because it is a reference variable. It may not be visible to training APIs. If this is a problem, consider rebuilding the SavedModel after running tf.compat.v1.enable_resource_variables().\n"
          ],
          "name": "stderr"
        },
        {
          "output_type": "stream",
          "text": [
            "WARNING:tensorflow:Unable to create a python object for variable <tf.Variable 'Embeddings_en/sharded_0:0' shape=(35297, 320) dtype=float32_ref> because it is a reference variable. It may not be visible to training APIs. If this is a problem, consider rebuilding the SavedModel after running tf.compat.v1.enable_resource_variables().\n"
          ],
          "name": "stdout"
        },
        {
          "output_type": "stream",
          "text": [
            "WARNING:tensorflow:Unable to create a python object for variable <tf.Variable 'Embeddings_en/sharded_0:0' shape=(35297, 320) dtype=float32_ref> because it is a reference variable. It may not be visible to training APIs. If this is a problem, consider rebuilding the SavedModel after running tf.compat.v1.enable_resource_variables().\n"
          ],
          "name": "stderr"
        },
        {
          "output_type": "stream",
          "text": [
            "WARNING:tensorflow:Unable to create a python object for variable <tf.Variable 'Embeddings_en/sharded_1:0' shape=(35297, 320) dtype=float32_ref> because it is a reference variable. It may not be visible to training APIs. If this is a problem, consider rebuilding the SavedModel after running tf.compat.v1.enable_resource_variables().\n"
          ],
          "name": "stdout"
        },
        {
          "output_type": "stream",
          "text": [
            "WARNING:tensorflow:Unable to create a python object for variable <tf.Variable 'Embeddings_en/sharded_1:0' shape=(35297, 320) dtype=float32_ref> because it is a reference variable. It may not be visible to training APIs. If this is a problem, consider rebuilding the SavedModel after running tf.compat.v1.enable_resource_variables().\n"
          ],
          "name": "stderr"
        },
        {
          "output_type": "stream",
          "text": [
            "WARNING:tensorflow:Unable to create a python object for variable <tf.Variable 'Embeddings_en/sharded_2:0' shape=(35297, 320) dtype=float32_ref> because it is a reference variable. It may not be visible to training APIs. If this is a problem, consider rebuilding the SavedModel after running tf.compat.v1.enable_resource_variables().\n"
          ],
          "name": "stdout"
        },
        {
          "output_type": "stream",
          "text": [
            "WARNING:tensorflow:Unable to create a python object for variable <tf.Variable 'Embeddings_en/sharded_2:0' shape=(35297, 320) dtype=float32_ref> because it is a reference variable. It may not be visible to training APIs. If this is a problem, consider rebuilding the SavedModel after running tf.compat.v1.enable_resource_variables().\n"
          ],
          "name": "stderr"
        },
        {
          "output_type": "stream",
          "text": [
            "WARNING:tensorflow:Unable to create a python object for variable <tf.Variable 'Embeddings_en/sharded_3:0' shape=(35297, 320) dtype=float32_ref> because it is a reference variable. It may not be visible to training APIs. If this is a problem, consider rebuilding the SavedModel after running tf.compat.v1.enable_resource_variables().\n"
          ],
          "name": "stdout"
        },
        {
          "output_type": "stream",
          "text": [
            "WARNING:tensorflow:Unable to create a python object for variable <tf.Variable 'Embeddings_en/sharded_3:0' shape=(35297, 320) dtype=float32_ref> because it is a reference variable. It may not be visible to training APIs. If this is a problem, consider rebuilding the SavedModel after running tf.compat.v1.enable_resource_variables().\n"
          ],
          "name": "stderr"
        },
        {
          "output_type": "stream",
          "text": [
            "WARNING:tensorflow:Unable to create a python object for variable <tf.Variable 'Embeddings_en/sharded_4:0' shape=(35297, 320) dtype=float32_ref> because it is a reference variable. It may not be visible to training APIs. If this is a problem, consider rebuilding the SavedModel after running tf.compat.v1.enable_resource_variables().\n"
          ],
          "name": "stdout"
        },
        {
          "output_type": "stream",
          "text": [
            "WARNING:tensorflow:Unable to create a python object for variable <tf.Variable 'Embeddings_en/sharded_4:0' shape=(35297, 320) dtype=float32_ref> because it is a reference variable. It may not be visible to training APIs. If this is a problem, consider rebuilding the SavedModel after running tf.compat.v1.enable_resource_variables().\n"
          ],
          "name": "stderr"
        },
        {
          "output_type": "stream",
          "text": [
            "WARNING:tensorflow:Unable to create a python object for variable <tf.Variable 'Embeddings_en/sharded_5:0' shape=(35297, 320) dtype=float32_ref> because it is a reference variable. It may not be visible to training APIs. If this is a problem, consider rebuilding the SavedModel after running tf.compat.v1.enable_resource_variables().\n"
          ],
          "name": "stdout"
        },
        {
          "output_type": "stream",
          "text": [
            "WARNING:tensorflow:Unable to create a python object for variable <tf.Variable 'Embeddings_en/sharded_5:0' shape=(35297, 320) dtype=float32_ref> because it is a reference variable. It may not be visible to training APIs. If this is a problem, consider rebuilding the SavedModel after running tf.compat.v1.enable_resource_variables().\n"
          ],
          "name": "stderr"
        },
        {
          "output_type": "stream",
          "text": [
            "WARNING:tensorflow:Unable to create a python object for variable <tf.Variable 'Embeddings_en/sharded_6:0' shape=(35297, 320) dtype=float32_ref> because it is a reference variable. It may not be visible to training APIs. If this is a problem, consider rebuilding the SavedModel after running tf.compat.v1.enable_resource_variables().\n"
          ],
          "name": "stdout"
        },
        {
          "output_type": "stream",
          "text": [
            "WARNING:tensorflow:Unable to create a python object for variable <tf.Variable 'Embeddings_en/sharded_6:0' shape=(35297, 320) dtype=float32_ref> because it is a reference variable. It may not be visible to training APIs. If this is a problem, consider rebuilding the SavedModel after running tf.compat.v1.enable_resource_variables().\n"
          ],
          "name": "stderr"
        },
        {
          "output_type": "stream",
          "text": [
            "WARNING:tensorflow:Unable to create a python object for variable <tf.Variable 'Embeddings_en/sharded_7:0' shape=(35297, 320) dtype=float32_ref> because it is a reference variable. It may not be visible to training APIs. If this is a problem, consider rebuilding the SavedModel after running tf.compat.v1.enable_resource_variables().\n"
          ],
          "name": "stdout"
        },
        {
          "output_type": "stream",
          "text": [
            "WARNING:tensorflow:Unable to create a python object for variable <tf.Variable 'Embeddings_en/sharded_7:0' shape=(35297, 320) dtype=float32_ref> because it is a reference variable. It may not be visible to training APIs. If this is a problem, consider rebuilding the SavedModel after running tf.compat.v1.enable_resource_variables().\n"
          ],
          "name": "stderr"
        },
        {
          "output_type": "stream",
          "text": [
            "WARNING:tensorflow:Unable to create a python object for variable <tf.Variable 'Embeddings_en/sharded_8:0' shape=(35297, 320) dtype=float32_ref> because it is a reference variable. It may not be visible to training APIs. If this is a problem, consider rebuilding the SavedModel after running tf.compat.v1.enable_resource_variables().\n"
          ],
          "name": "stdout"
        },
        {
          "output_type": "stream",
          "text": [
            "WARNING:tensorflow:Unable to create a python object for variable <tf.Variable 'Embeddings_en/sharded_8:0' shape=(35297, 320) dtype=float32_ref> because it is a reference variable. It may not be visible to training APIs. If this is a problem, consider rebuilding the SavedModel after running tf.compat.v1.enable_resource_variables().\n"
          ],
          "name": "stderr"
        },
        {
          "output_type": "stream",
          "text": [
            "WARNING:tensorflow:Unable to create a python object for variable <tf.Variable 'Embeddings_en/sharded_9:0' shape=(35297, 320) dtype=float32_ref> because it is a reference variable. It may not be visible to training APIs. If this is a problem, consider rebuilding the SavedModel after running tf.compat.v1.enable_resource_variables().\n"
          ],
          "name": "stdout"
        },
        {
          "output_type": "stream",
          "text": [
            "WARNING:tensorflow:Unable to create a python object for variable <tf.Variable 'Embeddings_en/sharded_9:0' shape=(35297, 320) dtype=float32_ref> because it is a reference variable. It may not be visible to training APIs. If this is a problem, consider rebuilding the SavedModel after running tf.compat.v1.enable_resource_variables().\n"
          ],
          "name": "stderr"
        },
        {
          "output_type": "stream",
          "text": [
            "WARNING:tensorflow:Unable to create a python object for variable <tf.Variable 'Embeddings_en/sharded_10:0' shape=(35297, 320) dtype=float32_ref> because it is a reference variable. It may not be visible to training APIs. If this is a problem, consider rebuilding the SavedModel after running tf.compat.v1.enable_resource_variables().\n"
          ],
          "name": "stdout"
        },
        {
          "output_type": "stream",
          "text": [
            "WARNING:tensorflow:Unable to create a python object for variable <tf.Variable 'Embeddings_en/sharded_10:0' shape=(35297, 320) dtype=float32_ref> because it is a reference variable. It may not be visible to training APIs. If this is a problem, consider rebuilding the SavedModel after running tf.compat.v1.enable_resource_variables().\n"
          ],
          "name": "stderr"
        },
        {
          "output_type": "stream",
          "text": [
            "WARNING:tensorflow:Unable to create a python object for variable <tf.Variable 'Embeddings_en/sharded_11:0' shape=(35297, 320) dtype=float32_ref> because it is a reference variable. It may not be visible to training APIs. If this is a problem, consider rebuilding the SavedModel after running tf.compat.v1.enable_resource_variables().\n"
          ],
          "name": "stdout"
        },
        {
          "output_type": "stream",
          "text": [
            "WARNING:tensorflow:Unable to create a python object for variable <tf.Variable 'Embeddings_en/sharded_11:0' shape=(35297, 320) dtype=float32_ref> because it is a reference variable. It may not be visible to training APIs. If this is a problem, consider rebuilding the SavedModel after running tf.compat.v1.enable_resource_variables().\n"
          ],
          "name": "stderr"
        },
        {
          "output_type": "stream",
          "text": [
            "WARNING:tensorflow:Unable to create a python object for variable <tf.Variable 'Embeddings_en/sharded_12:0' shape=(35297, 320) dtype=float32_ref> because it is a reference variable. It may not be visible to training APIs. If this is a problem, consider rebuilding the SavedModel after running tf.compat.v1.enable_resource_variables().\n"
          ],
          "name": "stdout"
        },
        {
          "output_type": "stream",
          "text": [
            "WARNING:tensorflow:Unable to create a python object for variable <tf.Variable 'Embeddings_en/sharded_12:0' shape=(35297, 320) dtype=float32_ref> because it is a reference variable. It may not be visible to training APIs. If this is a problem, consider rebuilding the SavedModel after running tf.compat.v1.enable_resource_variables().\n"
          ],
          "name": "stderr"
        },
        {
          "output_type": "stream",
          "text": [
            "WARNING:tensorflow:Unable to create a python object for variable <tf.Variable 'Embeddings_en/sharded_13:0' shape=(35297, 320) dtype=float32_ref> because it is a reference variable. It may not be visible to training APIs. If this is a problem, consider rebuilding the SavedModel after running tf.compat.v1.enable_resource_variables().\n"
          ],
          "name": "stdout"
        },
        {
          "output_type": "stream",
          "text": [
            "WARNING:tensorflow:Unable to create a python object for variable <tf.Variable 'Embeddings_en/sharded_13:0' shape=(35297, 320) dtype=float32_ref> because it is a reference variable. It may not be visible to training APIs. If this is a problem, consider rebuilding the SavedModel after running tf.compat.v1.enable_resource_variables().\n"
          ],
          "name": "stderr"
        },
        {
          "output_type": "stream",
          "text": [
            "WARNING:tensorflow:Unable to create a python object for variable <tf.Variable 'Embeddings_en/sharded_14:0' shape=(35297, 320) dtype=float32_ref> because it is a reference variable. It may not be visible to training APIs. If this is a problem, consider rebuilding the SavedModel after running tf.compat.v1.enable_resource_variables().\n"
          ],
          "name": "stdout"
        },
        {
          "output_type": "stream",
          "text": [
            "WARNING:tensorflow:Unable to create a python object for variable <tf.Variable 'Embeddings_en/sharded_14:0' shape=(35297, 320) dtype=float32_ref> because it is a reference variable. It may not be visible to training APIs. If this is a problem, consider rebuilding the SavedModel after running tf.compat.v1.enable_resource_variables().\n"
          ],
          "name": "stderr"
        },
        {
          "output_type": "stream",
          "text": [
            "WARNING:tensorflow:Unable to create a python object for variable <tf.Variable 'Embeddings_en/sharded_15:0' shape=(35297, 320) dtype=float32_ref> because it is a reference variable. It may not be visible to training APIs. If this is a problem, consider rebuilding the SavedModel after running tf.compat.v1.enable_resource_variables().\n"
          ],
          "name": "stdout"
        },
        {
          "output_type": "stream",
          "text": [
            "WARNING:tensorflow:Unable to create a python object for variable <tf.Variable 'Embeddings_en/sharded_15:0' shape=(35297, 320) dtype=float32_ref> because it is a reference variable. It may not be visible to training APIs. If this is a problem, consider rebuilding the SavedModel after running tf.compat.v1.enable_resource_variables().\n"
          ],
          "name": "stderr"
        },
        {
          "output_type": "stream",
          "text": [
            "WARNING:tensorflow:Unable to create a python object for variable <tf.Variable 'Embeddings_en/sharded_16:0' shape=(35297, 320) dtype=float32_ref> because it is a reference variable. It may not be visible to training APIs. If this is a problem, consider rebuilding the SavedModel after running tf.compat.v1.enable_resource_variables().\n"
          ],
          "name": "stdout"
        },
        {
          "output_type": "stream",
          "text": [
            "WARNING:tensorflow:Unable to create a python object for variable <tf.Variable 'Embeddings_en/sharded_16:0' shape=(35297, 320) dtype=float32_ref> because it is a reference variable. It may not be visible to training APIs. If this is a problem, consider rebuilding the SavedModel after running tf.compat.v1.enable_resource_variables().\n"
          ],
          "name": "stderr"
        },
        {
          "output_type": "stream",
          "text": [
            "WARNING:tensorflow:Unable to create a python object for variable <tf.Variable 'Encoder_en/Transformer/dense/kernel:0' shape=(320, 512) dtype=float32_ref> because it is a reference variable. It may not be visible to training APIs. If this is a problem, consider rebuilding the SavedModel after running tf.compat.v1.enable_resource_variables().\n"
          ],
          "name": "stdout"
        },
        {
          "output_type": "stream",
          "text": [
            "WARNING:tensorflow:Unable to create a python object for variable <tf.Variable 'Encoder_en/Transformer/dense/kernel:0' shape=(320, 512) dtype=float32_ref> because it is a reference variable. It may not be visible to training APIs. If this is a problem, consider rebuilding the SavedModel after running tf.compat.v1.enable_resource_variables().\n"
          ],
          "name": "stderr"
        },
        {
          "output_type": "stream",
          "text": [
            "WARNING:tensorflow:Unable to create a python object for variable <tf.Variable 'Encoder_en/Transformer/dense/bias:0' shape=(512,) dtype=float32_ref> because it is a reference variable. It may not be visible to training APIs. If this is a problem, consider rebuilding the SavedModel after running tf.compat.v1.enable_resource_variables().\n"
          ],
          "name": "stdout"
        },
        {
          "output_type": "stream",
          "text": [
            "WARNING:tensorflow:Unable to create a python object for variable <tf.Variable 'Encoder_en/Transformer/dense/bias:0' shape=(512,) dtype=float32_ref> because it is a reference variable. It may not be visible to training APIs. If this is a problem, consider rebuilding the SavedModel after running tf.compat.v1.enable_resource_variables().\n"
          ],
          "name": "stderr"
        },
        {
          "output_type": "stream",
          "text": [
            "WARNING:tensorflow:Unable to create a python object for variable <tf.Variable 'Encoder_en/Transformer/TransformerEncodeFast/encoder/layer_0/self_attention/layer_prepostprocess/layer_norm/layer_norm_scale:0' shape=(512,) dtype=float32_ref> because it is a reference variable. It may not be visible to training APIs. If this is a problem, consider rebuilding the SavedModel after running tf.compat.v1.enable_resource_variables().\n"
          ],
          "name": "stdout"
        },
        {
          "output_type": "stream",
          "text": [
            "WARNING:tensorflow:Unable to create a python object for variable <tf.Variable 'Encoder_en/Transformer/TransformerEncodeFast/encoder/layer_0/self_attention/layer_prepostprocess/layer_norm/layer_norm_scale:0' shape=(512,) dtype=float32_ref> because it is a reference variable. It may not be visible to training APIs. If this is a problem, consider rebuilding the SavedModel after running tf.compat.v1.enable_resource_variables().\n"
          ],
          "name": "stderr"
        },
        {
          "output_type": "stream",
          "text": [
            "WARNING:tensorflow:Unable to create a python object for variable <tf.Variable 'Encoder_en/Transformer/TransformerEncodeFast/encoder/layer_0/self_attention/layer_prepostprocess/layer_norm/layer_norm_bias:0' shape=(512,) dtype=float32_ref> because it is a reference variable. It may not be visible to training APIs. If this is a problem, consider rebuilding the SavedModel after running tf.compat.v1.enable_resource_variables().\n"
          ],
          "name": "stdout"
        },
        {
          "output_type": "stream",
          "text": [
            "WARNING:tensorflow:Unable to create a python object for variable <tf.Variable 'Encoder_en/Transformer/TransformerEncodeFast/encoder/layer_0/self_attention/layer_prepostprocess/layer_norm/layer_norm_bias:0' shape=(512,) dtype=float32_ref> because it is a reference variable. It may not be visible to training APIs. If this is a problem, consider rebuilding the SavedModel after running tf.compat.v1.enable_resource_variables().\n"
          ],
          "name": "stderr"
        },
        {
          "output_type": "stream",
          "text": [
            "WARNING:tensorflow:Unable to create a python object for variable <tf.Variable 'Encoder_en/Transformer/TransformerEncodeFast/encoder/layer_0/self_attention/multihead_attention/q/kernel:0' shape=(512, 512) dtype=float32_ref> because it is a reference variable. It may not be visible to training APIs. If this is a problem, consider rebuilding the SavedModel after running tf.compat.v1.enable_resource_variables().\n"
          ],
          "name": "stdout"
        },
        {
          "output_type": "stream",
          "text": [
            "WARNING:tensorflow:Unable to create a python object for variable <tf.Variable 'Encoder_en/Transformer/TransformerEncodeFast/encoder/layer_0/self_attention/multihead_attention/q/kernel:0' shape=(512, 512) dtype=float32_ref> because it is a reference variable. It may not be visible to training APIs. If this is a problem, consider rebuilding the SavedModel after running tf.compat.v1.enable_resource_variables().\n"
          ],
          "name": "stderr"
        },
        {
          "output_type": "stream",
          "text": [
            "WARNING:tensorflow:Unable to create a python object for variable <tf.Variable 'Encoder_en/Transformer/TransformerEncodeFast/encoder/layer_0/self_attention/multihead_attention/k/kernel:0' shape=(512, 512) dtype=float32_ref> because it is a reference variable. It may not be visible to training APIs. If this is a problem, consider rebuilding the SavedModel after running tf.compat.v1.enable_resource_variables().\n"
          ],
          "name": "stdout"
        },
        {
          "output_type": "stream",
          "text": [
            "WARNING:tensorflow:Unable to create a python object for variable <tf.Variable 'Encoder_en/Transformer/TransformerEncodeFast/encoder/layer_0/self_attention/multihead_attention/k/kernel:0' shape=(512, 512) dtype=float32_ref> because it is a reference variable. It may not be visible to training APIs. If this is a problem, consider rebuilding the SavedModel after running tf.compat.v1.enable_resource_variables().\n"
          ],
          "name": "stderr"
        },
        {
          "output_type": "stream",
          "text": [
            "WARNING:tensorflow:Unable to create a python object for variable <tf.Variable 'Encoder_en/Transformer/TransformerEncodeFast/encoder/layer_0/self_attention/multihead_attention/v/kernel:0' shape=(512, 512) dtype=float32_ref> because it is a reference variable. It may not be visible to training APIs. If this is a problem, consider rebuilding the SavedModel after running tf.compat.v1.enable_resource_variables().\n"
          ],
          "name": "stdout"
        },
        {
          "output_type": "stream",
          "text": [
            "WARNING:tensorflow:Unable to create a python object for variable <tf.Variable 'Encoder_en/Transformer/TransformerEncodeFast/encoder/layer_0/self_attention/multihead_attention/v/kernel:0' shape=(512, 512) dtype=float32_ref> because it is a reference variable. It may not be visible to training APIs. If this is a problem, consider rebuilding the SavedModel after running tf.compat.v1.enable_resource_variables().\n"
          ],
          "name": "stderr"
        },
        {
          "output_type": "stream",
          "text": [
            "WARNING:tensorflow:Unable to create a python object for variable <tf.Variable 'Encoder_en/Transformer/TransformerEncodeFast/encoder/layer_0/self_attention/multihead_attention/output_transform/kernel:0' shape=(512, 512) dtype=float32_ref> because it is a reference variable. It may not be visible to training APIs. If this is a problem, consider rebuilding the SavedModel after running tf.compat.v1.enable_resource_variables().\n"
          ],
          "name": "stdout"
        },
        {
          "output_type": "stream",
          "text": [
            "WARNING:tensorflow:Unable to create a python object for variable <tf.Variable 'Encoder_en/Transformer/TransformerEncodeFast/encoder/layer_0/self_attention/multihead_attention/output_transform/kernel:0' shape=(512, 512) dtype=float32_ref> because it is a reference variable. It may not be visible to training APIs. If this is a problem, consider rebuilding the SavedModel after running tf.compat.v1.enable_resource_variables().\n"
          ],
          "name": "stderr"
        },
        {
          "output_type": "stream",
          "text": [
            "WARNING:tensorflow:Unable to create a python object for variable <tf.Variable 'Encoder_en/Transformer/TransformerEncodeFast/encoder/layer_0/ffn/layer_prepostprocess/layer_norm/layer_norm_scale:0' shape=(512,) dtype=float32_ref> because it is a reference variable. It may not be visible to training APIs. If this is a problem, consider rebuilding the SavedModel after running tf.compat.v1.enable_resource_variables().\n"
          ],
          "name": "stdout"
        },
        {
          "output_type": "stream",
          "text": [
            "WARNING:tensorflow:Unable to create a python object for variable <tf.Variable 'Encoder_en/Transformer/TransformerEncodeFast/encoder/layer_0/ffn/layer_prepostprocess/layer_norm/layer_norm_scale:0' shape=(512,) dtype=float32_ref> because it is a reference variable. It may not be visible to training APIs. If this is a problem, consider rebuilding the SavedModel after running tf.compat.v1.enable_resource_variables().\n"
          ],
          "name": "stderr"
        },
        {
          "output_type": "stream",
          "text": [
            "WARNING:tensorflow:Unable to create a python object for variable <tf.Variable 'Encoder_en/Transformer/TransformerEncodeFast/encoder/layer_0/ffn/layer_prepostprocess/layer_norm/layer_norm_bias:0' shape=(512,) dtype=float32_ref> because it is a reference variable. It may not be visible to training APIs. If this is a problem, consider rebuilding the SavedModel after running tf.compat.v1.enable_resource_variables().\n"
          ],
          "name": "stdout"
        },
        {
          "output_type": "stream",
          "text": [
            "WARNING:tensorflow:Unable to create a python object for variable <tf.Variable 'Encoder_en/Transformer/TransformerEncodeFast/encoder/layer_0/ffn/layer_prepostprocess/layer_norm/layer_norm_bias:0' shape=(512,) dtype=float32_ref> because it is a reference variable. It may not be visible to training APIs. If this is a problem, consider rebuilding the SavedModel after running tf.compat.v1.enable_resource_variables().\n"
          ],
          "name": "stderr"
        },
        {
          "output_type": "stream",
          "text": [
            "WARNING:tensorflow:Unable to create a python object for variable <tf.Variable 'Encoder_en/Transformer/TransformerEncodeFast/encoder/layer_0/ffn/conv1/kernel:0' shape=(512, 2048) dtype=float32_ref> because it is a reference variable. It may not be visible to training APIs. If this is a problem, consider rebuilding the SavedModel after running tf.compat.v1.enable_resource_variables().\n"
          ],
          "name": "stdout"
        },
        {
          "output_type": "stream",
          "text": [
            "WARNING:tensorflow:Unable to create a python object for variable <tf.Variable 'Encoder_en/Transformer/TransformerEncodeFast/encoder/layer_0/ffn/conv1/kernel:0' shape=(512, 2048) dtype=float32_ref> because it is a reference variable. It may not be visible to training APIs. If this is a problem, consider rebuilding the SavedModel after running tf.compat.v1.enable_resource_variables().\n"
          ],
          "name": "stderr"
        },
        {
          "output_type": "stream",
          "text": [
            "WARNING:tensorflow:Unable to create a python object for variable <tf.Variable 'Encoder_en/Transformer/TransformerEncodeFast/encoder/layer_0/ffn/conv1/bias:0' shape=(2048,) dtype=float32_ref> because it is a reference variable. It may not be visible to training APIs. If this is a problem, consider rebuilding the SavedModel after running tf.compat.v1.enable_resource_variables().\n"
          ],
          "name": "stdout"
        },
        {
          "output_type": "stream",
          "text": [
            "WARNING:tensorflow:Unable to create a python object for variable <tf.Variable 'Encoder_en/Transformer/TransformerEncodeFast/encoder/layer_0/ffn/conv1/bias:0' shape=(2048,) dtype=float32_ref> because it is a reference variable. It may not be visible to training APIs. If this is a problem, consider rebuilding the SavedModel after running tf.compat.v1.enable_resource_variables().\n"
          ],
          "name": "stderr"
        },
        {
          "output_type": "stream",
          "text": [
            "WARNING:tensorflow:Unable to create a python object for variable <tf.Variable 'Encoder_en/Transformer/TransformerEncodeFast/encoder/layer_0/ffn/conv2/kernel:0' shape=(2048, 512) dtype=float32_ref> because it is a reference variable. It may not be visible to training APIs. If this is a problem, consider rebuilding the SavedModel after running tf.compat.v1.enable_resource_variables().\n"
          ],
          "name": "stdout"
        },
        {
          "output_type": "stream",
          "text": [
            "WARNING:tensorflow:Unable to create a python object for variable <tf.Variable 'Encoder_en/Transformer/TransformerEncodeFast/encoder/layer_0/ffn/conv2/kernel:0' shape=(2048, 512) dtype=float32_ref> because it is a reference variable. It may not be visible to training APIs. If this is a problem, consider rebuilding the SavedModel after running tf.compat.v1.enable_resource_variables().\n"
          ],
          "name": "stderr"
        },
        {
          "output_type": "stream",
          "text": [
            "WARNING:tensorflow:Unable to create a python object for variable <tf.Variable 'Encoder_en/Transformer/TransformerEncodeFast/encoder/layer_0/ffn/conv2/bias:0' shape=(512,) dtype=float32_ref> because it is a reference variable. It may not be visible to training APIs. If this is a problem, consider rebuilding the SavedModel after running tf.compat.v1.enable_resource_variables().\n"
          ],
          "name": "stdout"
        },
        {
          "output_type": "stream",
          "text": [
            "WARNING:tensorflow:Unable to create a python object for variable <tf.Variable 'Encoder_en/Transformer/TransformerEncodeFast/encoder/layer_0/ffn/conv2/bias:0' shape=(512,) dtype=float32_ref> because it is a reference variable. It may not be visible to training APIs. If this is a problem, consider rebuilding the SavedModel after running tf.compat.v1.enable_resource_variables().\n"
          ],
          "name": "stderr"
        },
        {
          "output_type": "stream",
          "text": [
            "WARNING:tensorflow:Unable to create a python object for variable <tf.Variable 'Encoder_en/Transformer/TransformerEncodeFast/encoder/layer_1/self_attention/layer_prepostprocess/layer_norm/layer_norm_scale:0' shape=(512,) dtype=float32_ref> because it is a reference variable. It may not be visible to training APIs. If this is a problem, consider rebuilding the SavedModel after running tf.compat.v1.enable_resource_variables().\n"
          ],
          "name": "stdout"
        },
        {
          "output_type": "stream",
          "text": [
            "WARNING:tensorflow:Unable to create a python object for variable <tf.Variable 'Encoder_en/Transformer/TransformerEncodeFast/encoder/layer_1/self_attention/layer_prepostprocess/layer_norm/layer_norm_scale:0' shape=(512,) dtype=float32_ref> because it is a reference variable. It may not be visible to training APIs. If this is a problem, consider rebuilding the SavedModel after running tf.compat.v1.enable_resource_variables().\n"
          ],
          "name": "stderr"
        },
        {
          "output_type": "stream",
          "text": [
            "WARNING:tensorflow:Unable to create a python object for variable <tf.Variable 'Encoder_en/Transformer/TransformerEncodeFast/encoder/layer_1/self_attention/layer_prepostprocess/layer_norm/layer_norm_bias:0' shape=(512,) dtype=float32_ref> because it is a reference variable. It may not be visible to training APIs. If this is a problem, consider rebuilding the SavedModel after running tf.compat.v1.enable_resource_variables().\n"
          ],
          "name": "stdout"
        },
        {
          "output_type": "stream",
          "text": [
            "WARNING:tensorflow:Unable to create a python object for variable <tf.Variable 'Encoder_en/Transformer/TransformerEncodeFast/encoder/layer_1/self_attention/layer_prepostprocess/layer_norm/layer_norm_bias:0' shape=(512,) dtype=float32_ref> because it is a reference variable. It may not be visible to training APIs. If this is a problem, consider rebuilding the SavedModel after running tf.compat.v1.enable_resource_variables().\n"
          ],
          "name": "stderr"
        },
        {
          "output_type": "stream",
          "text": [
            "WARNING:tensorflow:Unable to create a python object for variable <tf.Variable 'Encoder_en/Transformer/TransformerEncodeFast/encoder/layer_1/self_attention/multihead_attention/q/kernel:0' shape=(512, 512) dtype=float32_ref> because it is a reference variable. It may not be visible to training APIs. If this is a problem, consider rebuilding the SavedModel after running tf.compat.v1.enable_resource_variables().\n"
          ],
          "name": "stdout"
        },
        {
          "output_type": "stream",
          "text": [
            "WARNING:tensorflow:Unable to create a python object for variable <tf.Variable 'Encoder_en/Transformer/TransformerEncodeFast/encoder/layer_1/self_attention/multihead_attention/q/kernel:0' shape=(512, 512) dtype=float32_ref> because it is a reference variable. It may not be visible to training APIs. If this is a problem, consider rebuilding the SavedModel after running tf.compat.v1.enable_resource_variables().\n"
          ],
          "name": "stderr"
        },
        {
          "output_type": "stream",
          "text": [
            "WARNING:tensorflow:Unable to create a python object for variable <tf.Variable 'Encoder_en/Transformer/TransformerEncodeFast/encoder/layer_1/self_attention/multihead_attention/k/kernel:0' shape=(512, 512) dtype=float32_ref> because it is a reference variable. It may not be visible to training APIs. If this is a problem, consider rebuilding the SavedModel after running tf.compat.v1.enable_resource_variables().\n"
          ],
          "name": "stdout"
        },
        {
          "output_type": "stream",
          "text": [
            "WARNING:tensorflow:Unable to create a python object for variable <tf.Variable 'Encoder_en/Transformer/TransformerEncodeFast/encoder/layer_1/self_attention/multihead_attention/k/kernel:0' shape=(512, 512) dtype=float32_ref> because it is a reference variable. It may not be visible to training APIs. If this is a problem, consider rebuilding the SavedModel after running tf.compat.v1.enable_resource_variables().\n"
          ],
          "name": "stderr"
        },
        {
          "output_type": "stream",
          "text": [
            "WARNING:tensorflow:Unable to create a python object for variable <tf.Variable 'Encoder_en/Transformer/TransformerEncodeFast/encoder/layer_1/self_attention/multihead_attention/v/kernel:0' shape=(512, 512) dtype=float32_ref> because it is a reference variable. It may not be visible to training APIs. If this is a problem, consider rebuilding the SavedModel after running tf.compat.v1.enable_resource_variables().\n"
          ],
          "name": "stdout"
        },
        {
          "output_type": "stream",
          "text": [
            "WARNING:tensorflow:Unable to create a python object for variable <tf.Variable 'Encoder_en/Transformer/TransformerEncodeFast/encoder/layer_1/self_attention/multihead_attention/v/kernel:0' shape=(512, 512) dtype=float32_ref> because it is a reference variable. It may not be visible to training APIs. If this is a problem, consider rebuilding the SavedModel after running tf.compat.v1.enable_resource_variables().\n"
          ],
          "name": "stderr"
        },
        {
          "output_type": "stream",
          "text": [
            "WARNING:tensorflow:Unable to create a python object for variable <tf.Variable 'Encoder_en/Transformer/TransformerEncodeFast/encoder/layer_1/self_attention/multihead_attention/output_transform/kernel:0' shape=(512, 512) dtype=float32_ref> because it is a reference variable. It may not be visible to training APIs. If this is a problem, consider rebuilding the SavedModel after running tf.compat.v1.enable_resource_variables().\n"
          ],
          "name": "stdout"
        },
        {
          "output_type": "stream",
          "text": [
            "WARNING:tensorflow:Unable to create a python object for variable <tf.Variable 'Encoder_en/Transformer/TransformerEncodeFast/encoder/layer_1/self_attention/multihead_attention/output_transform/kernel:0' shape=(512, 512) dtype=float32_ref> because it is a reference variable. It may not be visible to training APIs. If this is a problem, consider rebuilding the SavedModel after running tf.compat.v1.enable_resource_variables().\n"
          ],
          "name": "stderr"
        },
        {
          "output_type": "stream",
          "text": [
            "WARNING:tensorflow:Unable to create a python object for variable <tf.Variable 'Encoder_en/Transformer/TransformerEncodeFast/encoder/layer_1/ffn/layer_prepostprocess/layer_norm/layer_norm_scale:0' shape=(512,) dtype=float32_ref> because it is a reference variable. It may not be visible to training APIs. If this is a problem, consider rebuilding the SavedModel after running tf.compat.v1.enable_resource_variables().\n"
          ],
          "name": "stdout"
        },
        {
          "output_type": "stream",
          "text": [
            "WARNING:tensorflow:Unable to create a python object for variable <tf.Variable 'Encoder_en/Transformer/TransformerEncodeFast/encoder/layer_1/ffn/layer_prepostprocess/layer_norm/layer_norm_scale:0' shape=(512,) dtype=float32_ref> because it is a reference variable. It may not be visible to training APIs. If this is a problem, consider rebuilding the SavedModel after running tf.compat.v1.enable_resource_variables().\n"
          ],
          "name": "stderr"
        },
        {
          "output_type": "stream",
          "text": [
            "WARNING:tensorflow:Unable to create a python object for variable <tf.Variable 'Encoder_en/Transformer/TransformerEncodeFast/encoder/layer_1/ffn/layer_prepostprocess/layer_norm/layer_norm_bias:0' shape=(512,) dtype=float32_ref> because it is a reference variable. It may not be visible to training APIs. If this is a problem, consider rebuilding the SavedModel after running tf.compat.v1.enable_resource_variables().\n"
          ],
          "name": "stdout"
        },
        {
          "output_type": "stream",
          "text": [
            "WARNING:tensorflow:Unable to create a python object for variable <tf.Variable 'Encoder_en/Transformer/TransformerEncodeFast/encoder/layer_1/ffn/layer_prepostprocess/layer_norm/layer_norm_bias:0' shape=(512,) dtype=float32_ref> because it is a reference variable. It may not be visible to training APIs. If this is a problem, consider rebuilding the SavedModel after running tf.compat.v1.enable_resource_variables().\n"
          ],
          "name": "stderr"
        },
        {
          "output_type": "stream",
          "text": [
            "WARNING:tensorflow:Unable to create a python object for variable <tf.Variable 'Encoder_en/Transformer/TransformerEncodeFast/encoder/layer_1/ffn/conv1/kernel:0' shape=(512, 2048) dtype=float32_ref> because it is a reference variable. It may not be visible to training APIs. If this is a problem, consider rebuilding the SavedModel after running tf.compat.v1.enable_resource_variables().\n"
          ],
          "name": "stdout"
        },
        {
          "output_type": "stream",
          "text": [
            "WARNING:tensorflow:Unable to create a python object for variable <tf.Variable 'Encoder_en/Transformer/TransformerEncodeFast/encoder/layer_1/ffn/conv1/kernel:0' shape=(512, 2048) dtype=float32_ref> because it is a reference variable. It may not be visible to training APIs. If this is a problem, consider rebuilding the SavedModel after running tf.compat.v1.enable_resource_variables().\n"
          ],
          "name": "stderr"
        },
        {
          "output_type": "stream",
          "text": [
            "WARNING:tensorflow:Unable to create a python object for variable <tf.Variable 'Encoder_en/Transformer/TransformerEncodeFast/encoder/layer_1/ffn/conv1/bias:0' shape=(2048,) dtype=float32_ref> because it is a reference variable. It may not be visible to training APIs. If this is a problem, consider rebuilding the SavedModel after running tf.compat.v1.enable_resource_variables().\n"
          ],
          "name": "stdout"
        },
        {
          "output_type": "stream",
          "text": [
            "WARNING:tensorflow:Unable to create a python object for variable <tf.Variable 'Encoder_en/Transformer/TransformerEncodeFast/encoder/layer_1/ffn/conv1/bias:0' shape=(2048,) dtype=float32_ref> because it is a reference variable. It may not be visible to training APIs. If this is a problem, consider rebuilding the SavedModel after running tf.compat.v1.enable_resource_variables().\n"
          ],
          "name": "stderr"
        },
        {
          "output_type": "stream",
          "text": [
            "WARNING:tensorflow:Unable to create a python object for variable <tf.Variable 'Encoder_en/Transformer/TransformerEncodeFast/encoder/layer_1/ffn/conv2/kernel:0' shape=(2048, 512) dtype=float32_ref> because it is a reference variable. It may not be visible to training APIs. If this is a problem, consider rebuilding the SavedModel after running tf.compat.v1.enable_resource_variables().\n"
          ],
          "name": "stdout"
        },
        {
          "output_type": "stream",
          "text": [
            "WARNING:tensorflow:Unable to create a python object for variable <tf.Variable 'Encoder_en/Transformer/TransformerEncodeFast/encoder/layer_1/ffn/conv2/kernel:0' shape=(2048, 512) dtype=float32_ref> because it is a reference variable. It may not be visible to training APIs. If this is a problem, consider rebuilding the SavedModel after running tf.compat.v1.enable_resource_variables().\n"
          ],
          "name": "stderr"
        },
        {
          "output_type": "stream",
          "text": [
            "WARNING:tensorflow:Unable to create a python object for variable <tf.Variable 'Encoder_en/Transformer/TransformerEncodeFast/encoder/layer_1/ffn/conv2/bias:0' shape=(512,) dtype=float32_ref> because it is a reference variable. It may not be visible to training APIs. If this is a problem, consider rebuilding the SavedModel after running tf.compat.v1.enable_resource_variables().\n"
          ],
          "name": "stdout"
        },
        {
          "output_type": "stream",
          "text": [
            "WARNING:tensorflow:Unable to create a python object for variable <tf.Variable 'Encoder_en/Transformer/TransformerEncodeFast/encoder/layer_1/ffn/conv2/bias:0' shape=(512,) dtype=float32_ref> because it is a reference variable. It may not be visible to training APIs. If this is a problem, consider rebuilding the SavedModel after running tf.compat.v1.enable_resource_variables().\n"
          ],
          "name": "stderr"
        },
        {
          "output_type": "stream",
          "text": [
            "WARNING:tensorflow:Unable to create a python object for variable <tf.Variable 'Encoder_en/Transformer/TransformerEncodeFast/encoder/layer_2/self_attention/layer_prepostprocess/layer_norm/layer_norm_scale:0' shape=(512,) dtype=float32_ref> because it is a reference variable. It may not be visible to training APIs. If this is a problem, consider rebuilding the SavedModel after running tf.compat.v1.enable_resource_variables().\n"
          ],
          "name": "stdout"
        },
        {
          "output_type": "stream",
          "text": [
            "WARNING:tensorflow:Unable to create a python object for variable <tf.Variable 'Encoder_en/Transformer/TransformerEncodeFast/encoder/layer_2/self_attention/layer_prepostprocess/layer_norm/layer_norm_scale:0' shape=(512,) dtype=float32_ref> because it is a reference variable. It may not be visible to training APIs. If this is a problem, consider rebuilding the SavedModel after running tf.compat.v1.enable_resource_variables().\n"
          ],
          "name": "stderr"
        },
        {
          "output_type": "stream",
          "text": [
            "WARNING:tensorflow:Unable to create a python object for variable <tf.Variable 'Encoder_en/Transformer/TransformerEncodeFast/encoder/layer_2/self_attention/layer_prepostprocess/layer_norm/layer_norm_bias:0' shape=(512,) dtype=float32_ref> because it is a reference variable. It may not be visible to training APIs. If this is a problem, consider rebuilding the SavedModel after running tf.compat.v1.enable_resource_variables().\n"
          ],
          "name": "stdout"
        },
        {
          "output_type": "stream",
          "text": [
            "WARNING:tensorflow:Unable to create a python object for variable <tf.Variable 'Encoder_en/Transformer/TransformerEncodeFast/encoder/layer_2/self_attention/layer_prepostprocess/layer_norm/layer_norm_bias:0' shape=(512,) dtype=float32_ref> because it is a reference variable. It may not be visible to training APIs. If this is a problem, consider rebuilding the SavedModel after running tf.compat.v1.enable_resource_variables().\n"
          ],
          "name": "stderr"
        },
        {
          "output_type": "stream",
          "text": [
            "WARNING:tensorflow:Unable to create a python object for variable <tf.Variable 'Encoder_en/Transformer/TransformerEncodeFast/encoder/layer_2/self_attention/multihead_attention/q/kernel:0' shape=(512, 512) dtype=float32_ref> because it is a reference variable. It may not be visible to training APIs. If this is a problem, consider rebuilding the SavedModel after running tf.compat.v1.enable_resource_variables().\n"
          ],
          "name": "stdout"
        },
        {
          "output_type": "stream",
          "text": [
            "WARNING:tensorflow:Unable to create a python object for variable <tf.Variable 'Encoder_en/Transformer/TransformerEncodeFast/encoder/layer_2/self_attention/multihead_attention/q/kernel:0' shape=(512, 512) dtype=float32_ref> because it is a reference variable. It may not be visible to training APIs. If this is a problem, consider rebuilding the SavedModel after running tf.compat.v1.enable_resource_variables().\n"
          ],
          "name": "stderr"
        },
        {
          "output_type": "stream",
          "text": [
            "WARNING:tensorflow:Unable to create a python object for variable <tf.Variable 'Encoder_en/Transformer/TransformerEncodeFast/encoder/layer_2/self_attention/multihead_attention/k/kernel:0' shape=(512, 512) dtype=float32_ref> because it is a reference variable. It may not be visible to training APIs. If this is a problem, consider rebuilding the SavedModel after running tf.compat.v1.enable_resource_variables().\n"
          ],
          "name": "stdout"
        },
        {
          "output_type": "stream",
          "text": [
            "WARNING:tensorflow:Unable to create a python object for variable <tf.Variable 'Encoder_en/Transformer/TransformerEncodeFast/encoder/layer_2/self_attention/multihead_attention/k/kernel:0' shape=(512, 512) dtype=float32_ref> because it is a reference variable. It may not be visible to training APIs. If this is a problem, consider rebuilding the SavedModel after running tf.compat.v1.enable_resource_variables().\n"
          ],
          "name": "stderr"
        },
        {
          "output_type": "stream",
          "text": [
            "WARNING:tensorflow:Unable to create a python object for variable <tf.Variable 'Encoder_en/Transformer/TransformerEncodeFast/encoder/layer_2/self_attention/multihead_attention/v/kernel:0' shape=(512, 512) dtype=float32_ref> because it is a reference variable. It may not be visible to training APIs. If this is a problem, consider rebuilding the SavedModel after running tf.compat.v1.enable_resource_variables().\n"
          ],
          "name": "stdout"
        },
        {
          "output_type": "stream",
          "text": [
            "WARNING:tensorflow:Unable to create a python object for variable <tf.Variable 'Encoder_en/Transformer/TransformerEncodeFast/encoder/layer_2/self_attention/multihead_attention/v/kernel:0' shape=(512, 512) dtype=float32_ref> because it is a reference variable. It may not be visible to training APIs. If this is a problem, consider rebuilding the SavedModel after running tf.compat.v1.enable_resource_variables().\n"
          ],
          "name": "stderr"
        },
        {
          "output_type": "stream",
          "text": [
            "WARNING:tensorflow:Unable to create a python object for variable <tf.Variable 'Encoder_en/Transformer/TransformerEncodeFast/encoder/layer_2/self_attention/multihead_attention/output_transform/kernel:0' shape=(512, 512) dtype=float32_ref> because it is a reference variable. It may not be visible to training APIs. If this is a problem, consider rebuilding the SavedModel after running tf.compat.v1.enable_resource_variables().\n"
          ],
          "name": "stdout"
        },
        {
          "output_type": "stream",
          "text": [
            "WARNING:tensorflow:Unable to create a python object for variable <tf.Variable 'Encoder_en/Transformer/TransformerEncodeFast/encoder/layer_2/self_attention/multihead_attention/output_transform/kernel:0' shape=(512, 512) dtype=float32_ref> because it is a reference variable. It may not be visible to training APIs. If this is a problem, consider rebuilding the SavedModel after running tf.compat.v1.enable_resource_variables().\n"
          ],
          "name": "stderr"
        },
        {
          "output_type": "stream",
          "text": [
            "WARNING:tensorflow:Unable to create a python object for variable <tf.Variable 'Encoder_en/Transformer/TransformerEncodeFast/encoder/layer_2/ffn/layer_prepostprocess/layer_norm/layer_norm_scale:0' shape=(512,) dtype=float32_ref> because it is a reference variable. It may not be visible to training APIs. If this is a problem, consider rebuilding the SavedModel after running tf.compat.v1.enable_resource_variables().\n"
          ],
          "name": "stdout"
        },
        {
          "output_type": "stream",
          "text": [
            "WARNING:tensorflow:Unable to create a python object for variable <tf.Variable 'Encoder_en/Transformer/TransformerEncodeFast/encoder/layer_2/ffn/layer_prepostprocess/layer_norm/layer_norm_scale:0' shape=(512,) dtype=float32_ref> because it is a reference variable. It may not be visible to training APIs. If this is a problem, consider rebuilding the SavedModel after running tf.compat.v1.enable_resource_variables().\n"
          ],
          "name": "stderr"
        },
        {
          "output_type": "stream",
          "text": [
            "WARNING:tensorflow:Unable to create a python object for variable <tf.Variable 'Encoder_en/Transformer/TransformerEncodeFast/encoder/layer_2/ffn/layer_prepostprocess/layer_norm/layer_norm_bias:0' shape=(512,) dtype=float32_ref> because it is a reference variable. It may not be visible to training APIs. If this is a problem, consider rebuilding the SavedModel after running tf.compat.v1.enable_resource_variables().\n"
          ],
          "name": "stdout"
        },
        {
          "output_type": "stream",
          "text": [
            "WARNING:tensorflow:Unable to create a python object for variable <tf.Variable 'Encoder_en/Transformer/TransformerEncodeFast/encoder/layer_2/ffn/layer_prepostprocess/layer_norm/layer_norm_bias:0' shape=(512,) dtype=float32_ref> because it is a reference variable. It may not be visible to training APIs. If this is a problem, consider rebuilding the SavedModel after running tf.compat.v1.enable_resource_variables().\n"
          ],
          "name": "stderr"
        },
        {
          "output_type": "stream",
          "text": [
            "WARNING:tensorflow:Unable to create a python object for variable <tf.Variable 'Encoder_en/Transformer/TransformerEncodeFast/encoder/layer_2/ffn/conv1/kernel:0' shape=(512, 2048) dtype=float32_ref> because it is a reference variable. It may not be visible to training APIs. If this is a problem, consider rebuilding the SavedModel after running tf.compat.v1.enable_resource_variables().\n"
          ],
          "name": "stdout"
        },
        {
          "output_type": "stream",
          "text": [
            "WARNING:tensorflow:Unable to create a python object for variable <tf.Variable 'Encoder_en/Transformer/TransformerEncodeFast/encoder/layer_2/ffn/conv1/kernel:0' shape=(512, 2048) dtype=float32_ref> because it is a reference variable. It may not be visible to training APIs. If this is a problem, consider rebuilding the SavedModel after running tf.compat.v1.enable_resource_variables().\n"
          ],
          "name": "stderr"
        },
        {
          "output_type": "stream",
          "text": [
            "WARNING:tensorflow:Unable to create a python object for variable <tf.Variable 'Encoder_en/Transformer/TransformerEncodeFast/encoder/layer_2/ffn/conv1/bias:0' shape=(2048,) dtype=float32_ref> because it is a reference variable. It may not be visible to training APIs. If this is a problem, consider rebuilding the SavedModel after running tf.compat.v1.enable_resource_variables().\n"
          ],
          "name": "stdout"
        },
        {
          "output_type": "stream",
          "text": [
            "WARNING:tensorflow:Unable to create a python object for variable <tf.Variable 'Encoder_en/Transformer/TransformerEncodeFast/encoder/layer_2/ffn/conv1/bias:0' shape=(2048,) dtype=float32_ref> because it is a reference variable. It may not be visible to training APIs. If this is a problem, consider rebuilding the SavedModel after running tf.compat.v1.enable_resource_variables().\n"
          ],
          "name": "stderr"
        },
        {
          "output_type": "stream",
          "text": [
            "WARNING:tensorflow:Unable to create a python object for variable <tf.Variable 'Encoder_en/Transformer/TransformerEncodeFast/encoder/layer_2/ffn/conv2/kernel:0' shape=(2048, 512) dtype=float32_ref> because it is a reference variable. It may not be visible to training APIs. If this is a problem, consider rebuilding the SavedModel after running tf.compat.v1.enable_resource_variables().\n"
          ],
          "name": "stdout"
        },
        {
          "output_type": "stream",
          "text": [
            "WARNING:tensorflow:Unable to create a python object for variable <tf.Variable 'Encoder_en/Transformer/TransformerEncodeFast/encoder/layer_2/ffn/conv2/kernel:0' shape=(2048, 512) dtype=float32_ref> because it is a reference variable. It may not be visible to training APIs. If this is a problem, consider rebuilding the SavedModel after running tf.compat.v1.enable_resource_variables().\n"
          ],
          "name": "stderr"
        },
        {
          "output_type": "stream",
          "text": [
            "WARNING:tensorflow:Unable to create a python object for variable <tf.Variable 'Encoder_en/Transformer/TransformerEncodeFast/encoder/layer_2/ffn/conv2/bias:0' shape=(512,) dtype=float32_ref> because it is a reference variable. It may not be visible to training APIs. If this is a problem, consider rebuilding the SavedModel after running tf.compat.v1.enable_resource_variables().\n"
          ],
          "name": "stdout"
        },
        {
          "output_type": "stream",
          "text": [
            "WARNING:tensorflow:Unable to create a python object for variable <tf.Variable 'Encoder_en/Transformer/TransformerEncodeFast/encoder/layer_2/ffn/conv2/bias:0' shape=(512,) dtype=float32_ref> because it is a reference variable. It may not be visible to training APIs. If this is a problem, consider rebuilding the SavedModel after running tf.compat.v1.enable_resource_variables().\n"
          ],
          "name": "stderr"
        },
        {
          "output_type": "stream",
          "text": [
            "WARNING:tensorflow:Unable to create a python object for variable <tf.Variable 'Encoder_en/Transformer/TransformerEncodeFast/encoder/layer_3/self_attention/layer_prepostprocess/layer_norm/layer_norm_scale:0' shape=(512,) dtype=float32_ref> because it is a reference variable. It may not be visible to training APIs. If this is a problem, consider rebuilding the SavedModel after running tf.compat.v1.enable_resource_variables().\n"
          ],
          "name": "stdout"
        },
        {
          "output_type": "stream",
          "text": [
            "WARNING:tensorflow:Unable to create a python object for variable <tf.Variable 'Encoder_en/Transformer/TransformerEncodeFast/encoder/layer_3/self_attention/layer_prepostprocess/layer_norm/layer_norm_scale:0' shape=(512,) dtype=float32_ref> because it is a reference variable. It may not be visible to training APIs. If this is a problem, consider rebuilding the SavedModel after running tf.compat.v1.enable_resource_variables().\n"
          ],
          "name": "stderr"
        },
        {
          "output_type": "stream",
          "text": [
            "WARNING:tensorflow:Unable to create a python object for variable <tf.Variable 'Encoder_en/Transformer/TransformerEncodeFast/encoder/layer_3/self_attention/layer_prepostprocess/layer_norm/layer_norm_bias:0' shape=(512,) dtype=float32_ref> because it is a reference variable. It may not be visible to training APIs. If this is a problem, consider rebuilding the SavedModel after running tf.compat.v1.enable_resource_variables().\n"
          ],
          "name": "stdout"
        },
        {
          "output_type": "stream",
          "text": [
            "WARNING:tensorflow:Unable to create a python object for variable <tf.Variable 'Encoder_en/Transformer/TransformerEncodeFast/encoder/layer_3/self_attention/layer_prepostprocess/layer_norm/layer_norm_bias:0' shape=(512,) dtype=float32_ref> because it is a reference variable. It may not be visible to training APIs. If this is a problem, consider rebuilding the SavedModel after running tf.compat.v1.enable_resource_variables().\n"
          ],
          "name": "stderr"
        },
        {
          "output_type": "stream",
          "text": [
            "WARNING:tensorflow:Unable to create a python object for variable <tf.Variable 'Encoder_en/Transformer/TransformerEncodeFast/encoder/layer_3/self_attention/multihead_attention/q/kernel:0' shape=(512, 512) dtype=float32_ref> because it is a reference variable. It may not be visible to training APIs. If this is a problem, consider rebuilding the SavedModel after running tf.compat.v1.enable_resource_variables().\n"
          ],
          "name": "stdout"
        },
        {
          "output_type": "stream",
          "text": [
            "WARNING:tensorflow:Unable to create a python object for variable <tf.Variable 'Encoder_en/Transformer/TransformerEncodeFast/encoder/layer_3/self_attention/multihead_attention/q/kernel:0' shape=(512, 512) dtype=float32_ref> because it is a reference variable. It may not be visible to training APIs. If this is a problem, consider rebuilding the SavedModel after running tf.compat.v1.enable_resource_variables().\n"
          ],
          "name": "stderr"
        },
        {
          "output_type": "stream",
          "text": [
            "WARNING:tensorflow:Unable to create a python object for variable <tf.Variable 'Encoder_en/Transformer/TransformerEncodeFast/encoder/layer_3/self_attention/multihead_attention/k/kernel:0' shape=(512, 512) dtype=float32_ref> because it is a reference variable. It may not be visible to training APIs. If this is a problem, consider rebuilding the SavedModel after running tf.compat.v1.enable_resource_variables().\n"
          ],
          "name": "stdout"
        },
        {
          "output_type": "stream",
          "text": [
            "WARNING:tensorflow:Unable to create a python object for variable <tf.Variable 'Encoder_en/Transformer/TransformerEncodeFast/encoder/layer_3/self_attention/multihead_attention/k/kernel:0' shape=(512, 512) dtype=float32_ref> because it is a reference variable. It may not be visible to training APIs. If this is a problem, consider rebuilding the SavedModel after running tf.compat.v1.enable_resource_variables().\n"
          ],
          "name": "stderr"
        },
        {
          "output_type": "stream",
          "text": [
            "WARNING:tensorflow:Unable to create a python object for variable <tf.Variable 'Encoder_en/Transformer/TransformerEncodeFast/encoder/layer_3/self_attention/multihead_attention/v/kernel:0' shape=(512, 512) dtype=float32_ref> because it is a reference variable. It may not be visible to training APIs. If this is a problem, consider rebuilding the SavedModel after running tf.compat.v1.enable_resource_variables().\n"
          ],
          "name": "stdout"
        },
        {
          "output_type": "stream",
          "text": [
            "WARNING:tensorflow:Unable to create a python object for variable <tf.Variable 'Encoder_en/Transformer/TransformerEncodeFast/encoder/layer_3/self_attention/multihead_attention/v/kernel:0' shape=(512, 512) dtype=float32_ref> because it is a reference variable. It may not be visible to training APIs. If this is a problem, consider rebuilding the SavedModel after running tf.compat.v1.enable_resource_variables().\n"
          ],
          "name": "stderr"
        },
        {
          "output_type": "stream",
          "text": [
            "WARNING:tensorflow:Unable to create a python object for variable <tf.Variable 'Encoder_en/Transformer/TransformerEncodeFast/encoder/layer_3/self_attention/multihead_attention/output_transform/kernel:0' shape=(512, 512) dtype=float32_ref> because it is a reference variable. It may not be visible to training APIs. If this is a problem, consider rebuilding the SavedModel after running tf.compat.v1.enable_resource_variables().\n"
          ],
          "name": "stdout"
        },
        {
          "output_type": "stream",
          "text": [
            "WARNING:tensorflow:Unable to create a python object for variable <tf.Variable 'Encoder_en/Transformer/TransformerEncodeFast/encoder/layer_3/self_attention/multihead_attention/output_transform/kernel:0' shape=(512, 512) dtype=float32_ref> because it is a reference variable. It may not be visible to training APIs. If this is a problem, consider rebuilding the SavedModel after running tf.compat.v1.enable_resource_variables().\n"
          ],
          "name": "stderr"
        },
        {
          "output_type": "stream",
          "text": [
            "WARNING:tensorflow:Unable to create a python object for variable <tf.Variable 'Encoder_en/Transformer/TransformerEncodeFast/encoder/layer_3/ffn/layer_prepostprocess/layer_norm/layer_norm_scale:0' shape=(512,) dtype=float32_ref> because it is a reference variable. It may not be visible to training APIs. If this is a problem, consider rebuilding the SavedModel after running tf.compat.v1.enable_resource_variables().\n"
          ],
          "name": "stdout"
        },
        {
          "output_type": "stream",
          "text": [
            "WARNING:tensorflow:Unable to create a python object for variable <tf.Variable 'Encoder_en/Transformer/TransformerEncodeFast/encoder/layer_3/ffn/layer_prepostprocess/layer_norm/layer_norm_scale:0' shape=(512,) dtype=float32_ref> because it is a reference variable. It may not be visible to training APIs. If this is a problem, consider rebuilding the SavedModel after running tf.compat.v1.enable_resource_variables().\n"
          ],
          "name": "stderr"
        },
        {
          "output_type": "stream",
          "text": [
            "WARNING:tensorflow:Unable to create a python object for variable <tf.Variable 'Encoder_en/Transformer/TransformerEncodeFast/encoder/layer_3/ffn/layer_prepostprocess/layer_norm/layer_norm_bias:0' shape=(512,) dtype=float32_ref> because it is a reference variable. It may not be visible to training APIs. If this is a problem, consider rebuilding the SavedModel after running tf.compat.v1.enable_resource_variables().\n"
          ],
          "name": "stdout"
        },
        {
          "output_type": "stream",
          "text": [
            "WARNING:tensorflow:Unable to create a python object for variable <tf.Variable 'Encoder_en/Transformer/TransformerEncodeFast/encoder/layer_3/ffn/layer_prepostprocess/layer_norm/layer_norm_bias:0' shape=(512,) dtype=float32_ref> because it is a reference variable. It may not be visible to training APIs. If this is a problem, consider rebuilding the SavedModel after running tf.compat.v1.enable_resource_variables().\n"
          ],
          "name": "stderr"
        },
        {
          "output_type": "stream",
          "text": [
            "WARNING:tensorflow:Unable to create a python object for variable <tf.Variable 'Encoder_en/Transformer/TransformerEncodeFast/encoder/layer_3/ffn/conv1/kernel:0' shape=(512, 2048) dtype=float32_ref> because it is a reference variable. It may not be visible to training APIs. If this is a problem, consider rebuilding the SavedModel after running tf.compat.v1.enable_resource_variables().\n"
          ],
          "name": "stdout"
        },
        {
          "output_type": "stream",
          "text": [
            "WARNING:tensorflow:Unable to create a python object for variable <tf.Variable 'Encoder_en/Transformer/TransformerEncodeFast/encoder/layer_3/ffn/conv1/kernel:0' shape=(512, 2048) dtype=float32_ref> because it is a reference variable. It may not be visible to training APIs. If this is a problem, consider rebuilding the SavedModel after running tf.compat.v1.enable_resource_variables().\n"
          ],
          "name": "stderr"
        },
        {
          "output_type": "stream",
          "text": [
            "WARNING:tensorflow:Unable to create a python object for variable <tf.Variable 'Encoder_en/Transformer/TransformerEncodeFast/encoder/layer_3/ffn/conv1/bias:0' shape=(2048,) dtype=float32_ref> because it is a reference variable. It may not be visible to training APIs. If this is a problem, consider rebuilding the SavedModel after running tf.compat.v1.enable_resource_variables().\n"
          ],
          "name": "stdout"
        },
        {
          "output_type": "stream",
          "text": [
            "WARNING:tensorflow:Unable to create a python object for variable <tf.Variable 'Encoder_en/Transformer/TransformerEncodeFast/encoder/layer_3/ffn/conv1/bias:0' shape=(2048,) dtype=float32_ref> because it is a reference variable. It may not be visible to training APIs. If this is a problem, consider rebuilding the SavedModel after running tf.compat.v1.enable_resource_variables().\n"
          ],
          "name": "stderr"
        },
        {
          "output_type": "stream",
          "text": [
            "WARNING:tensorflow:Unable to create a python object for variable <tf.Variable 'Encoder_en/Transformer/TransformerEncodeFast/encoder/layer_3/ffn/conv2/kernel:0' shape=(2048, 512) dtype=float32_ref> because it is a reference variable. It may not be visible to training APIs. If this is a problem, consider rebuilding the SavedModel after running tf.compat.v1.enable_resource_variables().\n"
          ],
          "name": "stdout"
        },
        {
          "output_type": "stream",
          "text": [
            "WARNING:tensorflow:Unable to create a python object for variable <tf.Variable 'Encoder_en/Transformer/TransformerEncodeFast/encoder/layer_3/ffn/conv2/kernel:0' shape=(2048, 512) dtype=float32_ref> because it is a reference variable. It may not be visible to training APIs. If this is a problem, consider rebuilding the SavedModel after running tf.compat.v1.enable_resource_variables().\n"
          ],
          "name": "stderr"
        },
        {
          "output_type": "stream",
          "text": [
            "WARNING:tensorflow:Unable to create a python object for variable <tf.Variable 'Encoder_en/Transformer/TransformerEncodeFast/encoder/layer_3/ffn/conv2/bias:0' shape=(512,) dtype=float32_ref> because it is a reference variable. It may not be visible to training APIs. If this is a problem, consider rebuilding the SavedModel after running tf.compat.v1.enable_resource_variables().\n"
          ],
          "name": "stdout"
        },
        {
          "output_type": "stream",
          "text": [
            "WARNING:tensorflow:Unable to create a python object for variable <tf.Variable 'Encoder_en/Transformer/TransformerEncodeFast/encoder/layer_3/ffn/conv2/bias:0' shape=(512,) dtype=float32_ref> because it is a reference variable. It may not be visible to training APIs. If this is a problem, consider rebuilding the SavedModel after running tf.compat.v1.enable_resource_variables().\n"
          ],
          "name": "stderr"
        },
        {
          "output_type": "stream",
          "text": [
            "WARNING:tensorflow:Unable to create a python object for variable <tf.Variable 'Encoder_en/Transformer/TransformerEncodeFast/encoder/layer_4/self_attention/layer_prepostprocess/layer_norm/layer_norm_scale:0' shape=(512,) dtype=float32_ref> because it is a reference variable. It may not be visible to training APIs. If this is a problem, consider rebuilding the SavedModel after running tf.compat.v1.enable_resource_variables().\n"
          ],
          "name": "stdout"
        },
        {
          "output_type": "stream",
          "text": [
            "WARNING:tensorflow:Unable to create a python object for variable <tf.Variable 'Encoder_en/Transformer/TransformerEncodeFast/encoder/layer_4/self_attention/layer_prepostprocess/layer_norm/layer_norm_scale:0' shape=(512,) dtype=float32_ref> because it is a reference variable. It may not be visible to training APIs. If this is a problem, consider rebuilding the SavedModel after running tf.compat.v1.enable_resource_variables().\n"
          ],
          "name": "stderr"
        },
        {
          "output_type": "stream",
          "text": [
            "WARNING:tensorflow:Unable to create a python object for variable <tf.Variable 'Encoder_en/Transformer/TransformerEncodeFast/encoder/layer_4/self_attention/layer_prepostprocess/layer_norm/layer_norm_bias:0' shape=(512,) dtype=float32_ref> because it is a reference variable. It may not be visible to training APIs. If this is a problem, consider rebuilding the SavedModel after running tf.compat.v1.enable_resource_variables().\n"
          ],
          "name": "stdout"
        },
        {
          "output_type": "stream",
          "text": [
            "WARNING:tensorflow:Unable to create a python object for variable <tf.Variable 'Encoder_en/Transformer/TransformerEncodeFast/encoder/layer_4/self_attention/layer_prepostprocess/layer_norm/layer_norm_bias:0' shape=(512,) dtype=float32_ref> because it is a reference variable. It may not be visible to training APIs. If this is a problem, consider rebuilding the SavedModel after running tf.compat.v1.enable_resource_variables().\n"
          ],
          "name": "stderr"
        },
        {
          "output_type": "stream",
          "text": [
            "WARNING:tensorflow:Unable to create a python object for variable <tf.Variable 'Encoder_en/Transformer/TransformerEncodeFast/encoder/layer_4/self_attention/multihead_attention/q/kernel:0' shape=(512, 512) dtype=float32_ref> because it is a reference variable. It may not be visible to training APIs. If this is a problem, consider rebuilding the SavedModel after running tf.compat.v1.enable_resource_variables().\n"
          ],
          "name": "stdout"
        },
        {
          "output_type": "stream",
          "text": [
            "WARNING:tensorflow:Unable to create a python object for variable <tf.Variable 'Encoder_en/Transformer/TransformerEncodeFast/encoder/layer_4/self_attention/multihead_attention/q/kernel:0' shape=(512, 512) dtype=float32_ref> because it is a reference variable. It may not be visible to training APIs. If this is a problem, consider rebuilding the SavedModel after running tf.compat.v1.enable_resource_variables().\n"
          ],
          "name": "stderr"
        },
        {
          "output_type": "stream",
          "text": [
            "WARNING:tensorflow:Unable to create a python object for variable <tf.Variable 'Encoder_en/Transformer/TransformerEncodeFast/encoder/layer_4/self_attention/multihead_attention/k/kernel:0' shape=(512, 512) dtype=float32_ref> because it is a reference variable. It may not be visible to training APIs. If this is a problem, consider rebuilding the SavedModel after running tf.compat.v1.enable_resource_variables().\n"
          ],
          "name": "stdout"
        },
        {
          "output_type": "stream",
          "text": [
            "WARNING:tensorflow:Unable to create a python object for variable <tf.Variable 'Encoder_en/Transformer/TransformerEncodeFast/encoder/layer_4/self_attention/multihead_attention/k/kernel:0' shape=(512, 512) dtype=float32_ref> because it is a reference variable. It may not be visible to training APIs. If this is a problem, consider rebuilding the SavedModel after running tf.compat.v1.enable_resource_variables().\n"
          ],
          "name": "stderr"
        },
        {
          "output_type": "stream",
          "text": [
            "WARNING:tensorflow:Unable to create a python object for variable <tf.Variable 'Encoder_en/Transformer/TransformerEncodeFast/encoder/layer_4/self_attention/multihead_attention/v/kernel:0' shape=(512, 512) dtype=float32_ref> because it is a reference variable. It may not be visible to training APIs. If this is a problem, consider rebuilding the SavedModel after running tf.compat.v1.enable_resource_variables().\n"
          ],
          "name": "stdout"
        },
        {
          "output_type": "stream",
          "text": [
            "WARNING:tensorflow:Unable to create a python object for variable <tf.Variable 'Encoder_en/Transformer/TransformerEncodeFast/encoder/layer_4/self_attention/multihead_attention/v/kernel:0' shape=(512, 512) dtype=float32_ref> because it is a reference variable. It may not be visible to training APIs. If this is a problem, consider rebuilding the SavedModel after running tf.compat.v1.enable_resource_variables().\n"
          ],
          "name": "stderr"
        },
        {
          "output_type": "stream",
          "text": [
            "WARNING:tensorflow:Unable to create a python object for variable <tf.Variable 'Encoder_en/Transformer/TransformerEncodeFast/encoder/layer_4/self_attention/multihead_attention/output_transform/kernel:0' shape=(512, 512) dtype=float32_ref> because it is a reference variable. It may not be visible to training APIs. If this is a problem, consider rebuilding the SavedModel after running tf.compat.v1.enable_resource_variables().\n"
          ],
          "name": "stdout"
        },
        {
          "output_type": "stream",
          "text": [
            "WARNING:tensorflow:Unable to create a python object for variable <tf.Variable 'Encoder_en/Transformer/TransformerEncodeFast/encoder/layer_4/self_attention/multihead_attention/output_transform/kernel:0' shape=(512, 512) dtype=float32_ref> because it is a reference variable. It may not be visible to training APIs. If this is a problem, consider rebuilding the SavedModel after running tf.compat.v1.enable_resource_variables().\n"
          ],
          "name": "stderr"
        },
        {
          "output_type": "stream",
          "text": [
            "WARNING:tensorflow:Unable to create a python object for variable <tf.Variable 'Encoder_en/Transformer/TransformerEncodeFast/encoder/layer_4/ffn/layer_prepostprocess/layer_norm/layer_norm_scale:0' shape=(512,) dtype=float32_ref> because it is a reference variable. It may not be visible to training APIs. If this is a problem, consider rebuilding the SavedModel after running tf.compat.v1.enable_resource_variables().\n"
          ],
          "name": "stdout"
        },
        {
          "output_type": "stream",
          "text": [
            "WARNING:tensorflow:Unable to create a python object for variable <tf.Variable 'Encoder_en/Transformer/TransformerEncodeFast/encoder/layer_4/ffn/layer_prepostprocess/layer_norm/layer_norm_scale:0' shape=(512,) dtype=float32_ref> because it is a reference variable. It may not be visible to training APIs. If this is a problem, consider rebuilding the SavedModel after running tf.compat.v1.enable_resource_variables().\n"
          ],
          "name": "stderr"
        },
        {
          "output_type": "stream",
          "text": [
            "WARNING:tensorflow:Unable to create a python object for variable <tf.Variable 'Encoder_en/Transformer/TransformerEncodeFast/encoder/layer_4/ffn/layer_prepostprocess/layer_norm/layer_norm_bias:0' shape=(512,) dtype=float32_ref> because it is a reference variable. It may not be visible to training APIs. If this is a problem, consider rebuilding the SavedModel after running tf.compat.v1.enable_resource_variables().\n"
          ],
          "name": "stdout"
        },
        {
          "output_type": "stream",
          "text": [
            "WARNING:tensorflow:Unable to create a python object for variable <tf.Variable 'Encoder_en/Transformer/TransformerEncodeFast/encoder/layer_4/ffn/layer_prepostprocess/layer_norm/layer_norm_bias:0' shape=(512,) dtype=float32_ref> because it is a reference variable. It may not be visible to training APIs. If this is a problem, consider rebuilding the SavedModel after running tf.compat.v1.enable_resource_variables().\n"
          ],
          "name": "stderr"
        },
        {
          "output_type": "stream",
          "text": [
            "WARNING:tensorflow:Unable to create a python object for variable <tf.Variable 'Encoder_en/Transformer/TransformerEncodeFast/encoder/layer_4/ffn/conv1/kernel:0' shape=(512, 2048) dtype=float32_ref> because it is a reference variable. It may not be visible to training APIs. If this is a problem, consider rebuilding the SavedModel after running tf.compat.v1.enable_resource_variables().\n"
          ],
          "name": "stdout"
        },
        {
          "output_type": "stream",
          "text": [
            "WARNING:tensorflow:Unable to create a python object for variable <tf.Variable 'Encoder_en/Transformer/TransformerEncodeFast/encoder/layer_4/ffn/conv1/kernel:0' shape=(512, 2048) dtype=float32_ref> because it is a reference variable. It may not be visible to training APIs. If this is a problem, consider rebuilding the SavedModel after running tf.compat.v1.enable_resource_variables().\n"
          ],
          "name": "stderr"
        },
        {
          "output_type": "stream",
          "text": [
            "WARNING:tensorflow:Unable to create a python object for variable <tf.Variable 'Encoder_en/Transformer/TransformerEncodeFast/encoder/layer_4/ffn/conv1/bias:0' shape=(2048,) dtype=float32_ref> because it is a reference variable. It may not be visible to training APIs. If this is a problem, consider rebuilding the SavedModel after running tf.compat.v1.enable_resource_variables().\n"
          ],
          "name": "stdout"
        },
        {
          "output_type": "stream",
          "text": [
            "WARNING:tensorflow:Unable to create a python object for variable <tf.Variable 'Encoder_en/Transformer/TransformerEncodeFast/encoder/layer_4/ffn/conv1/bias:0' shape=(2048,) dtype=float32_ref> because it is a reference variable. It may not be visible to training APIs. If this is a problem, consider rebuilding the SavedModel after running tf.compat.v1.enable_resource_variables().\n"
          ],
          "name": "stderr"
        },
        {
          "output_type": "stream",
          "text": [
            "WARNING:tensorflow:Unable to create a python object for variable <tf.Variable 'Encoder_en/Transformer/TransformerEncodeFast/encoder/layer_4/ffn/conv2/kernel:0' shape=(2048, 512) dtype=float32_ref> because it is a reference variable. It may not be visible to training APIs. If this is a problem, consider rebuilding the SavedModel after running tf.compat.v1.enable_resource_variables().\n"
          ],
          "name": "stdout"
        },
        {
          "output_type": "stream",
          "text": [
            "WARNING:tensorflow:Unable to create a python object for variable <tf.Variable 'Encoder_en/Transformer/TransformerEncodeFast/encoder/layer_4/ffn/conv2/kernel:0' shape=(2048, 512) dtype=float32_ref> because it is a reference variable. It may not be visible to training APIs. If this is a problem, consider rebuilding the SavedModel after running tf.compat.v1.enable_resource_variables().\n"
          ],
          "name": "stderr"
        },
        {
          "output_type": "stream",
          "text": [
            "WARNING:tensorflow:Unable to create a python object for variable <tf.Variable 'Encoder_en/Transformer/TransformerEncodeFast/encoder/layer_4/ffn/conv2/bias:0' shape=(512,) dtype=float32_ref> because it is a reference variable. It may not be visible to training APIs. If this is a problem, consider rebuilding the SavedModel after running tf.compat.v1.enable_resource_variables().\n"
          ],
          "name": "stdout"
        },
        {
          "output_type": "stream",
          "text": [
            "WARNING:tensorflow:Unable to create a python object for variable <tf.Variable 'Encoder_en/Transformer/TransformerEncodeFast/encoder/layer_4/ffn/conv2/bias:0' shape=(512,) dtype=float32_ref> because it is a reference variable. It may not be visible to training APIs. If this is a problem, consider rebuilding the SavedModel after running tf.compat.v1.enable_resource_variables().\n"
          ],
          "name": "stderr"
        },
        {
          "output_type": "stream",
          "text": [
            "WARNING:tensorflow:Unable to create a python object for variable <tf.Variable 'Encoder_en/Transformer/TransformerEncodeFast/encoder/layer_5/self_attention/layer_prepostprocess/layer_norm/layer_norm_scale:0' shape=(512,) dtype=float32_ref> because it is a reference variable. It may not be visible to training APIs. If this is a problem, consider rebuilding the SavedModel after running tf.compat.v1.enable_resource_variables().\n"
          ],
          "name": "stdout"
        },
        {
          "output_type": "stream",
          "text": [
            "WARNING:tensorflow:Unable to create a python object for variable <tf.Variable 'Encoder_en/Transformer/TransformerEncodeFast/encoder/layer_5/self_attention/layer_prepostprocess/layer_norm/layer_norm_scale:0' shape=(512,) dtype=float32_ref> because it is a reference variable. It may not be visible to training APIs. If this is a problem, consider rebuilding the SavedModel after running tf.compat.v1.enable_resource_variables().\n"
          ],
          "name": "stderr"
        },
        {
          "output_type": "stream",
          "text": [
            "WARNING:tensorflow:Unable to create a python object for variable <tf.Variable 'Encoder_en/Transformer/TransformerEncodeFast/encoder/layer_5/self_attention/layer_prepostprocess/layer_norm/layer_norm_bias:0' shape=(512,) dtype=float32_ref> because it is a reference variable. It may not be visible to training APIs. If this is a problem, consider rebuilding the SavedModel after running tf.compat.v1.enable_resource_variables().\n"
          ],
          "name": "stdout"
        },
        {
          "output_type": "stream",
          "text": [
            "WARNING:tensorflow:Unable to create a python object for variable <tf.Variable 'Encoder_en/Transformer/TransformerEncodeFast/encoder/layer_5/self_attention/layer_prepostprocess/layer_norm/layer_norm_bias:0' shape=(512,) dtype=float32_ref> because it is a reference variable. It may not be visible to training APIs. If this is a problem, consider rebuilding the SavedModel after running tf.compat.v1.enable_resource_variables().\n"
          ],
          "name": "stderr"
        },
        {
          "output_type": "stream",
          "text": [
            "WARNING:tensorflow:Unable to create a python object for variable <tf.Variable 'Encoder_en/Transformer/TransformerEncodeFast/encoder/layer_5/self_attention/multihead_attention/q/kernel:0' shape=(512, 512) dtype=float32_ref> because it is a reference variable. It may not be visible to training APIs. If this is a problem, consider rebuilding the SavedModel after running tf.compat.v1.enable_resource_variables().\n"
          ],
          "name": "stdout"
        },
        {
          "output_type": "stream",
          "text": [
            "WARNING:tensorflow:Unable to create a python object for variable <tf.Variable 'Encoder_en/Transformer/TransformerEncodeFast/encoder/layer_5/self_attention/multihead_attention/q/kernel:0' shape=(512, 512) dtype=float32_ref> because it is a reference variable. It may not be visible to training APIs. If this is a problem, consider rebuilding the SavedModel after running tf.compat.v1.enable_resource_variables().\n"
          ],
          "name": "stderr"
        },
        {
          "output_type": "stream",
          "text": [
            "WARNING:tensorflow:Unable to create a python object for variable <tf.Variable 'Encoder_en/Transformer/TransformerEncodeFast/encoder/layer_5/self_attention/multihead_attention/k/kernel:0' shape=(512, 512) dtype=float32_ref> because it is a reference variable. It may not be visible to training APIs. If this is a problem, consider rebuilding the SavedModel after running tf.compat.v1.enable_resource_variables().\n"
          ],
          "name": "stdout"
        },
        {
          "output_type": "stream",
          "text": [
            "WARNING:tensorflow:Unable to create a python object for variable <tf.Variable 'Encoder_en/Transformer/TransformerEncodeFast/encoder/layer_5/self_attention/multihead_attention/k/kernel:0' shape=(512, 512) dtype=float32_ref> because it is a reference variable. It may not be visible to training APIs. If this is a problem, consider rebuilding the SavedModel after running tf.compat.v1.enable_resource_variables().\n"
          ],
          "name": "stderr"
        },
        {
          "output_type": "stream",
          "text": [
            "WARNING:tensorflow:Unable to create a python object for variable <tf.Variable 'Encoder_en/Transformer/TransformerEncodeFast/encoder/layer_5/self_attention/multihead_attention/v/kernel:0' shape=(512, 512) dtype=float32_ref> because it is a reference variable. It may not be visible to training APIs. If this is a problem, consider rebuilding the SavedModel after running tf.compat.v1.enable_resource_variables().\n"
          ],
          "name": "stdout"
        },
        {
          "output_type": "stream",
          "text": [
            "WARNING:tensorflow:Unable to create a python object for variable <tf.Variable 'Encoder_en/Transformer/TransformerEncodeFast/encoder/layer_5/self_attention/multihead_attention/v/kernel:0' shape=(512, 512) dtype=float32_ref> because it is a reference variable. It may not be visible to training APIs. If this is a problem, consider rebuilding the SavedModel after running tf.compat.v1.enable_resource_variables().\n"
          ],
          "name": "stderr"
        },
        {
          "output_type": "stream",
          "text": [
            "WARNING:tensorflow:Unable to create a python object for variable <tf.Variable 'Encoder_en/Transformer/TransformerEncodeFast/encoder/layer_5/self_attention/multihead_attention/output_transform/kernel:0' shape=(512, 512) dtype=float32_ref> because it is a reference variable. It may not be visible to training APIs. If this is a problem, consider rebuilding the SavedModel after running tf.compat.v1.enable_resource_variables().\n"
          ],
          "name": "stdout"
        },
        {
          "output_type": "stream",
          "text": [
            "WARNING:tensorflow:Unable to create a python object for variable <tf.Variable 'Encoder_en/Transformer/TransformerEncodeFast/encoder/layer_5/self_attention/multihead_attention/output_transform/kernel:0' shape=(512, 512) dtype=float32_ref> because it is a reference variable. It may not be visible to training APIs. If this is a problem, consider rebuilding the SavedModel after running tf.compat.v1.enable_resource_variables().\n"
          ],
          "name": "stderr"
        },
        {
          "output_type": "stream",
          "text": [
            "WARNING:tensorflow:Unable to create a python object for variable <tf.Variable 'Encoder_en/Transformer/TransformerEncodeFast/encoder/layer_5/ffn/layer_prepostprocess/layer_norm/layer_norm_scale:0' shape=(512,) dtype=float32_ref> because it is a reference variable. It may not be visible to training APIs. If this is a problem, consider rebuilding the SavedModel after running tf.compat.v1.enable_resource_variables().\n"
          ],
          "name": "stdout"
        },
        {
          "output_type": "stream",
          "text": [
            "WARNING:tensorflow:Unable to create a python object for variable <tf.Variable 'Encoder_en/Transformer/TransformerEncodeFast/encoder/layer_5/ffn/layer_prepostprocess/layer_norm/layer_norm_scale:0' shape=(512,) dtype=float32_ref> because it is a reference variable. It may not be visible to training APIs. If this is a problem, consider rebuilding the SavedModel after running tf.compat.v1.enable_resource_variables().\n"
          ],
          "name": "stderr"
        },
        {
          "output_type": "stream",
          "text": [
            "WARNING:tensorflow:Unable to create a python object for variable <tf.Variable 'Encoder_en/Transformer/TransformerEncodeFast/encoder/layer_5/ffn/layer_prepostprocess/layer_norm/layer_norm_bias:0' shape=(512,) dtype=float32_ref> because it is a reference variable. It may not be visible to training APIs. If this is a problem, consider rebuilding the SavedModel after running tf.compat.v1.enable_resource_variables().\n"
          ],
          "name": "stdout"
        },
        {
          "output_type": "stream",
          "text": [
            "WARNING:tensorflow:Unable to create a python object for variable <tf.Variable 'Encoder_en/Transformer/TransformerEncodeFast/encoder/layer_5/ffn/layer_prepostprocess/layer_norm/layer_norm_bias:0' shape=(512,) dtype=float32_ref> because it is a reference variable. It may not be visible to training APIs. If this is a problem, consider rebuilding the SavedModel after running tf.compat.v1.enable_resource_variables().\n"
          ],
          "name": "stderr"
        },
        {
          "output_type": "stream",
          "text": [
            "WARNING:tensorflow:Unable to create a python object for variable <tf.Variable 'Encoder_en/Transformer/TransformerEncodeFast/encoder/layer_5/ffn/conv1/kernel:0' shape=(512, 2048) dtype=float32_ref> because it is a reference variable. It may not be visible to training APIs. If this is a problem, consider rebuilding the SavedModel after running tf.compat.v1.enable_resource_variables().\n"
          ],
          "name": "stdout"
        },
        {
          "output_type": "stream",
          "text": [
            "WARNING:tensorflow:Unable to create a python object for variable <tf.Variable 'Encoder_en/Transformer/TransformerEncodeFast/encoder/layer_5/ffn/conv1/kernel:0' shape=(512, 2048) dtype=float32_ref> because it is a reference variable. It may not be visible to training APIs. If this is a problem, consider rebuilding the SavedModel after running tf.compat.v1.enable_resource_variables().\n"
          ],
          "name": "stderr"
        },
        {
          "output_type": "stream",
          "text": [
            "WARNING:tensorflow:Unable to create a python object for variable <tf.Variable 'Encoder_en/Transformer/TransformerEncodeFast/encoder/layer_5/ffn/conv1/bias:0' shape=(2048,) dtype=float32_ref> because it is a reference variable. It may not be visible to training APIs. If this is a problem, consider rebuilding the SavedModel after running tf.compat.v1.enable_resource_variables().\n"
          ],
          "name": "stdout"
        },
        {
          "output_type": "stream",
          "text": [
            "WARNING:tensorflow:Unable to create a python object for variable <tf.Variable 'Encoder_en/Transformer/TransformerEncodeFast/encoder/layer_5/ffn/conv1/bias:0' shape=(2048,) dtype=float32_ref> because it is a reference variable. It may not be visible to training APIs. If this is a problem, consider rebuilding the SavedModel after running tf.compat.v1.enable_resource_variables().\n"
          ],
          "name": "stderr"
        },
        {
          "output_type": "stream",
          "text": [
            "WARNING:tensorflow:Unable to create a python object for variable <tf.Variable 'Encoder_en/Transformer/TransformerEncodeFast/encoder/layer_5/ffn/conv2/kernel:0' shape=(2048, 512) dtype=float32_ref> because it is a reference variable. It may not be visible to training APIs. If this is a problem, consider rebuilding the SavedModel after running tf.compat.v1.enable_resource_variables().\n"
          ],
          "name": "stdout"
        },
        {
          "output_type": "stream",
          "text": [
            "WARNING:tensorflow:Unable to create a python object for variable <tf.Variable 'Encoder_en/Transformer/TransformerEncodeFast/encoder/layer_5/ffn/conv2/kernel:0' shape=(2048, 512) dtype=float32_ref> because it is a reference variable. It may not be visible to training APIs. If this is a problem, consider rebuilding the SavedModel after running tf.compat.v1.enable_resource_variables().\n"
          ],
          "name": "stderr"
        },
        {
          "output_type": "stream",
          "text": [
            "WARNING:tensorflow:Unable to create a python object for variable <tf.Variable 'Encoder_en/Transformer/TransformerEncodeFast/encoder/layer_5/ffn/conv2/bias:0' shape=(512,) dtype=float32_ref> because it is a reference variable. It may not be visible to training APIs. If this is a problem, consider rebuilding the SavedModel after running tf.compat.v1.enable_resource_variables().\n"
          ],
          "name": "stdout"
        },
        {
          "output_type": "stream",
          "text": [
            "WARNING:tensorflow:Unable to create a python object for variable <tf.Variable 'Encoder_en/Transformer/TransformerEncodeFast/encoder/layer_5/ffn/conv2/bias:0' shape=(512,) dtype=float32_ref> because it is a reference variable. It may not be visible to training APIs. If this is a problem, consider rebuilding the SavedModel after running tf.compat.v1.enable_resource_variables().\n"
          ],
          "name": "stderr"
        },
        {
          "output_type": "stream",
          "text": [
            "WARNING:tensorflow:Unable to create a python object for variable <tf.Variable 'Encoder_en/Transformer/TransformerEncodeFast/encoder/layer_prepostprocess/layer_norm/layer_norm_scale:0' shape=(512,) dtype=float32_ref> because it is a reference variable. It may not be visible to training APIs. If this is a problem, consider rebuilding the SavedModel after running tf.compat.v1.enable_resource_variables().\n"
          ],
          "name": "stdout"
        },
        {
          "output_type": "stream",
          "text": [
            "WARNING:tensorflow:Unable to create a python object for variable <tf.Variable 'Encoder_en/Transformer/TransformerEncodeFast/encoder/layer_prepostprocess/layer_norm/layer_norm_scale:0' shape=(512,) dtype=float32_ref> because it is a reference variable. It may not be visible to training APIs. If this is a problem, consider rebuilding the SavedModel after running tf.compat.v1.enable_resource_variables().\n"
          ],
          "name": "stderr"
        },
        {
          "output_type": "stream",
          "text": [
            "WARNING:tensorflow:Unable to create a python object for variable <tf.Variable 'Encoder_en/Transformer/TransformerEncodeFast/encoder/layer_prepostprocess/layer_norm/layer_norm_bias:0' shape=(512,) dtype=float32_ref> because it is a reference variable. It may not be visible to training APIs. If this is a problem, consider rebuilding the SavedModel after running tf.compat.v1.enable_resource_variables().\n"
          ],
          "name": "stdout"
        },
        {
          "output_type": "stream",
          "text": [
            "WARNING:tensorflow:Unable to create a python object for variable <tf.Variable 'Encoder_en/Transformer/TransformerEncodeFast/encoder/layer_prepostprocess/layer_norm/layer_norm_bias:0' shape=(512,) dtype=float32_ref> because it is a reference variable. It may not be visible to training APIs. If this is a problem, consider rebuilding the SavedModel after running tf.compat.v1.enable_resource_variables().\n"
          ],
          "name": "stderr"
        },
        {
          "output_type": "stream",
          "text": [
            "WARNING:tensorflow:Unable to create a python object for variable <tf.Variable 'Encoder_en/hidden_layers/tanh_layer_0/dense/kernel:0' shape=(512, 512) dtype=float32_ref> because it is a reference variable. It may not be visible to training APIs. If this is a problem, consider rebuilding the SavedModel after running tf.compat.v1.enable_resource_variables().\n"
          ],
          "name": "stdout"
        },
        {
          "output_type": "stream",
          "text": [
            "WARNING:tensorflow:Unable to create a python object for variable <tf.Variable 'Encoder_en/hidden_layers/tanh_layer_0/dense/kernel:0' shape=(512, 512) dtype=float32_ref> because it is a reference variable. It may not be visible to training APIs. If this is a problem, consider rebuilding the SavedModel after running tf.compat.v1.enable_resource_variables().\n"
          ],
          "name": "stderr"
        },
        {
          "output_type": "stream",
          "text": [
            "WARNING:tensorflow:Unable to create a python object for variable <tf.Variable 'Encoder_en/hidden_layers/tanh_layer_0/dense/bias:0' shape=(512,) dtype=float32_ref> because it is a reference variable. It may not be visible to training APIs. If this is a problem, consider rebuilding the SavedModel after running tf.compat.v1.enable_resource_variables().\n"
          ],
          "name": "stdout"
        },
        {
          "output_type": "stream",
          "text": [
            "WARNING:tensorflow:Unable to create a python object for variable <tf.Variable 'Encoder_en/hidden_layers/tanh_layer_0/dense/bias:0' shape=(512,) dtype=float32_ref> because it is a reference variable. It may not be visible to training APIs. If this is a problem, consider rebuilding the SavedModel after running tf.compat.v1.enable_resource_variables().\n"
          ],
          "name": "stderr"
        },
        {
          "output_type": "stream",
          "text": [
            "WARNING:tensorflow:Unable to create a python object for variable <tf.Variable 'Embeddings_en/sharded_0:0' shape=(35297, 320) dtype=float32_ref> because it is a reference variable. It may not be visible to training APIs. If this is a problem, consider rebuilding the SavedModel after running tf.compat.v1.enable_resource_variables().\n"
          ],
          "name": "stdout"
        },
        {
          "output_type": "stream",
          "text": [
            "WARNING:tensorflow:Unable to create a python object for variable <tf.Variable 'Embeddings_en/sharded_0:0' shape=(35297, 320) dtype=float32_ref> because it is a reference variable. It may not be visible to training APIs. If this is a problem, consider rebuilding the SavedModel after running tf.compat.v1.enable_resource_variables().\n"
          ],
          "name": "stderr"
        },
        {
          "output_type": "stream",
          "text": [
            "WARNING:tensorflow:Unable to create a python object for variable <tf.Variable 'Embeddings_en/sharded_1:0' shape=(35297, 320) dtype=float32_ref> because it is a reference variable. It may not be visible to training APIs. If this is a problem, consider rebuilding the SavedModel after running tf.compat.v1.enable_resource_variables().\n"
          ],
          "name": "stdout"
        },
        {
          "output_type": "stream",
          "text": [
            "WARNING:tensorflow:Unable to create a python object for variable <tf.Variable 'Embeddings_en/sharded_1:0' shape=(35297, 320) dtype=float32_ref> because it is a reference variable. It may not be visible to training APIs. If this is a problem, consider rebuilding the SavedModel after running tf.compat.v1.enable_resource_variables().\n"
          ],
          "name": "stderr"
        },
        {
          "output_type": "stream",
          "text": [
            "WARNING:tensorflow:Unable to create a python object for variable <tf.Variable 'Embeddings_en/sharded_2:0' shape=(35297, 320) dtype=float32_ref> because it is a reference variable. It may not be visible to training APIs. If this is a problem, consider rebuilding the SavedModel after running tf.compat.v1.enable_resource_variables().\n"
          ],
          "name": "stdout"
        },
        {
          "output_type": "stream",
          "text": [
            "WARNING:tensorflow:Unable to create a python object for variable <tf.Variable 'Embeddings_en/sharded_2:0' shape=(35297, 320) dtype=float32_ref> because it is a reference variable. It may not be visible to training APIs. If this is a problem, consider rebuilding the SavedModel after running tf.compat.v1.enable_resource_variables().\n"
          ],
          "name": "stderr"
        },
        {
          "output_type": "stream",
          "text": [
            "WARNING:tensorflow:Unable to create a python object for variable <tf.Variable 'Embeddings_en/sharded_3:0' shape=(35297, 320) dtype=float32_ref> because it is a reference variable. It may not be visible to training APIs. If this is a problem, consider rebuilding the SavedModel after running tf.compat.v1.enable_resource_variables().\n"
          ],
          "name": "stdout"
        },
        {
          "output_type": "stream",
          "text": [
            "WARNING:tensorflow:Unable to create a python object for variable <tf.Variable 'Embeddings_en/sharded_3:0' shape=(35297, 320) dtype=float32_ref> because it is a reference variable. It may not be visible to training APIs. If this is a problem, consider rebuilding the SavedModel after running tf.compat.v1.enable_resource_variables().\n"
          ],
          "name": "stderr"
        },
        {
          "output_type": "stream",
          "text": [
            "WARNING:tensorflow:Unable to create a python object for variable <tf.Variable 'Embeddings_en/sharded_4:0' shape=(35297, 320) dtype=float32_ref> because it is a reference variable. It may not be visible to training APIs. If this is a problem, consider rebuilding the SavedModel after running tf.compat.v1.enable_resource_variables().\n"
          ],
          "name": "stdout"
        },
        {
          "output_type": "stream",
          "text": [
            "WARNING:tensorflow:Unable to create a python object for variable <tf.Variable 'Embeddings_en/sharded_4:0' shape=(35297, 320) dtype=float32_ref> because it is a reference variable. It may not be visible to training APIs. If this is a problem, consider rebuilding the SavedModel after running tf.compat.v1.enable_resource_variables().\n"
          ],
          "name": "stderr"
        },
        {
          "output_type": "stream",
          "text": [
            "WARNING:tensorflow:Unable to create a python object for variable <tf.Variable 'Embeddings_en/sharded_5:0' shape=(35297, 320) dtype=float32_ref> because it is a reference variable. It may not be visible to training APIs. If this is a problem, consider rebuilding the SavedModel after running tf.compat.v1.enable_resource_variables().\n"
          ],
          "name": "stdout"
        },
        {
          "output_type": "stream",
          "text": [
            "WARNING:tensorflow:Unable to create a python object for variable <tf.Variable 'Embeddings_en/sharded_5:0' shape=(35297, 320) dtype=float32_ref> because it is a reference variable. It may not be visible to training APIs. If this is a problem, consider rebuilding the SavedModel after running tf.compat.v1.enable_resource_variables().\n"
          ],
          "name": "stderr"
        },
        {
          "output_type": "stream",
          "text": [
            "WARNING:tensorflow:Unable to create a python object for variable <tf.Variable 'Embeddings_en/sharded_6:0' shape=(35297, 320) dtype=float32_ref> because it is a reference variable. It may not be visible to training APIs. If this is a problem, consider rebuilding the SavedModel after running tf.compat.v1.enable_resource_variables().\n"
          ],
          "name": "stdout"
        },
        {
          "output_type": "stream",
          "text": [
            "WARNING:tensorflow:Unable to create a python object for variable <tf.Variable 'Embeddings_en/sharded_6:0' shape=(35297, 320) dtype=float32_ref> because it is a reference variable. It may not be visible to training APIs. If this is a problem, consider rebuilding the SavedModel after running tf.compat.v1.enable_resource_variables().\n"
          ],
          "name": "stderr"
        },
        {
          "output_type": "stream",
          "text": [
            "WARNING:tensorflow:Unable to create a python object for variable <tf.Variable 'Embeddings_en/sharded_7:0' shape=(35297, 320) dtype=float32_ref> because it is a reference variable. It may not be visible to training APIs. If this is a problem, consider rebuilding the SavedModel after running tf.compat.v1.enable_resource_variables().\n"
          ],
          "name": "stdout"
        },
        {
          "output_type": "stream",
          "text": [
            "WARNING:tensorflow:Unable to create a python object for variable <tf.Variable 'Embeddings_en/sharded_7:0' shape=(35297, 320) dtype=float32_ref> because it is a reference variable. It may not be visible to training APIs. If this is a problem, consider rebuilding the SavedModel after running tf.compat.v1.enable_resource_variables().\n"
          ],
          "name": "stderr"
        },
        {
          "output_type": "stream",
          "text": [
            "WARNING:tensorflow:Unable to create a python object for variable <tf.Variable 'Embeddings_en/sharded_8:0' shape=(35297, 320) dtype=float32_ref> because it is a reference variable. It may not be visible to training APIs. If this is a problem, consider rebuilding the SavedModel after running tf.compat.v1.enable_resource_variables().\n"
          ],
          "name": "stdout"
        },
        {
          "output_type": "stream",
          "text": [
            "WARNING:tensorflow:Unable to create a python object for variable <tf.Variable 'Embeddings_en/sharded_8:0' shape=(35297, 320) dtype=float32_ref> because it is a reference variable. It may not be visible to training APIs. If this is a problem, consider rebuilding the SavedModel after running tf.compat.v1.enable_resource_variables().\n"
          ],
          "name": "stderr"
        },
        {
          "output_type": "stream",
          "text": [
            "WARNING:tensorflow:Unable to create a python object for variable <tf.Variable 'Embeddings_en/sharded_9:0' shape=(35297, 320) dtype=float32_ref> because it is a reference variable. It may not be visible to training APIs. If this is a problem, consider rebuilding the SavedModel after running tf.compat.v1.enable_resource_variables().\n"
          ],
          "name": "stdout"
        },
        {
          "output_type": "stream",
          "text": [
            "WARNING:tensorflow:Unable to create a python object for variable <tf.Variable 'Embeddings_en/sharded_9:0' shape=(35297, 320) dtype=float32_ref> because it is a reference variable. It may not be visible to training APIs. If this is a problem, consider rebuilding the SavedModel after running tf.compat.v1.enable_resource_variables().\n"
          ],
          "name": "stderr"
        },
        {
          "output_type": "stream",
          "text": [
            "WARNING:tensorflow:Unable to create a python object for variable <tf.Variable 'Embeddings_en/sharded_10:0' shape=(35297, 320) dtype=float32_ref> because it is a reference variable. It may not be visible to training APIs. If this is a problem, consider rebuilding the SavedModel after running tf.compat.v1.enable_resource_variables().\n"
          ],
          "name": "stdout"
        },
        {
          "output_type": "stream",
          "text": [
            "WARNING:tensorflow:Unable to create a python object for variable <tf.Variable 'Embeddings_en/sharded_10:0' shape=(35297, 320) dtype=float32_ref> because it is a reference variable. It may not be visible to training APIs. If this is a problem, consider rebuilding the SavedModel after running tf.compat.v1.enable_resource_variables().\n"
          ],
          "name": "stderr"
        },
        {
          "output_type": "stream",
          "text": [
            "WARNING:tensorflow:Unable to create a python object for variable <tf.Variable 'Embeddings_en/sharded_11:0' shape=(35297, 320) dtype=float32_ref> because it is a reference variable. It may not be visible to training APIs. If this is a problem, consider rebuilding the SavedModel after running tf.compat.v1.enable_resource_variables().\n"
          ],
          "name": "stdout"
        },
        {
          "output_type": "stream",
          "text": [
            "WARNING:tensorflow:Unable to create a python object for variable <tf.Variable 'Embeddings_en/sharded_11:0' shape=(35297, 320) dtype=float32_ref> because it is a reference variable. It may not be visible to training APIs. If this is a problem, consider rebuilding the SavedModel after running tf.compat.v1.enable_resource_variables().\n"
          ],
          "name": "stderr"
        },
        {
          "output_type": "stream",
          "text": [
            "WARNING:tensorflow:Unable to create a python object for variable <tf.Variable 'Embeddings_en/sharded_12:0' shape=(35297, 320) dtype=float32_ref> because it is a reference variable. It may not be visible to training APIs. If this is a problem, consider rebuilding the SavedModel after running tf.compat.v1.enable_resource_variables().\n"
          ],
          "name": "stdout"
        },
        {
          "output_type": "stream",
          "text": [
            "WARNING:tensorflow:Unable to create a python object for variable <tf.Variable 'Embeddings_en/sharded_12:0' shape=(35297, 320) dtype=float32_ref> because it is a reference variable. It may not be visible to training APIs. If this is a problem, consider rebuilding the SavedModel after running tf.compat.v1.enable_resource_variables().\n"
          ],
          "name": "stderr"
        },
        {
          "output_type": "stream",
          "text": [
            "WARNING:tensorflow:Unable to create a python object for variable <tf.Variable 'Embeddings_en/sharded_13:0' shape=(35297, 320) dtype=float32_ref> because it is a reference variable. It may not be visible to training APIs. If this is a problem, consider rebuilding the SavedModel after running tf.compat.v1.enable_resource_variables().\n"
          ],
          "name": "stdout"
        },
        {
          "output_type": "stream",
          "text": [
            "WARNING:tensorflow:Unable to create a python object for variable <tf.Variable 'Embeddings_en/sharded_13:0' shape=(35297, 320) dtype=float32_ref> because it is a reference variable. It may not be visible to training APIs. If this is a problem, consider rebuilding the SavedModel after running tf.compat.v1.enable_resource_variables().\n"
          ],
          "name": "stderr"
        },
        {
          "output_type": "stream",
          "text": [
            "WARNING:tensorflow:Unable to create a python object for variable <tf.Variable 'Embeddings_en/sharded_14:0' shape=(35297, 320) dtype=float32_ref> because it is a reference variable. It may not be visible to training APIs. If this is a problem, consider rebuilding the SavedModel after running tf.compat.v1.enable_resource_variables().\n"
          ],
          "name": "stdout"
        },
        {
          "output_type": "stream",
          "text": [
            "WARNING:tensorflow:Unable to create a python object for variable <tf.Variable 'Embeddings_en/sharded_14:0' shape=(35297, 320) dtype=float32_ref> because it is a reference variable. It may not be visible to training APIs. If this is a problem, consider rebuilding the SavedModel after running tf.compat.v1.enable_resource_variables().\n"
          ],
          "name": "stderr"
        },
        {
          "output_type": "stream",
          "text": [
            "WARNING:tensorflow:Unable to create a python object for variable <tf.Variable 'Embeddings_en/sharded_15:0' shape=(35297, 320) dtype=float32_ref> because it is a reference variable. It may not be visible to training APIs. If this is a problem, consider rebuilding the SavedModel after running tf.compat.v1.enable_resource_variables().\n"
          ],
          "name": "stdout"
        },
        {
          "output_type": "stream",
          "text": [
            "WARNING:tensorflow:Unable to create a python object for variable <tf.Variable 'Embeddings_en/sharded_15:0' shape=(35297, 320) dtype=float32_ref> because it is a reference variable. It may not be visible to training APIs. If this is a problem, consider rebuilding the SavedModel after running tf.compat.v1.enable_resource_variables().\n"
          ],
          "name": "stderr"
        },
        {
          "output_type": "stream",
          "text": [
            "WARNING:tensorflow:Unable to create a python object for variable <tf.Variable 'Embeddings_en/sharded_16:0' shape=(35297, 320) dtype=float32_ref> because it is a reference variable. It may not be visible to training APIs. If this is a problem, consider rebuilding the SavedModel after running tf.compat.v1.enable_resource_variables().\n"
          ],
          "name": "stdout"
        },
        {
          "output_type": "stream",
          "text": [
            "WARNING:tensorflow:Unable to create a python object for variable <tf.Variable 'Embeddings_en/sharded_16:0' shape=(35297, 320) dtype=float32_ref> because it is a reference variable. It may not be visible to training APIs. If this is a problem, consider rebuilding the SavedModel after running tf.compat.v1.enable_resource_variables().\n"
          ],
          "name": "stderr"
        },
        {
          "output_type": "stream",
          "text": [
            "WARNING:tensorflow:Unable to create a python object for variable <tf.Variable 'Encoder_en/Transformer/dense/kernel:0' shape=(320, 512) dtype=float32_ref> because it is a reference variable. It may not be visible to training APIs. If this is a problem, consider rebuilding the SavedModel after running tf.compat.v1.enable_resource_variables().\n"
          ],
          "name": "stdout"
        },
        {
          "output_type": "stream",
          "text": [
            "WARNING:tensorflow:Unable to create a python object for variable <tf.Variable 'Encoder_en/Transformer/dense/kernel:0' shape=(320, 512) dtype=float32_ref> because it is a reference variable. It may not be visible to training APIs. If this is a problem, consider rebuilding the SavedModel after running tf.compat.v1.enable_resource_variables().\n"
          ],
          "name": "stderr"
        },
        {
          "output_type": "stream",
          "text": [
            "WARNING:tensorflow:Unable to create a python object for variable <tf.Variable 'Encoder_en/Transformer/dense/bias:0' shape=(512,) dtype=float32_ref> because it is a reference variable. It may not be visible to training APIs. If this is a problem, consider rebuilding the SavedModel after running tf.compat.v1.enable_resource_variables().\n"
          ],
          "name": "stdout"
        },
        {
          "output_type": "stream",
          "text": [
            "WARNING:tensorflow:Unable to create a python object for variable <tf.Variable 'Encoder_en/Transformer/dense/bias:0' shape=(512,) dtype=float32_ref> because it is a reference variable. It may not be visible to training APIs. If this is a problem, consider rebuilding the SavedModel after running tf.compat.v1.enable_resource_variables().\n"
          ],
          "name": "stderr"
        },
        {
          "output_type": "stream",
          "text": [
            "WARNING:tensorflow:Unable to create a python object for variable <tf.Variable 'Encoder_en/Transformer/TransformerEncodeFast/encoder/layer_0/self_attention/layer_prepostprocess/layer_norm/layer_norm_scale:0' shape=(512,) dtype=float32_ref> because it is a reference variable. It may not be visible to training APIs. If this is a problem, consider rebuilding the SavedModel after running tf.compat.v1.enable_resource_variables().\n"
          ],
          "name": "stdout"
        },
        {
          "output_type": "stream",
          "text": [
            "WARNING:tensorflow:Unable to create a python object for variable <tf.Variable 'Encoder_en/Transformer/TransformerEncodeFast/encoder/layer_0/self_attention/layer_prepostprocess/layer_norm/layer_norm_scale:0' shape=(512,) dtype=float32_ref> because it is a reference variable. It may not be visible to training APIs. If this is a problem, consider rebuilding the SavedModel after running tf.compat.v1.enable_resource_variables().\n"
          ],
          "name": "stderr"
        },
        {
          "output_type": "stream",
          "text": [
            "WARNING:tensorflow:Unable to create a python object for variable <tf.Variable 'Encoder_en/Transformer/TransformerEncodeFast/encoder/layer_0/self_attention/layer_prepostprocess/layer_norm/layer_norm_bias:0' shape=(512,) dtype=float32_ref> because it is a reference variable. It may not be visible to training APIs. If this is a problem, consider rebuilding the SavedModel after running tf.compat.v1.enable_resource_variables().\n"
          ],
          "name": "stdout"
        },
        {
          "output_type": "stream",
          "text": [
            "WARNING:tensorflow:Unable to create a python object for variable <tf.Variable 'Encoder_en/Transformer/TransformerEncodeFast/encoder/layer_0/self_attention/layer_prepostprocess/layer_norm/layer_norm_bias:0' shape=(512,) dtype=float32_ref> because it is a reference variable. It may not be visible to training APIs. If this is a problem, consider rebuilding the SavedModel after running tf.compat.v1.enable_resource_variables().\n"
          ],
          "name": "stderr"
        },
        {
          "output_type": "stream",
          "text": [
            "WARNING:tensorflow:Unable to create a python object for variable <tf.Variable 'Encoder_en/Transformer/TransformerEncodeFast/encoder/layer_0/self_attention/multihead_attention/q/kernel:0' shape=(512, 512) dtype=float32_ref> because it is a reference variable. It may not be visible to training APIs. If this is a problem, consider rebuilding the SavedModel after running tf.compat.v1.enable_resource_variables().\n"
          ],
          "name": "stdout"
        },
        {
          "output_type": "stream",
          "text": [
            "WARNING:tensorflow:Unable to create a python object for variable <tf.Variable 'Encoder_en/Transformer/TransformerEncodeFast/encoder/layer_0/self_attention/multihead_attention/q/kernel:0' shape=(512, 512) dtype=float32_ref> because it is a reference variable. It may not be visible to training APIs. If this is a problem, consider rebuilding the SavedModel after running tf.compat.v1.enable_resource_variables().\n"
          ],
          "name": "stderr"
        },
        {
          "output_type": "stream",
          "text": [
            "WARNING:tensorflow:Unable to create a python object for variable <tf.Variable 'Encoder_en/Transformer/TransformerEncodeFast/encoder/layer_0/self_attention/multihead_attention/k/kernel:0' shape=(512, 512) dtype=float32_ref> because it is a reference variable. It may not be visible to training APIs. If this is a problem, consider rebuilding the SavedModel after running tf.compat.v1.enable_resource_variables().\n"
          ],
          "name": "stdout"
        },
        {
          "output_type": "stream",
          "text": [
            "WARNING:tensorflow:Unable to create a python object for variable <tf.Variable 'Encoder_en/Transformer/TransformerEncodeFast/encoder/layer_0/self_attention/multihead_attention/k/kernel:0' shape=(512, 512) dtype=float32_ref> because it is a reference variable. It may not be visible to training APIs. If this is a problem, consider rebuilding the SavedModel after running tf.compat.v1.enable_resource_variables().\n"
          ],
          "name": "stderr"
        },
        {
          "output_type": "stream",
          "text": [
            "WARNING:tensorflow:Unable to create a python object for variable <tf.Variable 'Encoder_en/Transformer/TransformerEncodeFast/encoder/layer_0/self_attention/multihead_attention/v/kernel:0' shape=(512, 512) dtype=float32_ref> because it is a reference variable. It may not be visible to training APIs. If this is a problem, consider rebuilding the SavedModel after running tf.compat.v1.enable_resource_variables().\n"
          ],
          "name": "stdout"
        },
        {
          "output_type": "stream",
          "text": [
            "WARNING:tensorflow:Unable to create a python object for variable <tf.Variable 'Encoder_en/Transformer/TransformerEncodeFast/encoder/layer_0/self_attention/multihead_attention/v/kernel:0' shape=(512, 512) dtype=float32_ref> because it is a reference variable. It may not be visible to training APIs. If this is a problem, consider rebuilding the SavedModel after running tf.compat.v1.enable_resource_variables().\n"
          ],
          "name": "stderr"
        },
        {
          "output_type": "stream",
          "text": [
            "WARNING:tensorflow:Unable to create a python object for variable <tf.Variable 'Encoder_en/Transformer/TransformerEncodeFast/encoder/layer_0/self_attention/multihead_attention/output_transform/kernel:0' shape=(512, 512) dtype=float32_ref> because it is a reference variable. It may not be visible to training APIs. If this is a problem, consider rebuilding the SavedModel after running tf.compat.v1.enable_resource_variables().\n"
          ],
          "name": "stdout"
        },
        {
          "output_type": "stream",
          "text": [
            "WARNING:tensorflow:Unable to create a python object for variable <tf.Variable 'Encoder_en/Transformer/TransformerEncodeFast/encoder/layer_0/self_attention/multihead_attention/output_transform/kernel:0' shape=(512, 512) dtype=float32_ref> because it is a reference variable. It may not be visible to training APIs. If this is a problem, consider rebuilding the SavedModel after running tf.compat.v1.enable_resource_variables().\n"
          ],
          "name": "stderr"
        },
        {
          "output_type": "stream",
          "text": [
            "WARNING:tensorflow:Unable to create a python object for variable <tf.Variable 'Encoder_en/Transformer/TransformerEncodeFast/encoder/layer_0/ffn/layer_prepostprocess/layer_norm/layer_norm_scale:0' shape=(512,) dtype=float32_ref> because it is a reference variable. It may not be visible to training APIs. If this is a problem, consider rebuilding the SavedModel after running tf.compat.v1.enable_resource_variables().\n"
          ],
          "name": "stdout"
        },
        {
          "output_type": "stream",
          "text": [
            "WARNING:tensorflow:Unable to create a python object for variable <tf.Variable 'Encoder_en/Transformer/TransformerEncodeFast/encoder/layer_0/ffn/layer_prepostprocess/layer_norm/layer_norm_scale:0' shape=(512,) dtype=float32_ref> because it is a reference variable. It may not be visible to training APIs. If this is a problem, consider rebuilding the SavedModel after running tf.compat.v1.enable_resource_variables().\n"
          ],
          "name": "stderr"
        },
        {
          "output_type": "stream",
          "text": [
            "WARNING:tensorflow:Unable to create a python object for variable <tf.Variable 'Encoder_en/Transformer/TransformerEncodeFast/encoder/layer_0/ffn/layer_prepostprocess/layer_norm/layer_norm_bias:0' shape=(512,) dtype=float32_ref> because it is a reference variable. It may not be visible to training APIs. If this is a problem, consider rebuilding the SavedModel after running tf.compat.v1.enable_resource_variables().\n"
          ],
          "name": "stdout"
        },
        {
          "output_type": "stream",
          "text": [
            "WARNING:tensorflow:Unable to create a python object for variable <tf.Variable 'Encoder_en/Transformer/TransformerEncodeFast/encoder/layer_0/ffn/layer_prepostprocess/layer_norm/layer_norm_bias:0' shape=(512,) dtype=float32_ref> because it is a reference variable. It may not be visible to training APIs. If this is a problem, consider rebuilding the SavedModel after running tf.compat.v1.enable_resource_variables().\n"
          ],
          "name": "stderr"
        },
        {
          "output_type": "stream",
          "text": [
            "WARNING:tensorflow:Unable to create a python object for variable <tf.Variable 'Encoder_en/Transformer/TransformerEncodeFast/encoder/layer_0/ffn/conv1/kernel:0' shape=(512, 2048) dtype=float32_ref> because it is a reference variable. It may not be visible to training APIs. If this is a problem, consider rebuilding the SavedModel after running tf.compat.v1.enable_resource_variables().\n"
          ],
          "name": "stdout"
        },
        {
          "output_type": "stream",
          "text": [
            "WARNING:tensorflow:Unable to create a python object for variable <tf.Variable 'Encoder_en/Transformer/TransformerEncodeFast/encoder/layer_0/ffn/conv1/kernel:0' shape=(512, 2048) dtype=float32_ref> because it is a reference variable. It may not be visible to training APIs. If this is a problem, consider rebuilding the SavedModel after running tf.compat.v1.enable_resource_variables().\n"
          ],
          "name": "stderr"
        },
        {
          "output_type": "stream",
          "text": [
            "WARNING:tensorflow:Unable to create a python object for variable <tf.Variable 'Encoder_en/Transformer/TransformerEncodeFast/encoder/layer_0/ffn/conv1/bias:0' shape=(2048,) dtype=float32_ref> because it is a reference variable. It may not be visible to training APIs. If this is a problem, consider rebuilding the SavedModel after running tf.compat.v1.enable_resource_variables().\n"
          ],
          "name": "stdout"
        },
        {
          "output_type": "stream",
          "text": [
            "WARNING:tensorflow:Unable to create a python object for variable <tf.Variable 'Encoder_en/Transformer/TransformerEncodeFast/encoder/layer_0/ffn/conv1/bias:0' shape=(2048,) dtype=float32_ref> because it is a reference variable. It may not be visible to training APIs. If this is a problem, consider rebuilding the SavedModel after running tf.compat.v1.enable_resource_variables().\n"
          ],
          "name": "stderr"
        },
        {
          "output_type": "stream",
          "text": [
            "WARNING:tensorflow:Unable to create a python object for variable <tf.Variable 'Encoder_en/Transformer/TransformerEncodeFast/encoder/layer_0/ffn/conv2/kernel:0' shape=(2048, 512) dtype=float32_ref> because it is a reference variable. It may not be visible to training APIs. If this is a problem, consider rebuilding the SavedModel after running tf.compat.v1.enable_resource_variables().\n"
          ],
          "name": "stdout"
        },
        {
          "output_type": "stream",
          "text": [
            "WARNING:tensorflow:Unable to create a python object for variable <tf.Variable 'Encoder_en/Transformer/TransformerEncodeFast/encoder/layer_0/ffn/conv2/kernel:0' shape=(2048, 512) dtype=float32_ref> because it is a reference variable. It may not be visible to training APIs. If this is a problem, consider rebuilding the SavedModel after running tf.compat.v1.enable_resource_variables().\n"
          ],
          "name": "stderr"
        },
        {
          "output_type": "stream",
          "text": [
            "WARNING:tensorflow:Unable to create a python object for variable <tf.Variable 'Encoder_en/Transformer/TransformerEncodeFast/encoder/layer_0/ffn/conv2/bias:0' shape=(512,) dtype=float32_ref> because it is a reference variable. It may not be visible to training APIs. If this is a problem, consider rebuilding the SavedModel after running tf.compat.v1.enable_resource_variables().\n"
          ],
          "name": "stdout"
        },
        {
          "output_type": "stream",
          "text": [
            "WARNING:tensorflow:Unable to create a python object for variable <tf.Variable 'Encoder_en/Transformer/TransformerEncodeFast/encoder/layer_0/ffn/conv2/bias:0' shape=(512,) dtype=float32_ref> because it is a reference variable. It may not be visible to training APIs. If this is a problem, consider rebuilding the SavedModel after running tf.compat.v1.enable_resource_variables().\n"
          ],
          "name": "stderr"
        },
        {
          "output_type": "stream",
          "text": [
            "WARNING:tensorflow:Unable to create a python object for variable <tf.Variable 'Encoder_en/Transformer/TransformerEncodeFast/encoder/layer_1/self_attention/layer_prepostprocess/layer_norm/layer_norm_scale:0' shape=(512,) dtype=float32_ref> because it is a reference variable. It may not be visible to training APIs. If this is a problem, consider rebuilding the SavedModel after running tf.compat.v1.enable_resource_variables().\n"
          ],
          "name": "stdout"
        },
        {
          "output_type": "stream",
          "text": [
            "WARNING:tensorflow:Unable to create a python object for variable <tf.Variable 'Encoder_en/Transformer/TransformerEncodeFast/encoder/layer_1/self_attention/layer_prepostprocess/layer_norm/layer_norm_scale:0' shape=(512,) dtype=float32_ref> because it is a reference variable. It may not be visible to training APIs. If this is a problem, consider rebuilding the SavedModel after running tf.compat.v1.enable_resource_variables().\n"
          ],
          "name": "stderr"
        },
        {
          "output_type": "stream",
          "text": [
            "WARNING:tensorflow:Unable to create a python object for variable <tf.Variable 'Encoder_en/Transformer/TransformerEncodeFast/encoder/layer_1/self_attention/layer_prepostprocess/layer_norm/layer_norm_bias:0' shape=(512,) dtype=float32_ref> because it is a reference variable. It may not be visible to training APIs. If this is a problem, consider rebuilding the SavedModel after running tf.compat.v1.enable_resource_variables().\n"
          ],
          "name": "stdout"
        },
        {
          "output_type": "stream",
          "text": [
            "WARNING:tensorflow:Unable to create a python object for variable <tf.Variable 'Encoder_en/Transformer/TransformerEncodeFast/encoder/layer_1/self_attention/layer_prepostprocess/layer_norm/layer_norm_bias:0' shape=(512,) dtype=float32_ref> because it is a reference variable. It may not be visible to training APIs. If this is a problem, consider rebuilding the SavedModel after running tf.compat.v1.enable_resource_variables().\n"
          ],
          "name": "stderr"
        },
        {
          "output_type": "stream",
          "text": [
            "WARNING:tensorflow:Unable to create a python object for variable <tf.Variable 'Encoder_en/Transformer/TransformerEncodeFast/encoder/layer_1/self_attention/multihead_attention/q/kernel:0' shape=(512, 512) dtype=float32_ref> because it is a reference variable. It may not be visible to training APIs. If this is a problem, consider rebuilding the SavedModel after running tf.compat.v1.enable_resource_variables().\n"
          ],
          "name": "stdout"
        },
        {
          "output_type": "stream",
          "text": [
            "WARNING:tensorflow:Unable to create a python object for variable <tf.Variable 'Encoder_en/Transformer/TransformerEncodeFast/encoder/layer_1/self_attention/multihead_attention/q/kernel:0' shape=(512, 512) dtype=float32_ref> because it is a reference variable. It may not be visible to training APIs. If this is a problem, consider rebuilding the SavedModel after running tf.compat.v1.enable_resource_variables().\n"
          ],
          "name": "stderr"
        },
        {
          "output_type": "stream",
          "text": [
            "WARNING:tensorflow:Unable to create a python object for variable <tf.Variable 'Encoder_en/Transformer/TransformerEncodeFast/encoder/layer_1/self_attention/multihead_attention/k/kernel:0' shape=(512, 512) dtype=float32_ref> because it is a reference variable. It may not be visible to training APIs. If this is a problem, consider rebuilding the SavedModel after running tf.compat.v1.enable_resource_variables().\n"
          ],
          "name": "stdout"
        },
        {
          "output_type": "stream",
          "text": [
            "WARNING:tensorflow:Unable to create a python object for variable <tf.Variable 'Encoder_en/Transformer/TransformerEncodeFast/encoder/layer_1/self_attention/multihead_attention/k/kernel:0' shape=(512, 512) dtype=float32_ref> because it is a reference variable. It may not be visible to training APIs. If this is a problem, consider rebuilding the SavedModel after running tf.compat.v1.enable_resource_variables().\n"
          ],
          "name": "stderr"
        },
        {
          "output_type": "stream",
          "text": [
            "WARNING:tensorflow:Unable to create a python object for variable <tf.Variable 'Encoder_en/Transformer/TransformerEncodeFast/encoder/layer_1/self_attention/multihead_attention/v/kernel:0' shape=(512, 512) dtype=float32_ref> because it is a reference variable. It may not be visible to training APIs. If this is a problem, consider rebuilding the SavedModel after running tf.compat.v1.enable_resource_variables().\n"
          ],
          "name": "stdout"
        },
        {
          "output_type": "stream",
          "text": [
            "WARNING:tensorflow:Unable to create a python object for variable <tf.Variable 'Encoder_en/Transformer/TransformerEncodeFast/encoder/layer_1/self_attention/multihead_attention/v/kernel:0' shape=(512, 512) dtype=float32_ref> because it is a reference variable. It may not be visible to training APIs. If this is a problem, consider rebuilding the SavedModel after running tf.compat.v1.enable_resource_variables().\n"
          ],
          "name": "stderr"
        },
        {
          "output_type": "stream",
          "text": [
            "WARNING:tensorflow:Unable to create a python object for variable <tf.Variable 'Encoder_en/Transformer/TransformerEncodeFast/encoder/layer_1/self_attention/multihead_attention/output_transform/kernel:0' shape=(512, 512) dtype=float32_ref> because it is a reference variable. It may not be visible to training APIs. If this is a problem, consider rebuilding the SavedModel after running tf.compat.v1.enable_resource_variables().\n"
          ],
          "name": "stdout"
        },
        {
          "output_type": "stream",
          "text": [
            "WARNING:tensorflow:Unable to create a python object for variable <tf.Variable 'Encoder_en/Transformer/TransformerEncodeFast/encoder/layer_1/self_attention/multihead_attention/output_transform/kernel:0' shape=(512, 512) dtype=float32_ref> because it is a reference variable. It may not be visible to training APIs. If this is a problem, consider rebuilding the SavedModel after running tf.compat.v1.enable_resource_variables().\n"
          ],
          "name": "stderr"
        },
        {
          "output_type": "stream",
          "text": [
            "WARNING:tensorflow:Unable to create a python object for variable <tf.Variable 'Encoder_en/Transformer/TransformerEncodeFast/encoder/layer_1/ffn/layer_prepostprocess/layer_norm/layer_norm_scale:0' shape=(512,) dtype=float32_ref> because it is a reference variable. It may not be visible to training APIs. If this is a problem, consider rebuilding the SavedModel after running tf.compat.v1.enable_resource_variables().\n"
          ],
          "name": "stdout"
        },
        {
          "output_type": "stream",
          "text": [
            "WARNING:tensorflow:Unable to create a python object for variable <tf.Variable 'Encoder_en/Transformer/TransformerEncodeFast/encoder/layer_1/ffn/layer_prepostprocess/layer_norm/layer_norm_scale:0' shape=(512,) dtype=float32_ref> because it is a reference variable. It may not be visible to training APIs. If this is a problem, consider rebuilding the SavedModel after running tf.compat.v1.enable_resource_variables().\n"
          ],
          "name": "stderr"
        },
        {
          "output_type": "stream",
          "text": [
            "WARNING:tensorflow:Unable to create a python object for variable <tf.Variable 'Encoder_en/Transformer/TransformerEncodeFast/encoder/layer_1/ffn/layer_prepostprocess/layer_norm/layer_norm_bias:0' shape=(512,) dtype=float32_ref> because it is a reference variable. It may not be visible to training APIs. If this is a problem, consider rebuilding the SavedModel after running tf.compat.v1.enable_resource_variables().\n"
          ],
          "name": "stdout"
        },
        {
          "output_type": "stream",
          "text": [
            "WARNING:tensorflow:Unable to create a python object for variable <tf.Variable 'Encoder_en/Transformer/TransformerEncodeFast/encoder/layer_1/ffn/layer_prepostprocess/layer_norm/layer_norm_bias:0' shape=(512,) dtype=float32_ref> because it is a reference variable. It may not be visible to training APIs. If this is a problem, consider rebuilding the SavedModel after running tf.compat.v1.enable_resource_variables().\n"
          ],
          "name": "stderr"
        },
        {
          "output_type": "stream",
          "text": [
            "WARNING:tensorflow:Unable to create a python object for variable <tf.Variable 'Encoder_en/Transformer/TransformerEncodeFast/encoder/layer_1/ffn/conv1/kernel:0' shape=(512, 2048) dtype=float32_ref> because it is a reference variable. It may not be visible to training APIs. If this is a problem, consider rebuilding the SavedModel after running tf.compat.v1.enable_resource_variables().\n"
          ],
          "name": "stdout"
        },
        {
          "output_type": "stream",
          "text": [
            "WARNING:tensorflow:Unable to create a python object for variable <tf.Variable 'Encoder_en/Transformer/TransformerEncodeFast/encoder/layer_1/ffn/conv1/kernel:0' shape=(512, 2048) dtype=float32_ref> because it is a reference variable. It may not be visible to training APIs. If this is a problem, consider rebuilding the SavedModel after running tf.compat.v1.enable_resource_variables().\n"
          ],
          "name": "stderr"
        },
        {
          "output_type": "stream",
          "text": [
            "WARNING:tensorflow:Unable to create a python object for variable <tf.Variable 'Encoder_en/Transformer/TransformerEncodeFast/encoder/layer_1/ffn/conv1/bias:0' shape=(2048,) dtype=float32_ref> because it is a reference variable. It may not be visible to training APIs. If this is a problem, consider rebuilding the SavedModel after running tf.compat.v1.enable_resource_variables().\n"
          ],
          "name": "stdout"
        },
        {
          "output_type": "stream",
          "text": [
            "WARNING:tensorflow:Unable to create a python object for variable <tf.Variable 'Encoder_en/Transformer/TransformerEncodeFast/encoder/layer_1/ffn/conv1/bias:0' shape=(2048,) dtype=float32_ref> because it is a reference variable. It may not be visible to training APIs. If this is a problem, consider rebuilding the SavedModel after running tf.compat.v1.enable_resource_variables().\n"
          ],
          "name": "stderr"
        },
        {
          "output_type": "stream",
          "text": [
            "WARNING:tensorflow:Unable to create a python object for variable <tf.Variable 'Encoder_en/Transformer/TransformerEncodeFast/encoder/layer_1/ffn/conv2/kernel:0' shape=(2048, 512) dtype=float32_ref> because it is a reference variable. It may not be visible to training APIs. If this is a problem, consider rebuilding the SavedModel after running tf.compat.v1.enable_resource_variables().\n"
          ],
          "name": "stdout"
        },
        {
          "output_type": "stream",
          "text": [
            "WARNING:tensorflow:Unable to create a python object for variable <tf.Variable 'Encoder_en/Transformer/TransformerEncodeFast/encoder/layer_1/ffn/conv2/kernel:0' shape=(2048, 512) dtype=float32_ref> because it is a reference variable. It may not be visible to training APIs. If this is a problem, consider rebuilding the SavedModel after running tf.compat.v1.enable_resource_variables().\n"
          ],
          "name": "stderr"
        },
        {
          "output_type": "stream",
          "text": [
            "WARNING:tensorflow:Unable to create a python object for variable <tf.Variable 'Encoder_en/Transformer/TransformerEncodeFast/encoder/layer_1/ffn/conv2/bias:0' shape=(512,) dtype=float32_ref> because it is a reference variable. It may not be visible to training APIs. If this is a problem, consider rebuilding the SavedModel after running tf.compat.v1.enable_resource_variables().\n"
          ],
          "name": "stdout"
        },
        {
          "output_type": "stream",
          "text": [
            "WARNING:tensorflow:Unable to create a python object for variable <tf.Variable 'Encoder_en/Transformer/TransformerEncodeFast/encoder/layer_1/ffn/conv2/bias:0' shape=(512,) dtype=float32_ref> because it is a reference variable. It may not be visible to training APIs. If this is a problem, consider rebuilding the SavedModel after running tf.compat.v1.enable_resource_variables().\n"
          ],
          "name": "stderr"
        },
        {
          "output_type": "stream",
          "text": [
            "WARNING:tensorflow:Unable to create a python object for variable <tf.Variable 'Encoder_en/Transformer/TransformerEncodeFast/encoder/layer_2/self_attention/layer_prepostprocess/layer_norm/layer_norm_scale:0' shape=(512,) dtype=float32_ref> because it is a reference variable. It may not be visible to training APIs. If this is a problem, consider rebuilding the SavedModel after running tf.compat.v1.enable_resource_variables().\n"
          ],
          "name": "stdout"
        },
        {
          "output_type": "stream",
          "text": [
            "WARNING:tensorflow:Unable to create a python object for variable <tf.Variable 'Encoder_en/Transformer/TransformerEncodeFast/encoder/layer_2/self_attention/layer_prepostprocess/layer_norm/layer_norm_scale:0' shape=(512,) dtype=float32_ref> because it is a reference variable. It may not be visible to training APIs. If this is a problem, consider rebuilding the SavedModel after running tf.compat.v1.enable_resource_variables().\n"
          ],
          "name": "stderr"
        },
        {
          "output_type": "stream",
          "text": [
            "WARNING:tensorflow:Unable to create a python object for variable <tf.Variable 'Encoder_en/Transformer/TransformerEncodeFast/encoder/layer_2/self_attention/layer_prepostprocess/layer_norm/layer_norm_bias:0' shape=(512,) dtype=float32_ref> because it is a reference variable. It may not be visible to training APIs. If this is a problem, consider rebuilding the SavedModel after running tf.compat.v1.enable_resource_variables().\n"
          ],
          "name": "stdout"
        },
        {
          "output_type": "stream",
          "text": [
            "WARNING:tensorflow:Unable to create a python object for variable <tf.Variable 'Encoder_en/Transformer/TransformerEncodeFast/encoder/layer_2/self_attention/layer_prepostprocess/layer_norm/layer_norm_bias:0' shape=(512,) dtype=float32_ref> because it is a reference variable. It may not be visible to training APIs. If this is a problem, consider rebuilding the SavedModel after running tf.compat.v1.enable_resource_variables().\n"
          ],
          "name": "stderr"
        },
        {
          "output_type": "stream",
          "text": [
            "WARNING:tensorflow:Unable to create a python object for variable <tf.Variable 'Encoder_en/Transformer/TransformerEncodeFast/encoder/layer_2/self_attention/multihead_attention/q/kernel:0' shape=(512, 512) dtype=float32_ref> because it is a reference variable. It may not be visible to training APIs. If this is a problem, consider rebuilding the SavedModel after running tf.compat.v1.enable_resource_variables().\n"
          ],
          "name": "stdout"
        },
        {
          "output_type": "stream",
          "text": [
            "WARNING:tensorflow:Unable to create a python object for variable <tf.Variable 'Encoder_en/Transformer/TransformerEncodeFast/encoder/layer_2/self_attention/multihead_attention/q/kernel:0' shape=(512, 512) dtype=float32_ref> because it is a reference variable. It may not be visible to training APIs. If this is a problem, consider rebuilding the SavedModel after running tf.compat.v1.enable_resource_variables().\n"
          ],
          "name": "stderr"
        },
        {
          "output_type": "stream",
          "text": [
            "WARNING:tensorflow:Unable to create a python object for variable <tf.Variable 'Encoder_en/Transformer/TransformerEncodeFast/encoder/layer_2/self_attention/multihead_attention/k/kernel:0' shape=(512, 512) dtype=float32_ref> because it is a reference variable. It may not be visible to training APIs. If this is a problem, consider rebuilding the SavedModel after running tf.compat.v1.enable_resource_variables().\n"
          ],
          "name": "stdout"
        },
        {
          "output_type": "stream",
          "text": [
            "WARNING:tensorflow:Unable to create a python object for variable <tf.Variable 'Encoder_en/Transformer/TransformerEncodeFast/encoder/layer_2/self_attention/multihead_attention/k/kernel:0' shape=(512, 512) dtype=float32_ref> because it is a reference variable. It may not be visible to training APIs. If this is a problem, consider rebuilding the SavedModel after running tf.compat.v1.enable_resource_variables().\n"
          ],
          "name": "stderr"
        },
        {
          "output_type": "stream",
          "text": [
            "WARNING:tensorflow:Unable to create a python object for variable <tf.Variable 'Encoder_en/Transformer/TransformerEncodeFast/encoder/layer_2/self_attention/multihead_attention/v/kernel:0' shape=(512, 512) dtype=float32_ref> because it is a reference variable. It may not be visible to training APIs. If this is a problem, consider rebuilding the SavedModel after running tf.compat.v1.enable_resource_variables().\n"
          ],
          "name": "stdout"
        },
        {
          "output_type": "stream",
          "text": [
            "WARNING:tensorflow:Unable to create a python object for variable <tf.Variable 'Encoder_en/Transformer/TransformerEncodeFast/encoder/layer_2/self_attention/multihead_attention/v/kernel:0' shape=(512, 512) dtype=float32_ref> because it is a reference variable. It may not be visible to training APIs. If this is a problem, consider rebuilding the SavedModel after running tf.compat.v1.enable_resource_variables().\n"
          ],
          "name": "stderr"
        },
        {
          "output_type": "stream",
          "text": [
            "WARNING:tensorflow:Unable to create a python object for variable <tf.Variable 'Encoder_en/Transformer/TransformerEncodeFast/encoder/layer_2/self_attention/multihead_attention/output_transform/kernel:0' shape=(512, 512) dtype=float32_ref> because it is a reference variable. It may not be visible to training APIs. If this is a problem, consider rebuilding the SavedModel after running tf.compat.v1.enable_resource_variables().\n"
          ],
          "name": "stdout"
        },
        {
          "output_type": "stream",
          "text": [
            "WARNING:tensorflow:Unable to create a python object for variable <tf.Variable 'Encoder_en/Transformer/TransformerEncodeFast/encoder/layer_2/self_attention/multihead_attention/output_transform/kernel:0' shape=(512, 512) dtype=float32_ref> because it is a reference variable. It may not be visible to training APIs. If this is a problem, consider rebuilding the SavedModel after running tf.compat.v1.enable_resource_variables().\n"
          ],
          "name": "stderr"
        },
        {
          "output_type": "stream",
          "text": [
            "WARNING:tensorflow:Unable to create a python object for variable <tf.Variable 'Encoder_en/Transformer/TransformerEncodeFast/encoder/layer_2/ffn/layer_prepostprocess/layer_norm/layer_norm_scale:0' shape=(512,) dtype=float32_ref> because it is a reference variable. It may not be visible to training APIs. If this is a problem, consider rebuilding the SavedModel after running tf.compat.v1.enable_resource_variables().\n"
          ],
          "name": "stdout"
        },
        {
          "output_type": "stream",
          "text": [
            "WARNING:tensorflow:Unable to create a python object for variable <tf.Variable 'Encoder_en/Transformer/TransformerEncodeFast/encoder/layer_2/ffn/layer_prepostprocess/layer_norm/layer_norm_scale:0' shape=(512,) dtype=float32_ref> because it is a reference variable. It may not be visible to training APIs. If this is a problem, consider rebuilding the SavedModel after running tf.compat.v1.enable_resource_variables().\n"
          ],
          "name": "stderr"
        },
        {
          "output_type": "stream",
          "text": [
            "WARNING:tensorflow:Unable to create a python object for variable <tf.Variable 'Encoder_en/Transformer/TransformerEncodeFast/encoder/layer_2/ffn/layer_prepostprocess/layer_norm/layer_norm_bias:0' shape=(512,) dtype=float32_ref> because it is a reference variable. It may not be visible to training APIs. If this is a problem, consider rebuilding the SavedModel after running tf.compat.v1.enable_resource_variables().\n"
          ],
          "name": "stdout"
        },
        {
          "output_type": "stream",
          "text": [
            "WARNING:tensorflow:Unable to create a python object for variable <tf.Variable 'Encoder_en/Transformer/TransformerEncodeFast/encoder/layer_2/ffn/layer_prepostprocess/layer_norm/layer_norm_bias:0' shape=(512,) dtype=float32_ref> because it is a reference variable. It may not be visible to training APIs. If this is a problem, consider rebuilding the SavedModel after running tf.compat.v1.enable_resource_variables().\n"
          ],
          "name": "stderr"
        },
        {
          "output_type": "stream",
          "text": [
            "WARNING:tensorflow:Unable to create a python object for variable <tf.Variable 'Encoder_en/Transformer/TransformerEncodeFast/encoder/layer_2/ffn/conv1/kernel:0' shape=(512, 2048) dtype=float32_ref> because it is a reference variable. It may not be visible to training APIs. If this is a problem, consider rebuilding the SavedModel after running tf.compat.v1.enable_resource_variables().\n"
          ],
          "name": "stdout"
        },
        {
          "output_type": "stream",
          "text": [
            "WARNING:tensorflow:Unable to create a python object for variable <tf.Variable 'Encoder_en/Transformer/TransformerEncodeFast/encoder/layer_2/ffn/conv1/kernel:0' shape=(512, 2048) dtype=float32_ref> because it is a reference variable. It may not be visible to training APIs. If this is a problem, consider rebuilding the SavedModel after running tf.compat.v1.enable_resource_variables().\n"
          ],
          "name": "stderr"
        },
        {
          "output_type": "stream",
          "text": [
            "WARNING:tensorflow:Unable to create a python object for variable <tf.Variable 'Encoder_en/Transformer/TransformerEncodeFast/encoder/layer_2/ffn/conv1/bias:0' shape=(2048,) dtype=float32_ref> because it is a reference variable. It may not be visible to training APIs. If this is a problem, consider rebuilding the SavedModel after running tf.compat.v1.enable_resource_variables().\n"
          ],
          "name": "stdout"
        },
        {
          "output_type": "stream",
          "text": [
            "WARNING:tensorflow:Unable to create a python object for variable <tf.Variable 'Encoder_en/Transformer/TransformerEncodeFast/encoder/layer_2/ffn/conv1/bias:0' shape=(2048,) dtype=float32_ref> because it is a reference variable. It may not be visible to training APIs. If this is a problem, consider rebuilding the SavedModel after running tf.compat.v1.enable_resource_variables().\n"
          ],
          "name": "stderr"
        },
        {
          "output_type": "stream",
          "text": [
            "WARNING:tensorflow:Unable to create a python object for variable <tf.Variable 'Encoder_en/Transformer/TransformerEncodeFast/encoder/layer_2/ffn/conv2/kernel:0' shape=(2048, 512) dtype=float32_ref> because it is a reference variable. It may not be visible to training APIs. If this is a problem, consider rebuilding the SavedModel after running tf.compat.v1.enable_resource_variables().\n"
          ],
          "name": "stdout"
        },
        {
          "output_type": "stream",
          "text": [
            "WARNING:tensorflow:Unable to create a python object for variable <tf.Variable 'Encoder_en/Transformer/TransformerEncodeFast/encoder/layer_2/ffn/conv2/kernel:0' shape=(2048, 512) dtype=float32_ref> because it is a reference variable. It may not be visible to training APIs. If this is a problem, consider rebuilding the SavedModel after running tf.compat.v1.enable_resource_variables().\n"
          ],
          "name": "stderr"
        },
        {
          "output_type": "stream",
          "text": [
            "WARNING:tensorflow:Unable to create a python object for variable <tf.Variable 'Encoder_en/Transformer/TransformerEncodeFast/encoder/layer_2/ffn/conv2/bias:0' shape=(512,) dtype=float32_ref> because it is a reference variable. It may not be visible to training APIs. If this is a problem, consider rebuilding the SavedModel after running tf.compat.v1.enable_resource_variables().\n"
          ],
          "name": "stdout"
        },
        {
          "output_type": "stream",
          "text": [
            "WARNING:tensorflow:Unable to create a python object for variable <tf.Variable 'Encoder_en/Transformer/TransformerEncodeFast/encoder/layer_2/ffn/conv2/bias:0' shape=(512,) dtype=float32_ref> because it is a reference variable. It may not be visible to training APIs. If this is a problem, consider rebuilding the SavedModel after running tf.compat.v1.enable_resource_variables().\n"
          ],
          "name": "stderr"
        },
        {
          "output_type": "stream",
          "text": [
            "WARNING:tensorflow:Unable to create a python object for variable <tf.Variable 'Encoder_en/Transformer/TransformerEncodeFast/encoder/layer_3/self_attention/layer_prepostprocess/layer_norm/layer_norm_scale:0' shape=(512,) dtype=float32_ref> because it is a reference variable. It may not be visible to training APIs. If this is a problem, consider rebuilding the SavedModel after running tf.compat.v1.enable_resource_variables().\n"
          ],
          "name": "stdout"
        },
        {
          "output_type": "stream",
          "text": [
            "WARNING:tensorflow:Unable to create a python object for variable <tf.Variable 'Encoder_en/Transformer/TransformerEncodeFast/encoder/layer_3/self_attention/layer_prepostprocess/layer_norm/layer_norm_scale:0' shape=(512,) dtype=float32_ref> because it is a reference variable. It may not be visible to training APIs. If this is a problem, consider rebuilding the SavedModel after running tf.compat.v1.enable_resource_variables().\n"
          ],
          "name": "stderr"
        },
        {
          "output_type": "stream",
          "text": [
            "WARNING:tensorflow:Unable to create a python object for variable <tf.Variable 'Encoder_en/Transformer/TransformerEncodeFast/encoder/layer_3/self_attention/layer_prepostprocess/layer_norm/layer_norm_bias:0' shape=(512,) dtype=float32_ref> because it is a reference variable. It may not be visible to training APIs. If this is a problem, consider rebuilding the SavedModel after running tf.compat.v1.enable_resource_variables().\n"
          ],
          "name": "stdout"
        },
        {
          "output_type": "stream",
          "text": [
            "WARNING:tensorflow:Unable to create a python object for variable <tf.Variable 'Encoder_en/Transformer/TransformerEncodeFast/encoder/layer_3/self_attention/layer_prepostprocess/layer_norm/layer_norm_bias:0' shape=(512,) dtype=float32_ref> because it is a reference variable. It may not be visible to training APIs. If this is a problem, consider rebuilding the SavedModel after running tf.compat.v1.enable_resource_variables().\n"
          ],
          "name": "stderr"
        },
        {
          "output_type": "stream",
          "text": [
            "WARNING:tensorflow:Unable to create a python object for variable <tf.Variable 'Encoder_en/Transformer/TransformerEncodeFast/encoder/layer_3/self_attention/multihead_attention/q/kernel:0' shape=(512, 512) dtype=float32_ref> because it is a reference variable. It may not be visible to training APIs. If this is a problem, consider rebuilding the SavedModel after running tf.compat.v1.enable_resource_variables().\n"
          ],
          "name": "stdout"
        },
        {
          "output_type": "stream",
          "text": [
            "WARNING:tensorflow:Unable to create a python object for variable <tf.Variable 'Encoder_en/Transformer/TransformerEncodeFast/encoder/layer_3/self_attention/multihead_attention/q/kernel:0' shape=(512, 512) dtype=float32_ref> because it is a reference variable. It may not be visible to training APIs. If this is a problem, consider rebuilding the SavedModel after running tf.compat.v1.enable_resource_variables().\n"
          ],
          "name": "stderr"
        },
        {
          "output_type": "stream",
          "text": [
            "WARNING:tensorflow:Unable to create a python object for variable <tf.Variable 'Encoder_en/Transformer/TransformerEncodeFast/encoder/layer_3/self_attention/multihead_attention/k/kernel:0' shape=(512, 512) dtype=float32_ref> because it is a reference variable. It may not be visible to training APIs. If this is a problem, consider rebuilding the SavedModel after running tf.compat.v1.enable_resource_variables().\n"
          ],
          "name": "stdout"
        },
        {
          "output_type": "stream",
          "text": [
            "WARNING:tensorflow:Unable to create a python object for variable <tf.Variable 'Encoder_en/Transformer/TransformerEncodeFast/encoder/layer_3/self_attention/multihead_attention/k/kernel:0' shape=(512, 512) dtype=float32_ref> because it is a reference variable. It may not be visible to training APIs. If this is a problem, consider rebuilding the SavedModel after running tf.compat.v1.enable_resource_variables().\n"
          ],
          "name": "stderr"
        },
        {
          "output_type": "stream",
          "text": [
            "WARNING:tensorflow:Unable to create a python object for variable <tf.Variable 'Encoder_en/Transformer/TransformerEncodeFast/encoder/layer_3/self_attention/multihead_attention/v/kernel:0' shape=(512, 512) dtype=float32_ref> because it is a reference variable. It may not be visible to training APIs. If this is a problem, consider rebuilding the SavedModel after running tf.compat.v1.enable_resource_variables().\n"
          ],
          "name": "stdout"
        },
        {
          "output_type": "stream",
          "text": [
            "WARNING:tensorflow:Unable to create a python object for variable <tf.Variable 'Encoder_en/Transformer/TransformerEncodeFast/encoder/layer_3/self_attention/multihead_attention/v/kernel:0' shape=(512, 512) dtype=float32_ref> because it is a reference variable. It may not be visible to training APIs. If this is a problem, consider rebuilding the SavedModel after running tf.compat.v1.enable_resource_variables().\n"
          ],
          "name": "stderr"
        },
        {
          "output_type": "stream",
          "text": [
            "WARNING:tensorflow:Unable to create a python object for variable <tf.Variable 'Encoder_en/Transformer/TransformerEncodeFast/encoder/layer_3/self_attention/multihead_attention/output_transform/kernel:0' shape=(512, 512) dtype=float32_ref> because it is a reference variable. It may not be visible to training APIs. If this is a problem, consider rebuilding the SavedModel after running tf.compat.v1.enable_resource_variables().\n"
          ],
          "name": "stdout"
        },
        {
          "output_type": "stream",
          "text": [
            "WARNING:tensorflow:Unable to create a python object for variable <tf.Variable 'Encoder_en/Transformer/TransformerEncodeFast/encoder/layer_3/self_attention/multihead_attention/output_transform/kernel:0' shape=(512, 512) dtype=float32_ref> because it is a reference variable. It may not be visible to training APIs. If this is a problem, consider rebuilding the SavedModel after running tf.compat.v1.enable_resource_variables().\n"
          ],
          "name": "stderr"
        },
        {
          "output_type": "stream",
          "text": [
            "WARNING:tensorflow:Unable to create a python object for variable <tf.Variable 'Encoder_en/Transformer/TransformerEncodeFast/encoder/layer_3/ffn/layer_prepostprocess/layer_norm/layer_norm_scale:0' shape=(512,) dtype=float32_ref> because it is a reference variable. It may not be visible to training APIs. If this is a problem, consider rebuilding the SavedModel after running tf.compat.v1.enable_resource_variables().\n"
          ],
          "name": "stdout"
        },
        {
          "output_type": "stream",
          "text": [
            "WARNING:tensorflow:Unable to create a python object for variable <tf.Variable 'Encoder_en/Transformer/TransformerEncodeFast/encoder/layer_3/ffn/layer_prepostprocess/layer_norm/layer_norm_scale:0' shape=(512,) dtype=float32_ref> because it is a reference variable. It may not be visible to training APIs. If this is a problem, consider rebuilding the SavedModel after running tf.compat.v1.enable_resource_variables().\n"
          ],
          "name": "stderr"
        },
        {
          "output_type": "stream",
          "text": [
            "WARNING:tensorflow:Unable to create a python object for variable <tf.Variable 'Encoder_en/Transformer/TransformerEncodeFast/encoder/layer_3/ffn/layer_prepostprocess/layer_norm/layer_norm_bias:0' shape=(512,) dtype=float32_ref> because it is a reference variable. It may not be visible to training APIs. If this is a problem, consider rebuilding the SavedModel after running tf.compat.v1.enable_resource_variables().\n"
          ],
          "name": "stdout"
        },
        {
          "output_type": "stream",
          "text": [
            "WARNING:tensorflow:Unable to create a python object for variable <tf.Variable 'Encoder_en/Transformer/TransformerEncodeFast/encoder/layer_3/ffn/layer_prepostprocess/layer_norm/layer_norm_bias:0' shape=(512,) dtype=float32_ref> because it is a reference variable. It may not be visible to training APIs. If this is a problem, consider rebuilding the SavedModel after running tf.compat.v1.enable_resource_variables().\n"
          ],
          "name": "stderr"
        },
        {
          "output_type": "stream",
          "text": [
            "WARNING:tensorflow:Unable to create a python object for variable <tf.Variable 'Encoder_en/Transformer/TransformerEncodeFast/encoder/layer_3/ffn/conv1/kernel:0' shape=(512, 2048) dtype=float32_ref> because it is a reference variable. It may not be visible to training APIs. If this is a problem, consider rebuilding the SavedModel after running tf.compat.v1.enable_resource_variables().\n"
          ],
          "name": "stdout"
        },
        {
          "output_type": "stream",
          "text": [
            "WARNING:tensorflow:Unable to create a python object for variable <tf.Variable 'Encoder_en/Transformer/TransformerEncodeFast/encoder/layer_3/ffn/conv1/kernel:0' shape=(512, 2048) dtype=float32_ref> because it is a reference variable. It may not be visible to training APIs. If this is a problem, consider rebuilding the SavedModel after running tf.compat.v1.enable_resource_variables().\n"
          ],
          "name": "stderr"
        },
        {
          "output_type": "stream",
          "text": [
            "WARNING:tensorflow:Unable to create a python object for variable <tf.Variable 'Encoder_en/Transformer/TransformerEncodeFast/encoder/layer_3/ffn/conv1/bias:0' shape=(2048,) dtype=float32_ref> because it is a reference variable. It may not be visible to training APIs. If this is a problem, consider rebuilding the SavedModel after running tf.compat.v1.enable_resource_variables().\n"
          ],
          "name": "stdout"
        },
        {
          "output_type": "stream",
          "text": [
            "WARNING:tensorflow:Unable to create a python object for variable <tf.Variable 'Encoder_en/Transformer/TransformerEncodeFast/encoder/layer_3/ffn/conv1/bias:0' shape=(2048,) dtype=float32_ref> because it is a reference variable. It may not be visible to training APIs. If this is a problem, consider rebuilding the SavedModel after running tf.compat.v1.enable_resource_variables().\n"
          ],
          "name": "stderr"
        },
        {
          "output_type": "stream",
          "text": [
            "WARNING:tensorflow:Unable to create a python object for variable <tf.Variable 'Encoder_en/Transformer/TransformerEncodeFast/encoder/layer_3/ffn/conv2/kernel:0' shape=(2048, 512) dtype=float32_ref> because it is a reference variable. It may not be visible to training APIs. If this is a problem, consider rebuilding the SavedModel after running tf.compat.v1.enable_resource_variables().\n"
          ],
          "name": "stdout"
        },
        {
          "output_type": "stream",
          "text": [
            "WARNING:tensorflow:Unable to create a python object for variable <tf.Variable 'Encoder_en/Transformer/TransformerEncodeFast/encoder/layer_3/ffn/conv2/kernel:0' shape=(2048, 512) dtype=float32_ref> because it is a reference variable. It may not be visible to training APIs. If this is a problem, consider rebuilding the SavedModel after running tf.compat.v1.enable_resource_variables().\n"
          ],
          "name": "stderr"
        },
        {
          "output_type": "stream",
          "text": [
            "WARNING:tensorflow:Unable to create a python object for variable <tf.Variable 'Encoder_en/Transformer/TransformerEncodeFast/encoder/layer_3/ffn/conv2/bias:0' shape=(512,) dtype=float32_ref> because it is a reference variable. It may not be visible to training APIs. If this is a problem, consider rebuilding the SavedModel after running tf.compat.v1.enable_resource_variables().\n"
          ],
          "name": "stdout"
        },
        {
          "output_type": "stream",
          "text": [
            "WARNING:tensorflow:Unable to create a python object for variable <tf.Variable 'Encoder_en/Transformer/TransformerEncodeFast/encoder/layer_3/ffn/conv2/bias:0' shape=(512,) dtype=float32_ref> because it is a reference variable. It may not be visible to training APIs. If this is a problem, consider rebuilding the SavedModel after running tf.compat.v1.enable_resource_variables().\n"
          ],
          "name": "stderr"
        },
        {
          "output_type": "stream",
          "text": [
            "WARNING:tensorflow:Unable to create a python object for variable <tf.Variable 'Encoder_en/Transformer/TransformerEncodeFast/encoder/layer_4/self_attention/layer_prepostprocess/layer_norm/layer_norm_scale:0' shape=(512,) dtype=float32_ref> because it is a reference variable. It may not be visible to training APIs. If this is a problem, consider rebuilding the SavedModel after running tf.compat.v1.enable_resource_variables().\n"
          ],
          "name": "stdout"
        },
        {
          "output_type": "stream",
          "text": [
            "WARNING:tensorflow:Unable to create a python object for variable <tf.Variable 'Encoder_en/Transformer/TransformerEncodeFast/encoder/layer_4/self_attention/layer_prepostprocess/layer_norm/layer_norm_scale:0' shape=(512,) dtype=float32_ref> because it is a reference variable. It may not be visible to training APIs. If this is a problem, consider rebuilding the SavedModel after running tf.compat.v1.enable_resource_variables().\n"
          ],
          "name": "stderr"
        },
        {
          "output_type": "stream",
          "text": [
            "WARNING:tensorflow:Unable to create a python object for variable <tf.Variable 'Encoder_en/Transformer/TransformerEncodeFast/encoder/layer_4/self_attention/layer_prepostprocess/layer_norm/layer_norm_bias:0' shape=(512,) dtype=float32_ref> because it is a reference variable. It may not be visible to training APIs. If this is a problem, consider rebuilding the SavedModel after running tf.compat.v1.enable_resource_variables().\n"
          ],
          "name": "stdout"
        },
        {
          "output_type": "stream",
          "text": [
            "WARNING:tensorflow:Unable to create a python object for variable <tf.Variable 'Encoder_en/Transformer/TransformerEncodeFast/encoder/layer_4/self_attention/layer_prepostprocess/layer_norm/layer_norm_bias:0' shape=(512,) dtype=float32_ref> because it is a reference variable. It may not be visible to training APIs. If this is a problem, consider rebuilding the SavedModel after running tf.compat.v1.enable_resource_variables().\n"
          ],
          "name": "stderr"
        },
        {
          "output_type": "stream",
          "text": [
            "WARNING:tensorflow:Unable to create a python object for variable <tf.Variable 'Encoder_en/Transformer/TransformerEncodeFast/encoder/layer_4/self_attention/multihead_attention/q/kernel:0' shape=(512, 512) dtype=float32_ref> because it is a reference variable. It may not be visible to training APIs. If this is a problem, consider rebuilding the SavedModel after running tf.compat.v1.enable_resource_variables().\n"
          ],
          "name": "stdout"
        },
        {
          "output_type": "stream",
          "text": [
            "WARNING:tensorflow:Unable to create a python object for variable <tf.Variable 'Encoder_en/Transformer/TransformerEncodeFast/encoder/layer_4/self_attention/multihead_attention/q/kernel:0' shape=(512, 512) dtype=float32_ref> because it is a reference variable. It may not be visible to training APIs. If this is a problem, consider rebuilding the SavedModel after running tf.compat.v1.enable_resource_variables().\n"
          ],
          "name": "stderr"
        },
        {
          "output_type": "stream",
          "text": [
            "WARNING:tensorflow:Unable to create a python object for variable <tf.Variable 'Encoder_en/Transformer/TransformerEncodeFast/encoder/layer_4/self_attention/multihead_attention/k/kernel:0' shape=(512, 512) dtype=float32_ref> because it is a reference variable. It may not be visible to training APIs. If this is a problem, consider rebuilding the SavedModel after running tf.compat.v1.enable_resource_variables().\n"
          ],
          "name": "stdout"
        },
        {
          "output_type": "stream",
          "text": [
            "WARNING:tensorflow:Unable to create a python object for variable <tf.Variable 'Encoder_en/Transformer/TransformerEncodeFast/encoder/layer_4/self_attention/multihead_attention/k/kernel:0' shape=(512, 512) dtype=float32_ref> because it is a reference variable. It may not be visible to training APIs. If this is a problem, consider rebuilding the SavedModel after running tf.compat.v1.enable_resource_variables().\n"
          ],
          "name": "stderr"
        },
        {
          "output_type": "stream",
          "text": [
            "WARNING:tensorflow:Unable to create a python object for variable <tf.Variable 'Encoder_en/Transformer/TransformerEncodeFast/encoder/layer_4/self_attention/multihead_attention/v/kernel:0' shape=(512, 512) dtype=float32_ref> because it is a reference variable. It may not be visible to training APIs. If this is a problem, consider rebuilding the SavedModel after running tf.compat.v1.enable_resource_variables().\n"
          ],
          "name": "stdout"
        },
        {
          "output_type": "stream",
          "text": [
            "WARNING:tensorflow:Unable to create a python object for variable <tf.Variable 'Encoder_en/Transformer/TransformerEncodeFast/encoder/layer_4/self_attention/multihead_attention/v/kernel:0' shape=(512, 512) dtype=float32_ref> because it is a reference variable. It may not be visible to training APIs. If this is a problem, consider rebuilding the SavedModel after running tf.compat.v1.enable_resource_variables().\n"
          ],
          "name": "stderr"
        },
        {
          "output_type": "stream",
          "text": [
            "WARNING:tensorflow:Unable to create a python object for variable <tf.Variable 'Encoder_en/Transformer/TransformerEncodeFast/encoder/layer_4/self_attention/multihead_attention/output_transform/kernel:0' shape=(512, 512) dtype=float32_ref> because it is a reference variable. It may not be visible to training APIs. If this is a problem, consider rebuilding the SavedModel after running tf.compat.v1.enable_resource_variables().\n"
          ],
          "name": "stdout"
        },
        {
          "output_type": "stream",
          "text": [
            "WARNING:tensorflow:Unable to create a python object for variable <tf.Variable 'Encoder_en/Transformer/TransformerEncodeFast/encoder/layer_4/self_attention/multihead_attention/output_transform/kernel:0' shape=(512, 512) dtype=float32_ref> because it is a reference variable. It may not be visible to training APIs. If this is a problem, consider rebuilding the SavedModel after running tf.compat.v1.enable_resource_variables().\n"
          ],
          "name": "stderr"
        },
        {
          "output_type": "stream",
          "text": [
            "WARNING:tensorflow:Unable to create a python object for variable <tf.Variable 'Encoder_en/Transformer/TransformerEncodeFast/encoder/layer_4/ffn/layer_prepostprocess/layer_norm/layer_norm_scale:0' shape=(512,) dtype=float32_ref> because it is a reference variable. It may not be visible to training APIs. If this is a problem, consider rebuilding the SavedModel after running tf.compat.v1.enable_resource_variables().\n"
          ],
          "name": "stdout"
        },
        {
          "output_type": "stream",
          "text": [
            "WARNING:tensorflow:Unable to create a python object for variable <tf.Variable 'Encoder_en/Transformer/TransformerEncodeFast/encoder/layer_4/ffn/layer_prepostprocess/layer_norm/layer_norm_scale:0' shape=(512,) dtype=float32_ref> because it is a reference variable. It may not be visible to training APIs. If this is a problem, consider rebuilding the SavedModel after running tf.compat.v1.enable_resource_variables().\n"
          ],
          "name": "stderr"
        },
        {
          "output_type": "stream",
          "text": [
            "WARNING:tensorflow:Unable to create a python object for variable <tf.Variable 'Encoder_en/Transformer/TransformerEncodeFast/encoder/layer_4/ffn/layer_prepostprocess/layer_norm/layer_norm_bias:0' shape=(512,) dtype=float32_ref> because it is a reference variable. It may not be visible to training APIs. If this is a problem, consider rebuilding the SavedModel after running tf.compat.v1.enable_resource_variables().\n"
          ],
          "name": "stdout"
        },
        {
          "output_type": "stream",
          "text": [
            "WARNING:tensorflow:Unable to create a python object for variable <tf.Variable 'Encoder_en/Transformer/TransformerEncodeFast/encoder/layer_4/ffn/layer_prepostprocess/layer_norm/layer_norm_bias:0' shape=(512,) dtype=float32_ref> because it is a reference variable. It may not be visible to training APIs. If this is a problem, consider rebuilding the SavedModel after running tf.compat.v1.enable_resource_variables().\n"
          ],
          "name": "stderr"
        },
        {
          "output_type": "stream",
          "text": [
            "WARNING:tensorflow:Unable to create a python object for variable <tf.Variable 'Encoder_en/Transformer/TransformerEncodeFast/encoder/layer_4/ffn/conv1/kernel:0' shape=(512, 2048) dtype=float32_ref> because it is a reference variable. It may not be visible to training APIs. If this is a problem, consider rebuilding the SavedModel after running tf.compat.v1.enable_resource_variables().\n"
          ],
          "name": "stdout"
        },
        {
          "output_type": "stream",
          "text": [
            "WARNING:tensorflow:Unable to create a python object for variable <tf.Variable 'Encoder_en/Transformer/TransformerEncodeFast/encoder/layer_4/ffn/conv1/kernel:0' shape=(512, 2048) dtype=float32_ref> because it is a reference variable. It may not be visible to training APIs. If this is a problem, consider rebuilding the SavedModel after running tf.compat.v1.enable_resource_variables().\n"
          ],
          "name": "stderr"
        },
        {
          "output_type": "stream",
          "text": [
            "WARNING:tensorflow:Unable to create a python object for variable <tf.Variable 'Encoder_en/Transformer/TransformerEncodeFast/encoder/layer_4/ffn/conv1/bias:0' shape=(2048,) dtype=float32_ref> because it is a reference variable. It may not be visible to training APIs. If this is a problem, consider rebuilding the SavedModel after running tf.compat.v1.enable_resource_variables().\n"
          ],
          "name": "stdout"
        },
        {
          "output_type": "stream",
          "text": [
            "WARNING:tensorflow:Unable to create a python object for variable <tf.Variable 'Encoder_en/Transformer/TransformerEncodeFast/encoder/layer_4/ffn/conv1/bias:0' shape=(2048,) dtype=float32_ref> because it is a reference variable. It may not be visible to training APIs. If this is a problem, consider rebuilding the SavedModel after running tf.compat.v1.enable_resource_variables().\n"
          ],
          "name": "stderr"
        },
        {
          "output_type": "stream",
          "text": [
            "WARNING:tensorflow:Unable to create a python object for variable <tf.Variable 'Encoder_en/Transformer/TransformerEncodeFast/encoder/layer_4/ffn/conv2/kernel:0' shape=(2048, 512) dtype=float32_ref> because it is a reference variable. It may not be visible to training APIs. If this is a problem, consider rebuilding the SavedModel after running tf.compat.v1.enable_resource_variables().\n"
          ],
          "name": "stdout"
        },
        {
          "output_type": "stream",
          "text": [
            "WARNING:tensorflow:Unable to create a python object for variable <tf.Variable 'Encoder_en/Transformer/TransformerEncodeFast/encoder/layer_4/ffn/conv2/kernel:0' shape=(2048, 512) dtype=float32_ref> because it is a reference variable. It may not be visible to training APIs. If this is a problem, consider rebuilding the SavedModel after running tf.compat.v1.enable_resource_variables().\n"
          ],
          "name": "stderr"
        },
        {
          "output_type": "stream",
          "text": [
            "WARNING:tensorflow:Unable to create a python object for variable <tf.Variable 'Encoder_en/Transformer/TransformerEncodeFast/encoder/layer_4/ffn/conv2/bias:0' shape=(512,) dtype=float32_ref> because it is a reference variable. It may not be visible to training APIs. If this is a problem, consider rebuilding the SavedModel after running tf.compat.v1.enable_resource_variables().\n"
          ],
          "name": "stdout"
        },
        {
          "output_type": "stream",
          "text": [
            "WARNING:tensorflow:Unable to create a python object for variable <tf.Variable 'Encoder_en/Transformer/TransformerEncodeFast/encoder/layer_4/ffn/conv2/bias:0' shape=(512,) dtype=float32_ref> because it is a reference variable. It may not be visible to training APIs. If this is a problem, consider rebuilding the SavedModel after running tf.compat.v1.enable_resource_variables().\n"
          ],
          "name": "stderr"
        },
        {
          "output_type": "stream",
          "text": [
            "WARNING:tensorflow:Unable to create a python object for variable <tf.Variable 'Encoder_en/Transformer/TransformerEncodeFast/encoder/layer_5/self_attention/layer_prepostprocess/layer_norm/layer_norm_scale:0' shape=(512,) dtype=float32_ref> because it is a reference variable. It may not be visible to training APIs. If this is a problem, consider rebuilding the SavedModel after running tf.compat.v1.enable_resource_variables().\n"
          ],
          "name": "stdout"
        },
        {
          "output_type": "stream",
          "text": [
            "WARNING:tensorflow:Unable to create a python object for variable <tf.Variable 'Encoder_en/Transformer/TransformerEncodeFast/encoder/layer_5/self_attention/layer_prepostprocess/layer_norm/layer_norm_scale:0' shape=(512,) dtype=float32_ref> because it is a reference variable. It may not be visible to training APIs. If this is a problem, consider rebuilding the SavedModel after running tf.compat.v1.enable_resource_variables().\n"
          ],
          "name": "stderr"
        },
        {
          "output_type": "stream",
          "text": [
            "WARNING:tensorflow:Unable to create a python object for variable <tf.Variable 'Encoder_en/Transformer/TransformerEncodeFast/encoder/layer_5/self_attention/layer_prepostprocess/layer_norm/layer_norm_bias:0' shape=(512,) dtype=float32_ref> because it is a reference variable. It may not be visible to training APIs. If this is a problem, consider rebuilding the SavedModel after running tf.compat.v1.enable_resource_variables().\n"
          ],
          "name": "stdout"
        },
        {
          "output_type": "stream",
          "text": [
            "WARNING:tensorflow:Unable to create a python object for variable <tf.Variable 'Encoder_en/Transformer/TransformerEncodeFast/encoder/layer_5/self_attention/layer_prepostprocess/layer_norm/layer_norm_bias:0' shape=(512,) dtype=float32_ref> because it is a reference variable. It may not be visible to training APIs. If this is a problem, consider rebuilding the SavedModel after running tf.compat.v1.enable_resource_variables().\n"
          ],
          "name": "stderr"
        },
        {
          "output_type": "stream",
          "text": [
            "WARNING:tensorflow:Unable to create a python object for variable <tf.Variable 'Encoder_en/Transformer/TransformerEncodeFast/encoder/layer_5/self_attention/multihead_attention/q/kernel:0' shape=(512, 512) dtype=float32_ref> because it is a reference variable. It may not be visible to training APIs. If this is a problem, consider rebuilding the SavedModel after running tf.compat.v1.enable_resource_variables().\n"
          ],
          "name": "stdout"
        },
        {
          "output_type": "stream",
          "text": [
            "WARNING:tensorflow:Unable to create a python object for variable <tf.Variable 'Encoder_en/Transformer/TransformerEncodeFast/encoder/layer_5/self_attention/multihead_attention/q/kernel:0' shape=(512, 512) dtype=float32_ref> because it is a reference variable. It may not be visible to training APIs. If this is a problem, consider rebuilding the SavedModel after running tf.compat.v1.enable_resource_variables().\n"
          ],
          "name": "stderr"
        },
        {
          "output_type": "stream",
          "text": [
            "WARNING:tensorflow:Unable to create a python object for variable <tf.Variable 'Encoder_en/Transformer/TransformerEncodeFast/encoder/layer_5/self_attention/multihead_attention/k/kernel:0' shape=(512, 512) dtype=float32_ref> because it is a reference variable. It may not be visible to training APIs. If this is a problem, consider rebuilding the SavedModel after running tf.compat.v1.enable_resource_variables().\n"
          ],
          "name": "stdout"
        },
        {
          "output_type": "stream",
          "text": [
            "WARNING:tensorflow:Unable to create a python object for variable <tf.Variable 'Encoder_en/Transformer/TransformerEncodeFast/encoder/layer_5/self_attention/multihead_attention/k/kernel:0' shape=(512, 512) dtype=float32_ref> because it is a reference variable. It may not be visible to training APIs. If this is a problem, consider rebuilding the SavedModel after running tf.compat.v1.enable_resource_variables().\n"
          ],
          "name": "stderr"
        },
        {
          "output_type": "stream",
          "text": [
            "WARNING:tensorflow:Unable to create a python object for variable <tf.Variable 'Encoder_en/Transformer/TransformerEncodeFast/encoder/layer_5/self_attention/multihead_attention/v/kernel:0' shape=(512, 512) dtype=float32_ref> because it is a reference variable. It may not be visible to training APIs. If this is a problem, consider rebuilding the SavedModel after running tf.compat.v1.enable_resource_variables().\n"
          ],
          "name": "stdout"
        },
        {
          "output_type": "stream",
          "text": [
            "WARNING:tensorflow:Unable to create a python object for variable <tf.Variable 'Encoder_en/Transformer/TransformerEncodeFast/encoder/layer_5/self_attention/multihead_attention/v/kernel:0' shape=(512, 512) dtype=float32_ref> because it is a reference variable. It may not be visible to training APIs. If this is a problem, consider rebuilding the SavedModel after running tf.compat.v1.enable_resource_variables().\n"
          ],
          "name": "stderr"
        },
        {
          "output_type": "stream",
          "text": [
            "WARNING:tensorflow:Unable to create a python object for variable <tf.Variable 'Encoder_en/Transformer/TransformerEncodeFast/encoder/layer_5/self_attention/multihead_attention/output_transform/kernel:0' shape=(512, 512) dtype=float32_ref> because it is a reference variable. It may not be visible to training APIs. If this is a problem, consider rebuilding the SavedModel after running tf.compat.v1.enable_resource_variables().\n"
          ],
          "name": "stdout"
        },
        {
          "output_type": "stream",
          "text": [
            "WARNING:tensorflow:Unable to create a python object for variable <tf.Variable 'Encoder_en/Transformer/TransformerEncodeFast/encoder/layer_5/self_attention/multihead_attention/output_transform/kernel:0' shape=(512, 512) dtype=float32_ref> because it is a reference variable. It may not be visible to training APIs. If this is a problem, consider rebuilding the SavedModel after running tf.compat.v1.enable_resource_variables().\n"
          ],
          "name": "stderr"
        },
        {
          "output_type": "stream",
          "text": [
            "WARNING:tensorflow:Unable to create a python object for variable <tf.Variable 'Encoder_en/Transformer/TransformerEncodeFast/encoder/layer_5/ffn/layer_prepostprocess/layer_norm/layer_norm_scale:0' shape=(512,) dtype=float32_ref> because it is a reference variable. It may not be visible to training APIs. If this is a problem, consider rebuilding the SavedModel after running tf.compat.v1.enable_resource_variables().\n"
          ],
          "name": "stdout"
        },
        {
          "output_type": "stream",
          "text": [
            "WARNING:tensorflow:Unable to create a python object for variable <tf.Variable 'Encoder_en/Transformer/TransformerEncodeFast/encoder/layer_5/ffn/layer_prepostprocess/layer_norm/layer_norm_scale:0' shape=(512,) dtype=float32_ref> because it is a reference variable. It may not be visible to training APIs. If this is a problem, consider rebuilding the SavedModel after running tf.compat.v1.enable_resource_variables().\n"
          ],
          "name": "stderr"
        },
        {
          "output_type": "stream",
          "text": [
            "WARNING:tensorflow:Unable to create a python object for variable <tf.Variable 'Encoder_en/Transformer/TransformerEncodeFast/encoder/layer_5/ffn/layer_prepostprocess/layer_norm/layer_norm_bias:0' shape=(512,) dtype=float32_ref> because it is a reference variable. It may not be visible to training APIs. If this is a problem, consider rebuilding the SavedModel after running tf.compat.v1.enable_resource_variables().\n"
          ],
          "name": "stdout"
        },
        {
          "output_type": "stream",
          "text": [
            "WARNING:tensorflow:Unable to create a python object for variable <tf.Variable 'Encoder_en/Transformer/TransformerEncodeFast/encoder/layer_5/ffn/layer_prepostprocess/layer_norm/layer_norm_bias:0' shape=(512,) dtype=float32_ref> because it is a reference variable. It may not be visible to training APIs. If this is a problem, consider rebuilding the SavedModel after running tf.compat.v1.enable_resource_variables().\n"
          ],
          "name": "stderr"
        },
        {
          "output_type": "stream",
          "text": [
            "WARNING:tensorflow:Unable to create a python object for variable <tf.Variable 'Encoder_en/Transformer/TransformerEncodeFast/encoder/layer_5/ffn/conv1/kernel:0' shape=(512, 2048) dtype=float32_ref> because it is a reference variable. It may not be visible to training APIs. If this is a problem, consider rebuilding the SavedModel after running tf.compat.v1.enable_resource_variables().\n"
          ],
          "name": "stdout"
        },
        {
          "output_type": "stream",
          "text": [
            "WARNING:tensorflow:Unable to create a python object for variable <tf.Variable 'Encoder_en/Transformer/TransformerEncodeFast/encoder/layer_5/ffn/conv1/kernel:0' shape=(512, 2048) dtype=float32_ref> because it is a reference variable. It may not be visible to training APIs. If this is a problem, consider rebuilding the SavedModel after running tf.compat.v1.enable_resource_variables().\n"
          ],
          "name": "stderr"
        },
        {
          "output_type": "stream",
          "text": [
            "WARNING:tensorflow:Unable to create a python object for variable <tf.Variable 'Encoder_en/Transformer/TransformerEncodeFast/encoder/layer_5/ffn/conv1/bias:0' shape=(2048,) dtype=float32_ref> because it is a reference variable. It may not be visible to training APIs. If this is a problem, consider rebuilding the SavedModel after running tf.compat.v1.enable_resource_variables().\n"
          ],
          "name": "stdout"
        },
        {
          "output_type": "stream",
          "text": [
            "WARNING:tensorflow:Unable to create a python object for variable <tf.Variable 'Encoder_en/Transformer/TransformerEncodeFast/encoder/layer_5/ffn/conv1/bias:0' shape=(2048,) dtype=float32_ref> because it is a reference variable. It may not be visible to training APIs. If this is a problem, consider rebuilding the SavedModel after running tf.compat.v1.enable_resource_variables().\n"
          ],
          "name": "stderr"
        },
        {
          "output_type": "stream",
          "text": [
            "WARNING:tensorflow:Unable to create a python object for variable <tf.Variable 'Encoder_en/Transformer/TransformerEncodeFast/encoder/layer_5/ffn/conv2/kernel:0' shape=(2048, 512) dtype=float32_ref> because it is a reference variable. It may not be visible to training APIs. If this is a problem, consider rebuilding the SavedModel after running tf.compat.v1.enable_resource_variables().\n"
          ],
          "name": "stdout"
        },
        {
          "output_type": "stream",
          "text": [
            "WARNING:tensorflow:Unable to create a python object for variable <tf.Variable 'Encoder_en/Transformer/TransformerEncodeFast/encoder/layer_5/ffn/conv2/kernel:0' shape=(2048, 512) dtype=float32_ref> because it is a reference variable. It may not be visible to training APIs. If this is a problem, consider rebuilding the SavedModel after running tf.compat.v1.enable_resource_variables().\n"
          ],
          "name": "stderr"
        },
        {
          "output_type": "stream",
          "text": [
            "WARNING:tensorflow:Unable to create a python object for variable <tf.Variable 'Encoder_en/Transformer/TransformerEncodeFast/encoder/layer_5/ffn/conv2/bias:0' shape=(512,) dtype=float32_ref> because it is a reference variable. It may not be visible to training APIs. If this is a problem, consider rebuilding the SavedModel after running tf.compat.v1.enable_resource_variables().\n"
          ],
          "name": "stdout"
        },
        {
          "output_type": "stream",
          "text": [
            "WARNING:tensorflow:Unable to create a python object for variable <tf.Variable 'Encoder_en/Transformer/TransformerEncodeFast/encoder/layer_5/ffn/conv2/bias:0' shape=(512,) dtype=float32_ref> because it is a reference variable. It may not be visible to training APIs. If this is a problem, consider rebuilding the SavedModel after running tf.compat.v1.enable_resource_variables().\n"
          ],
          "name": "stderr"
        },
        {
          "output_type": "stream",
          "text": [
            "WARNING:tensorflow:Unable to create a python object for variable <tf.Variable 'Encoder_en/Transformer/TransformerEncodeFast/encoder/layer_prepostprocess/layer_norm/layer_norm_scale:0' shape=(512,) dtype=float32_ref> because it is a reference variable. It may not be visible to training APIs. If this is a problem, consider rebuilding the SavedModel after running tf.compat.v1.enable_resource_variables().\n"
          ],
          "name": "stdout"
        },
        {
          "output_type": "stream",
          "text": [
            "WARNING:tensorflow:Unable to create a python object for variable <tf.Variable 'Encoder_en/Transformer/TransformerEncodeFast/encoder/layer_prepostprocess/layer_norm/layer_norm_scale:0' shape=(512,) dtype=float32_ref> because it is a reference variable. It may not be visible to training APIs. If this is a problem, consider rebuilding the SavedModel after running tf.compat.v1.enable_resource_variables().\n"
          ],
          "name": "stderr"
        },
        {
          "output_type": "stream",
          "text": [
            "WARNING:tensorflow:Unable to create a python object for variable <tf.Variable 'Encoder_en/Transformer/TransformerEncodeFast/encoder/layer_prepostprocess/layer_norm/layer_norm_bias:0' shape=(512,) dtype=float32_ref> because it is a reference variable. It may not be visible to training APIs. If this is a problem, consider rebuilding the SavedModel after running tf.compat.v1.enable_resource_variables().\n"
          ],
          "name": "stdout"
        },
        {
          "output_type": "stream",
          "text": [
            "WARNING:tensorflow:Unable to create a python object for variable <tf.Variable 'Encoder_en/Transformer/TransformerEncodeFast/encoder/layer_prepostprocess/layer_norm/layer_norm_bias:0' shape=(512,) dtype=float32_ref> because it is a reference variable. It may not be visible to training APIs. If this is a problem, consider rebuilding the SavedModel after running tf.compat.v1.enable_resource_variables().\n"
          ],
          "name": "stderr"
        },
        {
          "output_type": "stream",
          "text": [
            "WARNING:tensorflow:Unable to create a python object for variable <tf.Variable 'Encoder_en/hidden_layers/tanh_layer_0/dense/kernel:0' shape=(512, 512) dtype=float32_ref> because it is a reference variable. It may not be visible to training APIs. If this is a problem, consider rebuilding the SavedModel after running tf.compat.v1.enable_resource_variables().\n"
          ],
          "name": "stdout"
        },
        {
          "output_type": "stream",
          "text": [
            "WARNING:tensorflow:Unable to create a python object for variable <tf.Variable 'Encoder_en/hidden_layers/tanh_layer_0/dense/kernel:0' shape=(512, 512) dtype=float32_ref> because it is a reference variable. It may not be visible to training APIs. If this is a problem, consider rebuilding the SavedModel after running tf.compat.v1.enable_resource_variables().\n"
          ],
          "name": "stderr"
        },
        {
          "output_type": "stream",
          "text": [
            "WARNING:tensorflow:Unable to create a python object for variable <tf.Variable 'Encoder_en/hidden_layers/tanh_layer_0/dense/bias:0' shape=(512,) dtype=float32_ref> because it is a reference variable. It may not be visible to training APIs. If this is a problem, consider rebuilding the SavedModel after running tf.compat.v1.enable_resource_variables().\n"
          ],
          "name": "stdout"
        },
        {
          "output_type": "stream",
          "text": [
            "WARNING:tensorflow:Unable to create a python object for variable <tf.Variable 'Encoder_en/hidden_layers/tanh_layer_0/dense/bias:0' shape=(512,) dtype=float32_ref> because it is a reference variable. It may not be visible to training APIs. If this is a problem, consider rebuilding the SavedModel after running tf.compat.v1.enable_resource_variables().\n"
          ],
          "name": "stderr"
        },
        {
          "output_type": "stream",
          "text": [
            "WARNING:tensorflow:Unable to create a python object for variable <tf.Variable 'Embeddings_en/sharded_0:0' shape=(35297, 320) dtype=float32_ref> because it is a reference variable. It may not be visible to training APIs. If this is a problem, consider rebuilding the SavedModel after running tf.compat.v1.enable_resource_variables().\n"
          ],
          "name": "stdout"
        },
        {
          "output_type": "stream",
          "text": [
            "WARNING:tensorflow:Unable to create a python object for variable <tf.Variable 'Embeddings_en/sharded_0:0' shape=(35297, 320) dtype=float32_ref> because it is a reference variable. It may not be visible to training APIs. If this is a problem, consider rebuilding the SavedModel after running tf.compat.v1.enable_resource_variables().\n"
          ],
          "name": "stderr"
        },
        {
          "output_type": "stream",
          "text": [
            "WARNING:tensorflow:Unable to create a python object for variable <tf.Variable 'Embeddings_en/sharded_1:0' shape=(35297, 320) dtype=float32_ref> because it is a reference variable. It may not be visible to training APIs. If this is a problem, consider rebuilding the SavedModel after running tf.compat.v1.enable_resource_variables().\n"
          ],
          "name": "stdout"
        },
        {
          "output_type": "stream",
          "text": [
            "WARNING:tensorflow:Unable to create a python object for variable <tf.Variable 'Embeddings_en/sharded_1:0' shape=(35297, 320) dtype=float32_ref> because it is a reference variable. It may not be visible to training APIs. If this is a problem, consider rebuilding the SavedModel after running tf.compat.v1.enable_resource_variables().\n"
          ],
          "name": "stderr"
        },
        {
          "output_type": "stream",
          "text": [
            "WARNING:tensorflow:Unable to create a python object for variable <tf.Variable 'Embeddings_en/sharded_2:0' shape=(35297, 320) dtype=float32_ref> because it is a reference variable. It may not be visible to training APIs. If this is a problem, consider rebuilding the SavedModel after running tf.compat.v1.enable_resource_variables().\n"
          ],
          "name": "stdout"
        },
        {
          "output_type": "stream",
          "text": [
            "WARNING:tensorflow:Unable to create a python object for variable <tf.Variable 'Embeddings_en/sharded_2:0' shape=(35297, 320) dtype=float32_ref> because it is a reference variable. It may not be visible to training APIs. If this is a problem, consider rebuilding the SavedModel after running tf.compat.v1.enable_resource_variables().\n"
          ],
          "name": "stderr"
        },
        {
          "output_type": "stream",
          "text": [
            "WARNING:tensorflow:Unable to create a python object for variable <tf.Variable 'Embeddings_en/sharded_3:0' shape=(35297, 320) dtype=float32_ref> because it is a reference variable. It may not be visible to training APIs. If this is a problem, consider rebuilding the SavedModel after running tf.compat.v1.enable_resource_variables().\n"
          ],
          "name": "stdout"
        },
        {
          "output_type": "stream",
          "text": [
            "WARNING:tensorflow:Unable to create a python object for variable <tf.Variable 'Embeddings_en/sharded_3:0' shape=(35297, 320) dtype=float32_ref> because it is a reference variable. It may not be visible to training APIs. If this is a problem, consider rebuilding the SavedModel after running tf.compat.v1.enable_resource_variables().\n"
          ],
          "name": "stderr"
        },
        {
          "output_type": "stream",
          "text": [
            "WARNING:tensorflow:Unable to create a python object for variable <tf.Variable 'Embeddings_en/sharded_4:0' shape=(35297, 320) dtype=float32_ref> because it is a reference variable. It may not be visible to training APIs. If this is a problem, consider rebuilding the SavedModel after running tf.compat.v1.enable_resource_variables().\n"
          ],
          "name": "stdout"
        },
        {
          "output_type": "stream",
          "text": [
            "WARNING:tensorflow:Unable to create a python object for variable <tf.Variable 'Embeddings_en/sharded_4:0' shape=(35297, 320) dtype=float32_ref> because it is a reference variable. It may not be visible to training APIs. If this is a problem, consider rebuilding the SavedModel after running tf.compat.v1.enable_resource_variables().\n"
          ],
          "name": "stderr"
        },
        {
          "output_type": "stream",
          "text": [
            "WARNING:tensorflow:Unable to create a python object for variable <tf.Variable 'Embeddings_en/sharded_5:0' shape=(35297, 320) dtype=float32_ref> because it is a reference variable. It may not be visible to training APIs. If this is a problem, consider rebuilding the SavedModel after running tf.compat.v1.enable_resource_variables().\n"
          ],
          "name": "stdout"
        },
        {
          "output_type": "stream",
          "text": [
            "WARNING:tensorflow:Unable to create a python object for variable <tf.Variable 'Embeddings_en/sharded_5:0' shape=(35297, 320) dtype=float32_ref> because it is a reference variable. It may not be visible to training APIs. If this is a problem, consider rebuilding the SavedModel after running tf.compat.v1.enable_resource_variables().\n"
          ],
          "name": "stderr"
        },
        {
          "output_type": "stream",
          "text": [
            "WARNING:tensorflow:Unable to create a python object for variable <tf.Variable 'Embeddings_en/sharded_6:0' shape=(35297, 320) dtype=float32_ref> because it is a reference variable. It may not be visible to training APIs. If this is a problem, consider rebuilding the SavedModel after running tf.compat.v1.enable_resource_variables().\n"
          ],
          "name": "stdout"
        },
        {
          "output_type": "stream",
          "text": [
            "WARNING:tensorflow:Unable to create a python object for variable <tf.Variable 'Embeddings_en/sharded_6:0' shape=(35297, 320) dtype=float32_ref> because it is a reference variable. It may not be visible to training APIs. If this is a problem, consider rebuilding the SavedModel after running tf.compat.v1.enable_resource_variables().\n"
          ],
          "name": "stderr"
        },
        {
          "output_type": "stream",
          "text": [
            "WARNING:tensorflow:Unable to create a python object for variable <tf.Variable 'Embeddings_en/sharded_7:0' shape=(35297, 320) dtype=float32_ref> because it is a reference variable. It may not be visible to training APIs. If this is a problem, consider rebuilding the SavedModel after running tf.compat.v1.enable_resource_variables().\n"
          ],
          "name": "stdout"
        },
        {
          "output_type": "stream",
          "text": [
            "WARNING:tensorflow:Unable to create a python object for variable <tf.Variable 'Embeddings_en/sharded_7:0' shape=(35297, 320) dtype=float32_ref> because it is a reference variable. It may not be visible to training APIs. If this is a problem, consider rebuilding the SavedModel after running tf.compat.v1.enable_resource_variables().\n"
          ],
          "name": "stderr"
        },
        {
          "output_type": "stream",
          "text": [
            "WARNING:tensorflow:Unable to create a python object for variable <tf.Variable 'Embeddings_en/sharded_8:0' shape=(35297, 320) dtype=float32_ref> because it is a reference variable. It may not be visible to training APIs. If this is a problem, consider rebuilding the SavedModel after running tf.compat.v1.enable_resource_variables().\n"
          ],
          "name": "stdout"
        },
        {
          "output_type": "stream",
          "text": [
            "WARNING:tensorflow:Unable to create a python object for variable <tf.Variable 'Embeddings_en/sharded_8:0' shape=(35297, 320) dtype=float32_ref> because it is a reference variable. It may not be visible to training APIs. If this is a problem, consider rebuilding the SavedModel after running tf.compat.v1.enable_resource_variables().\n"
          ],
          "name": "stderr"
        },
        {
          "output_type": "stream",
          "text": [
            "WARNING:tensorflow:Unable to create a python object for variable <tf.Variable 'Embeddings_en/sharded_9:0' shape=(35297, 320) dtype=float32_ref> because it is a reference variable. It may not be visible to training APIs. If this is a problem, consider rebuilding the SavedModel after running tf.compat.v1.enable_resource_variables().\n"
          ],
          "name": "stdout"
        },
        {
          "output_type": "stream",
          "text": [
            "WARNING:tensorflow:Unable to create a python object for variable <tf.Variable 'Embeddings_en/sharded_9:0' shape=(35297, 320) dtype=float32_ref> because it is a reference variable. It may not be visible to training APIs. If this is a problem, consider rebuilding the SavedModel after running tf.compat.v1.enable_resource_variables().\n"
          ],
          "name": "stderr"
        },
        {
          "output_type": "stream",
          "text": [
            "WARNING:tensorflow:Unable to create a python object for variable <tf.Variable 'Embeddings_en/sharded_10:0' shape=(35297, 320) dtype=float32_ref> because it is a reference variable. It may not be visible to training APIs. If this is a problem, consider rebuilding the SavedModel after running tf.compat.v1.enable_resource_variables().\n"
          ],
          "name": "stdout"
        },
        {
          "output_type": "stream",
          "text": [
            "WARNING:tensorflow:Unable to create a python object for variable <tf.Variable 'Embeddings_en/sharded_10:0' shape=(35297, 320) dtype=float32_ref> because it is a reference variable. It may not be visible to training APIs. If this is a problem, consider rebuilding the SavedModel after running tf.compat.v1.enable_resource_variables().\n"
          ],
          "name": "stderr"
        },
        {
          "output_type": "stream",
          "text": [
            "WARNING:tensorflow:Unable to create a python object for variable <tf.Variable 'Embeddings_en/sharded_11:0' shape=(35297, 320) dtype=float32_ref> because it is a reference variable. It may not be visible to training APIs. If this is a problem, consider rebuilding the SavedModel after running tf.compat.v1.enable_resource_variables().\n"
          ],
          "name": "stdout"
        },
        {
          "output_type": "stream",
          "text": [
            "WARNING:tensorflow:Unable to create a python object for variable <tf.Variable 'Embeddings_en/sharded_11:0' shape=(35297, 320) dtype=float32_ref> because it is a reference variable. It may not be visible to training APIs. If this is a problem, consider rebuilding the SavedModel after running tf.compat.v1.enable_resource_variables().\n"
          ],
          "name": "stderr"
        },
        {
          "output_type": "stream",
          "text": [
            "WARNING:tensorflow:Unable to create a python object for variable <tf.Variable 'Embeddings_en/sharded_12:0' shape=(35297, 320) dtype=float32_ref> because it is a reference variable. It may not be visible to training APIs. If this is a problem, consider rebuilding the SavedModel after running tf.compat.v1.enable_resource_variables().\n"
          ],
          "name": "stdout"
        },
        {
          "output_type": "stream",
          "text": [
            "WARNING:tensorflow:Unable to create a python object for variable <tf.Variable 'Embeddings_en/sharded_12:0' shape=(35297, 320) dtype=float32_ref> because it is a reference variable. It may not be visible to training APIs. If this is a problem, consider rebuilding the SavedModel after running tf.compat.v1.enable_resource_variables().\n"
          ],
          "name": "stderr"
        },
        {
          "output_type": "stream",
          "text": [
            "WARNING:tensorflow:Unable to create a python object for variable <tf.Variable 'Embeddings_en/sharded_13:0' shape=(35297, 320) dtype=float32_ref> because it is a reference variable. It may not be visible to training APIs. If this is a problem, consider rebuilding the SavedModel after running tf.compat.v1.enable_resource_variables().\n"
          ],
          "name": "stdout"
        },
        {
          "output_type": "stream",
          "text": [
            "WARNING:tensorflow:Unable to create a python object for variable <tf.Variable 'Embeddings_en/sharded_13:0' shape=(35297, 320) dtype=float32_ref> because it is a reference variable. It may not be visible to training APIs. If this is a problem, consider rebuilding the SavedModel after running tf.compat.v1.enable_resource_variables().\n"
          ],
          "name": "stderr"
        },
        {
          "output_type": "stream",
          "text": [
            "WARNING:tensorflow:Unable to create a python object for variable <tf.Variable 'Embeddings_en/sharded_14:0' shape=(35297, 320) dtype=float32_ref> because it is a reference variable. It may not be visible to training APIs. If this is a problem, consider rebuilding the SavedModel after running tf.compat.v1.enable_resource_variables().\n"
          ],
          "name": "stdout"
        },
        {
          "output_type": "stream",
          "text": [
            "WARNING:tensorflow:Unable to create a python object for variable <tf.Variable 'Embeddings_en/sharded_14:0' shape=(35297, 320) dtype=float32_ref> because it is a reference variable. It may not be visible to training APIs. If this is a problem, consider rebuilding the SavedModel after running tf.compat.v1.enable_resource_variables().\n"
          ],
          "name": "stderr"
        },
        {
          "output_type": "stream",
          "text": [
            "WARNING:tensorflow:Unable to create a python object for variable <tf.Variable 'Embeddings_en/sharded_15:0' shape=(35297, 320) dtype=float32_ref> because it is a reference variable. It may not be visible to training APIs. If this is a problem, consider rebuilding the SavedModel after running tf.compat.v1.enable_resource_variables().\n"
          ],
          "name": "stdout"
        },
        {
          "output_type": "stream",
          "text": [
            "WARNING:tensorflow:Unable to create a python object for variable <tf.Variable 'Embeddings_en/sharded_15:0' shape=(35297, 320) dtype=float32_ref> because it is a reference variable. It may not be visible to training APIs. If this is a problem, consider rebuilding the SavedModel after running tf.compat.v1.enable_resource_variables().\n"
          ],
          "name": "stderr"
        },
        {
          "output_type": "stream",
          "text": [
            "WARNING:tensorflow:Unable to create a python object for variable <tf.Variable 'Embeddings_en/sharded_16:0' shape=(35297, 320) dtype=float32_ref> because it is a reference variable. It may not be visible to training APIs. If this is a problem, consider rebuilding the SavedModel after running tf.compat.v1.enable_resource_variables().\n"
          ],
          "name": "stdout"
        },
        {
          "output_type": "stream",
          "text": [
            "WARNING:tensorflow:Unable to create a python object for variable <tf.Variable 'Embeddings_en/sharded_16:0' shape=(35297, 320) dtype=float32_ref> because it is a reference variable. It may not be visible to training APIs. If this is a problem, consider rebuilding the SavedModel after running tf.compat.v1.enable_resource_variables().\n"
          ],
          "name": "stderr"
        },
        {
          "output_type": "stream",
          "text": [
            "WARNING:tensorflow:Unable to create a python object for variable <tf.Variable 'Encoder_en/Transformer/dense/kernel:0' shape=(320, 512) dtype=float32_ref> because it is a reference variable. It may not be visible to training APIs. If this is a problem, consider rebuilding the SavedModel after running tf.compat.v1.enable_resource_variables().\n"
          ],
          "name": "stdout"
        },
        {
          "output_type": "stream",
          "text": [
            "WARNING:tensorflow:Unable to create a python object for variable <tf.Variable 'Encoder_en/Transformer/dense/kernel:0' shape=(320, 512) dtype=float32_ref> because it is a reference variable. It may not be visible to training APIs. If this is a problem, consider rebuilding the SavedModel after running tf.compat.v1.enable_resource_variables().\n"
          ],
          "name": "stderr"
        },
        {
          "output_type": "stream",
          "text": [
            "WARNING:tensorflow:Unable to create a python object for variable <tf.Variable 'Encoder_en/Transformer/dense/bias:0' shape=(512,) dtype=float32_ref> because it is a reference variable. It may not be visible to training APIs. If this is a problem, consider rebuilding the SavedModel after running tf.compat.v1.enable_resource_variables().\n"
          ],
          "name": "stdout"
        },
        {
          "output_type": "stream",
          "text": [
            "WARNING:tensorflow:Unable to create a python object for variable <tf.Variable 'Encoder_en/Transformer/dense/bias:0' shape=(512,) dtype=float32_ref> because it is a reference variable. It may not be visible to training APIs. If this is a problem, consider rebuilding the SavedModel after running tf.compat.v1.enable_resource_variables().\n"
          ],
          "name": "stderr"
        },
        {
          "output_type": "stream",
          "text": [
            "WARNING:tensorflow:Unable to create a python object for variable <tf.Variable 'Encoder_en/Transformer/TransformerEncodeFast/encoder/layer_0/self_attention/layer_prepostprocess/layer_norm/layer_norm_scale:0' shape=(512,) dtype=float32_ref> because it is a reference variable. It may not be visible to training APIs. If this is a problem, consider rebuilding the SavedModel after running tf.compat.v1.enable_resource_variables().\n"
          ],
          "name": "stdout"
        },
        {
          "output_type": "stream",
          "text": [
            "WARNING:tensorflow:Unable to create a python object for variable <tf.Variable 'Encoder_en/Transformer/TransformerEncodeFast/encoder/layer_0/self_attention/layer_prepostprocess/layer_norm/layer_norm_scale:0' shape=(512,) dtype=float32_ref> because it is a reference variable. It may not be visible to training APIs. If this is a problem, consider rebuilding the SavedModel after running tf.compat.v1.enable_resource_variables().\n"
          ],
          "name": "stderr"
        },
        {
          "output_type": "stream",
          "text": [
            "WARNING:tensorflow:Unable to create a python object for variable <tf.Variable 'Encoder_en/Transformer/TransformerEncodeFast/encoder/layer_0/self_attention/layer_prepostprocess/layer_norm/layer_norm_bias:0' shape=(512,) dtype=float32_ref> because it is a reference variable. It may not be visible to training APIs. If this is a problem, consider rebuilding the SavedModel after running tf.compat.v1.enable_resource_variables().\n"
          ],
          "name": "stdout"
        },
        {
          "output_type": "stream",
          "text": [
            "WARNING:tensorflow:Unable to create a python object for variable <tf.Variable 'Encoder_en/Transformer/TransformerEncodeFast/encoder/layer_0/self_attention/layer_prepostprocess/layer_norm/layer_norm_bias:0' shape=(512,) dtype=float32_ref> because it is a reference variable. It may not be visible to training APIs. If this is a problem, consider rebuilding the SavedModel after running tf.compat.v1.enable_resource_variables().\n"
          ],
          "name": "stderr"
        },
        {
          "output_type": "stream",
          "text": [
            "WARNING:tensorflow:Unable to create a python object for variable <tf.Variable 'Encoder_en/Transformer/TransformerEncodeFast/encoder/layer_0/self_attention/multihead_attention/q/kernel:0' shape=(512, 512) dtype=float32_ref> because it is a reference variable. It may not be visible to training APIs. If this is a problem, consider rebuilding the SavedModel after running tf.compat.v1.enable_resource_variables().\n"
          ],
          "name": "stdout"
        },
        {
          "output_type": "stream",
          "text": [
            "WARNING:tensorflow:Unable to create a python object for variable <tf.Variable 'Encoder_en/Transformer/TransformerEncodeFast/encoder/layer_0/self_attention/multihead_attention/q/kernel:0' shape=(512, 512) dtype=float32_ref> because it is a reference variable. It may not be visible to training APIs. If this is a problem, consider rebuilding the SavedModel after running tf.compat.v1.enable_resource_variables().\n"
          ],
          "name": "stderr"
        },
        {
          "output_type": "stream",
          "text": [
            "WARNING:tensorflow:Unable to create a python object for variable <tf.Variable 'Encoder_en/Transformer/TransformerEncodeFast/encoder/layer_0/self_attention/multihead_attention/k/kernel:0' shape=(512, 512) dtype=float32_ref> because it is a reference variable. It may not be visible to training APIs. If this is a problem, consider rebuilding the SavedModel after running tf.compat.v1.enable_resource_variables().\n"
          ],
          "name": "stdout"
        },
        {
          "output_type": "stream",
          "text": [
            "WARNING:tensorflow:Unable to create a python object for variable <tf.Variable 'Encoder_en/Transformer/TransformerEncodeFast/encoder/layer_0/self_attention/multihead_attention/k/kernel:0' shape=(512, 512) dtype=float32_ref> because it is a reference variable. It may not be visible to training APIs. If this is a problem, consider rebuilding the SavedModel after running tf.compat.v1.enable_resource_variables().\n"
          ],
          "name": "stderr"
        },
        {
          "output_type": "stream",
          "text": [
            "WARNING:tensorflow:Unable to create a python object for variable <tf.Variable 'Encoder_en/Transformer/TransformerEncodeFast/encoder/layer_0/self_attention/multihead_attention/v/kernel:0' shape=(512, 512) dtype=float32_ref> because it is a reference variable. It may not be visible to training APIs. If this is a problem, consider rebuilding the SavedModel after running tf.compat.v1.enable_resource_variables().\n"
          ],
          "name": "stdout"
        },
        {
          "output_type": "stream",
          "text": [
            "WARNING:tensorflow:Unable to create a python object for variable <tf.Variable 'Encoder_en/Transformer/TransformerEncodeFast/encoder/layer_0/self_attention/multihead_attention/v/kernel:0' shape=(512, 512) dtype=float32_ref> because it is a reference variable. It may not be visible to training APIs. If this is a problem, consider rebuilding the SavedModel after running tf.compat.v1.enable_resource_variables().\n"
          ],
          "name": "stderr"
        },
        {
          "output_type": "stream",
          "text": [
            "WARNING:tensorflow:Unable to create a python object for variable <tf.Variable 'Encoder_en/Transformer/TransformerEncodeFast/encoder/layer_0/self_attention/multihead_attention/output_transform/kernel:0' shape=(512, 512) dtype=float32_ref> because it is a reference variable. It may not be visible to training APIs. If this is a problem, consider rebuilding the SavedModel after running tf.compat.v1.enable_resource_variables().\n"
          ],
          "name": "stdout"
        },
        {
          "output_type": "stream",
          "text": [
            "WARNING:tensorflow:Unable to create a python object for variable <tf.Variable 'Encoder_en/Transformer/TransformerEncodeFast/encoder/layer_0/self_attention/multihead_attention/output_transform/kernel:0' shape=(512, 512) dtype=float32_ref> because it is a reference variable. It may not be visible to training APIs. If this is a problem, consider rebuilding the SavedModel after running tf.compat.v1.enable_resource_variables().\n"
          ],
          "name": "stderr"
        },
        {
          "output_type": "stream",
          "text": [
            "WARNING:tensorflow:Unable to create a python object for variable <tf.Variable 'Encoder_en/Transformer/TransformerEncodeFast/encoder/layer_0/ffn/layer_prepostprocess/layer_norm/layer_norm_scale:0' shape=(512,) dtype=float32_ref> because it is a reference variable. It may not be visible to training APIs. If this is a problem, consider rebuilding the SavedModel after running tf.compat.v1.enable_resource_variables().\n"
          ],
          "name": "stdout"
        },
        {
          "output_type": "stream",
          "text": [
            "WARNING:tensorflow:Unable to create a python object for variable <tf.Variable 'Encoder_en/Transformer/TransformerEncodeFast/encoder/layer_0/ffn/layer_prepostprocess/layer_norm/layer_norm_scale:0' shape=(512,) dtype=float32_ref> because it is a reference variable. It may not be visible to training APIs. If this is a problem, consider rebuilding the SavedModel after running tf.compat.v1.enable_resource_variables().\n"
          ],
          "name": "stderr"
        },
        {
          "output_type": "stream",
          "text": [
            "WARNING:tensorflow:Unable to create a python object for variable <tf.Variable 'Encoder_en/Transformer/TransformerEncodeFast/encoder/layer_0/ffn/layer_prepostprocess/layer_norm/layer_norm_bias:0' shape=(512,) dtype=float32_ref> because it is a reference variable. It may not be visible to training APIs. If this is a problem, consider rebuilding the SavedModel after running tf.compat.v1.enable_resource_variables().\n"
          ],
          "name": "stdout"
        },
        {
          "output_type": "stream",
          "text": [
            "WARNING:tensorflow:Unable to create a python object for variable <tf.Variable 'Encoder_en/Transformer/TransformerEncodeFast/encoder/layer_0/ffn/layer_prepostprocess/layer_norm/layer_norm_bias:0' shape=(512,) dtype=float32_ref> because it is a reference variable. It may not be visible to training APIs. If this is a problem, consider rebuilding the SavedModel after running tf.compat.v1.enable_resource_variables().\n"
          ],
          "name": "stderr"
        },
        {
          "output_type": "stream",
          "text": [
            "WARNING:tensorflow:Unable to create a python object for variable <tf.Variable 'Encoder_en/Transformer/TransformerEncodeFast/encoder/layer_0/ffn/conv1/kernel:0' shape=(512, 2048) dtype=float32_ref> because it is a reference variable. It may not be visible to training APIs. If this is a problem, consider rebuilding the SavedModel after running tf.compat.v1.enable_resource_variables().\n"
          ],
          "name": "stdout"
        },
        {
          "output_type": "stream",
          "text": [
            "WARNING:tensorflow:Unable to create a python object for variable <tf.Variable 'Encoder_en/Transformer/TransformerEncodeFast/encoder/layer_0/ffn/conv1/kernel:0' shape=(512, 2048) dtype=float32_ref> because it is a reference variable. It may not be visible to training APIs. If this is a problem, consider rebuilding the SavedModel after running tf.compat.v1.enable_resource_variables().\n"
          ],
          "name": "stderr"
        },
        {
          "output_type": "stream",
          "text": [
            "WARNING:tensorflow:Unable to create a python object for variable <tf.Variable 'Encoder_en/Transformer/TransformerEncodeFast/encoder/layer_0/ffn/conv1/bias:0' shape=(2048,) dtype=float32_ref> because it is a reference variable. It may not be visible to training APIs. If this is a problem, consider rebuilding the SavedModel after running tf.compat.v1.enable_resource_variables().\n"
          ],
          "name": "stdout"
        },
        {
          "output_type": "stream",
          "text": [
            "WARNING:tensorflow:Unable to create a python object for variable <tf.Variable 'Encoder_en/Transformer/TransformerEncodeFast/encoder/layer_0/ffn/conv1/bias:0' shape=(2048,) dtype=float32_ref> because it is a reference variable. It may not be visible to training APIs. If this is a problem, consider rebuilding the SavedModel after running tf.compat.v1.enable_resource_variables().\n"
          ],
          "name": "stderr"
        },
        {
          "output_type": "stream",
          "text": [
            "WARNING:tensorflow:Unable to create a python object for variable <tf.Variable 'Encoder_en/Transformer/TransformerEncodeFast/encoder/layer_0/ffn/conv2/kernel:0' shape=(2048, 512) dtype=float32_ref> because it is a reference variable. It may not be visible to training APIs. If this is a problem, consider rebuilding the SavedModel after running tf.compat.v1.enable_resource_variables().\n"
          ],
          "name": "stdout"
        },
        {
          "output_type": "stream",
          "text": [
            "WARNING:tensorflow:Unable to create a python object for variable <tf.Variable 'Encoder_en/Transformer/TransformerEncodeFast/encoder/layer_0/ffn/conv2/kernel:0' shape=(2048, 512) dtype=float32_ref> because it is a reference variable. It may not be visible to training APIs. If this is a problem, consider rebuilding the SavedModel after running tf.compat.v1.enable_resource_variables().\n"
          ],
          "name": "stderr"
        },
        {
          "output_type": "stream",
          "text": [
            "WARNING:tensorflow:Unable to create a python object for variable <tf.Variable 'Encoder_en/Transformer/TransformerEncodeFast/encoder/layer_0/ffn/conv2/bias:0' shape=(512,) dtype=float32_ref> because it is a reference variable. It may not be visible to training APIs. If this is a problem, consider rebuilding the SavedModel after running tf.compat.v1.enable_resource_variables().\n"
          ],
          "name": "stdout"
        },
        {
          "output_type": "stream",
          "text": [
            "WARNING:tensorflow:Unable to create a python object for variable <tf.Variable 'Encoder_en/Transformer/TransformerEncodeFast/encoder/layer_0/ffn/conv2/bias:0' shape=(512,) dtype=float32_ref> because it is a reference variable. It may not be visible to training APIs. If this is a problem, consider rebuilding the SavedModel after running tf.compat.v1.enable_resource_variables().\n"
          ],
          "name": "stderr"
        },
        {
          "output_type": "stream",
          "text": [
            "WARNING:tensorflow:Unable to create a python object for variable <tf.Variable 'Encoder_en/Transformer/TransformerEncodeFast/encoder/layer_1/self_attention/layer_prepostprocess/layer_norm/layer_norm_scale:0' shape=(512,) dtype=float32_ref> because it is a reference variable. It may not be visible to training APIs. If this is a problem, consider rebuilding the SavedModel after running tf.compat.v1.enable_resource_variables().\n"
          ],
          "name": "stdout"
        },
        {
          "output_type": "stream",
          "text": [
            "WARNING:tensorflow:Unable to create a python object for variable <tf.Variable 'Encoder_en/Transformer/TransformerEncodeFast/encoder/layer_1/self_attention/layer_prepostprocess/layer_norm/layer_norm_scale:0' shape=(512,) dtype=float32_ref> because it is a reference variable. It may not be visible to training APIs. If this is a problem, consider rebuilding the SavedModel after running tf.compat.v1.enable_resource_variables().\n"
          ],
          "name": "stderr"
        },
        {
          "output_type": "stream",
          "text": [
            "WARNING:tensorflow:Unable to create a python object for variable <tf.Variable 'Encoder_en/Transformer/TransformerEncodeFast/encoder/layer_1/self_attention/layer_prepostprocess/layer_norm/layer_norm_bias:0' shape=(512,) dtype=float32_ref> because it is a reference variable. It may not be visible to training APIs. If this is a problem, consider rebuilding the SavedModel after running tf.compat.v1.enable_resource_variables().\n"
          ],
          "name": "stdout"
        },
        {
          "output_type": "stream",
          "text": [
            "WARNING:tensorflow:Unable to create a python object for variable <tf.Variable 'Encoder_en/Transformer/TransformerEncodeFast/encoder/layer_1/self_attention/layer_prepostprocess/layer_norm/layer_norm_bias:0' shape=(512,) dtype=float32_ref> because it is a reference variable. It may not be visible to training APIs. If this is a problem, consider rebuilding the SavedModel after running tf.compat.v1.enable_resource_variables().\n"
          ],
          "name": "stderr"
        },
        {
          "output_type": "stream",
          "text": [
            "WARNING:tensorflow:Unable to create a python object for variable <tf.Variable 'Encoder_en/Transformer/TransformerEncodeFast/encoder/layer_1/self_attention/multihead_attention/q/kernel:0' shape=(512, 512) dtype=float32_ref> because it is a reference variable. It may not be visible to training APIs. If this is a problem, consider rebuilding the SavedModel after running tf.compat.v1.enable_resource_variables().\n"
          ],
          "name": "stdout"
        },
        {
          "output_type": "stream",
          "text": [
            "WARNING:tensorflow:Unable to create a python object for variable <tf.Variable 'Encoder_en/Transformer/TransformerEncodeFast/encoder/layer_1/self_attention/multihead_attention/q/kernel:0' shape=(512, 512) dtype=float32_ref> because it is a reference variable. It may not be visible to training APIs. If this is a problem, consider rebuilding the SavedModel after running tf.compat.v1.enable_resource_variables().\n"
          ],
          "name": "stderr"
        },
        {
          "output_type": "stream",
          "text": [
            "WARNING:tensorflow:Unable to create a python object for variable <tf.Variable 'Encoder_en/Transformer/TransformerEncodeFast/encoder/layer_1/self_attention/multihead_attention/k/kernel:0' shape=(512, 512) dtype=float32_ref> because it is a reference variable. It may not be visible to training APIs. If this is a problem, consider rebuilding the SavedModel after running tf.compat.v1.enable_resource_variables().\n"
          ],
          "name": "stdout"
        },
        {
          "output_type": "stream",
          "text": [
            "WARNING:tensorflow:Unable to create a python object for variable <tf.Variable 'Encoder_en/Transformer/TransformerEncodeFast/encoder/layer_1/self_attention/multihead_attention/k/kernel:0' shape=(512, 512) dtype=float32_ref> because it is a reference variable. It may not be visible to training APIs. If this is a problem, consider rebuilding the SavedModel after running tf.compat.v1.enable_resource_variables().\n"
          ],
          "name": "stderr"
        },
        {
          "output_type": "stream",
          "text": [
            "WARNING:tensorflow:Unable to create a python object for variable <tf.Variable 'Encoder_en/Transformer/TransformerEncodeFast/encoder/layer_1/self_attention/multihead_attention/v/kernel:0' shape=(512, 512) dtype=float32_ref> because it is a reference variable. It may not be visible to training APIs. If this is a problem, consider rebuilding the SavedModel after running tf.compat.v1.enable_resource_variables().\n"
          ],
          "name": "stdout"
        },
        {
          "output_type": "stream",
          "text": [
            "WARNING:tensorflow:Unable to create a python object for variable <tf.Variable 'Encoder_en/Transformer/TransformerEncodeFast/encoder/layer_1/self_attention/multihead_attention/v/kernel:0' shape=(512, 512) dtype=float32_ref> because it is a reference variable. It may not be visible to training APIs. If this is a problem, consider rebuilding the SavedModel after running tf.compat.v1.enable_resource_variables().\n"
          ],
          "name": "stderr"
        },
        {
          "output_type": "stream",
          "text": [
            "WARNING:tensorflow:Unable to create a python object for variable <tf.Variable 'Encoder_en/Transformer/TransformerEncodeFast/encoder/layer_1/self_attention/multihead_attention/output_transform/kernel:0' shape=(512, 512) dtype=float32_ref> because it is a reference variable. It may not be visible to training APIs. If this is a problem, consider rebuilding the SavedModel after running tf.compat.v1.enable_resource_variables().\n"
          ],
          "name": "stdout"
        },
        {
          "output_type": "stream",
          "text": [
            "WARNING:tensorflow:Unable to create a python object for variable <tf.Variable 'Encoder_en/Transformer/TransformerEncodeFast/encoder/layer_1/self_attention/multihead_attention/output_transform/kernel:0' shape=(512, 512) dtype=float32_ref> because it is a reference variable. It may not be visible to training APIs. If this is a problem, consider rebuilding the SavedModel after running tf.compat.v1.enable_resource_variables().\n"
          ],
          "name": "stderr"
        },
        {
          "output_type": "stream",
          "text": [
            "WARNING:tensorflow:Unable to create a python object for variable <tf.Variable 'Encoder_en/Transformer/TransformerEncodeFast/encoder/layer_1/ffn/layer_prepostprocess/layer_norm/layer_norm_scale:0' shape=(512,) dtype=float32_ref> because it is a reference variable. It may not be visible to training APIs. If this is a problem, consider rebuilding the SavedModel after running tf.compat.v1.enable_resource_variables().\n"
          ],
          "name": "stdout"
        },
        {
          "output_type": "stream",
          "text": [
            "WARNING:tensorflow:Unable to create a python object for variable <tf.Variable 'Encoder_en/Transformer/TransformerEncodeFast/encoder/layer_1/ffn/layer_prepostprocess/layer_norm/layer_norm_scale:0' shape=(512,) dtype=float32_ref> because it is a reference variable. It may not be visible to training APIs. If this is a problem, consider rebuilding the SavedModel after running tf.compat.v1.enable_resource_variables().\n"
          ],
          "name": "stderr"
        },
        {
          "output_type": "stream",
          "text": [
            "WARNING:tensorflow:Unable to create a python object for variable <tf.Variable 'Encoder_en/Transformer/TransformerEncodeFast/encoder/layer_1/ffn/layer_prepostprocess/layer_norm/layer_norm_bias:0' shape=(512,) dtype=float32_ref> because it is a reference variable. It may not be visible to training APIs. If this is a problem, consider rebuilding the SavedModel after running tf.compat.v1.enable_resource_variables().\n"
          ],
          "name": "stdout"
        },
        {
          "output_type": "stream",
          "text": [
            "WARNING:tensorflow:Unable to create a python object for variable <tf.Variable 'Encoder_en/Transformer/TransformerEncodeFast/encoder/layer_1/ffn/layer_prepostprocess/layer_norm/layer_norm_bias:0' shape=(512,) dtype=float32_ref> because it is a reference variable. It may not be visible to training APIs. If this is a problem, consider rebuilding the SavedModel after running tf.compat.v1.enable_resource_variables().\n"
          ],
          "name": "stderr"
        },
        {
          "output_type": "stream",
          "text": [
            "WARNING:tensorflow:Unable to create a python object for variable <tf.Variable 'Encoder_en/Transformer/TransformerEncodeFast/encoder/layer_1/ffn/conv1/kernel:0' shape=(512, 2048) dtype=float32_ref> because it is a reference variable. It may not be visible to training APIs. If this is a problem, consider rebuilding the SavedModel after running tf.compat.v1.enable_resource_variables().\n"
          ],
          "name": "stdout"
        },
        {
          "output_type": "stream",
          "text": [
            "WARNING:tensorflow:Unable to create a python object for variable <tf.Variable 'Encoder_en/Transformer/TransformerEncodeFast/encoder/layer_1/ffn/conv1/kernel:0' shape=(512, 2048) dtype=float32_ref> because it is a reference variable. It may not be visible to training APIs. If this is a problem, consider rebuilding the SavedModel after running tf.compat.v1.enable_resource_variables().\n"
          ],
          "name": "stderr"
        },
        {
          "output_type": "stream",
          "text": [
            "WARNING:tensorflow:Unable to create a python object for variable <tf.Variable 'Encoder_en/Transformer/TransformerEncodeFast/encoder/layer_1/ffn/conv1/bias:0' shape=(2048,) dtype=float32_ref> because it is a reference variable. It may not be visible to training APIs. If this is a problem, consider rebuilding the SavedModel after running tf.compat.v1.enable_resource_variables().\n"
          ],
          "name": "stdout"
        },
        {
          "output_type": "stream",
          "text": [
            "WARNING:tensorflow:Unable to create a python object for variable <tf.Variable 'Encoder_en/Transformer/TransformerEncodeFast/encoder/layer_1/ffn/conv1/bias:0' shape=(2048,) dtype=float32_ref> because it is a reference variable. It may not be visible to training APIs. If this is a problem, consider rebuilding the SavedModel after running tf.compat.v1.enable_resource_variables().\n"
          ],
          "name": "stderr"
        },
        {
          "output_type": "stream",
          "text": [
            "WARNING:tensorflow:Unable to create a python object for variable <tf.Variable 'Encoder_en/Transformer/TransformerEncodeFast/encoder/layer_1/ffn/conv2/kernel:0' shape=(2048, 512) dtype=float32_ref> because it is a reference variable. It may not be visible to training APIs. If this is a problem, consider rebuilding the SavedModel after running tf.compat.v1.enable_resource_variables().\n"
          ],
          "name": "stdout"
        },
        {
          "output_type": "stream",
          "text": [
            "WARNING:tensorflow:Unable to create a python object for variable <tf.Variable 'Encoder_en/Transformer/TransformerEncodeFast/encoder/layer_1/ffn/conv2/kernel:0' shape=(2048, 512) dtype=float32_ref> because it is a reference variable. It may not be visible to training APIs. If this is a problem, consider rebuilding the SavedModel after running tf.compat.v1.enable_resource_variables().\n"
          ],
          "name": "stderr"
        },
        {
          "output_type": "stream",
          "text": [
            "WARNING:tensorflow:Unable to create a python object for variable <tf.Variable 'Encoder_en/Transformer/TransformerEncodeFast/encoder/layer_1/ffn/conv2/bias:0' shape=(512,) dtype=float32_ref> because it is a reference variable. It may not be visible to training APIs. If this is a problem, consider rebuilding the SavedModel after running tf.compat.v1.enable_resource_variables().\n"
          ],
          "name": "stdout"
        },
        {
          "output_type": "stream",
          "text": [
            "WARNING:tensorflow:Unable to create a python object for variable <tf.Variable 'Encoder_en/Transformer/TransformerEncodeFast/encoder/layer_1/ffn/conv2/bias:0' shape=(512,) dtype=float32_ref> because it is a reference variable. It may not be visible to training APIs. If this is a problem, consider rebuilding the SavedModel after running tf.compat.v1.enable_resource_variables().\n"
          ],
          "name": "stderr"
        },
        {
          "output_type": "stream",
          "text": [
            "WARNING:tensorflow:Unable to create a python object for variable <tf.Variable 'Encoder_en/Transformer/TransformerEncodeFast/encoder/layer_2/self_attention/layer_prepostprocess/layer_norm/layer_norm_scale:0' shape=(512,) dtype=float32_ref> because it is a reference variable. It may not be visible to training APIs. If this is a problem, consider rebuilding the SavedModel after running tf.compat.v1.enable_resource_variables().\n"
          ],
          "name": "stdout"
        },
        {
          "output_type": "stream",
          "text": [
            "WARNING:tensorflow:Unable to create a python object for variable <tf.Variable 'Encoder_en/Transformer/TransformerEncodeFast/encoder/layer_2/self_attention/layer_prepostprocess/layer_norm/layer_norm_scale:0' shape=(512,) dtype=float32_ref> because it is a reference variable. It may not be visible to training APIs. If this is a problem, consider rebuilding the SavedModel after running tf.compat.v1.enable_resource_variables().\n"
          ],
          "name": "stderr"
        },
        {
          "output_type": "stream",
          "text": [
            "WARNING:tensorflow:Unable to create a python object for variable <tf.Variable 'Encoder_en/Transformer/TransformerEncodeFast/encoder/layer_2/self_attention/layer_prepostprocess/layer_norm/layer_norm_bias:0' shape=(512,) dtype=float32_ref> because it is a reference variable. It may not be visible to training APIs. If this is a problem, consider rebuilding the SavedModel after running tf.compat.v1.enable_resource_variables().\n"
          ],
          "name": "stdout"
        },
        {
          "output_type": "stream",
          "text": [
            "WARNING:tensorflow:Unable to create a python object for variable <tf.Variable 'Encoder_en/Transformer/TransformerEncodeFast/encoder/layer_2/self_attention/layer_prepostprocess/layer_norm/layer_norm_bias:0' shape=(512,) dtype=float32_ref> because it is a reference variable. It may not be visible to training APIs. If this is a problem, consider rebuilding the SavedModel after running tf.compat.v1.enable_resource_variables().\n"
          ],
          "name": "stderr"
        },
        {
          "output_type": "stream",
          "text": [
            "WARNING:tensorflow:Unable to create a python object for variable <tf.Variable 'Encoder_en/Transformer/TransformerEncodeFast/encoder/layer_2/self_attention/multihead_attention/q/kernel:0' shape=(512, 512) dtype=float32_ref> because it is a reference variable. It may not be visible to training APIs. If this is a problem, consider rebuilding the SavedModel after running tf.compat.v1.enable_resource_variables().\n"
          ],
          "name": "stdout"
        },
        {
          "output_type": "stream",
          "text": [
            "WARNING:tensorflow:Unable to create a python object for variable <tf.Variable 'Encoder_en/Transformer/TransformerEncodeFast/encoder/layer_2/self_attention/multihead_attention/q/kernel:0' shape=(512, 512) dtype=float32_ref> because it is a reference variable. It may not be visible to training APIs. If this is a problem, consider rebuilding the SavedModel after running tf.compat.v1.enable_resource_variables().\n"
          ],
          "name": "stderr"
        },
        {
          "output_type": "stream",
          "text": [
            "WARNING:tensorflow:Unable to create a python object for variable <tf.Variable 'Encoder_en/Transformer/TransformerEncodeFast/encoder/layer_2/self_attention/multihead_attention/k/kernel:0' shape=(512, 512) dtype=float32_ref> because it is a reference variable. It may not be visible to training APIs. If this is a problem, consider rebuilding the SavedModel after running tf.compat.v1.enable_resource_variables().\n"
          ],
          "name": "stdout"
        },
        {
          "output_type": "stream",
          "text": [
            "WARNING:tensorflow:Unable to create a python object for variable <tf.Variable 'Encoder_en/Transformer/TransformerEncodeFast/encoder/layer_2/self_attention/multihead_attention/k/kernel:0' shape=(512, 512) dtype=float32_ref> because it is a reference variable. It may not be visible to training APIs. If this is a problem, consider rebuilding the SavedModel after running tf.compat.v1.enable_resource_variables().\n"
          ],
          "name": "stderr"
        },
        {
          "output_type": "stream",
          "text": [
            "WARNING:tensorflow:Unable to create a python object for variable <tf.Variable 'Encoder_en/Transformer/TransformerEncodeFast/encoder/layer_2/self_attention/multihead_attention/v/kernel:0' shape=(512, 512) dtype=float32_ref> because it is a reference variable. It may not be visible to training APIs. If this is a problem, consider rebuilding the SavedModel after running tf.compat.v1.enable_resource_variables().\n"
          ],
          "name": "stdout"
        },
        {
          "output_type": "stream",
          "text": [
            "WARNING:tensorflow:Unable to create a python object for variable <tf.Variable 'Encoder_en/Transformer/TransformerEncodeFast/encoder/layer_2/self_attention/multihead_attention/v/kernel:0' shape=(512, 512) dtype=float32_ref> because it is a reference variable. It may not be visible to training APIs. If this is a problem, consider rebuilding the SavedModel after running tf.compat.v1.enable_resource_variables().\n"
          ],
          "name": "stderr"
        },
        {
          "output_type": "stream",
          "text": [
            "WARNING:tensorflow:Unable to create a python object for variable <tf.Variable 'Encoder_en/Transformer/TransformerEncodeFast/encoder/layer_2/self_attention/multihead_attention/output_transform/kernel:0' shape=(512, 512) dtype=float32_ref> because it is a reference variable. It may not be visible to training APIs. If this is a problem, consider rebuilding the SavedModel after running tf.compat.v1.enable_resource_variables().\n"
          ],
          "name": "stdout"
        },
        {
          "output_type": "stream",
          "text": [
            "WARNING:tensorflow:Unable to create a python object for variable <tf.Variable 'Encoder_en/Transformer/TransformerEncodeFast/encoder/layer_2/self_attention/multihead_attention/output_transform/kernel:0' shape=(512, 512) dtype=float32_ref> because it is a reference variable. It may not be visible to training APIs. If this is a problem, consider rebuilding the SavedModel after running tf.compat.v1.enable_resource_variables().\n"
          ],
          "name": "stderr"
        },
        {
          "output_type": "stream",
          "text": [
            "WARNING:tensorflow:Unable to create a python object for variable <tf.Variable 'Encoder_en/Transformer/TransformerEncodeFast/encoder/layer_2/ffn/layer_prepostprocess/layer_norm/layer_norm_scale:0' shape=(512,) dtype=float32_ref> because it is a reference variable. It may not be visible to training APIs. If this is a problem, consider rebuilding the SavedModel after running tf.compat.v1.enable_resource_variables().\n"
          ],
          "name": "stdout"
        },
        {
          "output_type": "stream",
          "text": [
            "WARNING:tensorflow:Unable to create a python object for variable <tf.Variable 'Encoder_en/Transformer/TransformerEncodeFast/encoder/layer_2/ffn/layer_prepostprocess/layer_norm/layer_norm_scale:0' shape=(512,) dtype=float32_ref> because it is a reference variable. It may not be visible to training APIs. If this is a problem, consider rebuilding the SavedModel after running tf.compat.v1.enable_resource_variables().\n"
          ],
          "name": "stderr"
        },
        {
          "output_type": "stream",
          "text": [
            "WARNING:tensorflow:Unable to create a python object for variable <tf.Variable 'Encoder_en/Transformer/TransformerEncodeFast/encoder/layer_2/ffn/layer_prepostprocess/layer_norm/layer_norm_bias:0' shape=(512,) dtype=float32_ref> because it is a reference variable. It may not be visible to training APIs. If this is a problem, consider rebuilding the SavedModel after running tf.compat.v1.enable_resource_variables().\n"
          ],
          "name": "stdout"
        },
        {
          "output_type": "stream",
          "text": [
            "WARNING:tensorflow:Unable to create a python object for variable <tf.Variable 'Encoder_en/Transformer/TransformerEncodeFast/encoder/layer_2/ffn/layer_prepostprocess/layer_norm/layer_norm_bias:0' shape=(512,) dtype=float32_ref> because it is a reference variable. It may not be visible to training APIs. If this is a problem, consider rebuilding the SavedModel after running tf.compat.v1.enable_resource_variables().\n"
          ],
          "name": "stderr"
        },
        {
          "output_type": "stream",
          "text": [
            "WARNING:tensorflow:Unable to create a python object for variable <tf.Variable 'Encoder_en/Transformer/TransformerEncodeFast/encoder/layer_2/ffn/conv1/kernel:0' shape=(512, 2048) dtype=float32_ref> because it is a reference variable. It may not be visible to training APIs. If this is a problem, consider rebuilding the SavedModel after running tf.compat.v1.enable_resource_variables().\n"
          ],
          "name": "stdout"
        },
        {
          "output_type": "stream",
          "text": [
            "WARNING:tensorflow:Unable to create a python object for variable <tf.Variable 'Encoder_en/Transformer/TransformerEncodeFast/encoder/layer_2/ffn/conv1/kernel:0' shape=(512, 2048) dtype=float32_ref> because it is a reference variable. It may not be visible to training APIs. If this is a problem, consider rebuilding the SavedModel after running tf.compat.v1.enable_resource_variables().\n"
          ],
          "name": "stderr"
        },
        {
          "output_type": "stream",
          "text": [
            "WARNING:tensorflow:Unable to create a python object for variable <tf.Variable 'Encoder_en/Transformer/TransformerEncodeFast/encoder/layer_2/ffn/conv1/bias:0' shape=(2048,) dtype=float32_ref> because it is a reference variable. It may not be visible to training APIs. If this is a problem, consider rebuilding the SavedModel after running tf.compat.v1.enable_resource_variables().\n"
          ],
          "name": "stdout"
        },
        {
          "output_type": "stream",
          "text": [
            "WARNING:tensorflow:Unable to create a python object for variable <tf.Variable 'Encoder_en/Transformer/TransformerEncodeFast/encoder/layer_2/ffn/conv1/bias:0' shape=(2048,) dtype=float32_ref> because it is a reference variable. It may not be visible to training APIs. If this is a problem, consider rebuilding the SavedModel after running tf.compat.v1.enable_resource_variables().\n"
          ],
          "name": "stderr"
        },
        {
          "output_type": "stream",
          "text": [
            "WARNING:tensorflow:Unable to create a python object for variable <tf.Variable 'Encoder_en/Transformer/TransformerEncodeFast/encoder/layer_2/ffn/conv2/kernel:0' shape=(2048, 512) dtype=float32_ref> because it is a reference variable. It may not be visible to training APIs. If this is a problem, consider rebuilding the SavedModel after running tf.compat.v1.enable_resource_variables().\n"
          ],
          "name": "stdout"
        },
        {
          "output_type": "stream",
          "text": [
            "WARNING:tensorflow:Unable to create a python object for variable <tf.Variable 'Encoder_en/Transformer/TransformerEncodeFast/encoder/layer_2/ffn/conv2/kernel:0' shape=(2048, 512) dtype=float32_ref> because it is a reference variable. It may not be visible to training APIs. If this is a problem, consider rebuilding the SavedModel after running tf.compat.v1.enable_resource_variables().\n"
          ],
          "name": "stderr"
        },
        {
          "output_type": "stream",
          "text": [
            "WARNING:tensorflow:Unable to create a python object for variable <tf.Variable 'Encoder_en/Transformer/TransformerEncodeFast/encoder/layer_2/ffn/conv2/bias:0' shape=(512,) dtype=float32_ref> because it is a reference variable. It may not be visible to training APIs. If this is a problem, consider rebuilding the SavedModel after running tf.compat.v1.enable_resource_variables().\n"
          ],
          "name": "stdout"
        },
        {
          "output_type": "stream",
          "text": [
            "WARNING:tensorflow:Unable to create a python object for variable <tf.Variable 'Encoder_en/Transformer/TransformerEncodeFast/encoder/layer_2/ffn/conv2/bias:0' shape=(512,) dtype=float32_ref> because it is a reference variable. It may not be visible to training APIs. If this is a problem, consider rebuilding the SavedModel after running tf.compat.v1.enable_resource_variables().\n"
          ],
          "name": "stderr"
        },
        {
          "output_type": "stream",
          "text": [
            "WARNING:tensorflow:Unable to create a python object for variable <tf.Variable 'Encoder_en/Transformer/TransformerEncodeFast/encoder/layer_3/self_attention/layer_prepostprocess/layer_norm/layer_norm_scale:0' shape=(512,) dtype=float32_ref> because it is a reference variable. It may not be visible to training APIs. If this is a problem, consider rebuilding the SavedModel after running tf.compat.v1.enable_resource_variables().\n"
          ],
          "name": "stdout"
        },
        {
          "output_type": "stream",
          "text": [
            "WARNING:tensorflow:Unable to create a python object for variable <tf.Variable 'Encoder_en/Transformer/TransformerEncodeFast/encoder/layer_3/self_attention/layer_prepostprocess/layer_norm/layer_norm_scale:0' shape=(512,) dtype=float32_ref> because it is a reference variable. It may not be visible to training APIs. If this is a problem, consider rebuilding the SavedModel after running tf.compat.v1.enable_resource_variables().\n"
          ],
          "name": "stderr"
        },
        {
          "output_type": "stream",
          "text": [
            "WARNING:tensorflow:Unable to create a python object for variable <tf.Variable 'Encoder_en/Transformer/TransformerEncodeFast/encoder/layer_3/self_attention/layer_prepostprocess/layer_norm/layer_norm_bias:0' shape=(512,) dtype=float32_ref> because it is a reference variable. It may not be visible to training APIs. If this is a problem, consider rebuilding the SavedModel after running tf.compat.v1.enable_resource_variables().\n"
          ],
          "name": "stdout"
        },
        {
          "output_type": "stream",
          "text": [
            "WARNING:tensorflow:Unable to create a python object for variable <tf.Variable 'Encoder_en/Transformer/TransformerEncodeFast/encoder/layer_3/self_attention/layer_prepostprocess/layer_norm/layer_norm_bias:0' shape=(512,) dtype=float32_ref> because it is a reference variable. It may not be visible to training APIs. If this is a problem, consider rebuilding the SavedModel after running tf.compat.v1.enable_resource_variables().\n"
          ],
          "name": "stderr"
        },
        {
          "output_type": "stream",
          "text": [
            "WARNING:tensorflow:Unable to create a python object for variable <tf.Variable 'Encoder_en/Transformer/TransformerEncodeFast/encoder/layer_3/self_attention/multihead_attention/q/kernel:0' shape=(512, 512) dtype=float32_ref> because it is a reference variable. It may not be visible to training APIs. If this is a problem, consider rebuilding the SavedModel after running tf.compat.v1.enable_resource_variables().\n"
          ],
          "name": "stdout"
        },
        {
          "output_type": "stream",
          "text": [
            "WARNING:tensorflow:Unable to create a python object for variable <tf.Variable 'Encoder_en/Transformer/TransformerEncodeFast/encoder/layer_3/self_attention/multihead_attention/q/kernel:0' shape=(512, 512) dtype=float32_ref> because it is a reference variable. It may not be visible to training APIs. If this is a problem, consider rebuilding the SavedModel after running tf.compat.v1.enable_resource_variables().\n"
          ],
          "name": "stderr"
        },
        {
          "output_type": "stream",
          "text": [
            "WARNING:tensorflow:Unable to create a python object for variable <tf.Variable 'Encoder_en/Transformer/TransformerEncodeFast/encoder/layer_3/self_attention/multihead_attention/k/kernel:0' shape=(512, 512) dtype=float32_ref> because it is a reference variable. It may not be visible to training APIs. If this is a problem, consider rebuilding the SavedModel after running tf.compat.v1.enable_resource_variables().\n"
          ],
          "name": "stdout"
        },
        {
          "output_type": "stream",
          "text": [
            "WARNING:tensorflow:Unable to create a python object for variable <tf.Variable 'Encoder_en/Transformer/TransformerEncodeFast/encoder/layer_3/self_attention/multihead_attention/k/kernel:0' shape=(512, 512) dtype=float32_ref> because it is a reference variable. It may not be visible to training APIs. If this is a problem, consider rebuilding the SavedModel after running tf.compat.v1.enable_resource_variables().\n"
          ],
          "name": "stderr"
        },
        {
          "output_type": "stream",
          "text": [
            "WARNING:tensorflow:Unable to create a python object for variable <tf.Variable 'Encoder_en/Transformer/TransformerEncodeFast/encoder/layer_3/self_attention/multihead_attention/v/kernel:0' shape=(512, 512) dtype=float32_ref> because it is a reference variable. It may not be visible to training APIs. If this is a problem, consider rebuilding the SavedModel after running tf.compat.v1.enable_resource_variables().\n"
          ],
          "name": "stdout"
        },
        {
          "output_type": "stream",
          "text": [
            "WARNING:tensorflow:Unable to create a python object for variable <tf.Variable 'Encoder_en/Transformer/TransformerEncodeFast/encoder/layer_3/self_attention/multihead_attention/v/kernel:0' shape=(512, 512) dtype=float32_ref> because it is a reference variable. It may not be visible to training APIs. If this is a problem, consider rebuilding the SavedModel after running tf.compat.v1.enable_resource_variables().\n"
          ],
          "name": "stderr"
        },
        {
          "output_type": "stream",
          "text": [
            "WARNING:tensorflow:Unable to create a python object for variable <tf.Variable 'Encoder_en/Transformer/TransformerEncodeFast/encoder/layer_3/self_attention/multihead_attention/output_transform/kernel:0' shape=(512, 512) dtype=float32_ref> because it is a reference variable. It may not be visible to training APIs. If this is a problem, consider rebuilding the SavedModel after running tf.compat.v1.enable_resource_variables().\n"
          ],
          "name": "stdout"
        },
        {
          "output_type": "stream",
          "text": [
            "WARNING:tensorflow:Unable to create a python object for variable <tf.Variable 'Encoder_en/Transformer/TransformerEncodeFast/encoder/layer_3/self_attention/multihead_attention/output_transform/kernel:0' shape=(512, 512) dtype=float32_ref> because it is a reference variable. It may not be visible to training APIs. If this is a problem, consider rebuilding the SavedModel after running tf.compat.v1.enable_resource_variables().\n"
          ],
          "name": "stderr"
        },
        {
          "output_type": "stream",
          "text": [
            "WARNING:tensorflow:Unable to create a python object for variable <tf.Variable 'Encoder_en/Transformer/TransformerEncodeFast/encoder/layer_3/ffn/layer_prepostprocess/layer_norm/layer_norm_scale:0' shape=(512,) dtype=float32_ref> because it is a reference variable. It may not be visible to training APIs. If this is a problem, consider rebuilding the SavedModel after running tf.compat.v1.enable_resource_variables().\n"
          ],
          "name": "stdout"
        },
        {
          "output_type": "stream",
          "text": [
            "WARNING:tensorflow:Unable to create a python object for variable <tf.Variable 'Encoder_en/Transformer/TransformerEncodeFast/encoder/layer_3/ffn/layer_prepostprocess/layer_norm/layer_norm_scale:0' shape=(512,) dtype=float32_ref> because it is a reference variable. It may not be visible to training APIs. If this is a problem, consider rebuilding the SavedModel after running tf.compat.v1.enable_resource_variables().\n"
          ],
          "name": "stderr"
        },
        {
          "output_type": "stream",
          "text": [
            "WARNING:tensorflow:Unable to create a python object for variable <tf.Variable 'Encoder_en/Transformer/TransformerEncodeFast/encoder/layer_3/ffn/layer_prepostprocess/layer_norm/layer_norm_bias:0' shape=(512,) dtype=float32_ref> because it is a reference variable. It may not be visible to training APIs. If this is a problem, consider rebuilding the SavedModel after running tf.compat.v1.enable_resource_variables().\n"
          ],
          "name": "stdout"
        },
        {
          "output_type": "stream",
          "text": [
            "WARNING:tensorflow:Unable to create a python object for variable <tf.Variable 'Encoder_en/Transformer/TransformerEncodeFast/encoder/layer_3/ffn/layer_prepostprocess/layer_norm/layer_norm_bias:0' shape=(512,) dtype=float32_ref> because it is a reference variable. It may not be visible to training APIs. If this is a problem, consider rebuilding the SavedModel after running tf.compat.v1.enable_resource_variables().\n"
          ],
          "name": "stderr"
        },
        {
          "output_type": "stream",
          "text": [
            "WARNING:tensorflow:Unable to create a python object for variable <tf.Variable 'Encoder_en/Transformer/TransformerEncodeFast/encoder/layer_3/ffn/conv1/kernel:0' shape=(512, 2048) dtype=float32_ref> because it is a reference variable. It may not be visible to training APIs. If this is a problem, consider rebuilding the SavedModel after running tf.compat.v1.enable_resource_variables().\n"
          ],
          "name": "stdout"
        },
        {
          "output_type": "stream",
          "text": [
            "WARNING:tensorflow:Unable to create a python object for variable <tf.Variable 'Encoder_en/Transformer/TransformerEncodeFast/encoder/layer_3/ffn/conv1/kernel:0' shape=(512, 2048) dtype=float32_ref> because it is a reference variable. It may not be visible to training APIs. If this is a problem, consider rebuilding the SavedModel after running tf.compat.v1.enable_resource_variables().\n"
          ],
          "name": "stderr"
        },
        {
          "output_type": "stream",
          "text": [
            "WARNING:tensorflow:Unable to create a python object for variable <tf.Variable 'Encoder_en/Transformer/TransformerEncodeFast/encoder/layer_3/ffn/conv1/bias:0' shape=(2048,) dtype=float32_ref> because it is a reference variable. It may not be visible to training APIs. If this is a problem, consider rebuilding the SavedModel after running tf.compat.v1.enable_resource_variables().\n"
          ],
          "name": "stdout"
        },
        {
          "output_type": "stream",
          "text": [
            "WARNING:tensorflow:Unable to create a python object for variable <tf.Variable 'Encoder_en/Transformer/TransformerEncodeFast/encoder/layer_3/ffn/conv1/bias:0' shape=(2048,) dtype=float32_ref> because it is a reference variable. It may not be visible to training APIs. If this is a problem, consider rebuilding the SavedModel after running tf.compat.v1.enable_resource_variables().\n"
          ],
          "name": "stderr"
        },
        {
          "output_type": "stream",
          "text": [
            "WARNING:tensorflow:Unable to create a python object for variable <tf.Variable 'Encoder_en/Transformer/TransformerEncodeFast/encoder/layer_3/ffn/conv2/kernel:0' shape=(2048, 512) dtype=float32_ref> because it is a reference variable. It may not be visible to training APIs. If this is a problem, consider rebuilding the SavedModel after running tf.compat.v1.enable_resource_variables().\n"
          ],
          "name": "stdout"
        },
        {
          "output_type": "stream",
          "text": [
            "WARNING:tensorflow:Unable to create a python object for variable <tf.Variable 'Encoder_en/Transformer/TransformerEncodeFast/encoder/layer_3/ffn/conv2/kernel:0' shape=(2048, 512) dtype=float32_ref> because it is a reference variable. It may not be visible to training APIs. If this is a problem, consider rebuilding the SavedModel after running tf.compat.v1.enable_resource_variables().\n"
          ],
          "name": "stderr"
        },
        {
          "output_type": "stream",
          "text": [
            "WARNING:tensorflow:Unable to create a python object for variable <tf.Variable 'Encoder_en/Transformer/TransformerEncodeFast/encoder/layer_3/ffn/conv2/bias:0' shape=(512,) dtype=float32_ref> because it is a reference variable. It may not be visible to training APIs. If this is a problem, consider rebuilding the SavedModel after running tf.compat.v1.enable_resource_variables().\n"
          ],
          "name": "stdout"
        },
        {
          "output_type": "stream",
          "text": [
            "WARNING:tensorflow:Unable to create a python object for variable <tf.Variable 'Encoder_en/Transformer/TransformerEncodeFast/encoder/layer_3/ffn/conv2/bias:0' shape=(512,) dtype=float32_ref> because it is a reference variable. It may not be visible to training APIs. If this is a problem, consider rebuilding the SavedModel after running tf.compat.v1.enable_resource_variables().\n"
          ],
          "name": "stderr"
        },
        {
          "output_type": "stream",
          "text": [
            "WARNING:tensorflow:Unable to create a python object for variable <tf.Variable 'Encoder_en/Transformer/TransformerEncodeFast/encoder/layer_4/self_attention/layer_prepostprocess/layer_norm/layer_norm_scale:0' shape=(512,) dtype=float32_ref> because it is a reference variable. It may not be visible to training APIs. If this is a problem, consider rebuilding the SavedModel after running tf.compat.v1.enable_resource_variables().\n"
          ],
          "name": "stdout"
        },
        {
          "output_type": "stream",
          "text": [
            "WARNING:tensorflow:Unable to create a python object for variable <tf.Variable 'Encoder_en/Transformer/TransformerEncodeFast/encoder/layer_4/self_attention/layer_prepostprocess/layer_norm/layer_norm_scale:0' shape=(512,) dtype=float32_ref> because it is a reference variable. It may not be visible to training APIs. If this is a problem, consider rebuilding the SavedModel after running tf.compat.v1.enable_resource_variables().\n"
          ],
          "name": "stderr"
        },
        {
          "output_type": "stream",
          "text": [
            "WARNING:tensorflow:Unable to create a python object for variable <tf.Variable 'Encoder_en/Transformer/TransformerEncodeFast/encoder/layer_4/self_attention/layer_prepostprocess/layer_norm/layer_norm_bias:0' shape=(512,) dtype=float32_ref> because it is a reference variable. It may not be visible to training APIs. If this is a problem, consider rebuilding the SavedModel after running tf.compat.v1.enable_resource_variables().\n"
          ],
          "name": "stdout"
        },
        {
          "output_type": "stream",
          "text": [
            "WARNING:tensorflow:Unable to create a python object for variable <tf.Variable 'Encoder_en/Transformer/TransformerEncodeFast/encoder/layer_4/self_attention/layer_prepostprocess/layer_norm/layer_norm_bias:0' shape=(512,) dtype=float32_ref> because it is a reference variable. It may not be visible to training APIs. If this is a problem, consider rebuilding the SavedModel after running tf.compat.v1.enable_resource_variables().\n"
          ],
          "name": "stderr"
        },
        {
          "output_type": "stream",
          "text": [
            "WARNING:tensorflow:Unable to create a python object for variable <tf.Variable 'Encoder_en/Transformer/TransformerEncodeFast/encoder/layer_4/self_attention/multihead_attention/q/kernel:0' shape=(512, 512) dtype=float32_ref> because it is a reference variable. It may not be visible to training APIs. If this is a problem, consider rebuilding the SavedModel after running tf.compat.v1.enable_resource_variables().\n"
          ],
          "name": "stdout"
        },
        {
          "output_type": "stream",
          "text": [
            "WARNING:tensorflow:Unable to create a python object for variable <tf.Variable 'Encoder_en/Transformer/TransformerEncodeFast/encoder/layer_4/self_attention/multihead_attention/q/kernel:0' shape=(512, 512) dtype=float32_ref> because it is a reference variable. It may not be visible to training APIs. If this is a problem, consider rebuilding the SavedModel after running tf.compat.v1.enable_resource_variables().\n"
          ],
          "name": "stderr"
        },
        {
          "output_type": "stream",
          "text": [
            "WARNING:tensorflow:Unable to create a python object for variable <tf.Variable 'Encoder_en/Transformer/TransformerEncodeFast/encoder/layer_4/self_attention/multihead_attention/k/kernel:0' shape=(512, 512) dtype=float32_ref> because it is a reference variable. It may not be visible to training APIs. If this is a problem, consider rebuilding the SavedModel after running tf.compat.v1.enable_resource_variables().\n"
          ],
          "name": "stdout"
        },
        {
          "output_type": "stream",
          "text": [
            "WARNING:tensorflow:Unable to create a python object for variable <tf.Variable 'Encoder_en/Transformer/TransformerEncodeFast/encoder/layer_4/self_attention/multihead_attention/k/kernel:0' shape=(512, 512) dtype=float32_ref> because it is a reference variable. It may not be visible to training APIs. If this is a problem, consider rebuilding the SavedModel after running tf.compat.v1.enable_resource_variables().\n"
          ],
          "name": "stderr"
        },
        {
          "output_type": "stream",
          "text": [
            "WARNING:tensorflow:Unable to create a python object for variable <tf.Variable 'Encoder_en/Transformer/TransformerEncodeFast/encoder/layer_4/self_attention/multihead_attention/v/kernel:0' shape=(512, 512) dtype=float32_ref> because it is a reference variable. It may not be visible to training APIs. If this is a problem, consider rebuilding the SavedModel after running tf.compat.v1.enable_resource_variables().\n"
          ],
          "name": "stdout"
        },
        {
          "output_type": "stream",
          "text": [
            "WARNING:tensorflow:Unable to create a python object for variable <tf.Variable 'Encoder_en/Transformer/TransformerEncodeFast/encoder/layer_4/self_attention/multihead_attention/v/kernel:0' shape=(512, 512) dtype=float32_ref> because it is a reference variable. It may not be visible to training APIs. If this is a problem, consider rebuilding the SavedModel after running tf.compat.v1.enable_resource_variables().\n"
          ],
          "name": "stderr"
        },
        {
          "output_type": "stream",
          "text": [
            "WARNING:tensorflow:Unable to create a python object for variable <tf.Variable 'Encoder_en/Transformer/TransformerEncodeFast/encoder/layer_4/self_attention/multihead_attention/output_transform/kernel:0' shape=(512, 512) dtype=float32_ref> because it is a reference variable. It may not be visible to training APIs. If this is a problem, consider rebuilding the SavedModel after running tf.compat.v1.enable_resource_variables().\n"
          ],
          "name": "stdout"
        },
        {
          "output_type": "stream",
          "text": [
            "WARNING:tensorflow:Unable to create a python object for variable <tf.Variable 'Encoder_en/Transformer/TransformerEncodeFast/encoder/layer_4/self_attention/multihead_attention/output_transform/kernel:0' shape=(512, 512) dtype=float32_ref> because it is a reference variable. It may not be visible to training APIs. If this is a problem, consider rebuilding the SavedModel after running tf.compat.v1.enable_resource_variables().\n"
          ],
          "name": "stderr"
        },
        {
          "output_type": "stream",
          "text": [
            "WARNING:tensorflow:Unable to create a python object for variable <tf.Variable 'Encoder_en/Transformer/TransformerEncodeFast/encoder/layer_4/ffn/layer_prepostprocess/layer_norm/layer_norm_scale:0' shape=(512,) dtype=float32_ref> because it is a reference variable. It may not be visible to training APIs. If this is a problem, consider rebuilding the SavedModel after running tf.compat.v1.enable_resource_variables().\n"
          ],
          "name": "stdout"
        },
        {
          "output_type": "stream",
          "text": [
            "WARNING:tensorflow:Unable to create a python object for variable <tf.Variable 'Encoder_en/Transformer/TransformerEncodeFast/encoder/layer_4/ffn/layer_prepostprocess/layer_norm/layer_norm_scale:0' shape=(512,) dtype=float32_ref> because it is a reference variable. It may not be visible to training APIs. If this is a problem, consider rebuilding the SavedModel after running tf.compat.v1.enable_resource_variables().\n"
          ],
          "name": "stderr"
        },
        {
          "output_type": "stream",
          "text": [
            "WARNING:tensorflow:Unable to create a python object for variable <tf.Variable 'Encoder_en/Transformer/TransformerEncodeFast/encoder/layer_4/ffn/layer_prepostprocess/layer_norm/layer_norm_bias:0' shape=(512,) dtype=float32_ref> because it is a reference variable. It may not be visible to training APIs. If this is a problem, consider rebuilding the SavedModel after running tf.compat.v1.enable_resource_variables().\n"
          ],
          "name": "stdout"
        },
        {
          "output_type": "stream",
          "text": [
            "WARNING:tensorflow:Unable to create a python object for variable <tf.Variable 'Encoder_en/Transformer/TransformerEncodeFast/encoder/layer_4/ffn/layer_prepostprocess/layer_norm/layer_norm_bias:0' shape=(512,) dtype=float32_ref> because it is a reference variable. It may not be visible to training APIs. If this is a problem, consider rebuilding the SavedModel after running tf.compat.v1.enable_resource_variables().\n"
          ],
          "name": "stderr"
        },
        {
          "output_type": "stream",
          "text": [
            "WARNING:tensorflow:Unable to create a python object for variable <tf.Variable 'Encoder_en/Transformer/TransformerEncodeFast/encoder/layer_4/ffn/conv1/kernel:0' shape=(512, 2048) dtype=float32_ref> because it is a reference variable. It may not be visible to training APIs. If this is a problem, consider rebuilding the SavedModel after running tf.compat.v1.enable_resource_variables().\n"
          ],
          "name": "stdout"
        },
        {
          "output_type": "stream",
          "text": [
            "WARNING:tensorflow:Unable to create a python object for variable <tf.Variable 'Encoder_en/Transformer/TransformerEncodeFast/encoder/layer_4/ffn/conv1/kernel:0' shape=(512, 2048) dtype=float32_ref> because it is a reference variable. It may not be visible to training APIs. If this is a problem, consider rebuilding the SavedModel after running tf.compat.v1.enable_resource_variables().\n"
          ],
          "name": "stderr"
        },
        {
          "output_type": "stream",
          "text": [
            "WARNING:tensorflow:Unable to create a python object for variable <tf.Variable 'Encoder_en/Transformer/TransformerEncodeFast/encoder/layer_4/ffn/conv1/bias:0' shape=(2048,) dtype=float32_ref> because it is a reference variable. It may not be visible to training APIs. If this is a problem, consider rebuilding the SavedModel after running tf.compat.v1.enable_resource_variables().\n"
          ],
          "name": "stdout"
        },
        {
          "output_type": "stream",
          "text": [
            "WARNING:tensorflow:Unable to create a python object for variable <tf.Variable 'Encoder_en/Transformer/TransformerEncodeFast/encoder/layer_4/ffn/conv1/bias:0' shape=(2048,) dtype=float32_ref> because it is a reference variable. It may not be visible to training APIs. If this is a problem, consider rebuilding the SavedModel after running tf.compat.v1.enable_resource_variables().\n"
          ],
          "name": "stderr"
        },
        {
          "output_type": "stream",
          "text": [
            "WARNING:tensorflow:Unable to create a python object for variable <tf.Variable 'Encoder_en/Transformer/TransformerEncodeFast/encoder/layer_4/ffn/conv2/kernel:0' shape=(2048, 512) dtype=float32_ref> because it is a reference variable. It may not be visible to training APIs. If this is a problem, consider rebuilding the SavedModel after running tf.compat.v1.enable_resource_variables().\n"
          ],
          "name": "stdout"
        },
        {
          "output_type": "stream",
          "text": [
            "WARNING:tensorflow:Unable to create a python object for variable <tf.Variable 'Encoder_en/Transformer/TransformerEncodeFast/encoder/layer_4/ffn/conv2/kernel:0' shape=(2048, 512) dtype=float32_ref> because it is a reference variable. It may not be visible to training APIs. If this is a problem, consider rebuilding the SavedModel after running tf.compat.v1.enable_resource_variables().\n"
          ],
          "name": "stderr"
        },
        {
          "output_type": "stream",
          "text": [
            "WARNING:tensorflow:Unable to create a python object for variable <tf.Variable 'Encoder_en/Transformer/TransformerEncodeFast/encoder/layer_4/ffn/conv2/bias:0' shape=(512,) dtype=float32_ref> because it is a reference variable. It may not be visible to training APIs. If this is a problem, consider rebuilding the SavedModel after running tf.compat.v1.enable_resource_variables().\n"
          ],
          "name": "stdout"
        },
        {
          "output_type": "stream",
          "text": [
            "WARNING:tensorflow:Unable to create a python object for variable <tf.Variable 'Encoder_en/Transformer/TransformerEncodeFast/encoder/layer_4/ffn/conv2/bias:0' shape=(512,) dtype=float32_ref> because it is a reference variable. It may not be visible to training APIs. If this is a problem, consider rebuilding the SavedModel after running tf.compat.v1.enable_resource_variables().\n"
          ],
          "name": "stderr"
        },
        {
          "output_type": "stream",
          "text": [
            "WARNING:tensorflow:Unable to create a python object for variable <tf.Variable 'Encoder_en/Transformer/TransformerEncodeFast/encoder/layer_5/self_attention/layer_prepostprocess/layer_norm/layer_norm_scale:0' shape=(512,) dtype=float32_ref> because it is a reference variable. It may not be visible to training APIs. If this is a problem, consider rebuilding the SavedModel after running tf.compat.v1.enable_resource_variables().\n"
          ],
          "name": "stdout"
        },
        {
          "output_type": "stream",
          "text": [
            "WARNING:tensorflow:Unable to create a python object for variable <tf.Variable 'Encoder_en/Transformer/TransformerEncodeFast/encoder/layer_5/self_attention/layer_prepostprocess/layer_norm/layer_norm_scale:0' shape=(512,) dtype=float32_ref> because it is a reference variable. It may not be visible to training APIs. If this is a problem, consider rebuilding the SavedModel after running tf.compat.v1.enable_resource_variables().\n"
          ],
          "name": "stderr"
        },
        {
          "output_type": "stream",
          "text": [
            "WARNING:tensorflow:Unable to create a python object for variable <tf.Variable 'Encoder_en/Transformer/TransformerEncodeFast/encoder/layer_5/self_attention/layer_prepostprocess/layer_norm/layer_norm_bias:0' shape=(512,) dtype=float32_ref> because it is a reference variable. It may not be visible to training APIs. If this is a problem, consider rebuilding the SavedModel after running tf.compat.v1.enable_resource_variables().\n"
          ],
          "name": "stdout"
        },
        {
          "output_type": "stream",
          "text": [
            "WARNING:tensorflow:Unable to create a python object for variable <tf.Variable 'Encoder_en/Transformer/TransformerEncodeFast/encoder/layer_5/self_attention/layer_prepostprocess/layer_norm/layer_norm_bias:0' shape=(512,) dtype=float32_ref> because it is a reference variable. It may not be visible to training APIs. If this is a problem, consider rebuilding the SavedModel after running tf.compat.v1.enable_resource_variables().\n"
          ],
          "name": "stderr"
        },
        {
          "output_type": "stream",
          "text": [
            "WARNING:tensorflow:Unable to create a python object for variable <tf.Variable 'Encoder_en/Transformer/TransformerEncodeFast/encoder/layer_5/self_attention/multihead_attention/q/kernel:0' shape=(512, 512) dtype=float32_ref> because it is a reference variable. It may not be visible to training APIs. If this is a problem, consider rebuilding the SavedModel after running tf.compat.v1.enable_resource_variables().\n"
          ],
          "name": "stdout"
        },
        {
          "output_type": "stream",
          "text": [
            "WARNING:tensorflow:Unable to create a python object for variable <tf.Variable 'Encoder_en/Transformer/TransformerEncodeFast/encoder/layer_5/self_attention/multihead_attention/q/kernel:0' shape=(512, 512) dtype=float32_ref> because it is a reference variable. It may not be visible to training APIs. If this is a problem, consider rebuilding the SavedModel after running tf.compat.v1.enable_resource_variables().\n"
          ],
          "name": "stderr"
        },
        {
          "output_type": "stream",
          "text": [
            "WARNING:tensorflow:Unable to create a python object for variable <tf.Variable 'Encoder_en/Transformer/TransformerEncodeFast/encoder/layer_5/self_attention/multihead_attention/k/kernel:0' shape=(512, 512) dtype=float32_ref> because it is a reference variable. It may not be visible to training APIs. If this is a problem, consider rebuilding the SavedModel after running tf.compat.v1.enable_resource_variables().\n"
          ],
          "name": "stdout"
        },
        {
          "output_type": "stream",
          "text": [
            "WARNING:tensorflow:Unable to create a python object for variable <tf.Variable 'Encoder_en/Transformer/TransformerEncodeFast/encoder/layer_5/self_attention/multihead_attention/k/kernel:0' shape=(512, 512) dtype=float32_ref> because it is a reference variable. It may not be visible to training APIs. If this is a problem, consider rebuilding the SavedModel after running tf.compat.v1.enable_resource_variables().\n"
          ],
          "name": "stderr"
        },
        {
          "output_type": "stream",
          "text": [
            "WARNING:tensorflow:Unable to create a python object for variable <tf.Variable 'Encoder_en/Transformer/TransformerEncodeFast/encoder/layer_5/self_attention/multihead_attention/v/kernel:0' shape=(512, 512) dtype=float32_ref> because it is a reference variable. It may not be visible to training APIs. If this is a problem, consider rebuilding the SavedModel after running tf.compat.v1.enable_resource_variables().\n"
          ],
          "name": "stdout"
        },
        {
          "output_type": "stream",
          "text": [
            "WARNING:tensorflow:Unable to create a python object for variable <tf.Variable 'Encoder_en/Transformer/TransformerEncodeFast/encoder/layer_5/self_attention/multihead_attention/v/kernel:0' shape=(512, 512) dtype=float32_ref> because it is a reference variable. It may not be visible to training APIs. If this is a problem, consider rebuilding the SavedModel after running tf.compat.v1.enable_resource_variables().\n"
          ],
          "name": "stderr"
        },
        {
          "output_type": "stream",
          "text": [
            "WARNING:tensorflow:Unable to create a python object for variable <tf.Variable 'Encoder_en/Transformer/TransformerEncodeFast/encoder/layer_5/self_attention/multihead_attention/output_transform/kernel:0' shape=(512, 512) dtype=float32_ref> because it is a reference variable. It may not be visible to training APIs. If this is a problem, consider rebuilding the SavedModel after running tf.compat.v1.enable_resource_variables().\n"
          ],
          "name": "stdout"
        },
        {
          "output_type": "stream",
          "text": [
            "WARNING:tensorflow:Unable to create a python object for variable <tf.Variable 'Encoder_en/Transformer/TransformerEncodeFast/encoder/layer_5/self_attention/multihead_attention/output_transform/kernel:0' shape=(512, 512) dtype=float32_ref> because it is a reference variable. It may not be visible to training APIs. If this is a problem, consider rebuilding the SavedModel after running tf.compat.v1.enable_resource_variables().\n"
          ],
          "name": "stderr"
        },
        {
          "output_type": "stream",
          "text": [
            "WARNING:tensorflow:Unable to create a python object for variable <tf.Variable 'Encoder_en/Transformer/TransformerEncodeFast/encoder/layer_5/ffn/layer_prepostprocess/layer_norm/layer_norm_scale:0' shape=(512,) dtype=float32_ref> because it is a reference variable. It may not be visible to training APIs. If this is a problem, consider rebuilding the SavedModel after running tf.compat.v1.enable_resource_variables().\n"
          ],
          "name": "stdout"
        },
        {
          "output_type": "stream",
          "text": [
            "WARNING:tensorflow:Unable to create a python object for variable <tf.Variable 'Encoder_en/Transformer/TransformerEncodeFast/encoder/layer_5/ffn/layer_prepostprocess/layer_norm/layer_norm_scale:0' shape=(512,) dtype=float32_ref> because it is a reference variable. It may not be visible to training APIs. If this is a problem, consider rebuilding the SavedModel after running tf.compat.v1.enable_resource_variables().\n"
          ],
          "name": "stderr"
        },
        {
          "output_type": "stream",
          "text": [
            "WARNING:tensorflow:Unable to create a python object for variable <tf.Variable 'Encoder_en/Transformer/TransformerEncodeFast/encoder/layer_5/ffn/layer_prepostprocess/layer_norm/layer_norm_bias:0' shape=(512,) dtype=float32_ref> because it is a reference variable. It may not be visible to training APIs. If this is a problem, consider rebuilding the SavedModel after running tf.compat.v1.enable_resource_variables().\n"
          ],
          "name": "stdout"
        },
        {
          "output_type": "stream",
          "text": [
            "WARNING:tensorflow:Unable to create a python object for variable <tf.Variable 'Encoder_en/Transformer/TransformerEncodeFast/encoder/layer_5/ffn/layer_prepostprocess/layer_norm/layer_norm_bias:0' shape=(512,) dtype=float32_ref> because it is a reference variable. It may not be visible to training APIs. If this is a problem, consider rebuilding the SavedModel after running tf.compat.v1.enable_resource_variables().\n"
          ],
          "name": "stderr"
        },
        {
          "output_type": "stream",
          "text": [
            "WARNING:tensorflow:Unable to create a python object for variable <tf.Variable 'Encoder_en/Transformer/TransformerEncodeFast/encoder/layer_5/ffn/conv1/kernel:0' shape=(512, 2048) dtype=float32_ref> because it is a reference variable. It may not be visible to training APIs. If this is a problem, consider rebuilding the SavedModel after running tf.compat.v1.enable_resource_variables().\n"
          ],
          "name": "stdout"
        },
        {
          "output_type": "stream",
          "text": [
            "WARNING:tensorflow:Unable to create a python object for variable <tf.Variable 'Encoder_en/Transformer/TransformerEncodeFast/encoder/layer_5/ffn/conv1/kernel:0' shape=(512, 2048) dtype=float32_ref> because it is a reference variable. It may not be visible to training APIs. If this is a problem, consider rebuilding the SavedModel after running tf.compat.v1.enable_resource_variables().\n"
          ],
          "name": "stderr"
        },
        {
          "output_type": "stream",
          "text": [
            "WARNING:tensorflow:Unable to create a python object for variable <tf.Variable 'Encoder_en/Transformer/TransformerEncodeFast/encoder/layer_5/ffn/conv1/bias:0' shape=(2048,) dtype=float32_ref> because it is a reference variable. It may not be visible to training APIs. If this is a problem, consider rebuilding the SavedModel after running tf.compat.v1.enable_resource_variables().\n"
          ],
          "name": "stdout"
        },
        {
          "output_type": "stream",
          "text": [
            "WARNING:tensorflow:Unable to create a python object for variable <tf.Variable 'Encoder_en/Transformer/TransformerEncodeFast/encoder/layer_5/ffn/conv1/bias:0' shape=(2048,) dtype=float32_ref> because it is a reference variable. It may not be visible to training APIs. If this is a problem, consider rebuilding the SavedModel after running tf.compat.v1.enable_resource_variables().\n"
          ],
          "name": "stderr"
        },
        {
          "output_type": "stream",
          "text": [
            "WARNING:tensorflow:Unable to create a python object for variable <tf.Variable 'Encoder_en/Transformer/TransformerEncodeFast/encoder/layer_5/ffn/conv2/kernel:0' shape=(2048, 512) dtype=float32_ref> because it is a reference variable. It may not be visible to training APIs. If this is a problem, consider rebuilding the SavedModel after running tf.compat.v1.enable_resource_variables().\n"
          ],
          "name": "stdout"
        },
        {
          "output_type": "stream",
          "text": [
            "WARNING:tensorflow:Unable to create a python object for variable <tf.Variable 'Encoder_en/Transformer/TransformerEncodeFast/encoder/layer_5/ffn/conv2/kernel:0' shape=(2048, 512) dtype=float32_ref> because it is a reference variable. It may not be visible to training APIs. If this is a problem, consider rebuilding the SavedModel after running tf.compat.v1.enable_resource_variables().\n"
          ],
          "name": "stderr"
        },
        {
          "output_type": "stream",
          "text": [
            "WARNING:tensorflow:Unable to create a python object for variable <tf.Variable 'Encoder_en/Transformer/TransformerEncodeFast/encoder/layer_5/ffn/conv2/bias:0' shape=(512,) dtype=float32_ref> because it is a reference variable. It may not be visible to training APIs. If this is a problem, consider rebuilding the SavedModel after running tf.compat.v1.enable_resource_variables().\n"
          ],
          "name": "stdout"
        },
        {
          "output_type": "stream",
          "text": [
            "WARNING:tensorflow:Unable to create a python object for variable <tf.Variable 'Encoder_en/Transformer/TransformerEncodeFast/encoder/layer_5/ffn/conv2/bias:0' shape=(512,) dtype=float32_ref> because it is a reference variable. It may not be visible to training APIs. If this is a problem, consider rebuilding the SavedModel after running tf.compat.v1.enable_resource_variables().\n"
          ],
          "name": "stderr"
        },
        {
          "output_type": "stream",
          "text": [
            "WARNING:tensorflow:Unable to create a python object for variable <tf.Variable 'Encoder_en/Transformer/TransformerEncodeFast/encoder/layer_prepostprocess/layer_norm/layer_norm_scale:0' shape=(512,) dtype=float32_ref> because it is a reference variable. It may not be visible to training APIs. If this is a problem, consider rebuilding the SavedModel after running tf.compat.v1.enable_resource_variables().\n"
          ],
          "name": "stdout"
        },
        {
          "output_type": "stream",
          "text": [
            "WARNING:tensorflow:Unable to create a python object for variable <tf.Variable 'Encoder_en/Transformer/TransformerEncodeFast/encoder/layer_prepostprocess/layer_norm/layer_norm_scale:0' shape=(512,) dtype=float32_ref> because it is a reference variable. It may not be visible to training APIs. If this is a problem, consider rebuilding the SavedModel after running tf.compat.v1.enable_resource_variables().\n"
          ],
          "name": "stderr"
        },
        {
          "output_type": "stream",
          "text": [
            "WARNING:tensorflow:Unable to create a python object for variable <tf.Variable 'Encoder_en/Transformer/TransformerEncodeFast/encoder/layer_prepostprocess/layer_norm/layer_norm_bias:0' shape=(512,) dtype=float32_ref> because it is a reference variable. It may not be visible to training APIs. If this is a problem, consider rebuilding the SavedModel after running tf.compat.v1.enable_resource_variables().\n"
          ],
          "name": "stdout"
        },
        {
          "output_type": "stream",
          "text": [
            "WARNING:tensorflow:Unable to create a python object for variable <tf.Variable 'Encoder_en/Transformer/TransformerEncodeFast/encoder/layer_prepostprocess/layer_norm/layer_norm_bias:0' shape=(512,) dtype=float32_ref> because it is a reference variable. It may not be visible to training APIs. If this is a problem, consider rebuilding the SavedModel after running tf.compat.v1.enable_resource_variables().\n"
          ],
          "name": "stderr"
        },
        {
          "output_type": "stream",
          "text": [
            "WARNING:tensorflow:Unable to create a python object for variable <tf.Variable 'Encoder_en/hidden_layers/tanh_layer_0/dense/kernel:0' shape=(512, 512) dtype=float32_ref> because it is a reference variable. It may not be visible to training APIs. If this is a problem, consider rebuilding the SavedModel after running tf.compat.v1.enable_resource_variables().\n"
          ],
          "name": "stdout"
        },
        {
          "output_type": "stream",
          "text": [
            "WARNING:tensorflow:Unable to create a python object for variable <tf.Variable 'Encoder_en/hidden_layers/tanh_layer_0/dense/kernel:0' shape=(512, 512) dtype=float32_ref> because it is a reference variable. It may not be visible to training APIs. If this is a problem, consider rebuilding the SavedModel after running tf.compat.v1.enable_resource_variables().\n"
          ],
          "name": "stderr"
        },
        {
          "output_type": "stream",
          "text": [
            "WARNING:tensorflow:Unable to create a python object for variable <tf.Variable 'Encoder_en/hidden_layers/tanh_layer_0/dense/bias:0' shape=(512,) dtype=float32_ref> because it is a reference variable. It may not be visible to training APIs. If this is a problem, consider rebuilding the SavedModel after running tf.compat.v1.enable_resource_variables().\n"
          ],
          "name": "stdout"
        },
        {
          "output_type": "stream",
          "text": [
            "WARNING:tensorflow:Unable to create a python object for variable <tf.Variable 'Encoder_en/hidden_layers/tanh_layer_0/dense/bias:0' shape=(512,) dtype=float32_ref> because it is a reference variable. It may not be visible to training APIs. If this is a problem, consider rebuilding the SavedModel after running tf.compat.v1.enable_resource_variables().\n"
          ],
          "name": "stderr"
        }
      ]
    },
    {
      "cell_type": "code",
      "metadata": {
        "id": "aUsqNP0nSSSy",
        "colab_type": "code",
        "colab": {}
      },
      "source": [
        "#getting embeddings of the text1 and text2  present in row 0\n",
        "embeddings=embed(np.array([data.iloc[0]['text1'],data.iloc[0]['text2']]))"
      ],
      "execution_count": 0,
      "outputs": []
    },
    {
      "cell_type": "code",
      "metadata": {
        "id": "RNkijfnWSVe8",
        "colab_type": "code",
        "outputId": "bcae1583-a1e2-4d13-e2fb-9751deff5bad",
        "colab": {
          "base_uri": "https://localhost:8080/",
          "height": 106
        }
      },
      "source": [
        "#how paragraph in row 0 looks\n",
        "\n",
        "print(\"text1 of row 0: \\n\",data.iloc[0]['text1'])\n",
        "print(\"text2 of row 0: \\n\",data.iloc[0]['text2'])"
      ],
      "execution_count": 8,
      "outputs": [
        {
          "output_type": "stream",
          "text": [
            "text1 of row 0: \n",
            " savvy searchers fail to spot ads internet search engine users are an odd mix of naive and sophisticated  suggests a report into search habits.  the report by the us pew research center reveals that 87% of searchers usually find what they were looking for when using a search engine. it also shows that few can spot the difference between paid-for results and organic ones. the report reveals that 84% of net users say they regularly use google  ask jeeves  msn and yahoo when online.  almost 50% of those questioned said they would trust search engines much less  if they knew information about who paid for results was being hidden. according to figures gathered by the pew researchers the average users spends about 43 minutes per month carrying out 34 separate searches and looks at 1.9 webpages for each hunt. a significant chunk of net users  36%  carry out a search at least weekly and 29% of those asked only look every few weeks. for 44% of those questioned  the information they are looking for is critical to what they are doing and is information they simply have to find.  search engine users also tend to be very loyal and once they have found a site they feel they can trust tend to stick with it. according to pew research 44% of searchers use just a single search engine  48% use two or three and a small number  7%  consult more than three sites. tony macklin  spokesman for ask jeeves  said the results reflected its own research which showed that people use different search engines because the way the sites gather information means they can provide different results for the same query. despite this liking for search sites half of those questioned said they could get the same information via other routes. a small number  17%  said they wouldn t really miss search engines if they did not exist. the remaining 33% said they could not live without search sites. more than two-thirds of those questioned  68%  said they thought that the results they were presented with were a fair and unbiased selection of the information on a topic that can be found on the net. alongside the growing sophistication of net users is a lack of awareness about paid-for results that many search engines provide alongside lists of websites found by indexing the web. of those asked  62% were unaware that someone has paid for some of the results they see when they carry out a search. only 18% of all searchers say they can tell which results are paid for and which are not. said the pew report:  this finding is ironic  since nearly half of all users say they would stop using search engines if they thought engines were not being clear about how they presented paid results.  commenting mr macklin said sponsored results must be clearly marked and though they might help with some queries user testing showed that people need to be able to spot the difference.\n",
            "text2 of row 0: \n",
            " newcastle 2-1 bolton kieron dyer smashed home the winner to end bolton s 10-game unbeaten run.  lee bowyer put newcastle ahead when he fed stephen carr on the right flank  then sprinted into the area to power home a header from the resultant cross. wanderers hit back through stelios giannakopoulos  who ended a fluid passing move with a well-struck volley. but dyer had the last word in a game of few chances  pouncing on a loose ball after alan shearer s shot was blocked and firing into the top corner. neither side lacked urgency in the early stages of the game  with plenty of tackles flying in  but opportunities in front of goal were harder to come by. bolton keeper jussi jaaskelainen had to make two saves in quick succession midway through the first-half - keeping out shearer s low shot and dyer s close-range header - but that was the only goalmouth action of note. and it was almost out of nothing that the magpies took the lead on 35 minutes. bowyer found space with a neat turn on the half-way line and striding forward picked out carr to his right. he then continued his run and with perfect timing made his way into the box where he met carr s cross with a downward header into the far corner. bolton had produced little going forward at this point but they responded well.  they were level within six minutes thanks to a smart finish from giannakopoulos. jay-jay okocha twisted and turned on the edge of the area and after a neat exchange of passes involving kevin davies and gary speed  the greek striker found the bottom corner with a first-time strike. the magpies were opened up again before half-time as davies set giannakopoulos in space and given had to block at his near post. but the home side survived  and they should have re-taken the lead with the first meaningful attack of the second half. fernando hierro cynically chopped down dyer on the edge of the area with the midfielder clean through. but the veteran defender escaped with a booking as there were other defenders nearby  and from the resultant free-kick laurent robert curled the ball just wide. bolton were creating little going forward and they seemed content to frustrate the magpies. their strategy seemed to be working until the 69th minute. alan shearer s snap-shot was charged down and dyer reacted first to smash the ball past the despairing jaaskelainen from six yards.  - bolton boss sam allardyce  i am bitterly disappointed with the result  but i am probably more disappointed with the second-half performance.  in the first half we had put them under a lot of pressure  and our goal matched theirs in quality.  i thought it would lift us and that they might be tired after playing a lot of games  but unfortunately we were not up for the battle in the second half.  we allowed them to heap too much pressure on us  and in the end we cracked.    - newcastle boss graeme souness  we deserved the win. we had a really good second half.  bolton are a difficult side to play. you have to match them physically first but we did that  and then we played some football.  we had a slow first 45 minutes when we looked a bit tired but we got going after that. the scoreline flattered them and we could have had one or two more goals.  newcastle: given  carr  boumsong  bramble  babayaro  dyer  faye  bowyer  robert (jenas 77)  ameobi  shearer. subs not used: butt  harper  milner  hughes. goals: bowyer 35  dyer 69. bolton: jaaskelainen  hunt (fadiga 14)  n gotty  ben haim  candela  giannakopoulos  okocha (vaz te 77)  hierro (campo 64)  speed  gardner  davies. subs not used: jaidi  poole. booked: ben haim  hierro. goals: giannakopoulos 41. att: 50 430 ref: s dunn (gloucestershire).\n"
          ],
          "name": "stdout"
        }
      ]
    },
    {
      "cell_type": "code",
      "metadata": {
        "id": "uSic6xnjyLyB",
        "colab_type": "code",
        "outputId": "ed68c00b-59c3-4ad8-c413-bfb3e2d4add9",
        "colab": {
          "base_uri": "https://localhost:8080/",
          "height": 1000
        }
      },
      "source": [
        "#embeddings of each text represented by 512 values\n",
        "print(\"\\n [OUT]: Emdedding(Tensor representation) of text1 in row 0: \\n\",embeddings[0])"
      ],
      "execution_count": 9,
      "outputs": [
        {
          "output_type": "stream",
          "text": [
            "\n",
            " [OUT]: Emdedding(Tensor representation) of text1 in row 0: \n",
            " tf.Tensor(\n",
            "[-1.57967173e-02  5.05414456e-02  1.16162650e-01  1.52037498e-02\n",
            "  3.23755220e-02 -5.60843386e-02  3.43175083e-02  4.19803113e-02\n",
            " -1.68624334e-02 -5.38125224e-02 -9.25270095e-02 -5.35579100e-02\n",
            "  5.21541201e-02  3.23530734e-02  2.30587460e-02 -5.70269413e-02\n",
            " -7.06352964e-02  8.16611573e-02 -3.10728904e-02  7.57890195e-02\n",
            "  4.46259715e-02 -2.63852570e-02 -7.65498281e-02  1.17955608e-02\n",
            "  1.04363104e-02  1.16923444e-01  4.09884378e-02  3.11103445e-02\n",
            "  2.21663737e-03 -6.11650720e-02  8.12636316e-02 -3.85605246e-02\n",
            "  7.74165709e-03 -1.16214249e-02 -1.67080872e-02 -3.06285229e-02\n",
            " -4.14457172e-02  8.11919849e-03  2.64323270e-03  2.30145380e-02\n",
            "  1.92640536e-02 -3.55057195e-02  3.20602208e-02 -1.51916035e-02\n",
            "  2.59546507e-02  7.44373212e-03 -7.49492943e-02  5.54707386e-02\n",
            "  4.59938869e-02 -2.49516312e-02  1.04166552e-01 -5.59416786e-02\n",
            " -9.67827812e-02 -1.53224496e-02  4.48064283e-02 -2.52059866e-02\n",
            " -3.36596780e-02  9.52325761e-03 -8.18072073e-03 -3.78317945e-02\n",
            " -1.70540940e-02 -2.55447030e-02 -3.09970882e-02 -1.55245410e-02\n",
            " -2.53182296e-02  3.21878344e-02 -5.31015471e-02 -1.75953042e-02\n",
            "  8.39632973e-02  3.46782245e-02  1.95552949e-02 -2.11305041e-02\n",
            "  4.29965593e-02 -2.00292412e-02 -4.85230051e-02 -1.47043524e-04\n",
            "  4.59331162e-02  4.78687398e-02  7.27401748e-02 -6.55582547e-02\n",
            "  1.49883954e-02  5.65353706e-02 -6.78677782e-02  7.61612202e-04\n",
            " -2.15419848e-02 -2.56913458e-03 -2.66891252e-02 -3.06784343e-02\n",
            " -1.79350853e-03 -4.85857064e-03 -8.24736878e-02  3.54917720e-02\n",
            " -5.58682717e-02  4.19449154e-03 -5.50678596e-02  4.52158935e-02\n",
            " -3.68661173e-02 -4.68157120e-02  1.09344888e-02 -1.08220773e-02\n",
            " -3.32486033e-02 -2.91757397e-02  2.84721646e-02  8.55587274e-02\n",
            " -2.12342944e-02 -8.14736336e-02 -5.80896437e-02  4.39448468e-02\n",
            "  5.17532863e-02 -1.26912892e-01  3.28369364e-02  1.42916758e-02\n",
            "  4.40274514e-02 -1.11993700e-01  4.92240004e-02 -1.15790935e-02\n",
            "  2.19153650e-02 -1.35599636e-02  8.00612941e-02  2.69425418e-02\n",
            " -4.19778004e-02 -1.15321027e-02  4.12753522e-02 -1.43555896e-02\n",
            " -6.25880361e-02  2.38400176e-02 -3.30239236e-02  1.38942571e-02\n",
            " -8.42525512e-02 -1.78630613e-02  3.94182913e-02 -3.92019078e-02\n",
            " -3.93476523e-02 -4.08809036e-02 -1.98107269e-02  4.03616466e-02\n",
            " -2.45610401e-02 -5.01866378e-02 -2.05790922e-02 -5.55837527e-03\n",
            "  1.83926579e-02 -4.56202477e-02 -5.12440279e-02  9.68003587e-05\n",
            "  3.31411101e-02 -1.49902608e-02  3.32541927e-03  8.60420614e-02\n",
            "  2.41946690e-02  5.87454578e-03 -4.08586822e-02  4.90642376e-02\n",
            "  5.05435048e-03 -2.42770109e-02  4.28843945e-02 -4.65067104e-02\n",
            " -3.33378501e-02  2.35452708e-02  4.03538868e-02 -3.27176861e-02\n",
            "  5.46001233e-02  3.17956731e-02  6.51068240e-02 -4.18593027e-02\n",
            " -7.68431872e-02  1.20702302e-02 -2.20609587e-02 -1.47145512e-02\n",
            "  3.04414090e-02 -1.81892216e-02 -2.22654063e-02  9.38665122e-03\n",
            " -6.71597794e-02 -1.28390603e-02  1.27953768e-03  6.29173964e-02\n",
            " -2.97921970e-02 -7.11918846e-02  5.42135946e-02 -3.25974566e-03\n",
            " -4.74638939e-02 -4.59171608e-02 -9.15466994e-03 -2.94878799e-02\n",
            "  1.43749779e-02 -3.31936404e-02 -5.02850562e-02  1.26589295e-02\n",
            "  2.05017067e-02 -3.12429722e-02 -5.52266054e-02  8.21018964e-02\n",
            "  2.56426651e-02 -3.67369503e-04  2.91435625e-02  3.84280644e-02\n",
            " -9.54817608e-03  1.37660280e-03  7.55377188e-02 -3.41729820e-02\n",
            "  6.65885583e-02  3.34992483e-02 -1.13007920e-02 -4.22624126e-02\n",
            "  3.43484730e-02  7.40029961e-02  4.40483838e-02 -8.55590180e-02\n",
            " -4.63178800e-03 -7.30459243e-02 -4.95982841e-02 -4.49219383e-02\n",
            " -5.04530184e-02 -3.73973772e-02 -4.65784483e-02  3.05186491e-02\n",
            " -2.58458611e-02  5.06805219e-02  8.29566550e-03 -5.41773848e-02\n",
            " -6.00191094e-02 -1.07255407e-01 -3.21996845e-02  3.16728316e-02\n",
            " -6.54175803e-02 -7.98888728e-02 -4.90044206e-02 -2.94344332e-02\n",
            " -2.27576718e-02  5.07352725e-02 -9.99755226e-03 -5.38867377e-02\n",
            " -5.56264706e-02  6.83254674e-02  6.33472428e-02 -9.72518697e-02\n",
            " -2.68590990e-02  4.71974835e-02 -1.81116480e-02  5.21626286e-02\n",
            "  5.25538586e-02  4.43822928e-02  1.60386674e-02  6.16495721e-02\n",
            "  1.00316387e-02 -6.11534156e-03 -5.33656776e-02 -1.07677467e-02\n",
            "  5.61464168e-02  1.44168502e-02  3.02476212e-02  2.89666448e-02\n",
            " -8.78643617e-02 -6.70098662e-02 -4.43134457e-02 -6.71897978e-02\n",
            " -5.18918186e-02  8.69667679e-02  4.63508703e-02 -5.55820875e-02\n",
            " -1.01661824e-01 -2.87855156e-02  5.79717234e-02  3.61713730e-02\n",
            "  3.62427235e-02  5.09753488e-02 -2.79123429e-02  8.24071094e-03\n",
            " -5.25722699e-03 -7.63180107e-03  1.31167080e-02 -1.39051769e-02\n",
            "  1.11467205e-01 -4.21251729e-03 -2.91570649e-02 -6.46491125e-02\n",
            " -2.78093647e-02  2.28866972e-02  3.38013396e-02  6.70095980e-02\n",
            "  6.26754109e-03  7.34841824e-02 -1.87259018e-02  4.26105969e-02\n",
            "  2.63705328e-02  9.08396393e-03  1.33093121e-02  5.69012947e-02\n",
            "  5.91841228e-02 -4.29747179e-02  4.92499582e-03 -3.11612990e-02\n",
            "  2.12084176e-03  2.43903119e-02  2.43841726e-02  1.06286295e-01\n",
            "  6.43323455e-03  3.31299901e-02 -9.38176236e-04 -4.55770455e-02\n",
            "  6.78980444e-03  1.41034806e-02  5.67187928e-02 -2.38471366e-02\n",
            " -5.61004654e-02  1.89884175e-02  3.02375965e-02 -5.61183505e-02\n",
            " -7.54565559e-03  1.26662459e-02 -1.91767495e-02 -3.83330770e-02\n",
            "  9.60490927e-02  2.84933951e-02  4.05686200e-02 -4.28391770e-02\n",
            " -1.21654652e-01 -3.24607603e-02  3.15330513e-02 -7.37470686e-02\n",
            "  2.27841623e-02  1.97775532e-02 -3.87347527e-02 -7.08857998e-02\n",
            " -6.92093968e-02  5.34865186e-02 -2.49789096e-02  2.84384917e-02\n",
            " -6.24098852e-02 -5.27932309e-02  3.45689058e-02  2.05975026e-02\n",
            "  2.25570034e-02  1.20459246e-02 -7.53448308e-02  1.52510954e-02\n",
            "  7.05752894e-02 -1.50360807e-03 -6.74180612e-02  1.70857669e-03\n",
            "  2.12783590e-02 -3.70853022e-03  1.65404007e-02  5.48891909e-03\n",
            "  3.54339890e-02  3.13732997e-02 -1.22750103e-02  4.63110395e-02\n",
            " -2.95318011e-02  5.19941524e-02 -2.48031318e-02  5.01634516e-02\n",
            "  6.03444017e-02 -2.49475911e-02  5.41492738e-02  5.01330569e-02\n",
            " -9.95574705e-03 -5.54146469e-02 -1.84702892e-02  3.99365164e-02\n",
            " -1.59384944e-02  3.92602831e-02  4.95927259e-02 -7.09006265e-02\n",
            "  1.60279926e-02 -4.42342460e-03  1.61583442e-02 -1.34854093e-02\n",
            "  2.83877905e-02  5.33335246e-02 -3.58299427e-02 -3.14856209e-02\n",
            "  5.98483346e-02 -7.04029435e-03  8.23912583e-03  1.81250665e-02\n",
            " -3.65646817e-02  1.64161101e-02  2.48631109e-02  1.57421008e-02\n",
            " -1.01918178e-02 -9.10337269e-03 -2.39904560e-02 -7.53614586e-03\n",
            " -2.55660694e-02  2.82758251e-02  5.46040088e-02  2.99892053e-02\n",
            " -1.32449806e-01  1.28236646e-02 -3.45960632e-02  5.54977031e-03\n",
            " -2.58384328e-02  2.27661151e-02  1.18696820e-02 -5.78204356e-02\n",
            "  1.63747184e-02  3.25038843e-02 -4.81390022e-02  2.38444638e-02\n",
            " -3.03512383e-02 -4.48851241e-03  3.08994688e-02  3.67005989e-02\n",
            "  1.27293076e-02 -4.17480394e-02  2.52574049e-02  5.39223757e-03\n",
            "  3.23873125e-02  1.71309393e-02 -4.48345300e-03 -6.25707814e-03\n",
            " -6.85476959e-02 -1.86651144e-02  4.34935689e-02  1.90459676e-02\n",
            " -1.31857293e-02  3.70367132e-02  2.40049027e-02 -4.21350226e-02\n",
            "  9.07114446e-02 -2.24290863e-02 -2.89817713e-02  1.20854741e-02\n",
            " -8.58305767e-03 -2.25448795e-02  5.31880930e-02 -1.52978189e-02\n",
            "  7.05257356e-02 -8.08291584e-02 -2.76131090e-02 -3.15256529e-02\n",
            " -5.26667312e-02 -3.85530517e-02  5.91462885e-04 -4.34236452e-02\n",
            "  1.08465247e-01  1.56900454e-02  4.01128130e-03  5.93472160e-02\n",
            "  6.59985915e-02 -9.38559975e-03 -1.86802242e-02 -4.08469960e-02\n",
            " -4.19811830e-02 -5.88072017e-02  1.56742763e-02 -1.70120635e-04\n",
            " -1.97485164e-02 -1.53226275e-02  1.79080367e-02  1.68093536e-02\n",
            "  1.98556073e-02  2.11515594e-02  2.78825592e-02 -7.23163635e-02\n",
            " -1.57926641e-02  4.93456870e-02  1.17452135e-02 -3.05831004e-02\n",
            "  3.30814421e-02  2.72170231e-02 -1.00890929e-02 -3.03128678e-02\n",
            "  1.58475917e-02 -6.41064495e-02  2.55518407e-03  7.10472465e-04\n",
            " -6.12108149e-02  3.90749350e-02  3.76216281e-04 -6.89516738e-02\n",
            " -2.54002791e-02 -5.02827056e-02  4.09885719e-02 -8.77398849e-02\n",
            "  2.16193181e-02  7.04426020e-02  1.94964297e-02 -7.83087909e-02\n",
            "  1.92812718e-02 -3.76125276e-02 -2.59060897e-02 -1.52220326e-02\n",
            "  2.04315502e-03  4.64457199e-02  2.59414390e-02 -3.88921686e-02\n",
            "  4.88626957e-02  1.34800319e-02 -5.81220761e-02 -3.20416652e-02\n",
            "  5.63330501e-02  4.10640314e-02  1.78188772e-03  1.43988132e-02\n",
            "  8.31812248e-02 -1.14555554e-02  8.20659939e-03 -8.58008713e-02\n",
            "  1.97881330e-02  2.00667810e-02  1.74042042e-02 -1.84175782e-02\n",
            "  7.57491738e-02 -2.80919522e-02 -2.28101201e-03  2.50691939e-02\n",
            "  1.51993439e-03  9.02079139e-03 -5.00712171e-02  6.28610104e-02], shape=(512,), dtype=float32)\n"
          ],
          "name": "stdout"
        }
      ]
    },
    {
      "cell_type": "code",
      "metadata": {
        "colab_type": "code",
        "outputId": "4a2d87fa-bde6-4a1e-ee62-4e5d9633873e",
        "id": "BhQfV2mHTHGb",
        "colab": {
          "base_uri": "https://localhost:8080/",
          "height": 86
        }
      },
      "source": [
        "print(\"\\n Similarity of the text0 and text1 of row 0: \", np.inner(embeddings[0],embeddings[1]))\n",
        "print(\"\\n Taking four digit after decimal\",round(np.inner(embeddings[0],embeddings[1]),4))"
      ],
      "execution_count": 10,
      "outputs": [
        {
          "output_type": "stream",
          "text": [
            "\n",
            " Similarity of the text0 and text1 of row 0:  0.06917525\n",
            "\n",
            " Taking four digit after decimal 0.0692\n"
          ],
          "name": "stdout"
        }
      ]
    },
    {
      "cell_type": "code",
      "metadata": {
        "id": "-PstFI81UdPt",
        "colab_type": "code",
        "outputId": "677c493d-0df9-494d-c632-6daba4328966",
        "colab": {
          "base_uri": "https://localhost:8080/",
          "height": 52
        }
      },
      "source": [
        "print(\"\\n[OUT]: Total number of data Samples: \",data.shape[0])"
      ],
      "execution_count": 11,
      "outputs": [
        {
          "output_type": "stream",
          "text": [
            "\n",
            "[OUT]: Total number of data Samples:  4023\n"
          ],
          "name": "stdout"
        }
      ]
    },
    {
      "cell_type": "code",
      "metadata": {
        "id": "u7899YaRUUcZ",
        "colab_type": "code",
        "colab": {}
      },
      "source": [
        "#i have taken Similarity Score Upto 5 Places after decimal\n",
        "\n",
        "#here I have used only trivial inner product for finiding Similarity between vectors\n",
        "def calculate_STS_Inner_product():\n",
        "  d={\"Unique_ID\":[],\"Similarity_Score\":[]}\n",
        "  for i in range(data.shape[0]):\n",
        "    embeddings=embed(np.array([data.iloc[i]['text1'],data.iloc[i]['text2']]))\n",
        "    d[\"Unique_ID\"].append(i)\n",
        "    d[\"Similarity_Score\"].append(round(max(np.inner(embeddings[0],embeddings[1]),0.0),5))\n",
        "  return d"
      ],
      "execution_count": 0,
      "outputs": []
    },
    {
      "cell_type": "code",
      "metadata": {
        "id": "_jtDjDAvrHD0",
        "colab_type": "code",
        "colab": {}
      },
      "source": [
        "#calling the function to get Similarity Score\n",
        "STS_in_p=calculate_STS_Inner_product()"
      ],
      "execution_count": 0,
      "outputs": []
    },
    {
      "cell_type": "code",
      "metadata": {
        "id": "BpZSxjrGXHcA",
        "colab_type": "code",
        "outputId": "a1f9395d-a6c2-4e8f-f088-21a1f93b83f8",
        "colab": {
          "base_uri": "https://localhost:8080/",
          "height": 52
        }
      },
      "source": [
        "print(\"\\n[OUT]: Number of values in Similarity Score list: \",len(STS_in_p[\"Similarity_Score\"]))"
      ],
      "execution_count": 14,
      "outputs": [
        {
          "output_type": "stream",
          "text": [
            "\n",
            "[OUT]: Number of values in Similarity Score list:  4023\n"
          ],
          "name": "stdout"
        }
      ]
    },
    {
      "cell_type": "code",
      "metadata": {
        "id": "iZJOg6XBhCCv",
        "colab_type": "code",
        "outputId": "42bd3959-93c4-481c-b612-b64fdc8da6c1",
        "colab": {
          "base_uri": "https://localhost:8080/",
          "height": 124
        }
      },
      "source": [
        "print(\"\\n[OUT]: Semantic Textual Similarity:\\n Unique_ID: \",STS_in_p[\"Unique_ID\"])\n",
        "print(\"\\n Similarity Score: \",STS_in_p[\"Similarity_Score\"])"
      ],
      "execution_count": 15,
      "outputs": [
        {
          "output_type": "stream",
          "text": [
            "\n",
            "[OUT]: Semantic Textual Similarity:\n",
            " Unique_ID:  [0, 1, 2, 3, 4, 5, 6, 7, 8, 9, 10, 11, 12, 13, 14, 15, 16, 17, 18, 19, 20, 21, 22, 23, 24, 25, 26, 27, 28, 29, 30, 31, 32, 33, 34, 35, 36, 37, 38, 39, 40, 41, 42, 43, 44, 45, 46, 47, 48, 49, 50, 51, 52, 53, 54, 55, 56, 57, 58, 59, 60, 61, 62, 63, 64, 65, 66, 67, 68, 69, 70, 71, 72, 73, 74, 75, 76, 77, 78, 79, 80, 81, 82, 83, 84, 85, 86, 87, 88, 89, 90, 91, 92, 93, 94, 95, 96, 97, 98, 99, 100, 101, 102, 103, 104, 105, 106, 107, 108, 109, 110, 111, 112, 113, 114, 115, 116, 117, 118, 119, 120, 121, 122, 123, 124, 125, 126, 127, 128, 129, 130, 131, 132, 133, 134, 135, 136, 137, 138, 139, 140, 141, 142, 143, 144, 145, 146, 147, 148, 149, 150, 151, 152, 153, 154, 155, 156, 157, 158, 159, 160, 161, 162, 163, 164, 165, 166, 167, 168, 169, 170, 171, 172, 173, 174, 175, 176, 177, 178, 179, 180, 181, 182, 183, 184, 185, 186, 187, 188, 189, 190, 191, 192, 193, 194, 195, 196, 197, 198, 199, 200, 201, 202, 203, 204, 205, 206, 207, 208, 209, 210, 211, 212, 213, 214, 215, 216, 217, 218, 219, 220, 221, 222, 223, 224, 225, 226, 227, 228, 229, 230, 231, 232, 233, 234, 235, 236, 237, 238, 239, 240, 241, 242, 243, 244, 245, 246, 247, 248, 249, 250, 251, 252, 253, 254, 255, 256, 257, 258, 259, 260, 261, 262, 263, 264, 265, 266, 267, 268, 269, 270, 271, 272, 273, 274, 275, 276, 277, 278, 279, 280, 281, 282, 283, 284, 285, 286, 287, 288, 289, 290, 291, 292, 293, 294, 295, 296, 297, 298, 299, 300, 301, 302, 303, 304, 305, 306, 307, 308, 309, 310, 311, 312, 313, 314, 315, 316, 317, 318, 319, 320, 321, 322, 323, 324, 325, 326, 327, 328, 329, 330, 331, 332, 333, 334, 335, 336, 337, 338, 339, 340, 341, 342, 343, 344, 345, 346, 347, 348, 349, 350, 351, 352, 353, 354, 355, 356, 357, 358, 359, 360, 361, 362, 363, 364, 365, 366, 367, 368, 369, 370, 371, 372, 373, 374, 375, 376, 377, 378, 379, 380, 381, 382, 383, 384, 385, 386, 387, 388, 389, 390, 391, 392, 393, 394, 395, 396, 397, 398, 399, 400, 401, 402, 403, 404, 405, 406, 407, 408, 409, 410, 411, 412, 413, 414, 415, 416, 417, 418, 419, 420, 421, 422, 423, 424, 425, 426, 427, 428, 429, 430, 431, 432, 433, 434, 435, 436, 437, 438, 439, 440, 441, 442, 443, 444, 445, 446, 447, 448, 449, 450, 451, 452, 453, 454, 455, 456, 457, 458, 459, 460, 461, 462, 463, 464, 465, 466, 467, 468, 469, 470, 471, 472, 473, 474, 475, 476, 477, 478, 479, 480, 481, 482, 483, 484, 485, 486, 487, 488, 489, 490, 491, 492, 493, 494, 495, 496, 497, 498, 499, 500, 501, 502, 503, 504, 505, 506, 507, 508, 509, 510, 511, 512, 513, 514, 515, 516, 517, 518, 519, 520, 521, 522, 523, 524, 525, 526, 527, 528, 529, 530, 531, 532, 533, 534, 535, 536, 537, 538, 539, 540, 541, 542, 543, 544, 545, 546, 547, 548, 549, 550, 551, 552, 553, 554, 555, 556, 557, 558, 559, 560, 561, 562, 563, 564, 565, 566, 567, 568, 569, 570, 571, 572, 573, 574, 575, 576, 577, 578, 579, 580, 581, 582, 583, 584, 585, 586, 587, 588, 589, 590, 591, 592, 593, 594, 595, 596, 597, 598, 599, 600, 601, 602, 603, 604, 605, 606, 607, 608, 609, 610, 611, 612, 613, 614, 615, 616, 617, 618, 619, 620, 621, 622, 623, 624, 625, 626, 627, 628, 629, 630, 631, 632, 633, 634, 635, 636, 637, 638, 639, 640, 641, 642, 643, 644, 645, 646, 647, 648, 649, 650, 651, 652, 653, 654, 655, 656, 657, 658, 659, 660, 661, 662, 663, 664, 665, 666, 667, 668, 669, 670, 671, 672, 673, 674, 675, 676, 677, 678, 679, 680, 681, 682, 683, 684, 685, 686, 687, 688, 689, 690, 691, 692, 693, 694, 695, 696, 697, 698, 699, 700, 701, 702, 703, 704, 705, 706, 707, 708, 709, 710, 711, 712, 713, 714, 715, 716, 717, 718, 719, 720, 721, 722, 723, 724, 725, 726, 727, 728, 729, 730, 731, 732, 733, 734, 735, 736, 737, 738, 739, 740, 741, 742, 743, 744, 745, 746, 747, 748, 749, 750, 751, 752, 753, 754, 755, 756, 757, 758, 759, 760, 761, 762, 763, 764, 765, 766, 767, 768, 769, 770, 771, 772, 773, 774, 775, 776, 777, 778, 779, 780, 781, 782, 783, 784, 785, 786, 787, 788, 789, 790, 791, 792, 793, 794, 795, 796, 797, 798, 799, 800, 801, 802, 803, 804, 805, 806, 807, 808, 809, 810, 811, 812, 813, 814, 815, 816, 817, 818, 819, 820, 821, 822, 823, 824, 825, 826, 827, 828, 829, 830, 831, 832, 833, 834, 835, 836, 837, 838, 839, 840, 841, 842, 843, 844, 845, 846, 847, 848, 849, 850, 851, 852, 853, 854, 855, 856, 857, 858, 859, 860, 861, 862, 863, 864, 865, 866, 867, 868, 869, 870, 871, 872, 873, 874, 875, 876, 877, 878, 879, 880, 881, 882, 883, 884, 885, 886, 887, 888, 889, 890, 891, 892, 893, 894, 895, 896, 897, 898, 899, 900, 901, 902, 903, 904, 905, 906, 907, 908, 909, 910, 911, 912, 913, 914, 915, 916, 917, 918, 919, 920, 921, 922, 923, 924, 925, 926, 927, 928, 929, 930, 931, 932, 933, 934, 935, 936, 937, 938, 939, 940, 941, 942, 943, 944, 945, 946, 947, 948, 949, 950, 951, 952, 953, 954, 955, 956, 957, 958, 959, 960, 961, 962, 963, 964, 965, 966, 967, 968, 969, 970, 971, 972, 973, 974, 975, 976, 977, 978, 979, 980, 981, 982, 983, 984, 985, 986, 987, 988, 989, 990, 991, 992, 993, 994, 995, 996, 997, 998, 999, 1000, 1001, 1002, 1003, 1004, 1005, 1006, 1007, 1008, 1009, 1010, 1011, 1012, 1013, 1014, 1015, 1016, 1017, 1018, 1019, 1020, 1021, 1022, 1023, 1024, 1025, 1026, 1027, 1028, 1029, 1030, 1031, 1032, 1033, 1034, 1035, 1036, 1037, 1038, 1039, 1040, 1041, 1042, 1043, 1044, 1045, 1046, 1047, 1048, 1049, 1050, 1051, 1052, 1053, 1054, 1055, 1056, 1057, 1058, 1059, 1060, 1061, 1062, 1063, 1064, 1065, 1066, 1067, 1068, 1069, 1070, 1071, 1072, 1073, 1074, 1075, 1076, 1077, 1078, 1079, 1080, 1081, 1082, 1083, 1084, 1085, 1086, 1087, 1088, 1089, 1090, 1091, 1092, 1093, 1094, 1095, 1096, 1097, 1098, 1099, 1100, 1101, 1102, 1103, 1104, 1105, 1106, 1107, 1108, 1109, 1110, 1111, 1112, 1113, 1114, 1115, 1116, 1117, 1118, 1119, 1120, 1121, 1122, 1123, 1124, 1125, 1126, 1127, 1128, 1129, 1130, 1131, 1132, 1133, 1134, 1135, 1136, 1137, 1138, 1139, 1140, 1141, 1142, 1143, 1144, 1145, 1146, 1147, 1148, 1149, 1150, 1151, 1152, 1153, 1154, 1155, 1156, 1157, 1158, 1159, 1160, 1161, 1162, 1163, 1164, 1165, 1166, 1167, 1168, 1169, 1170, 1171, 1172, 1173, 1174, 1175, 1176, 1177, 1178, 1179, 1180, 1181, 1182, 1183, 1184, 1185, 1186, 1187, 1188, 1189, 1190, 1191, 1192, 1193, 1194, 1195, 1196, 1197, 1198, 1199, 1200, 1201, 1202, 1203, 1204, 1205, 1206, 1207, 1208, 1209, 1210, 1211, 1212, 1213, 1214, 1215, 1216, 1217, 1218, 1219, 1220, 1221, 1222, 1223, 1224, 1225, 1226, 1227, 1228, 1229, 1230, 1231, 1232, 1233, 1234, 1235, 1236, 1237, 1238, 1239, 1240, 1241, 1242, 1243, 1244, 1245, 1246, 1247, 1248, 1249, 1250, 1251, 1252, 1253, 1254, 1255, 1256, 1257, 1258, 1259, 1260, 1261, 1262, 1263, 1264, 1265, 1266, 1267, 1268, 1269, 1270, 1271, 1272, 1273, 1274, 1275, 1276, 1277, 1278, 1279, 1280, 1281, 1282, 1283, 1284, 1285, 1286, 1287, 1288, 1289, 1290, 1291, 1292, 1293, 1294, 1295, 1296, 1297, 1298, 1299, 1300, 1301, 1302, 1303, 1304, 1305, 1306, 1307, 1308, 1309, 1310, 1311, 1312, 1313, 1314, 1315, 1316, 1317, 1318, 1319, 1320, 1321, 1322, 1323, 1324, 1325, 1326, 1327, 1328, 1329, 1330, 1331, 1332, 1333, 1334, 1335, 1336, 1337, 1338, 1339, 1340, 1341, 1342, 1343, 1344, 1345, 1346, 1347, 1348, 1349, 1350, 1351, 1352, 1353, 1354, 1355, 1356, 1357, 1358, 1359, 1360, 1361, 1362, 1363, 1364, 1365, 1366, 1367, 1368, 1369, 1370, 1371, 1372, 1373, 1374, 1375, 1376, 1377, 1378, 1379, 1380, 1381, 1382, 1383, 1384, 1385, 1386, 1387, 1388, 1389, 1390, 1391, 1392, 1393, 1394, 1395, 1396, 1397, 1398, 1399, 1400, 1401, 1402, 1403, 1404, 1405, 1406, 1407, 1408, 1409, 1410, 1411, 1412, 1413, 1414, 1415, 1416, 1417, 1418, 1419, 1420, 1421, 1422, 1423, 1424, 1425, 1426, 1427, 1428, 1429, 1430, 1431, 1432, 1433, 1434, 1435, 1436, 1437, 1438, 1439, 1440, 1441, 1442, 1443, 1444, 1445, 1446, 1447, 1448, 1449, 1450, 1451, 1452, 1453, 1454, 1455, 1456, 1457, 1458, 1459, 1460, 1461, 1462, 1463, 1464, 1465, 1466, 1467, 1468, 1469, 1470, 1471, 1472, 1473, 1474, 1475, 1476, 1477, 1478, 1479, 1480, 1481, 1482, 1483, 1484, 1485, 1486, 1487, 1488, 1489, 1490, 1491, 1492, 1493, 1494, 1495, 1496, 1497, 1498, 1499, 1500, 1501, 1502, 1503, 1504, 1505, 1506, 1507, 1508, 1509, 1510, 1511, 1512, 1513, 1514, 1515, 1516, 1517, 1518, 1519, 1520, 1521, 1522, 1523, 1524, 1525, 1526, 1527, 1528, 1529, 1530, 1531, 1532, 1533, 1534, 1535, 1536, 1537, 1538, 1539, 1540, 1541, 1542, 1543, 1544, 1545, 1546, 1547, 1548, 1549, 1550, 1551, 1552, 1553, 1554, 1555, 1556, 1557, 1558, 1559, 1560, 1561, 1562, 1563, 1564, 1565, 1566, 1567, 1568, 1569, 1570, 1571, 1572, 1573, 1574, 1575, 1576, 1577, 1578, 1579, 1580, 1581, 1582, 1583, 1584, 1585, 1586, 1587, 1588, 1589, 1590, 1591, 1592, 1593, 1594, 1595, 1596, 1597, 1598, 1599, 1600, 1601, 1602, 1603, 1604, 1605, 1606, 1607, 1608, 1609, 1610, 1611, 1612, 1613, 1614, 1615, 1616, 1617, 1618, 1619, 1620, 1621, 1622, 1623, 1624, 1625, 1626, 1627, 1628, 1629, 1630, 1631, 1632, 1633, 1634, 1635, 1636, 1637, 1638, 1639, 1640, 1641, 1642, 1643, 1644, 1645, 1646, 1647, 1648, 1649, 1650, 1651, 1652, 1653, 1654, 1655, 1656, 1657, 1658, 1659, 1660, 1661, 1662, 1663, 1664, 1665, 1666, 1667, 1668, 1669, 1670, 1671, 1672, 1673, 1674, 1675, 1676, 1677, 1678, 1679, 1680, 1681, 1682, 1683, 1684, 1685, 1686, 1687, 1688, 1689, 1690, 1691, 1692, 1693, 1694, 1695, 1696, 1697, 1698, 1699, 1700, 1701, 1702, 1703, 1704, 1705, 1706, 1707, 1708, 1709, 1710, 1711, 1712, 1713, 1714, 1715, 1716, 1717, 1718, 1719, 1720, 1721, 1722, 1723, 1724, 1725, 1726, 1727, 1728, 1729, 1730, 1731, 1732, 1733, 1734, 1735, 1736, 1737, 1738, 1739, 1740, 1741, 1742, 1743, 1744, 1745, 1746, 1747, 1748, 1749, 1750, 1751, 1752, 1753, 1754, 1755, 1756, 1757, 1758, 1759, 1760, 1761, 1762, 1763, 1764, 1765, 1766, 1767, 1768, 1769, 1770, 1771, 1772, 1773, 1774, 1775, 1776, 1777, 1778, 1779, 1780, 1781, 1782, 1783, 1784, 1785, 1786, 1787, 1788, 1789, 1790, 1791, 1792, 1793, 1794, 1795, 1796, 1797, 1798, 1799, 1800, 1801, 1802, 1803, 1804, 1805, 1806, 1807, 1808, 1809, 1810, 1811, 1812, 1813, 1814, 1815, 1816, 1817, 1818, 1819, 1820, 1821, 1822, 1823, 1824, 1825, 1826, 1827, 1828, 1829, 1830, 1831, 1832, 1833, 1834, 1835, 1836, 1837, 1838, 1839, 1840, 1841, 1842, 1843, 1844, 1845, 1846, 1847, 1848, 1849, 1850, 1851, 1852, 1853, 1854, 1855, 1856, 1857, 1858, 1859, 1860, 1861, 1862, 1863, 1864, 1865, 1866, 1867, 1868, 1869, 1870, 1871, 1872, 1873, 1874, 1875, 1876, 1877, 1878, 1879, 1880, 1881, 1882, 1883, 1884, 1885, 1886, 1887, 1888, 1889, 1890, 1891, 1892, 1893, 1894, 1895, 1896, 1897, 1898, 1899, 1900, 1901, 1902, 1903, 1904, 1905, 1906, 1907, 1908, 1909, 1910, 1911, 1912, 1913, 1914, 1915, 1916, 1917, 1918, 1919, 1920, 1921, 1922, 1923, 1924, 1925, 1926, 1927, 1928, 1929, 1930, 1931, 1932, 1933, 1934, 1935, 1936, 1937, 1938, 1939, 1940, 1941, 1942, 1943, 1944, 1945, 1946, 1947, 1948, 1949, 1950, 1951, 1952, 1953, 1954, 1955, 1956, 1957, 1958, 1959, 1960, 1961, 1962, 1963, 1964, 1965, 1966, 1967, 1968, 1969, 1970, 1971, 1972, 1973, 1974, 1975, 1976, 1977, 1978, 1979, 1980, 1981, 1982, 1983, 1984, 1985, 1986, 1987, 1988, 1989, 1990, 1991, 1992, 1993, 1994, 1995, 1996, 1997, 1998, 1999, 2000, 2001, 2002, 2003, 2004, 2005, 2006, 2007, 2008, 2009, 2010, 2011, 2012, 2013, 2014, 2015, 2016, 2017, 2018, 2019, 2020, 2021, 2022, 2023, 2024, 2025, 2026, 2027, 2028, 2029, 2030, 2031, 2032, 2033, 2034, 2035, 2036, 2037, 2038, 2039, 2040, 2041, 2042, 2043, 2044, 2045, 2046, 2047, 2048, 2049, 2050, 2051, 2052, 2053, 2054, 2055, 2056, 2057, 2058, 2059, 2060, 2061, 2062, 2063, 2064, 2065, 2066, 2067, 2068, 2069, 2070, 2071, 2072, 2073, 2074, 2075, 2076, 2077, 2078, 2079, 2080, 2081, 2082, 2083, 2084, 2085, 2086, 2087, 2088, 2089, 2090, 2091, 2092, 2093, 2094, 2095, 2096, 2097, 2098, 2099, 2100, 2101, 2102, 2103, 2104, 2105, 2106, 2107, 2108, 2109, 2110, 2111, 2112, 2113, 2114, 2115, 2116, 2117, 2118, 2119, 2120, 2121, 2122, 2123, 2124, 2125, 2126, 2127, 2128, 2129, 2130, 2131, 2132, 2133, 2134, 2135, 2136, 2137, 2138, 2139, 2140, 2141, 2142, 2143, 2144, 2145, 2146, 2147, 2148, 2149, 2150, 2151, 2152, 2153, 2154, 2155, 2156, 2157, 2158, 2159, 2160, 2161, 2162, 2163, 2164, 2165, 2166, 2167, 2168, 2169, 2170, 2171, 2172, 2173, 2174, 2175, 2176, 2177, 2178, 2179, 2180, 2181, 2182, 2183, 2184, 2185, 2186, 2187, 2188, 2189, 2190, 2191, 2192, 2193, 2194, 2195, 2196, 2197, 2198, 2199, 2200, 2201, 2202, 2203, 2204, 2205, 2206, 2207, 2208, 2209, 2210, 2211, 2212, 2213, 2214, 2215, 2216, 2217, 2218, 2219, 2220, 2221, 2222, 2223, 2224, 2225, 2226, 2227, 2228, 2229, 2230, 2231, 2232, 2233, 2234, 2235, 2236, 2237, 2238, 2239, 2240, 2241, 2242, 2243, 2244, 2245, 2246, 2247, 2248, 2249, 2250, 2251, 2252, 2253, 2254, 2255, 2256, 2257, 2258, 2259, 2260, 2261, 2262, 2263, 2264, 2265, 2266, 2267, 2268, 2269, 2270, 2271, 2272, 2273, 2274, 2275, 2276, 2277, 2278, 2279, 2280, 2281, 2282, 2283, 2284, 2285, 2286, 2287, 2288, 2289, 2290, 2291, 2292, 2293, 2294, 2295, 2296, 2297, 2298, 2299, 2300, 2301, 2302, 2303, 2304, 2305, 2306, 2307, 2308, 2309, 2310, 2311, 2312, 2313, 2314, 2315, 2316, 2317, 2318, 2319, 2320, 2321, 2322, 2323, 2324, 2325, 2326, 2327, 2328, 2329, 2330, 2331, 2332, 2333, 2334, 2335, 2336, 2337, 2338, 2339, 2340, 2341, 2342, 2343, 2344, 2345, 2346, 2347, 2348, 2349, 2350, 2351, 2352, 2353, 2354, 2355, 2356, 2357, 2358, 2359, 2360, 2361, 2362, 2363, 2364, 2365, 2366, 2367, 2368, 2369, 2370, 2371, 2372, 2373, 2374, 2375, 2376, 2377, 2378, 2379, 2380, 2381, 2382, 2383, 2384, 2385, 2386, 2387, 2388, 2389, 2390, 2391, 2392, 2393, 2394, 2395, 2396, 2397, 2398, 2399, 2400, 2401, 2402, 2403, 2404, 2405, 2406, 2407, 2408, 2409, 2410, 2411, 2412, 2413, 2414, 2415, 2416, 2417, 2418, 2419, 2420, 2421, 2422, 2423, 2424, 2425, 2426, 2427, 2428, 2429, 2430, 2431, 2432, 2433, 2434, 2435, 2436, 2437, 2438, 2439, 2440, 2441, 2442, 2443, 2444, 2445, 2446, 2447, 2448, 2449, 2450, 2451, 2452, 2453, 2454, 2455, 2456, 2457, 2458, 2459, 2460, 2461, 2462, 2463, 2464, 2465, 2466, 2467, 2468, 2469, 2470, 2471, 2472, 2473, 2474, 2475, 2476, 2477, 2478, 2479, 2480, 2481, 2482, 2483, 2484, 2485, 2486, 2487, 2488, 2489, 2490, 2491, 2492, 2493, 2494, 2495, 2496, 2497, 2498, 2499, 2500, 2501, 2502, 2503, 2504, 2505, 2506, 2507, 2508, 2509, 2510, 2511, 2512, 2513, 2514, 2515, 2516, 2517, 2518, 2519, 2520, 2521, 2522, 2523, 2524, 2525, 2526, 2527, 2528, 2529, 2530, 2531, 2532, 2533, 2534, 2535, 2536, 2537, 2538, 2539, 2540, 2541, 2542, 2543, 2544, 2545, 2546, 2547, 2548, 2549, 2550, 2551, 2552, 2553, 2554, 2555, 2556, 2557, 2558, 2559, 2560, 2561, 2562, 2563, 2564, 2565, 2566, 2567, 2568, 2569, 2570, 2571, 2572, 2573, 2574, 2575, 2576, 2577, 2578, 2579, 2580, 2581, 2582, 2583, 2584, 2585, 2586, 2587, 2588, 2589, 2590, 2591, 2592, 2593, 2594, 2595, 2596, 2597, 2598, 2599, 2600, 2601, 2602, 2603, 2604, 2605, 2606, 2607, 2608, 2609, 2610, 2611, 2612, 2613, 2614, 2615, 2616, 2617, 2618, 2619, 2620, 2621, 2622, 2623, 2624, 2625, 2626, 2627, 2628, 2629, 2630, 2631, 2632, 2633, 2634, 2635, 2636, 2637, 2638, 2639, 2640, 2641, 2642, 2643, 2644, 2645, 2646, 2647, 2648, 2649, 2650, 2651, 2652, 2653, 2654, 2655, 2656, 2657, 2658, 2659, 2660, 2661, 2662, 2663, 2664, 2665, 2666, 2667, 2668, 2669, 2670, 2671, 2672, 2673, 2674, 2675, 2676, 2677, 2678, 2679, 2680, 2681, 2682, 2683, 2684, 2685, 2686, 2687, 2688, 2689, 2690, 2691, 2692, 2693, 2694, 2695, 2696, 2697, 2698, 2699, 2700, 2701, 2702, 2703, 2704, 2705, 2706, 2707, 2708, 2709, 2710, 2711, 2712, 2713, 2714, 2715, 2716, 2717, 2718, 2719, 2720, 2721, 2722, 2723, 2724, 2725, 2726, 2727, 2728, 2729, 2730, 2731, 2732, 2733, 2734, 2735, 2736, 2737, 2738, 2739, 2740, 2741, 2742, 2743, 2744, 2745, 2746, 2747, 2748, 2749, 2750, 2751, 2752, 2753, 2754, 2755, 2756, 2757, 2758, 2759, 2760, 2761, 2762, 2763, 2764, 2765, 2766, 2767, 2768, 2769, 2770, 2771, 2772, 2773, 2774, 2775, 2776, 2777, 2778, 2779, 2780, 2781, 2782, 2783, 2784, 2785, 2786, 2787, 2788, 2789, 2790, 2791, 2792, 2793, 2794, 2795, 2796, 2797, 2798, 2799, 2800, 2801, 2802, 2803, 2804, 2805, 2806, 2807, 2808, 2809, 2810, 2811, 2812, 2813, 2814, 2815, 2816, 2817, 2818, 2819, 2820, 2821, 2822, 2823, 2824, 2825, 2826, 2827, 2828, 2829, 2830, 2831, 2832, 2833, 2834, 2835, 2836, 2837, 2838, 2839, 2840, 2841, 2842, 2843, 2844, 2845, 2846, 2847, 2848, 2849, 2850, 2851, 2852, 2853, 2854, 2855, 2856, 2857, 2858, 2859, 2860, 2861, 2862, 2863, 2864, 2865, 2866, 2867, 2868, 2869, 2870, 2871, 2872, 2873, 2874, 2875, 2876, 2877, 2878, 2879, 2880, 2881, 2882, 2883, 2884, 2885, 2886, 2887, 2888, 2889, 2890, 2891, 2892, 2893, 2894, 2895, 2896, 2897, 2898, 2899, 2900, 2901, 2902, 2903, 2904, 2905, 2906, 2907, 2908, 2909, 2910, 2911, 2912, 2913, 2914, 2915, 2916, 2917, 2918, 2919, 2920, 2921, 2922, 2923, 2924, 2925, 2926, 2927, 2928, 2929, 2930, 2931, 2932, 2933, 2934, 2935, 2936, 2937, 2938, 2939, 2940, 2941, 2942, 2943, 2944, 2945, 2946, 2947, 2948, 2949, 2950, 2951, 2952, 2953, 2954, 2955, 2956, 2957, 2958, 2959, 2960, 2961, 2962, 2963, 2964, 2965, 2966, 2967, 2968, 2969, 2970, 2971, 2972, 2973, 2974, 2975, 2976, 2977, 2978, 2979, 2980, 2981, 2982, 2983, 2984, 2985, 2986, 2987, 2988, 2989, 2990, 2991, 2992, 2993, 2994, 2995, 2996, 2997, 2998, 2999, 3000, 3001, 3002, 3003, 3004, 3005, 3006, 3007, 3008, 3009, 3010, 3011, 3012, 3013, 3014, 3015, 3016, 3017, 3018, 3019, 3020, 3021, 3022, 3023, 3024, 3025, 3026, 3027, 3028, 3029, 3030, 3031, 3032, 3033, 3034, 3035, 3036, 3037, 3038, 3039, 3040, 3041, 3042, 3043, 3044, 3045, 3046, 3047, 3048, 3049, 3050, 3051, 3052, 3053, 3054, 3055, 3056, 3057, 3058, 3059, 3060, 3061, 3062, 3063, 3064, 3065, 3066, 3067, 3068, 3069, 3070, 3071, 3072, 3073, 3074, 3075, 3076, 3077, 3078, 3079, 3080, 3081, 3082, 3083, 3084, 3085, 3086, 3087, 3088, 3089, 3090, 3091, 3092, 3093, 3094, 3095, 3096, 3097, 3098, 3099, 3100, 3101, 3102, 3103, 3104, 3105, 3106, 3107, 3108, 3109, 3110, 3111, 3112, 3113, 3114, 3115, 3116, 3117, 3118, 3119, 3120, 3121, 3122, 3123, 3124, 3125, 3126, 3127, 3128, 3129, 3130, 3131, 3132, 3133, 3134, 3135, 3136, 3137, 3138, 3139, 3140, 3141, 3142, 3143, 3144, 3145, 3146, 3147, 3148, 3149, 3150, 3151, 3152, 3153, 3154, 3155, 3156, 3157, 3158, 3159, 3160, 3161, 3162, 3163, 3164, 3165, 3166, 3167, 3168, 3169, 3170, 3171, 3172, 3173, 3174, 3175, 3176, 3177, 3178, 3179, 3180, 3181, 3182, 3183, 3184, 3185, 3186, 3187, 3188, 3189, 3190, 3191, 3192, 3193, 3194, 3195, 3196, 3197, 3198, 3199, 3200, 3201, 3202, 3203, 3204, 3205, 3206, 3207, 3208, 3209, 3210, 3211, 3212, 3213, 3214, 3215, 3216, 3217, 3218, 3219, 3220, 3221, 3222, 3223, 3224, 3225, 3226, 3227, 3228, 3229, 3230, 3231, 3232, 3233, 3234, 3235, 3236, 3237, 3238, 3239, 3240, 3241, 3242, 3243, 3244, 3245, 3246, 3247, 3248, 3249, 3250, 3251, 3252, 3253, 3254, 3255, 3256, 3257, 3258, 3259, 3260, 3261, 3262, 3263, 3264, 3265, 3266, 3267, 3268, 3269, 3270, 3271, 3272, 3273, 3274, 3275, 3276, 3277, 3278, 3279, 3280, 3281, 3282, 3283, 3284, 3285, 3286, 3287, 3288, 3289, 3290, 3291, 3292, 3293, 3294, 3295, 3296, 3297, 3298, 3299, 3300, 3301, 3302, 3303, 3304, 3305, 3306, 3307, 3308, 3309, 3310, 3311, 3312, 3313, 3314, 3315, 3316, 3317, 3318, 3319, 3320, 3321, 3322, 3323, 3324, 3325, 3326, 3327, 3328, 3329, 3330, 3331, 3332, 3333, 3334, 3335, 3336, 3337, 3338, 3339, 3340, 3341, 3342, 3343, 3344, 3345, 3346, 3347, 3348, 3349, 3350, 3351, 3352, 3353, 3354, 3355, 3356, 3357, 3358, 3359, 3360, 3361, 3362, 3363, 3364, 3365, 3366, 3367, 3368, 3369, 3370, 3371, 3372, 3373, 3374, 3375, 3376, 3377, 3378, 3379, 3380, 3381, 3382, 3383, 3384, 3385, 3386, 3387, 3388, 3389, 3390, 3391, 3392, 3393, 3394, 3395, 3396, 3397, 3398, 3399, 3400, 3401, 3402, 3403, 3404, 3405, 3406, 3407, 3408, 3409, 3410, 3411, 3412, 3413, 3414, 3415, 3416, 3417, 3418, 3419, 3420, 3421, 3422, 3423, 3424, 3425, 3426, 3427, 3428, 3429, 3430, 3431, 3432, 3433, 3434, 3435, 3436, 3437, 3438, 3439, 3440, 3441, 3442, 3443, 3444, 3445, 3446, 3447, 3448, 3449, 3450, 3451, 3452, 3453, 3454, 3455, 3456, 3457, 3458, 3459, 3460, 3461, 3462, 3463, 3464, 3465, 3466, 3467, 3468, 3469, 3470, 3471, 3472, 3473, 3474, 3475, 3476, 3477, 3478, 3479, 3480, 3481, 3482, 3483, 3484, 3485, 3486, 3487, 3488, 3489, 3490, 3491, 3492, 3493, 3494, 3495, 3496, 3497, 3498, 3499, 3500, 3501, 3502, 3503, 3504, 3505, 3506, 3507, 3508, 3509, 3510, 3511, 3512, 3513, 3514, 3515, 3516, 3517, 3518, 3519, 3520, 3521, 3522, 3523, 3524, 3525, 3526, 3527, 3528, 3529, 3530, 3531, 3532, 3533, 3534, 3535, 3536, 3537, 3538, 3539, 3540, 3541, 3542, 3543, 3544, 3545, 3546, 3547, 3548, 3549, 3550, 3551, 3552, 3553, 3554, 3555, 3556, 3557, 3558, 3559, 3560, 3561, 3562, 3563, 3564, 3565, 3566, 3567, 3568, 3569, 3570, 3571, 3572, 3573, 3574, 3575, 3576, 3577, 3578, 3579, 3580, 3581, 3582, 3583, 3584, 3585, 3586, 3587, 3588, 3589, 3590, 3591, 3592, 3593, 3594, 3595, 3596, 3597, 3598, 3599, 3600, 3601, 3602, 3603, 3604, 3605, 3606, 3607, 3608, 3609, 3610, 3611, 3612, 3613, 3614, 3615, 3616, 3617, 3618, 3619, 3620, 3621, 3622, 3623, 3624, 3625, 3626, 3627, 3628, 3629, 3630, 3631, 3632, 3633, 3634, 3635, 3636, 3637, 3638, 3639, 3640, 3641, 3642, 3643, 3644, 3645, 3646, 3647, 3648, 3649, 3650, 3651, 3652, 3653, 3654, 3655, 3656, 3657, 3658, 3659, 3660, 3661, 3662, 3663, 3664, 3665, 3666, 3667, 3668, 3669, 3670, 3671, 3672, 3673, 3674, 3675, 3676, 3677, 3678, 3679, 3680, 3681, 3682, 3683, 3684, 3685, 3686, 3687, 3688, 3689, 3690, 3691, 3692, 3693, 3694, 3695, 3696, 3697, 3698, 3699, 3700, 3701, 3702, 3703, 3704, 3705, 3706, 3707, 3708, 3709, 3710, 3711, 3712, 3713, 3714, 3715, 3716, 3717, 3718, 3719, 3720, 3721, 3722, 3723, 3724, 3725, 3726, 3727, 3728, 3729, 3730, 3731, 3732, 3733, 3734, 3735, 3736, 3737, 3738, 3739, 3740, 3741, 3742, 3743, 3744, 3745, 3746, 3747, 3748, 3749, 3750, 3751, 3752, 3753, 3754, 3755, 3756, 3757, 3758, 3759, 3760, 3761, 3762, 3763, 3764, 3765, 3766, 3767, 3768, 3769, 3770, 3771, 3772, 3773, 3774, 3775, 3776, 3777, 3778, 3779, 3780, 3781, 3782, 3783, 3784, 3785, 3786, 3787, 3788, 3789, 3790, 3791, 3792, 3793, 3794, 3795, 3796, 3797, 3798, 3799, 3800, 3801, 3802, 3803, 3804, 3805, 3806, 3807, 3808, 3809, 3810, 3811, 3812, 3813, 3814, 3815, 3816, 3817, 3818, 3819, 3820, 3821, 3822, 3823, 3824, 3825, 3826, 3827, 3828, 3829, 3830, 3831, 3832, 3833, 3834, 3835, 3836, 3837, 3838, 3839, 3840, 3841, 3842, 3843, 3844, 3845, 3846, 3847, 3848, 3849, 3850, 3851, 3852, 3853, 3854, 3855, 3856, 3857, 3858, 3859, 3860, 3861, 3862, 3863, 3864, 3865, 3866, 3867, 3868, 3869, 3870, 3871, 3872, 3873, 3874, 3875, 3876, 3877, 3878, 3879, 3880, 3881, 3882, 3883, 3884, 3885, 3886, 3887, 3888, 3889, 3890, 3891, 3892, 3893, 3894, 3895, 3896, 3897, 3898, 3899, 3900, 3901, 3902, 3903, 3904, 3905, 3906, 3907, 3908, 3909, 3910, 3911, 3912, 3913, 3914, 3915, 3916, 3917, 3918, 3919, 3920, 3921, 3922, 3923, 3924, 3925, 3926, 3927, 3928, 3929, 3930, 3931, 3932, 3933, 3934, 3935, 3936, 3937, 3938, 3939, 3940, 3941, 3942, 3943, 3944, 3945, 3946, 3947, 3948, 3949, 3950, 3951, 3952, 3953, 3954, 3955, 3956, 3957, 3958, 3959, 3960, 3961, 3962, 3963, 3964, 3965, 3966, 3967, 3968, 3969, 3970, 3971, 3972, 3973, 3974, 3975, 3976, 3977, 3978, 3979, 3980, 3981, 3982, 3983, 3984, 3985, 3986, 3987, 3988, 3989, 3990, 3991, 3992, 3993, 3994, 3995, 3996, 3997, 3998, 3999, 4000, 4001, 4002, 4003, 4004, 4005, 4006, 4007, 4008, 4009, 4010, 4011, 4012, 4013, 4014, 4015, 4016, 4017, 4018, 4019, 4020, 4021, 4022]\n",
            "\n",
            " Similarity Score:  [0.06918, 0.21135, 0.4565, 0.50274, 0.29832, 0.32428, 0.15695, 0.53274, 0.39442, 0.60809, 0.32227, 0.39366, 0.38037, 0.30394, 0.46366, 0.19085, 0.19069, 0.0, 0.53214, 0.59546, 0.30353, 0.39774, 0.3158, 0.32343, 0.52644, 0.35906, 0.51657, 0.61842, 0.36387, 0.39194, 0.23137, 0.0901, 0.52568, 0.64342, 0.21689, 0.29802, 0.60372, 0.42368, 0.2743, 0.39481, 0.46662, 0.22494, 0.29767, 0.61569, 0.39459, 0.43333, 0.38275, 0.23574, 0.50656, 0.46412, 0.54563, 0.38889, 0.16681, 0.18812, 0.3699, 0.39651, 0.58756, 0.29016, 0.61347, 0.11289, 0.32789, 0.59238, 0.27539, 0.11823, 0.21859, 0.21262, 0.63657, 0.15356, 0.62143, 0.47493, 0.43799, 0.01922, 0.15265, 0.26964, 0.07774, 0.25426, 0.21669, 0.22337, 0.60493, 0.31739, 0.28853, 0.18641, 0.53533, 0.15731, 0.19074, 0.13169, 0.33701, 0.54595, 0.53955, 0.53926, 0.32811, 0.37486, 0.25876, 0.49837, 0.69818, 0.23449, 0.45783, 0.25453, 0.34552, 0.33996, 0.24025, 0.21019, 0.17221, 0.37996, 0.3799, 0.32708, 0.42147, 0.29687, 0.21772, 0.12391, 0.27231, 0.33444, 0.49371, 0.57454, 0.26556, 0.61863, 0.44866, 0.12974, 0.1339, 0.59712, 0.28971, 0.44499, 0.61469, 0.37016, 0.5998, 0.41089, 0.59843, 0.35955, 0.26344, 0.20997, 0.44817, 0.53213, 0.42684, 0.41806, 0.07063, 0.55125, 0.22256, 0.14056, 0.57895, 0.22255, 0.33245, 0.47125, 0.15274, 0.25851, 0.32017, 0.34356, 0.54519, 0.38734, 0.30346, 0.23694, 0.4245, 0.26632, 0.07356, 0.26935, 0.397, 0.32225, 0.47274, 0.40396, 0.29804, 0.71994, 0.1325, 0.64262, 0.39176, 0.17111, 0.28735, 0.53707, 0.28755, 0.36251, 0.39541, 0.5447, 0.30672, 0.39977, 0.43071, 0.37868, 0.17388, 0.28282, 0.357, 0.58248, 0.27484, 0.37871, 0.2082, 0.71094, 0.58384, 0.35579, 0.39605, 0.60348, 0.17986, 0.30086, 0.48056, 0.25434, 0.56317, 0.38611, 0.0514, 0.49222, 0.4063, 0.1856, 0.62987, 0.26396, 0.33325, 0.53031, 0.33474, 0.4853, 0.32517, 0.26241, 0.27756, 0.55459, 0.53481, 0.39107, 0.17704, 0.36812, 0.2242, 0.45612, 0.07411, 0.28803, 0.30723, 0.1587, 0.43044, 0.42825, 0.47186, 0.35945, 0.26071, 0.58117, 0.51453, 0.38865, 0.42751, 0.4413, 0.18496, 0.49622, 0.41544, 0.18724, 0.24743, 0.36417, 0.0905, 0.39954, 0.56154, 0.29972, 0.56983, 0.37497, 0.60766, 0.50265, 0.33746, 0.48194, 0.1684, 0.22567, 0.47261, 0.34171, 0.16008, 0.32114, 0.30311, 0.1247, 0.33625, 0.15168, 0.20771, 0.46084, 0.55685, 0.28622, 0.29312, 0.07995, 0.09621, 0.19372, 0.03905, 0.23939, 0.59845, 0.3537, 0.34317, 0.43129, 0.54986, 0.2779, 0.50058, 0.14808, 0.37446, 0.23939, 0.65539, 0.1585, 0.8119, 0.73651, 0.14501, 0.14712, 0.57089, 0.24991, 0.68017, 0.38746, 0.3049, 0.05383, 0.84718, 0.31621, 0.17372, 0.14762, 0.15491, 0.11821, 0.09899, 0.50228, 0.2246, 0.10635, 0.59283, 0.32959, 0.29404, 0.42432, 0.43235, 0.43277, 0.33516, 0.48988, 0.37254, 0.48169, 0.69348, 0.58834, 0.21854, 0.41209, 0.12733, 0.06871, 0.58591, 0.30469, 0.24891, 0.16534, 0.52712, 0.20317, 0.23907, 0.27774, 0.16336, 0.74592, 0.35685, 0.42474, 0.64654, 0.21191, 0.15756, 0.2473, 0.43692, 0.46357, 0.68041, 0.74158, 0.27153, 0.15788, 0.27905, 0.72995, 0.32356, 0.41992, 0.31363, 0.61832, 0.37484, 0.31536, 0.2201, 0.01123, 0.49412, 0.31271, 0.40356, 0.22483, 0.19867, 0.1665, 0.19782, 0.10397, 0.19002, 0.50668, 0.24065, 0.39866, 0.42156, 0.26526, 0.3794, 0.10798, 0.29247, 0.27275, 0.24949, 0.65207, 0.5497, 0.38193, 0.35598, 0.42296, 0.53477, 0.24453, 0.24011, 0.18951, 0.4205, 0.53394, 0.42198, 0.24405, 0.10532, 0.35579, 0.25446, 0.76949, 0.19776, 0.63347, 0.47661, 0.11645, 0.31001, 0.22065, 0.32828, 0.25516, 0.1899, 0.56885, 0.1482, 0.2036, 0.2023, 0.34067, 0.52941, 0.25376, 0.22615, 0.3169, 0.3235, 0.18889, 0.46196, 0.46258, 0.48185, 0.30476, 0.20411, 0.14418, 0.44031, 0.52638, 0.19436, 0.53244, 0.53682, 0.52608, 0.17693, 0.50397, 0.32808, 0.07492, 0.25629, 0.52922, 0.17921, 0.12868, 0.422, 0.08564, 0.30102, 0.25621, 0.42666, 0.60663, 0.45098, 0.28474, 0.39163, 0.32674, 0.36977, 0.7331, 0.14766, 0.08722, 0.22618, 0.56036, 0.36608, 0.1774, 0.40719, 0.47635, 0.27798, 0.16451, 0.27792, 0.13946, 0.82706, 0.27782, 0.32759, 0.0772, 0.62693, 0.19555, 0.31338, 0.64216, 0.56445, 0.55863, 0.31993, 0.58742, 0.38378, 0.38096, 0.36085, 0.10612, 0.2046, 0.30478, 0.38535, 0.15755, 0.53964, 0.60093, 0.30845, 0.25491, 0.39308, 0.22646, 0.1505, 0.58524, 0.41489, 0.29628, 0.80131, 0.39802, 0.29688, 0.45895, 0.21771, 0.48167, 0.29761, 0.19538, 0.16788, 0.50683, 0.19353, 0.53489, 0.02457, 0.58131, 0.07665, 0.50455, 0.42577, 0.48448, 0.11345, 0.26428, 0.00385, 0.29126, 0.33111, 0.50982, 0.27488, 0.28291, 0.13963, 0.3766, 0.28606, 0.53566, 0.63529, 0.39947, 0.1929, 0.07124, 0.25963, 0.14468, 0.45013, 0.66548, 0.14262, 0.43739, 0.56422, 0.15321, 0.44874, 0.32488, 0.43284, 0.20689, 0.4738, 0.20369, 0.26244, 0.32216, 0.64562, 0.67076, 0.44467, 0.52215, 0.54281, 0.49163, 0.30781, 0.20141, 0.36044, 0.5195, 0.65756, 0.3066, 0.62116, 0.68385, 0.28073, 0.25541, 0.25182, 0.76877, 0.71863, 0.22414, 0.58501, 0.32931, 0.37631, 0.46146, 0.48066, 0.2539, 0.33348, 0.72647, 0.17173, 0.65882, 0.58486, 0.41054, 0.40903, 0.55767, 0.49301, 0.5699, 0.40132, 0.37569, 0.28357, 0.23951, 0.46621, 0.09668, 0.13852, 0.05864, 0.23906, 0.65908, 0.38136, 0.30187, 0.33887, 0.58141, 0.37606, 0.26795, 0.40664, 0.61843, 0.49156, 0.18115, 0.27576, 0.49309, 0.17244, 0.59374, 0.38231, 0.27277, 0.30988, 0.58681, 0.52585, 0.06894, 0.15281, 0.36675, 0.45951, 0.45626, 0.45545, 0.39808, 0.30517, 0.17279, 0.50262, 0.48853, 0.42191, 0.54156, 0.44298, 0.30136, 0.77706, 0.47339, 0.3224, 0.22094, 0.15403, 0.59344, 0.5603, 0.47554, 0.0532, 0.06891, 0.21598, 0.4806, 0.50236, 0.6068, 0.09091, 0.14934, 0.38322, 0.57908, 0.2741, 0.29153, 0.71057, 0.16937, 0.21238, 0.30397, 0.16538, 0.59112, 0.59478, 0.27828, 0.14894, 0.31474, 0.43738, 0.71781, 0.25189, 0.15075, 0.38445, 0.15924, 0.52211, 0.31972, 0.23224, 0.46218, 0.63042, 0.28296, 0.16691, 0.26439, 0.24676, 0.53746, 0.45033, 0.31871, 0.2634, 0.26262, 0.37796, 0.12257, 0.26707, 0.24105, 0.35478, 0.26289, 0.05348, 0.58131, 0.48034, 0.60089, 0.41228, 0.49473, 0.31588, 0.62815, 0.20468, 0.50544, 0.27154, 0.54322, 0.52522, 0.26268, 0.3478, 0.25066, 0.26694, 0.28789, 0.24091, 0.40536, 0.49055, 0.29161, 0.69665, 0.51561, 0.46248, 0.2933, 0.35167, 0.59552, 0.46265, 0.43388, 0.3126, 0.25469, 0.32348, 0.45047, 0.49828, 0.44263, 0.64185, 0.49742, 0.68096, 0.6584, 0.38372, 0.19861, 0.05265, 0.61177, 0.36476, 0.74571, 0.16519, 0.40278, 0.26403, 0.22042, 0.40966, 0.22138, 0.17121, 0.34239, 0.21341, 0.29044, 0.29674, 0.45037, 0.49413, 0.11228, 0.53205, 0.75596, 0.43292, 0.48128, 0.50121, 0.16734, 0.43567, 0.3699, 0.11543, 0.34557, 0.42446, 0.21323, 0.64703, 0.27901, 0.48572, 0.14048, 0.34961, 0.39084, 0.3244, 0.40502, 0.52322, 0.25891, 0.5079, 0.0, 0.33527, 0.2341, 0.17732, 0.37678, 0.06327, 0.41537, 0.6043, 0.21034, 0.61805, 0.1574, 0.35396, 0.4679, 0.27967, 0.44487, 0.2836, 0.16821, 0.0, 0.31106, 0.48407, 0.41057, 0.13105, 0.10556, 0.31311, 0.44884, 0.33015, 0.28144, 0.49855, 0.36155, 0.04989, 0.47696, 0.26932, 0.41886, 0.2796, 0.12062, 0.29934, 0.29778, 0.34862, 0.37643, 0.37331, 0.25734, 0.45348, 0.53242, 0.4309, 0.74755, 0.75265, 0.21576, 0.2683, 0.5834, 0.13414, 0.36194, 0.13872, 0.39449, 0.46535, 0.64387, 0.60855, 0.43246, 0.21999, 0.57532, 0.18896, 0.50234, 0.13523, 0.81014, 0.63303, 0.25237, 0.35272, 0.07194, 0.50971, 0.37545, 0.39976, 0.24128, 0.17216, 0.25682, 0.11645, 0.5032, 0.53675, 0.30278, 0.66555, 0.30417, 0.69189, 0.12143, 0.65394, 0.14221, 0.56375, 0.38762, 0.23171, 0.32701, 0.25424, 0.49592, 0.27364, 0.11785, 0.41121, 0.30992, 0.32366, 0.15013, 0.61352, 0.40525, 0.29774, 0.15922, 0.18239, 0.6666, 0.34928, 0.35947, 0.50938, 0.34686, 0.25459, 0.54969, 0.83175, 0.28325, 0.40596, 0.50825, 0.54221, 0.31985, 0.13423, 0.24504, 0.29884, 0.09467, 0.23556, 0.50767, 0.0737, 0.28825, 0.34151, 0.78043, 0.30607, 0.36775, 0.37145, 0.57606, 0.30575, 0.46207, 0.43899, 0.28464, 0.50239, 0.37188, 0.57523, 0.54965, 0.47075, 0.22313, 0.0, 0.39651, 0.58644, 0.34278, 0.28406, 0.27989, 0.20691, 0.65466, 0.55772, 0.10112, 0.54085, 0.23488, 0.39102, 0.38518, 0.37887, 0.2834, 0.4829, 0.61291, 0.07928, 0.45862, 0.19435, 0.21535, 0.44261, 0.34478, 0.19679, 0.14369, 0.19077, 0.13271, 0.23789, 0.31706, 0.28139, 0.05797, 0.18672, 0.37792, 0.20631, 0.12038, 0.41484, 0.60573, 0.33354, 0.49358, 0.13452, 0.30988, 0.66336, 0.19325, 0.35041, 0.58356, 0.25232, 0.29114, 0.55967, 0.66337, 0.54402, 0.28971, 0.42251, 0.57181, 0.41299, 0.46151, 0.21638, 0.38772, 0.1418, 0.44319, 0.42684, 0.28601, 0.37528, 0.41183, 0.511, 0.1339, 0.297, 0.18386, 0.44695, 0.15443, 0.27118, 0.3232, 0.47952, 0.30697, 0.37068, 0.324, 0.11801, 0.43768, 0.4055, 0.5353, 0.25109, 0.32944, 0.15032, 0.25261, 0.46918, 0.1783, 0.56013, 0.56966, 0.40301, 0.35768, 0.37869, 0.56113, 0.48834, 0.4157, 0.27485, 0.41841, 0.43352, 0.45397, 0.24435, 0.41885, 0.18649, 0.66961, 0.42042, 0.73761, 0.37724, 0.49509, 0.21099, 0.73041, 0.44948, 0.52749, 0.25498, 0.37988, 0.17298, 0.76732, 0.74736, 0.86854, 0.28792, 0.29315, 0.0, 0.70668, 0.23495, 0.33399, 0.3497, 0.19761, 0.28268, 0.62805, 0.40265, 0.49426, 0.39125, 0.61663, 0.48768, 0.68753, 0.1453, 0.24921, 0.11863, 0.41832, 0.75189, 0.44791, 0.27221, 0.06041, 0.16509, 0.49497, 0.4164, 0.72301, 0.39947, 0.36375, 0.36197, 0.16209, 0.65622, 0.47084, 0.32919, 0.21202, 0.38744, 0.03328, 0.13079, 0.19268, 0.07878, 0.32482, 0.13068, 0.53348, 0.47879, 0.55936, 0.21132, 0.39147, 0.37132, 0.34039, 0.35848, 0.31903, 0.73238, 0.40784, 0.24976, 0.57385, 0.0423, 0.42217, 0.25468, 0.51767, 0.36013, 0.42481, 0.20591, 0.77915, 0.19608, 0.39385, 0.29184, 0.60556, 0.35965, 0.59519, 0.38263, 0.12059, 0.30735, 0.41221, 0.49349, 0.80506, 0.23559, 0.33949, 0.29247, 0.43915, 0.40924, 0.41255, 0.35479, 0.02021, 0.51804, 0.51979, 0.20279, 0.34266, 0.43302, 0.27651, 0.54793, 0.5415, 0.21421, 0.17844, 0.33304, 0.3381, 0.45716, 0.35395, 0.70235, 0.35054, 0.64362, 0.03077, 0.1436, 0.25603, 0.59328, 0.26975, 0.56135, 0.36085, 0.17217, 0.2456, 0.39919, 0.0, 0.1784, 0.51489, 0.49264, 0.19445, 0.14362, 0.23611, 0.61316, 0.73709, 0.40448, 0.17696, 0.61111, 0.7089, 0.68562, 0.42703, 0.27322, 0.50341, 0.27155, 0.41371, 0.2164, 0.39181, 0.28473, 0.25298, 0.25875, 0.31992, 0.24544, 0.11482, 0.70168, 0.45689, 0.28355, 0.15606, 0.16815, 0.62013, 0.18549, 0.23587, 0.44252, 0.38813, 0.52559, 0.49508, 0.2751, 0.50102, 0.5875, 0.34981, 0.2878, 0.54138, 0.63731, 0.50723, 0.35301, 0.43066, 0.29404, 0.16818, 0.49035, 0.49837, 0.47621, 0.20234, 0.13757, 0.39305, 0.47185, 0.33919, 0.21838, 0.39689, 0.38082, 0.35691, 0.61228, 0.23787, 0.37207, 0.31275, 0.1328, 0.41077, 0.47182, 0.44679, 0.43128, 0.31453, 0.56962, 0.5331, 0.26822, 0.59446, 0.32328, 0.69961, 0.56392, 0.46503, 0.39491, 0.77158, 0.06797, 0.17513, 0.277, 0.12435, 0.25299, 0.51719, 0.62089, 0.33954, 0.13612, 0.55493, 0.1555, 0.47603, 0.25589, 0.60312, 0.21952, 0.34832, 0.62675, 0.60453, 0.5172, 0.63067, 0.17566, 0.22621, 0.27078, 0.26324, 0.31597, 0.62505, 0.17471, 0.212, 0.43521, 0.18579, 0.33154, 0.55883, 0.34761, 0.24331, 0.30799, 0.43056, 0.22051, 0.30407, 0.37058, 0.32469, 0.14725, 0.61201, 0.51423, 0.41063, 0.17163, 0.66817, 0.28828, 0.48757, 0.41229, 0.22532, 0.14853, 0.46431, 0.2649, 0.31589, 0.73785, 0.32973, 0.3372, 0.33352, 0.58798, 0.29441, 0.08925, 0.4904, 0.06116, 0.50763, 0.78579, 0.43783, 0.22712, 0.0, 0.4083, 0.53241, 0.37726, 0.39341, 0.27534, 0.08304, 0.53169, 0.59919, 0.00215, 0.09461, 0.35953, 0.33592, 0.18603, 0.54038, 0.09565, 0.51685, 0.72813, 0.39188, 0.10389, 0.54092, 0.23397, 0.41923, 0.3201, 0.24576, 0.48424, 0.54823, 0.08432, 0.3937, 0.45448, 0.1596, 0.26019, 0.40561, 0.15519, 0.25648, 0.60529, 0.15184, 0.17688, 0.60677, 0.29895, 0.26036, 0.62317, 0.43226, 0.10469, 0.64541, 0.3056, 0.33602, 0.54848, 0.23934, 0.14075, 0.53621, 0.21556, 0.59519, 0.68919, 0.10933, 0.37089, 0.65898, 0.58636, 0.72998, 0.4448, 0.25055, 0.377, 0.3383, 0.45576, 0.48661, 0.27924, 0.46769, 0.49042, 0.08981, 0.48483, 0.47779, 0.22882, 0.49683, 0.22613, 0.70658, 0.27198, 0.66517, 0.20147, 0.2803, 0.31415, 0.15817, 0.45756, 0.2873, 0.53594, 0.39204, 0.52223, 0.47452, 0.44464, 0.31431, 0.41786, 0.43898, 0.43254, 0.5304, 0.18369, 0.24718, 0.72645, 0.17242, 0.29065, 0.24762, 0.43268, 0.21584, 0.35984, 0.35671, 0.45364, 0.51551, 0.58718, 0.19201, 0.52678, 0.0, 0.25734, 0.19676, 0.06535, 0.29393, 0.2106, 0.16192, 0.46953, 0.63722, 0.18563, 0.22226, 0.2821, 0.12685, 0.31062, 0.48242, 0.56873, 0.51429, 0.40155, 0.37985, 0.44159, 0.34218, 0.48711, 0.54498, 0.28303, 0.35108, 0.36927, 0.24555, 0.24905, 0.49303, 0.79138, 0.33757, 0.32555, 0.57695, 0.3147, 0.44094, 0.46058, 0.45924, 0.26891, 0.48576, 0.24807, 0.64201, 0.21602, 0.4499, 0.40031, 0.19546, 0.11093, 0.54236, 0.19586, 0.48388, 0.51388, 0.24494, 0.38223, 0.41328, 0.46114, 0.58571, 0.31259, 0.11892, 0.19293, 0.28717, 0.19348, 0.55866, 0.23813, 0.3065, 0.1957, 0.12939, 0.24095, 0.00323, 0.326, 0.58001, 0.33555, 0.43478, 0.28971, 0.36495, 0.44135, 0.63329, 0.21164, 0.43381, 0.40107, 0.28575, 0.19333, 0.54866, 0.59677, 0.54533, 0.37402, 0.60568, 0.34336, 0.30073, 0.40113, 0.53844, 0.30376, 0.44885, 0.26137, 0.24731, 0.23178, 0.48006, 0.23627, 0.52752, 0.06654, 0.40976, 0.26359, 0.16174, 0.30484, 0.36951, 0.37783, 0.38787, 0.40242, 0.42566, 0.39237, 0.18634, 0.4161, 0.28517, 0.37877, 0.53607, 0.3293, 0.19666, 0.13716, 0.17856, 0.19831, 0.41639, 0.18688, 0.34902, 0.41424, 0.41119, 0.18402, 0.39135, 0.73527, 0.53375, 0.20028, 0.07952, 0.27789, 0.42755, 0.26433, 0.59222, 0.74985, 0.00011, 0.0959, 0.03703, 0.49795, 0.23395, 0.34909, 0.08392, 0.43652, 0.11038, 0.4686, 0.15553, 0.15698, 0.53792, 0.26164, 0.31323, 0.46466, 0.24008, 0.11776, 0.1651, 0.27384, 0.47638, 0.45574, 0.63268, 0.4751, 0.27537, 0.83206, 0.55566, 0.43078, 0.48957, 0.73177, 0.68799, 0.19986, 0.64644, 0.22031, 0.49917, 0.04629, 0.19797, 0.23231, 0.39591, 0.59886, 0.13711, 0.55118, 0.24466, 0.31941, 0.34417, 0.24203, 0.23588, 0.27116, 0.47773, 0.27132, 0.0172, 0.22898, 0.774, 0.23192, 0.2433, 0.35783, 0.32254, 0.32388, 0.68342, 0.64005, 0.42298, 0.53027, 0.52086, 0.15519, 0.544, 0.03552, 0.34654, 0.35566, 0.58836, 0.40143, 0.33976, 0.49678, 0.44965, 0.56829, 0.28489, 0.36537, 0.07495, 0.19253, 0.50749, 0.3622, 0.32381, 0.20388, 0.66573, 0.59771, 0.34311, 0.27803, 0.08324, 0.36292, 0.29155, 0.42292, 0.35334, 0.57332, 0.33315, 0.48761, 0.39179, 0.22017, 0.18708, 0.46473, 0.12036, 0.4435, 0.56151, 0.0, 0.20751, 0.16673, 0.34168, 0.61503, 0.18982, 0.32885, 0.42017, 0.34127, 0.20441, 0.15513, 0.22477, 0.66756, 0.38886, 0.3516, 0.8575, 0.48034, 0.17936, 0.35315, 0.21716, 0.398, 0.24432, 0.3711, 0.23266, 0.49361, 0.33543, 0.09735, 0.39365, 0.41299, 0.26586, 0.26978, 0.84111, 0.15604, 0.37211, 0.24592, 0.6607, 0.16521, 0.46412, 0.59301, 0.21915, 0.66115, 0.26662, 0.40539, 0.26477, 0.45218, 0.29865, 0.18112, 0.21035, 0.09206, 0.3672, 0.32522, 0.57195, 0.21592, 0.59117, 0.85445, 0.36929, 0.24507, 0.54203, 0.50515, 0.39506, 0.43694, 0.42105, 0.38758, 0.47022, 0.32764, 0.29592, 0.42308, 0.29938, 0.28735, 0.7692, 0.21686, 0.23629, 0.4394, 0.28942, 0.32649, 0.43721, 0.14718, 0.09511, 0.32746, 0.59141, 0.15151, 0.32543, 0.20468, 0.19257, 0.23073, 0.43752, 0.28458, 0.29768, 0.58024, 0.49305, 0.20499, 0.35905, 0.19124, 0.28923, 0.20015, 0.17936, 0.92227, 0.23208, 0.18103, 0.58655, 0.28382, 0.35208, 0.67414, 0.29936, 0.50833, 0.59598, 0.65879, 0.18342, 0.43024, 0.41314, 0.29137, 0.41365, 0.32624, 0.31772, 0.14053, 0.37056, 0.16717, 0.31743, 0.60142, 0.15799, 0.35189, 0.35502, 0.27242, 0.22178, 0.46289, 0.13601, 0.48944, 0.21515, 0.72744, 0.60709, 0.53327, 0.32467, 0.3159, 0.09301, 0.13194, 0.17378, 0.38227, 0.36734, 0.3722, 0.43828, 0.46232, 0.17673, 0.50591, 0.66004, 0.53287, 0.45256, 0.39418, 0.1486, 0.23964, 0.27431, 0.50115, 0.45439, 0.76782, 0.61528, 0.32208, 0.16188, 0.54999, 0.17497, 0.60162, 0.13628, 0.30791, 0.44103, 0.30586, 0.24146, 0.2571, 0.14779, 0.23892, 0.27436, 0.20596, 0.58132, 0.51363, 0.32533, 0.20349, 0.36797, 0.14484, 0.22607, 0.74019, 0.52317, 0.51596, 0.07258, 0.21392, 0.30614, 0.28823, 0.03395, 0.33486, 0.23277, 0.20757, 0.28255, 0.20409, 0.233, 0.71797, 0.1531, 0.45485, 0.38124, 0.2084, 0.75517, 0.45069, 0.19465, 0.12097, 0.44801, 0.54222, 0.33723, 0.48584, 0.35688, 0.37358, 0.15169, 0.48373, 0.34857, 0.68501, 0.39976, 0.31859, 0.52735, 0.76654, 0.27166, 0.40315, 0.16695, 0.39695, 0.28055, 0.14844, 0.27551, 0.39435, 0.39462, 0.5865, 0.24493, 0.28845, 0.27283, 0.45722, 0.35647, 0.27224, 0.54086, 0.65892, 0.46213, 0.51845, 0.27047, 0.09739, 0.71762, 0.3375, 0.47016, 0.28867, 0.41541, 0.43266, 0.46605, 0.78673, 0.52369, 0.47272, 0.4821, 0.33114, 0.56033, 0.37941, 0.54225, 0.18914, 0.4931, 0.78132, 0.21138, 0.4172, 0.27032, 0.3565, 0.14039, 0.50191, 0.50172, 0.19041, 0.38952, 0.34859, 0.58907, 0.12554, 0.34959, 0.57062, 0.31128, 0.30435, 0.4579, 0.41817, 0.2259, 0.14006, 0.27114, 0.20215, 0.80263, 0.16358, 0.57034, 0.59175, 0.44487, 0.36824, 0.36364, 0.54523, 0.21106, 0.69867, 0.39232, 0.60568, 0.04647, 0.69824, 0.25442, 0.34554, 0.18787, 0.38651, 0.38665, 0.42877, 0.27489, 0.32875, 0.49865, 0.66218, 0.30011, 0.24184, 0.48899, 0.08582, 0.43945, 0.35123, 0.19361, 0.29531, 0.43214, 0.34264, 0.30108, 0.0, 0.43018, 0.15312, 0.22557, 0.61265, 0.17222, 0.29973, 0.47067, 0.27271, 0.73128, 0.54866, 0.25721, 0.20098, 0.45319, 0.2834, 0.40402, 0.38569, 0.68061, 0.49653, 0.55553, 0.3402, 0.30164, 0.5235, 0.6724, 0.45663, 0.45005, 0.25756, 0.27668, 0.4663, 0.56313, 0.41687, 0.46371, 0.82769, 0.47563, 0.10413, 0.66946, 0.42562, 0.10639, 0.65025, 0.53259, 0.19464, 0.35556, 0.19461, 0.33622, 0.12505, 0.61656, 0.52466, 0.25339, 0.27292, 0.4589, 0.23087, 0.28148, 0.24956, 0.48855, 0.06946, 0.35843, 0.35753, 0.43323, 0.5382, 0.49103, 0.10691, 0.49868, 0.26529, 0.2145, 0.32939, 0.41257, 0.15932, 0.06895, 0.27017, 0.71914, 0.36107, 0.27077, 0.15938, 0.29818, 0.19561, 0.05882, 0.33709, 0.53518, 0.25576, 0.43281, 0.41837, 0.42452, 0.12519, 0.31328, 0.5792, 0.68786, 0.11489, 0.3471, 0.62313, 0.34151, 0.42085, 0.66544, 0.25661, 0.21474, 0.38538, 0.74459, 0.3118, 0.29926, 0.58086, 0.46956, 0.60078, 0.44747, 0.45263, 0.3874, 0.4096, 0.25683, 0.59859, 0.63795, 0.22102, 0.43414, 0.35219, 0.58046, 0.00527, 0.71335, 0.44539, 0.60262, 0.38441, 0.56168, 0.29679, 0.59461, 0.18522, 0.63913, 0.17206, 0.79114, 0.23708, 0.28463, 0.62949, 0.42423, 0.09964, 0.11335, 0.43625, 0.35121, 0.19953, 0.13978, 0.51612, 0.41014, 0.5936, 0.40222, 0.43841, 0.49229, 0.5233, 0.4451, 0.40483, 0.26682, 0.45825, 0.45693, 0.30163, 0.2748, 0.50161, 0.10439, 0.32493, 0.52645, 0.36978, 0.50144, 0.31229, 0.57553, 0.14091, 0.16853, 0.0622, 0.35461, 0.03952, 0.50997, 0.1774, 0.34938, 0.48778, 0.04353, 0.0977, 0.24949, 0.09909, 0.39325, 0.18641, 0.07965, 0.31246, 0.31914, 0.39028, 0.21939, 0.49898, 0.20143, 0.36809, 0.0, 0.17944, 0.4567, 0.19998, 0.28419, 0.49695, 0.14589, 0.58933, 0.12427, 0.50126, 0.608, 0.58617, 0.07108, 0.20759, 0.44708, 0.2664, 0.33568, 0.19337, 0.67111, 0.24027, 0.54047, 0.27743, 0.56475, 0.44392, 0.24897, 0.38836, 0.24124, 0.54576, 0.20631, 0.15361, 0.27654, 0.04086, 0.10357, 0.76924, 0.59312, 0.41634, 0.38505, 0.11441, 0.61713, 0.24775, 0.44464, 0.40251, 0.25934, 0.60272, 0.19111, 0.27155, 0.45992, 0.04018, 0.21756, 0.3945, 0.50005, 0.49915, 0.35615, 0.58731, 0.54687, 0.12204, 0.44858, 0.10518, 0.25931, 0.27307, 0.37033, 0.21249, 0.0844, 0.37175, 0.41796, 0.35476, 0.62355, 0.2712, 0.64054, 0.3205, 0.47936, 0.00038, 0.20671, 0.40844, 0.28004, 0.60151, 0.57904, 0.12182, 0.07262, 0.39004, 0.18124, 0.40419, 0.38411, 0.33145, 0.14852, 0.75963, 0.47888, 0.00041, 0.26653, 0.53022, 0.40303, 0.30383, 0.57987, 0.56834, 0.54115, 0.65257, 0.17795, 0.19026, 0.05367, 0.29577, 0.34575, 0.12114, 0.42722, 0.31506, 0.55957, 0.04475, 0.77823, 0.26649, 0.08313, 0.35333, 0.50377, 0.23491, 0.26222, 0.5125, 0.65668, 0.31629, 0.52264, 0.64749, 0.41881, 0.31728, 0.15462, 0.3509, 0.52321, 0.41739, 0.4041, 0.34417, 0.69891, 0.38621, 0.3849, 0.306, 0.08303, 0.69924, 0.56002, 0.52963, 0.32869, 0.26735, 0.55597, 0.3786, 0.19404, 0.18153, 0.60047, 0.43365, 0.61533, 0.70954, 0.38912, 0.50931, 0.67836, 0.16437, 0.38718, 0.34206, 0.30642, 0.25825, 0.45756, 0.40266, 0.45769, 0.52494, 0.20454, 0.3551, 0.51077, 0.33371, 0.29264, 0.35999, 0.46835, 0.691, 0.09629, 0.1428, 0.2243, 0.23691, 0.26318, 0.29994, 0.12923, 0.28714, 0.21415, 0.72701, 0.23958, 0.80858, 0.50884, 0.44937, 0.27968, 0.26368, 0.45443, 0.42184, 0.19341, 0.49423, 0.2189, 0.59295, 0.0671, 0.47582, 0.48921, 0.55014, 0.2603, 0.27576, 0.5398, 0.26862, 0.13752, 0.67279, 0.2303, 0.978, 0.21623, 0.33329, 0.15591, 0.07998, 0.46719, 0.14151, 0.6182, 0.47039, 0.09462, 0.34058, 0.6072, 0.44175, 0.58271, 0.2548, 0.45883, 0.31666, 0.37155, 0.13293, 0.39277, 0.24539, 0.25771, 0.13381, 0.24481, 0.59905, 0.10899, 0.22846, 0.24434, 0.54006, 0.81905, 0.49471, 0.52443, 0.11269, 0.77401, 0.21519, 0.40708, 0.28271, 0.45617, 0.40098, 0.0, 0.29812, 0.50908, 0.40062, 0.49909, 0.5824, 0.29484, 0.45452, 0.7325, 0.17682, 0.67138, 0.24972, 0.32892, 0.21403, 0.14407, 0.40038, 0.45952, 0.17434, 0.07419, 0.11538, 0.70571, 0.25579, 0.38423, 0.59567, 0.1442, 0.67557, 0.21226, 0.43847, 0.78982, 0.40335, 0.13712, 0.28106, 0.30035, 0.67561, 0.38467, 0.333, 0.42288, 0.3887, 0.16717, 0.73546, 0.25445, 0.63794, 0.30803, 0.37515, 0.7374, 0.50298, 0.32291, 0.72372, 0.40559, 0.30022, 0.35629, 0.16773, 0.22134, 0.57229, 0.4875, 0.50064, 0.13107, 0.47658, 0.48516, 0.45052, 0.61838, 0.56161, 0.11517, 0.21459, 0.20531, 0.28872, 0.42382, 0.48968, 0.77783, 0.29805, 0.49965, 0.67752, 0.4263, 0.50656, 0.37667, 0.42203, 0.15187, 0.50965, 0.12554, 0.45987, 0.29627, 0.22031, 0.05291, 0.25164, 0.28127, 0.28517, 0.83983, 0.80692, 0.6177, 0.37679, 0.40656, 0.56734, 0.38444, 0.35152, 0.56583, 0.0, 0.59233, 0.23593, 0.03079, 0.2617, 0.31501, 0.33992, 0.31527, 0.29252, 0.33681, 0.31896, 0.25191, 0.42614, 0.00117, 0.15028, 0.17448, 0.62845, 0.17635, 0.05547, 0.39398, 0.2385, 0.4143, 0.5881, 0.64283, 0.61373, 0.37647, 0.6282, 0.16658, 0.22275, 0.34413, 0.40842, 0.5709, 0.53123, 0.54085, 0.38142, 0.79288, 0.35468, 0.18203, 0.37034, 0.69316, 0.11719, 0.25519, 0.54728, 0.42879, 0.35177, 0.47687, 0.24133, 0.58798, 0.49303, 0.01654, 0.73572, 0.25992, 0.65293, 0.2246, 0.07115, 0.5557, 0.67924, 0.52115, 0.65419, 0.41435, 0.47356, 0.11647, 0.25342, 0.18079, 0.34009, 0.16013, 0.26396, 0.49158, 0.44412, 0.44413, 0.57002, 0.35512, 0.46367, 0.58524, 0.16213, 0.47066, 0.38525, 0.26647, 0.6307, 0.33461, 0.2415, 0.28651, 0.23506, 0.21624, 0.54028, 0.53773, 0.16765, 0.04629, 0.08729, 0.24565, 0.45948, 0.32992, 0.51519, 0.29479, 0.16066, 0.34978, 0.35067, 0.31601, 0.26021, 0.47249, 0.56384, 0.49821, 0.24314, 0.49184, 0.09115, 0.08224, 0.4244, 0.58837, 0.08888, 0.14897, 0.14061, 0.16208, 0.45449, 0.29446, 0.33694, 0.40378, 0.68206, 0.45405, 0.27647, 0.55299, 0.13857, 0.56103, 0.31996, 0.62287, 0.16219, 0.20327, 0.41866, 0.52782, 0.78253, 0.56421, 0.28585, 0.1077, 0.32721, 0.39778, 0.3842, 0.42877, 0.397, 0.39589, 0.7315, 0.3865, 0.56042, 0.49708, 0.48824, 0.18163, 0.52521, 0.13114, 0.16126, 0.30421, 0.62744, 0.58347, 0.27535, 0.39305, 0.15091, 0.25099, 0.28581, 0.13059, 0.41765, 0.39683, 0.2833, 0.33252, 0.13464, 0.36336, 0.37842, 0.52279, 0.25055, 0.2384, 0.29592, 0.24226, 0.48297, 0.27402, 0.30275, 0.71879, 0.05029, 0.2089, 0.31241, 0.38382, 0.45504, 0.52109, 0.41943, 0.53314, 0.27352, 0.24113, 0.38924, 0.23448, 0.49718, 0.31909, 0.43156, 0.14683, 0.18427, 0.56081, 0.182, 0.42316, 0.25119, 0.32276, 0.41998, 0.42825, 0.14895, 0.35882, 0.51768, 0.35752, 0.10556, 0.41867, 0.21447, 0.27439, 0.0859, 0.29149, 0.3214, 0.45697, 0.2204, 0.12383, 0.28997, 0.27055, 0.35716, 0.47422, 0.38503, 0.42842, 0.37718, 0.22149, 0.53165, 0.28327, 0.58938, 0.30466, 0.10095, 0.35542, 0.26669, 0.24396, 0.48576, 0.52999, 0.35628, 0.34477, 0.14128, 0.46041, 0.21764, 0.61352, 0.0, 0.61222, 0.15369, 0.08734, 0.75276, 0.49429, 0.36884, 0.46945, 0.58936, 0.16992, 0.12142, 0.19561, 0.62373, 0.29984, 0.29487, 0.40267, 0.38863, 0.16364, 0.81032, 0.58266, 0.45693, 0.27657, 0.45809, 0.67078, 0.44886, 0.47054, 0.69922, 0.32246, 0.72827, 0.24837, 0.2404, 0.35505, 0.62246, 0.69537, 0.41374, 0.39774, 0.5889, 0.25396, 0.58478, 0.5298, 0.07349, 0.57988, 0.15369, 0.45215, 0.26239, 0.5683, 0.77911, 0.26842, 0.15448, 0.71635, 0.70686, 0.32301, 0.27713, 0.50008, 0.50871, 0.14831, 0.50097, 0.38676, 0.45546, 0.33119, 0.64678, 0.41484, 0.25855, 0.23392, 0.3999, 0.21931, 0.05798, 0.22542, 0.01311, 0.35984, 0.13303, 0.662, 0.16313, 0.24301, 0.36193, 0.17638, 0.4429, 0.74788, 0.44928, 0.79331, 0.33124, 0.21979, 0.44137, 0.3064, 0.61309, 0.45686, 0.51385, 0.46371, 0.45004, 0.20793, 0.393, 0.44373, 0.67124, 0.14144, 0.23869, 0.23795, 0.12811, 0.12997, 0.54916, 0.64247, 0.40989, 0.19394, 0.08477, 0.16213, 0.37197, 0.38121, 0.40121, 0.19094, 0.33407, 0.27836, 0.3898, 0.33953, 0.4918, 0.54183, 0.41558, 0.17804, 0.25581, 0.35719, 0.63896, 0.36729, 0.35165, 0.25151, 0.46686, 0.45394, 0.50118, 0.42916, 0.24863, 0.29265, 0.17333, 0.17637, 0.23541, 0.55461, 0.29058, 0.39882, 0.81356, 0.38828, 0.4071, 0.38525, 0.18937, 0.44924, 0.20681, 0.27995, 0.17815, 0.37752, 0.18178, 0.44852, 0.7434, 0.41161, 0.49481, 0.20113, 0.06395, 0.53647, 0.67919, 0.29388, 0.54345, 0.16065, 0.23844, 0.49411, 0.04912, 0.25919, 0.20365, 0.34056, 0.45033, 0.27855, 0.44367, 0.43613, 0.68426, 0.34578, 0.48124, 0.35012, 0.16099, 0.32792, 0.25539, 0.44475, 0.38572, 0.06266, 0.12982, 0.46968, 0.27669, 0.13377, 0.20894, 0.44671, 0.44992, 0.47375, 0.29508, 0.18136, 0.52667, 0.72233, 0.4318, 0.75901, 0.18133, 0.61259, 0.71408, 0.46687, 0.11063, 0.21412, 0.54067, 0.48096, 0.39708, 0.23771, 0.26127, 0.23622, 0.4764, 0.45516, 0.14847, 0.43077, 0.42683, 0.45519, 0.43629, 0.50104, 0.31912, 0.17185, 0.47608, 0.26438, 0.23573, 0.22805, 0.84344, 0.2148, 0.22963, 0.65027, 0.52604, 0.35057, 0.42401, 0.11687, 0.43293, 0.23185, 0.2343, 0.13421, 0.31693, 0.37188, 0.16647, 0.04885, 0.35628, 0.22221, 0.25908, 0.35862, 0.59741, 0.53854, 0.72069, 0.25934, 0.2038, 0.17849, 0.40646, 0.28951, 0.501, 0.67705, 0.43817, 0.28698, 0.45496, 0.35868, 0.19212, 0.38842, 0.38375, 0.4217, 0.44502, 0.5447, 0.0, 0.18914, 0.39872, 0.33705, 0.39628, 0.60132, 0.53777, 0.68828, 0.44549, 0.17666, 0.26255, 0.37821, 0.23501, 0.314, 0.44277, 0.24349, 0.58119, 0.41138, 0.19998, 0.18364, 0.21455, 0.06503, 0.28393, 0.70237, 0.46026, 0.62723, 0.26326, 0.52124, 0.22927, 0.31029, 0.0044, 0.19972, 0.76504, 0.67603, 0.26932, 0.73284, 0.31763, 0.17109, 0.75757, 0.42145, 0.36272, 0.47911, 0.17874, 0.54552, 0.47894, 0.28996, 0.33439, 0.5292, 0.1088, 0.63399, 0.41224, 0.17422, 0.36892, 0.03803, 0.40182, 0.14121, 0.33199, 0.0, 0.84015, 0.45396, 0.20403, 0.52192, 0.34849, 0.12474, 0.54312, 0.16007, 0.65782, 0.24543, 0.37128, 0.0871, 0.37515, 0.20357, 0.49338, 0.33969, 0.67115, 0.54149, 0.34936, 0.14766, 0.35192, 0.46991, 0.19755, 0.28406, 0.66489, 0.34204, 0.43188, 0.17149, 0.20094, 0.70758, 0.72048, 0.1626, 0.0, 0.12074, 0.42536, 0.17207, 0.10869, 0.41169, 0.19834, 0.75513, 0.18015, 0.50449, 0.10311, 0.67905, 0.61769, 0.70067, 0.46641, 0.87451, 0.3893, 0.39284, 0.26018, 0.31182, 0.42858, 0.20308, 0.44482, 0.39197, 0.46979, 0.73482, 0.46998, 0.53872, 0.60347, 0.49982, 0.28013, 0.28138, 0.28307, 0.07173, 0.52646, 0.33829, 0.33187, 0.26421, 0.27947, 0.37516, 0.6584, 0.11035, 0.23526, 0.13992, 0.5021, 0.34392, 0.54664, 0.18959, 0.36263, 0.75872, 0.5158, 0.41314, 0.24822, 0.38715, 0.30399, 0.48587, 0.55547, 0.42513, 0.86936, 0.581, 0.18067, 0.25015, 0.46361, 0.30042, 0.35276, 0.29266, 0.4321, 0.33668, 0.20392, 0.33818, 0.29502, 0.35942, 0.3604, 0.29661, 0.2338, 0.48016, 0.24219, 0.65515, 0.17078, 0.38347, 0.77578, 0.51903, 0.14853, 0.37257, 0.30081, 0.43373, 0.66717, 0.31654, 0.30773, 0.0941, 0.41338, 0.52599, 0.22533, 0.6653, 0.05676, 0.09474, 0.39088, 0.33346, 0.21499, 0.26432, 0.20112, 0.19234, 0.49252, 0.42678, 0.34177, 0.17335, 0.79159, 0.52174, 0.31841, 0.34125, 0.44641, 0.16351, 0.15239, 0.70383, 0.28403, 0.49232, 0.31033, 0.44459, 0.46581, 0.15021, 0.50675, 0.43059, 0.11978, 0.28363, 0.43423, 0.427, 0.15473, 0.3654, 0.53201, 0.30631, 0.35968, 0.46677, 0.35092, 0.72772, 0.5709, 0.12338, 0.57151, 0.43951, 0.28283, 0.47898, 0.38924, 0.32522, 0.41979, 0.4883, 0.48634, 0.23259, 0.37051, 0.24689, 0.33787, 0.517, 0.23625, 0.81066, 0.11894, 0.09142, 0.37817, 0.62342, 0.2251, 0.19236, 0.33086, 0.37999, 0.36729, 0.5831, 0.80526, 0.38103, 0.26748, 0.57335, 0.31702, 0.34123, 0.16625, 0.24015, 0.45594, 0.50665, 0.13071, 0.37314, 0.5602, 0.43623, 0.23954, 0.23492, 0.6509, 0.25004, 0.73552, 0.09835, 0.30786, 0.33506, 0.38481, 0.50224, 0.21792, 0.15001, 0.74719, 0.48829, 0.41235, 0.16223, 0.28483, 0.28127, 0.51482, 0.20238, 0.85847, 0.35493, 0.30981, 0.20155, 0.22534, 0.49352, 0.35911, 0.63809, 0.61025, 0.26385, 0.50768, 0.56745, 0.42716, 0.54001, 0.1681, 0.535, 0.21353, 0.34582, 0.24574, 0.2985, 0.03963, 0.34648, 0.3936, 0.21902, 0.34125, 0.27195, 0.47221, 0.21633, 0.28686, 0.26742, 0.16175, 0.10953, 0.44761, 0.24514, 0.44139, 0.54431, 0.28322, 0.35976, 0.25691, 0.62124, 0.26214, 0.46657, 0.34274, 0.48424, 0.187, 0.44542, 0.27513, 0.06714, 0.52101, 0.47374, 0.34484, 0.37625, 0.35332, 0.32393, 0.61341, 0.22856, 0.24408, 0.13661, 0.61068, 0.22779, 0.11254, 0.40318, 0.16211, 0.14971, 0.65727, 0.30443, 0.81676, 0.46343, 0.24357, 0.07426, 0.45016, 0.54414, 0.31862, 0.12378, 0.29538, 0.3397, 0.45518, 0.12088, 0.14304, 0.40406, 0.416, 0.24563, 0.40465, 0.16112, 0.63527, 0.23742, 0.69156, 0.85451, 0.31804, 0.26451, 0.65245, 0.34394, 0.47299, 0.2822, 0.47445, 0.84692, 0.52202, 0.18925, 0.419, 0.59741, 0.34199, 0.27402, 0.37106, 0.64699, 0.42757, 0.27229, 0.43981, 0.52779, 0.49616, 0.19591, 0.15118, 0.27996, 0.22991, 0.50764, 0.4242, 0.4017, 0.1568, 0.23121, 0.1848, 0.29429, 0.50892, 0.3701, 0.29455, 0.13585, 0.14757, 0.28096, 0.09076, 0.69224, 0.14944, 0.16224, 0.69271, 0.31056, 0.39858, 0.57001, 0.26872, 0.20579, 0.43393, 0.28683, 0.51165, 0.43261, 0.51458, 0.71972, 0.31488, 0.46486, 0.04789, 0.45907, 0.35407, 0.57037, 0.4692, 0.32901, 0.42794, 0.22648, 0.23469, 0.46845, 0.26978, 0.60477, 0.30469, 0.16146, 0.38841, 0.60025, 0.52549, 0.30591, 0.22049, 0.23013, 0.51618, 0.45965, 0.442, 0.78171, 0.196, 0.28116, 0.44613, 0.45714, 0.45971, 0.32468, 0.31908, 0.71068, 0.51344, 0.59587, 0.69606, 0.14121, 0.27592, 0.15795, 0.31872, 0.45035, 0.28074, 0.39224, 0.47892, 0.14105, 0.47615, 0.62177, 0.5099, 0.47152, 0.22166, 0.22315, 0.23554, 0.53276, 0.35318, 0.4283, 0.51556, 0.50626, 0.0705, 0.0839, 0.31738, 0.68395, 0.2805, 0.21195, 0.14738, 0.32217, 0.6281, 1.0, 0.76337, 0.57176, 0.38839, 0.41753, 0.54678, 0.18868, 0.54459, 0.59497, 0.29549, 0.1782, 0.33362, 0.24895, 0.06652, 0.19269, 0.59093, 0.45275, 0.41753, 0.83173, 0.43413, 0.29977, 0.17093, 0.67244, 0.20707, 0.34103, 0.31821, 0.6267, 0.18969, 0.59198, 0.67061, 0.16618, 0.23398, 0.51283, 0.05171, 0.3436, 0.18844, 0.44314, 0.00116, 0.35762, 0.5907, 0.51521, 0.12983, 0.01061, 0.06581, 0.47964, 0.25159, 0.0781, 0.58998, 0.39665, 0.39794, 0.19595, 0.21771, 0.46828, 0.54238, 0.20001, 0.43567, 0.8127, 0.16591, 0.35816, 0.12476, 0.2132, 0.2189, 0.42476, 0.61904, 0.66556, 0.26848, 0.1819, 0.39625, 0.43015, 0.479, 0.74773, 0.31466, 0.39445, 0.18012, 0.18296, 0.09073, 0.22718, 0.47039, 0.62966, 0.09236, 0.52764, 0.3625, 0.53885, 0.60362, 0.50177, 0.46128, 0.22097, 0.33417, 0.67708, 0.59803, 0.17114, 0.62855, 0.47373, 0.41458, 0.22731, 0.62503, 0.2338, 0.42517, 0.21466, 0.32318, 0.47267, 0.36295, 0.18866, 0.63829, 0.45738, 0.41341, 0.4111, 0.36705, 0.58046, 0.1393, 0.25429, 0.5282, 0.20546, 0.5934, 0.29303, 0.57221, 0.17359, 0.38027, 0.24834, 0.52184, 0.5308, 0.38344, 0.58123, 0.47291, 0.17721, 0.2052, 0.29537, 0.48238, 0.40691, 0.02536, 0.21316, 0.28684, 0.04231, 0.41085, 0.41037, 0.43317, 0.42314, 0.29249, 0.32438, 0.71929, 0.7711, 0.87242, 0.53918, 0.30376, 0.52314, 0.59782, 0.30085, 0.31823, 0.18263, 0.7957, 0.33639, 0.43483, 0.17119, 0.44949, 0.3909, 0.29807, 0.30696, 0.35085, 0.37938, 0.36434, 0.47923, 0.28027, 0.26112, 0.39621, 0.39765, 0.63853, 0.25879, 0.44626, 0.32644, 0.45264, 0.34104, 0.31016, 0.17899, 0.50464, 0.47981, 0.0, 0.26666, 0.1908, 0.26428, 0.24665, 0.53969, 0.1055, 0.15279, 0.26761, 0.59983, 0.37369, 0.55424, 0.6809, 0.47148, 0.52621, 0.34146, 0.73762, 0.32448, 0.31307, 0.36659, 0.13273, 0.39437, 0.67204, 0.51168, 0.20233, 0.45428, 0.18789, 0.46779, 0.44746, 0.51714, 0.19507, 0.50693, 0.34344, 0.44722, 0.43256, 0.24902, 0.61609, 0.35265, 0.66244, 0.25599, 0.2742, 0.57888, 0.47977, 0.55108, 0.53851, 0.43706, 0.43456, 0.09301, 0.57224, 0.20327, 0.5411, 0.07466, 0.16301, 0.3838, 0.31982, 0.34595, 0.21831, 0.08087, 0.76378, 0.2846, 0.30998, 0.35436, 0.70953, 0.37844, 0.39876, 0.39296, 0.39525, 0.20578, 0.59828, 0.23361, 0.55125, 0.15872, 0.04574, 0.22186, 0.32011, 0.26813, 0.45738, 0.22684, 0.55647, 0.45972, 0.20508, 0.53286, 0.37206, 0.18931, 0.05478, 0.22108, 0.33238, 0.28848, 0.51521, 0.29118, 0.36983, 0.28888, 0.30376, 0.1399, 0.59914, 0.67364, 0.41646, 0.41128, 0.44194, 0.35, 0.36184, 0.11015, 0.5969, 0.10932, 0.0323, 0.16852, 0.09743, 0.22147, 0.34123, 0.25814, 0.07224, 0.28433, 0.2966, 0.0575, 0.51347, 0.42626, 0.43488, 0.21566, 0.16023, 0.42517, 0.28643, 0.37497, 0.52754, 0.5883, 0.41166, 0.29506, 0.57416, 0.02354, 0.35906, 0.57508, 0.44363, 0.16543, 0.84412, 0.67009, 0.21904, 0.14902, 0.11702, 0.46735, 0.45293, 0.40668, 0.49775, 0.10241, 0.24539, 0.25398, 0.10207, 0.23738, 0.19619, 0.40032, 0.34109, 0.60118, 0.31368, 0.2748, 0.26387, 0.37127, 0.5523, 0.54621, 0.16881, 0.28762, 0.13344, 0.67173, 0.75026, 0.51042, 0.30218, 0.29955, 0.1449, 0.38246, 0.57485, 0.24385, 0.38131, 0.28748, 0.35426, 0.48612, 0.1617, 0.2069, 0.57044, 0.82697, 0.45416, 0.69884, 0.45925, 0.21381, 0.39733, 0.65556, 0.15647, 0.11701, 0.15604, 0.82543, 0.0917, 0.56962, 0.38421, 0.20197, 0.36082, 0.70672, 0.2943, 0.35012, 0.54419, 0.50006, 0.5725, 0.4422, 0.34613, 0.34258, 0.20379, 0.329, 0.22477, 0.13658, 0.3159, 0.22773, 0.08915, 0.17133, 0.24225, 0.39258, 0.73263, 0.40269, 0.52878, 0.30767, 0.36122, 0.54009, 0.32345, 0.53362, 0.52018, 0.44546, 0.65615, 0.65504, 0.55111, 0.40888, 0.17878, 0.45565, 0.55203, 0.2471, 0.55013, 0.29897, 0.43292, 0.28437, 0.15261, 0.19423, 0.71069, 0.78849, 0.50421, 0.8147, 0.3265, 0.43528, 0.14113, 0.36933, 0.38223, 0.73849, 0.76167, 0.39, 0.31694, 0.22988, 0.12804, 0.86413, 0.41189, 0.13432, 0.26577, 0.49241, 0.50449, 0.72629, 0.49327, 0.51922, 0.56383, 0.20526, 0.37943, 0.5078, 0.25962, 0.30177, 0.11714, 0.44048, 0.18085, 0.29439, 0.64942, 0.76658, 0.44891, 0.18514, 0.19713, 0.68413, 0.22778, 0.12037, 0.15005, 0.65714, 0.22802, 0.26459, 0.81848, 0.83471, 0.55035, 0.44993, 0.51705, 0.3788, 0.38683, 0.46047, 0.44462, 0.1949, 0.45231, 0.24265, 0.32425, 0.5476, 0.48475, 0.32817, 0.22479, 0.53003, 0.16926, 0.3778, 0.72118, 0.63884, 0.2732, 0.44907, 0.68633, 0.2879, 0.17462, 0.21881, 0.51144, 0.32599, 0.42199, 0.23115, 0.49645, 0.79906, 0.34982, 0.18015, 0.16501, 0.16164, 0.43535, 0.41479, 0.07315, 0.0708, 0.15852, 0.51039, 0.2767, 0.48311, 0.26084, 0.50354, 0.24488, 0.26672, 0.61361, 0.39534, 0.47211, 0.47579, 0.50363, 0.28551, 0.36208, 0.27569, 0.16564, 0.30561, 0.16138, 0.53582, 0.34744, 0.58986, 0.34971, 0.01679, 0.21292, 0.19927, 0.14796, 0.57149, 0.10217, 0.2358, 0.27911, 0.52964, 0.15669, 0.21237, 0.66722, 0.07791, 0.19802, 0.87306, 0.61476, 0.52306, 0.3904, 0.35443, 0.32821, 0.24019, 0.35079, 0.58969, 0.37283, 0.22195, 0.54532, 0.12822, 0.51792, 0.35486, 0.32909, 0.23509, 0.14915, 0.23073, 0.12246, 0.29198, 0.21491, 0.28899, 0.30752, 0.26373, 0.2599, 0.49612, 0.41888, 0.14746, 0.47508, 0.48528, 0.25882, 0.39902, 0.26456, 0.35804, 0.17246, 0.2788, 0.29837, 0.23217, 0.19439, 0.3128, 0.45366, 0.31752, 0.21818, 0.21591, 0.41929, 0.48742, 0.18056, 0.66624, 0.64285, 0.39597, 0.1142, 0.40363, 0.40303, 0.37757, 0.17173, 0.44032, 0.27658, 0.17337, 0.60021, 0.58581, 0.35618, 0.32681, 0.31728, 0.24469, 0.33582, 0.47515, 0.3509, 0.44707, 0.23439, 0.23192, 0.32328, 0.21228, 0.29148, 0.48283, 0.02495, 0.3756, 0.27665, 0.22958, 0.44712, 0.29695, 0.43489, 0.19825, 0.25669, 0.265, 0.25547]\n"
          ],
          "name": "stdout"
        }
      ]
    },
    {
      "cell_type": "code",
      "metadata": {
        "id": "doFnQQeDpK0M",
        "colab_type": "code",
        "colab": {}
      },
      "source": [
        "#converting result STS_in_p to dataframe to convert it to csv file\n",
        "dfr=pd.DataFrame(STS_in_p)\n",
        "dfr.to_csv(\"Similarity_Score_using_inner_product.csv\")"
      ],
      "execution_count": 0,
      "outputs": []
    },
    {
      "cell_type": "code",
      "metadata": {
        "id": "oUQdkLYHqN6N",
        "colab_type": "code",
        "outputId": "09e94952-0bac-492f-d144-37999eee8204",
        "colab": {
          "base_uri": "https://localhost:8080/",
          "height": 295
        }
      },
      "source": [
        "print(\"\\n [OUT]:  Semantic Textual Similarity w.r.t to Unique ID:\\n\",dfr)"
      ],
      "execution_count": 0,
      "outputs": [
        {
          "output_type": "stream",
          "text": [
            "\n",
            " [OUT]:  Semantic Textual Similarity w.r.t to Unique ID:\n",
            "       Unique_ID  Similarity_Score\n",
            "0             0           0.06918\n",
            "1             1           0.21135\n",
            "2             2           0.45650\n",
            "3             3           0.50274\n",
            "4             4           0.29832\n",
            "...         ...               ...\n",
            "4018       4018           0.43489\n",
            "4019       4019           0.19825\n",
            "4020       4020           0.25669\n",
            "4021       4021           0.26500\n",
            "4022       4022           0.25547\n",
            "\n",
            "[4023 rows x 2 columns]\n"
          ],
          "name": "stdout"
        }
      ]
    },
    {
      "cell_type": "code",
      "metadata": {
        "id": "7xA5NiZ3m1Oa",
        "colab_type": "code",
        "colab": {}
      },
      "source": [
        "#since there are more than one method to calculate Similarity, We can use one of them also \n",
        "class Similarity:\n",
        "  #this returns eculidean distance between two embedding vectors\n",
        "  def eculidean_distance(self,V1,V2):\n",
        "\n",
        "        return round(1/(1+sqrt(sum(pow(a-b,2) for a, b in zip(V1, V2)))),5)\n",
        "  \n",
        "  #this returns manhattan distance between two embedding vectors\n",
        "  def manhattan_distance(self,V1,V2):\n",
        "        return round(1/(1+sum(abs(a-b) for a,b in zip(V1,V2))),5)\n",
        "  \n",
        "  #this returns cosine similarity between two embedding vectors\n",
        "  def cosine_similarity(self,V1,V2):\n",
        "    numerator = sum(a*b for a,b in zip(V1,V2))\n",
        "    denominator = self.square_rooted(V1)*self.square_rooted(V2)\n",
        "    \n",
        "    #cosine similarity is not valid if denominator=0\n",
        "    if denominator==0:\n",
        "      return \n",
        "    return round(numerator/float(denominator),5)\n",
        "\n",
        "\n"
      ],
      "execution_count": 0,
      "outputs": []
    },
    {
      "cell_type": "code",
      "metadata": {
        "id": "DOhT_vsnxgoB",
        "colab_type": "code",
        "colab": {}
      },
      "source": [
        "#here i am using eculidean distance to calculate distance between tensor of the text's\n",
        "#lesser the distace more the are \n",
        "def calculate_STS():\n",
        "  obj=Similarity()\n",
        "\n",
        "  d={\"Unique_ID\":[],\"Similarity_Score\":[]}\n",
        "  for i in range(data.shape[0]):\n",
        "    embeddings=embed(np.array([data.iloc[i]['text1'],data.iloc[i]['text2']]))\n",
        "    d[\"Unique_ID\"].append(i)\n",
        "    d[\"Similarity_Score\"].append(round(obj.eculidean_distance(embeddings[0],embeddings[1]),5))\n",
        "  return d"
      ],
      "execution_count": 0,
      "outputs": []
    },
    {
      "cell_type": "code",
      "metadata": {
        "id": "iFKd34qKzv0r",
        "colab_type": "code",
        "colab": {}
      },
      "source": [
        "STS_Eculid=calculate_STS()"
      ],
      "execution_count": 0,
      "outputs": []
    },
    {
      "cell_type": "code",
      "metadata": {
        "id": "TnoFjr7j93P7",
        "colab_type": "code",
        "colab": {}
      },
      "source": [
        "#converting result STS_Eculid to dataframe to convert it to csv file\n",
        "dfr_ed=pd.DataFrame(STS_Eculid)\n",
        "dfr_ed.to_csv(\"Similarity_Score_using_Ecuildean_Distance.csv\")"
      ],
      "execution_count": 0,
      "outputs": []
    },
    {
      "cell_type": "code",
      "metadata": {
        "id": "-mQkb03v-Sgb",
        "colab_type": "code",
        "outputId": "35f36f4e-4fb5-490d-dc06-478c58dcc825",
        "colab": {
          "base_uri": "https://localhost:8080/",
          "height": 295
        }
      },
      "source": [
        "print(\"\\n [OUT]:  Semantic Textual Similarity w.r.t to Unique ID using Eculidean Distance as similarity matrix:\\n\",dfr_ed)"
      ],
      "execution_count": 0,
      "outputs": [
        {
          "output_type": "stream",
          "text": [
            "\n",
            " [OUT]:  Semantic Textual Similarity w.r.t to Unique ID using Eculidean Distance as similarity matrix:\n",
            "       Unique_ID  Similarity_Score\n",
            "0             0           0.42294\n",
            "1             1           0.44328\n",
            "2             2           0.48957\n",
            "3             3           0.50069\n",
            "4             4           0.45774\n",
            "...         ...               ...\n",
            "4018       4018           0.48470\n",
            "4019       4019           0.44125\n",
            "4020       4020           0.45060\n",
            "4021       4021           0.45199\n",
            "4022       4022           0.45040\n",
            "\n",
            "[4023 rows x 2 columns]\n"
          ],
          "name": "stdout"
        }
      ]
    }
  ]
}